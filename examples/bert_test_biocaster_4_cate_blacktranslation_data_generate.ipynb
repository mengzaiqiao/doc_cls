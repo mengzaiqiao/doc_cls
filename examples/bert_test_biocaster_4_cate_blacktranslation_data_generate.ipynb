{
 "cells": [
  {
   "cell_type": "code",
   "execution_count": 1,
   "metadata": {},
   "outputs": [],
   "source": [
    "config = {\n",
    "    \"pretrained_model\": \"bert-base-cased\",\n",
    "    \"tokenizer\": \"bert-base-cased\",\n",
    "    \"max_seq_length\": 256,\n",
    "    \"batch_size\": 10,\n",
    "    \"lr\": 2e-5,\n",
    "    \"epochs\": 10,\n",
    "    \"device\": \"cuda\",\n",
    "    \"gpu_ids\": \"0,1,2,3\",\n",
    "    \"seed\": 2020,\n",
    "    \"fp16\": False,\n",
    "    \"loss_scale\": 0,\n",
    "    \"gradient_accumulation_steps\":1,\n",
    "    \"warmup_proportion\": 0.1,\n",
    "    \"gradient_accumulation_steps\": 1,\n",
    "    \"num_labels\": 4,\n",
    "    \"is_multilabel\": False,\n",
    "    \"valid_metric\": \"macro_f1\",\n",
    "    \"model_save_dir\": \"../checkpoints/bert_cased_512_biocaster_4cate_20200903/\",\n",
    "    \"patience\": 4,\n",
    "}"
   ]
  },
  {
   "cell_type": "code",
   "execution_count": 2,
   "metadata": {},
   "outputs": [],
   "source": [
    "def set_seed(seed=2020):\n",
    "    import numpy as np\n",
    "    import random\n",
    "    import torch\n",
    "\n",
    "    if type(seed) != int:\n",
    "        raise ValueError(\"Error: seed is invalid type\")\n",
    "    random.seed(seed)\n",
    "    np.random.seed(seed)\n",
    "    torch.manual_seed(seed)\n",
    "    if torch.cuda.is_available():\n",
    "        torch.cuda.manual_seed_all(seed)"
   ]
  },
  {
   "cell_type": "code",
   "execution_count": 3,
   "metadata": {},
   "outputs": [
    {
     "name": "stdout",
     "output_type": "stream",
     "text": [
      "parse biocaser data from /home/zm324/workspace/doc_cls/datasets/biocaster/BioCaster.3.xml, docs number:1003, lablels number:1003\n"
     ]
    },
    {
     "data": {
      "text/html": [
       "<div>\n",
       "<style scoped>\n",
       "    .dataframe tbody tr th:only-of-type {\n",
       "        vertical-align: middle;\n",
       "    }\n",
       "\n",
       "    .dataframe tbody tr th {\n",
       "        vertical-align: top;\n",
       "    }\n",
       "\n",
       "    .dataframe thead th {\n",
       "        text-align: right;\n",
       "    }\n",
       "</style>\n",
       "<table border=\"1\" class=\"dataframe\">\n",
       "  <thead>\n",
       "    <tr style=\"text-align: right;\">\n",
       "      <th></th>\n",
       "      <th>docs</th>\n",
       "      <th>labels</th>\n",
       "      <th>source</th>\n",
       "    </tr>\n",
       "  </thead>\n",
       "  <tbody>\n",
       "    <tr>\n",
       "      <th>0</th>\n",
       "      <td>\\nBird Flu Outbreak Drill Spooks Manitoba Town...</td>\n",
       "      <td>0</td>\n",
       "      <td>Biocaster</td>\n",
       "    </tr>\n",
       "    <tr>\n",
       "      <th>1</th>\n",
       "      <td>\\nTyphoid outbreak in Agusan del Sur town unde...</td>\n",
       "      <td>3</td>\n",
       "      <td>Biocaster</td>\n",
       "    </tr>\n",
       "    <tr>\n",
       "      <th>2</th>\n",
       "      <td>\\n  Typhoid Outbreak In Central Nepal November...</td>\n",
       "      <td>3</td>\n",
       "      <td>Biocaster</td>\n",
       "    </tr>\n",
       "  </tbody>\n",
       "</table>\n",
       "</div>"
      ],
      "text/plain": [
       "                                                docs  labels     source\n",
       "0  \\nBird Flu Outbreak Drill Spooks Manitoba Town...       0  Biocaster\n",
       "1  \\nTyphoid outbreak in Agusan del Sur town unde...       3  Biocaster\n",
       "2  \\n  Typhoid Outbreak In Central Nepal November...       3  Biocaster"
      ]
     },
     "execution_count": 3,
     "metadata": {},
     "output_type": "execute_result"
    }
   ],
   "source": [
    "import sys\n",
    "sys.path.append(\"../\")\n",
    "from beta_nlp.utils.data_util import biocaster2df\n",
    "data_file = \"/home/zm324/workspace/doc_cls/datasets/biocaster/BioCaster.3.xml\"\n",
    "data_df = biocaster2df(data_file)\n",
    "data_df[\"source\"] = \"Biocaster\"\n",
    "data_df.head(3)"
   ]
  },
  {
   "cell_type": "code",
   "execution_count": 4,
   "metadata": {},
   "outputs": [],
   "source": [
    "from sklearn.utils import shuffle\n",
    "set_seed()\n",
    "data_df = shuffle(data_df).reset_index()\n",
    "data_df[\"flag\"]=None\n",
    "train_index = int(len(data_df.index)*0.8)\n",
    "valid_index = train_index + round(len(data_df.index)*0.1)\n",
    "data_df.loc[:train_index,\"flag\"]=\"train\"\n",
    "data_df.loc[train_index:valid_index,\"flag\"]=\"valid\"\n",
    "data_df.loc[valid_index:,\"flag\"]=\"test\""
   ]
  },
  {
   "cell_type": "code",
   "execution_count": 5,
   "metadata": {},
   "outputs": [],
   "source": [
    "train_set = data_df[data_df[\"flag\"]==\"train\"]\n",
    "dev_set = data_df[data_df[\"flag\"]==\"valid\"]\n",
    "test_set = data_df[data_df[\"flag\"]==\"test\"]\n",
    "# train_set.to_csv(\"/home/zm324/workspace/doc_cls/datasets/biocaster/train.csv\")\n",
    "# dev_set.to_csv(\"/home/zm324/workspace/doc_cls/datasets/biocaster/dev.csv\")\n",
    "# test_set.to_csv(\"/home/zm324/workspace/doc_cls/datasets/biocaster/test.csv\")"
   ]
  },
  {
   "cell_type": "code",
   "execution_count": 6,
   "metadata": {},
   "outputs": [
    {
     "data": {
      "text/plain": [
       "(802, 100, 101)"
      ]
     },
     "execution_count": 6,
     "metadata": {},
     "output_type": "execute_result"
    }
   ],
   "source": [
    "len(train_set.index),len(dev_set.index),len(test_set.index)"
   ]
  },
  {
   "cell_type": "code",
   "execution_count": 7,
   "metadata": {},
   "outputs": [
    {
     "name": "stderr",
     "output_type": "stream",
     "text": [
      "/home/zm324/anaconda3/envs/doc_cls/lib/python3.8/site-packages/pandas/core/indexing.py:1596: SettingWithCopyWarning: \n",
      "A value is trying to be set on a copy of a slice from a DataFrame.\n",
      "Try using .loc[row_indexer,col_indexer] = value instead\n",
      "\n",
      "See the caveats in the documentation: https://pandas.pydata.org/pandas-docs/stable/user_guide/indexing.html#returning-a-view-versus-a-copy\n",
      "  self.obj[key] = _infer_fill_value(value)\n",
      "/home/zm324/anaconda3/envs/doc_cls/lib/python3.8/site-packages/pandas/core/indexing.py:1765: SettingWithCopyWarning: \n",
      "A value is trying to be set on a copy of a slice from a DataFrame.\n",
      "Try using .loc[row_indexer,col_indexer] = value instead\n",
      "\n",
      "See the caveats in the documentation: https://pandas.pydata.org/pandas-docs/stable/user_guide/indexing.html#returning-a-view-versus-a-copy\n",
      "  isetter(loc, value)\n"
     ]
    },
    {
     "data": {
      "text/plain": [
       "5614"
      ]
     },
     "execution_count": 7,
     "metadata": {},
     "output_type": "execute_result"
    }
   ],
   "source": [
    "import pandas as pd\n",
    "import os\n",
    "from google.cloud import translate_v2 as translate\n",
    "import numpy as np\n",
    "\n",
    "def gtranslate(text,  source_language='es', target_language='es'):\n",
    "    os.environ['GOOGLE_APPLICATION_CREDENTIALS']=\"/home/zm324/.google/apikey.json\"\n",
    "    # Instantiates a client\n",
    "    translate_client = translate.Client()\n",
    "    translation = translate_client.translate(text, target_language=target_language, source_language=source_language)\n",
    "    return [x['translatedText'] for x in translation]\n",
    "\n",
    "\n",
    "# language codes: https://cloud.google.com/translate/docs/languages\n",
    "\n",
    "def back_gtranslate(text, source_language='en', target_language='zh'):\n",
    "    target_text = gtranslate(text, source_language=source_language, target_language=target_language)\n",
    "    english = gtranslate(target_text, source_language=target_language, target_language=source_language)\n",
    "    return english\n",
    "\n",
    "def reduce_text(text, length=5500):\n",
    "    if len(text)>length:\n",
    "        new_text = text[:length]\n",
    "        if text[length]==\" \":\n",
    "            return new_text\n",
    "    else:\n",
    "        return text\n",
    "    while len(new_text)>0:\n",
    "        if new_text[len(new_text)-1]==\" \":\n",
    "            new_text=new_text[:len(new_text)-1]\n",
    "            break\n",
    "        else:\n",
    "            new_text=new_text[:len(new_text)-1]\n",
    "    return new_text\n",
    "\n",
    "data_test  = train_set\n",
    "lang_list = [\"ar\",\"zh\",\"fr\",\"es\",\"pt\",\"ru\"]\n",
    "# lang_list = [\"zh\"]\n",
    "docs = list(data_test.docs.values)\n",
    "# docs = [reduce_text(doc) for doc in docs]\n",
    "docs = [doc for doc in docs]\n",
    "labels = data_test.labels\n",
    "flag = data_test.flag\n",
    "data_test.loc[:,\"lan\"]=\"en\"\n",
    "for lang in lang_list:\n",
    "    bt_docs = [back_gtranslate([doc], target_language=lang)[0] for doc in docs]\n",
    "    lan = [lang]*len(docs)\n",
    "    data_test = data_test.append(pd.DataFrame({\"docs\":bt_docs,\"labels\":labels,\"flag\":flag,\"lan\":lan}))\n",
    "data_test.to_csv(\"/home/zm324/workspace/doc_cls/datasets/biocaster/train_bt_full.csv\")\n",
    "len(data_test.index)"
   ]
  },
  {
   "cell_type": "code",
   "execution_count": null,
   "metadata": {},
   "outputs": [],
   "source": [
    "from beta_nlp.models.bert_cls import BertModel\n",
    "cls = BertModel(config)"
   ]
  },
  {
   "cell_type": "code",
   "execution_count": 15,
   "metadata": {},
   "outputs": [
    {
     "data": {
      "text/plain": [
       "(802, 100, 101)"
      ]
     },
     "execution_count": 15,
     "metadata": {},
     "output_type": "execute_result"
    }
   ],
   "source": [
    "len(train_set.index),len(dev_set.index),len(test_set.index)"
   ]
  },
  {
   "cell_type": "code",
   "execution_count": null,
   "metadata": {},
   "outputs": [],
   "source": [
    "cls.train(train_set,dev_set)"
   ]
  },
  {
   "cell_type": "code",
   "execution_count": null,
   "metadata": {},
   "outputs": [],
   "source": [
    "cls.test(test_set)"
   ]
  },
  {
   "cell_type": "code",
   "execution_count": null,
   "metadata": {},
   "outputs": [],
   "source": []
  }
 ],
 "metadata": {
  "kernelspec": {
   "display_name": "doc_cls",
   "language": "python",
   "name": "doc_cls"
  },
  "language_info": {
   "codemirror_mode": {
    "name": "ipython",
    "version": 3
   },
   "file_extension": ".py",
   "mimetype": "text/x-python",
   "name": "python",
   "nbconvert_exporter": "python",
   "pygments_lexer": "ipython3",
   "version": "3.8.3"
  }
 },
 "nbformat": 4,
 "nbformat_minor": 4
}
