{
 "cells": [
  {
   "cell_type": "markdown",
   "metadata": {},
   "source": [
    "# load biocaster dataset"
   ]
  },
  {
   "cell_type": "code",
   "execution_count": 24,
   "metadata": {},
   "outputs": [
    {
     "name": "stdout",
     "output_type": "stream",
     "text": [
      "parse biocaser data from /home/zm324/workspace/doc_cls/datasets/biocaster/BioCaster.3.xml, docs number:1003, lablels number:1003\n"
     ]
    },
    {
     "data": {
      "text/html": [
       "<div>\n",
       "<style scoped>\n",
       "    .dataframe tbody tr th:only-of-type {\n",
       "        vertical-align: middle;\n",
       "    }\n",
       "\n",
       "    .dataframe tbody tr th {\n",
       "        vertical-align: top;\n",
       "    }\n",
       "\n",
       "    .dataframe thead th {\n",
       "        text-align: right;\n",
       "    }\n",
       "</style>\n",
       "<table border=\"1\" class=\"dataframe\">\n",
       "  <thead>\n",
       "    <tr style=\"text-align: right;\">\n",
       "      <th></th>\n",
       "      <th>docs</th>\n",
       "      <th>labels</th>\n",
       "      <th>source</th>\n",
       "    </tr>\n",
       "  </thead>\n",
       "  <tbody>\n",
       "    <tr>\n",
       "      <th>0</th>\n",
       "      <td>\\nBird Flu Outbreak Drill Spooks Manitoba Town...</td>\n",
       "      <td>0</td>\n",
       "      <td>Biocaster</td>\n",
       "    </tr>\n",
       "    <tr>\n",
       "      <th>1</th>\n",
       "      <td>\\nTyphoid outbreak in Agusan del Sur town unde...</td>\n",
       "      <td>1</td>\n",
       "      <td>Biocaster</td>\n",
       "    </tr>\n",
       "    <tr>\n",
       "      <th>2</th>\n",
       "      <td>\\n  Typhoid Outbreak In Central Nepal November...</td>\n",
       "      <td>1</td>\n",
       "      <td>Biocaster</td>\n",
       "    </tr>\n",
       "  </tbody>\n",
       "</table>\n",
       "</div>"
      ],
      "text/plain": [
       "                                                docs  labels     source\n",
       "0  \\nBird Flu Outbreak Drill Spooks Manitoba Town...       0  Biocaster\n",
       "1  \\nTyphoid outbreak in Agusan del Sur town unde...       1  Biocaster\n",
       "2  \\n  Typhoid Outbreak In Central Nepal November...       1  Biocaster"
      ]
     },
     "execution_count": 24,
     "metadata": {},
     "output_type": "execute_result"
    }
   ],
   "source": [
    "import sys\n",
    "sys.path.append(\"../\")\n",
    "from beta_nlp.utils.data_util import biocaser2text\n",
    "data_file = \"/home/zm324/workspace/doc_cls/datasets/biocaster/BioCaster.3.xml\"\n",
    "biocaser_data_df = biocaser2text(data_file)\n",
    "biocaser_data_df[\"source\"] = \"Biocaster\"\n",
    "biocaser_data_df.head(3)"
   ]
  },
  {
   "cell_type": "markdown",
   "metadata": {},
   "source": [
    "# load promed_extended dataset"
   ]
  },
  {
   "cell_type": "code",
   "execution_count": 25,
   "metadata": {},
   "outputs": [
    {
     "name": "stdout",
     "output_type": "stream",
     "text": [
      "found 3430 files\n",
      "Remain 3377 files after filter_out with alerting\n",
      "found files: 3377\n",
      "found 3430 files\n",
      "Remain 53 files after filter_in with alerting\n",
      "found files: 53\n",
      "found 3862 files\n",
      "found files: 3862\n"
     ]
    }
   ],
   "source": [
    "## this should load a dataframe, which col1 being the documents and col2 being the labels.\n",
    "from beta_nlp.utils.data_util import get_raw_extended_promed_df\n",
    "data_df_extended = get_raw_extended_promed_df()\n",
    "data_df_extended.name = \"extended_promed\"\n",
    "data_df_extended.labels = data_df_extended.labels.apply(lambda x: 1 if x==2 else x)"
   ]
  },
  {
   "cell_type": "code",
   "execution_count": 26,
   "metadata": {},
   "outputs": [
    {
     "data": {
      "text/html": [
       "<div>\n",
       "<style scoped>\n",
       "    .dataframe tbody tr th:only-of-type {\n",
       "        vertical-align: middle;\n",
       "    }\n",
       "\n",
       "    .dataframe tbody tr th {\n",
       "        vertical-align: top;\n",
       "    }\n",
       "\n",
       "    .dataframe thead th {\n",
       "        text-align: right;\n",
       "    }\n",
       "</style>\n",
       "<table border=\"1\" class=\"dataframe\">\n",
       "  <thead>\n",
       "    <tr style=\"text-align: right;\">\n",
       "      <th></th>\n",
       "      <th>docs</th>\n",
       "      <th>labels</th>\n",
       "      <th>source</th>\n",
       "    </tr>\n",
       "  </thead>\n",
       "  <tbody>\n",
       "    <tr>\n",
       "      <th>0</th>\n",
       "      <td>\\n \\n \\n \\n AVIAN INFLUENZA, HUMAN (109) - IND...</td>\n",
       "      <td>1</td>\n",
       "      <td>promed_extended</td>\n",
       "    </tr>\n",
       "    <tr>\n",
       "      <th>1</th>\n",
       "      <td>Health officials in Hong Kong say that...</td>\n",
       "      <td>1</td>\n",
       "      <td>promed_extended</td>\n",
       "    </tr>\n",
       "    <tr>\n",
       "      <th>2</th>\n",
       "      <td>&lt;h&gt; Coronavirus Detected In Patient Quarantine...</td>\n",
       "      <td>1</td>\n",
       "      <td>promed_extended</td>\n",
       "    </tr>\n",
       "    <tr>\n",
       "      <th>3</th>\n",
       "      <td>\\n \\n EQUINE INFLUENZA - CHINA\\n \\n **********...</td>\n",
       "      <td>1</td>\n",
       "      <td>promed_extended</td>\n",
       "    </tr>\n",
       "    <tr>\n",
       "      <th>4</th>\n",
       "      <td>\\n \\n \\n \\n SALMONELLOSIS SENFTENBERG, BASIL -...</td>\n",
       "      <td>1</td>\n",
       "      <td>promed_extended</td>\n",
       "    </tr>\n",
       "  </tbody>\n",
       "</table>\n",
       "</div>"
      ],
      "text/plain": [
       "                                                docs  labels           source\n",
       "0  \\n \\n \\n \\n AVIAN INFLUENZA, HUMAN (109) - IND...       1  promed_extended\n",
       "1          Health officials in Hong Kong say that...       1  promed_extended\n",
       "2  <h> Coronavirus Detected In Patient Quarantine...       1  promed_extended\n",
       "3  \\n \\n EQUINE INFLUENZA - CHINA\\n \\n **********...       1  promed_extended\n",
       "4  \\n \\n \\n \\n SALMONELLOSIS SENFTENBERG, BASIL -...       1  promed_extended"
      ]
     },
     "execution_count": 26,
     "metadata": {},
     "output_type": "execute_result"
    }
   ],
   "source": [
    "data_df_extended[\"source\"] = \"promed_extended\"\n",
    "data_df_extended.head()"
   ]
  },
  {
   "cell_type": "code",
   "execution_count": 27,
   "metadata": {},
   "outputs": [
    {
     "data": {
      "text/plain": [
       "(0    3862\n",
       " 1    3430\n",
       " Name: labels, dtype: int64,\n",
       " 7292)"
      ]
     },
     "execution_count": 27,
     "metadata": {},
     "output_type": "execute_result"
    }
   ],
   "source": [
    "data_df_extended.labels.value_counts(),len(data_df_extended.index)"
   ]
  },
  {
   "cell_type": "code",
   "execution_count": 28,
   "metadata": {},
   "outputs": [],
   "source": [
    "data_df_26k = data_df_extended.append(biocaser_data_df)"
   ]
  },
  {
   "cell_type": "code",
   "execution_count": 29,
   "metadata": {},
   "outputs": [
    {
     "name": "stdout",
     "output_type": "stream",
     "text": [
      " Find 2225 docs\n",
      " Read 2225 docs\n"
     ]
    }
   ],
   "source": [
    "from os import listdir\n",
    "from os.path import isfile, join\n",
    "import codecs\n",
    "import pandas as pd\n",
    "\n",
    "data_path = \"/home/zm324/workspace/doc_cls/datasets/bbc/\"\n",
    "topics  = listdir(data_path)\n",
    "docfiles = []\n",
    "for topic_path in topics:\n",
    "    docfiles += [join(data_path,topic_path,f) for f in listdir(join(data_path,topic_path)) if isfile(join(data_path,topic_path, f))]\n",
    "print(f\" Find {len(docfiles)} docs\")\n",
    "docs = []\n",
    "for doc_file in docfiles:\n",
    "    with codecs.open(doc_file, \"r\", encoding=\"utf-8\", errors=\"ignore\") as f:\n",
    "        lines = f.readlines()\n",
    "        doc_string = \" \\n \".join(lines)\n",
    "    docs.append(doc_string)\n",
    "print(f\" Read {len(docs)} docs\")"
   ]
  },
  {
   "cell_type": "code",
   "execution_count": 30,
   "metadata": {},
   "outputs": [
    {
     "data": {
      "text/html": [
       "<div>\n",
       "<style scoped>\n",
       "    .dataframe tbody tr th:only-of-type {\n",
       "        vertical-align: middle;\n",
       "    }\n",
       "\n",
       "    .dataframe tbody tr th {\n",
       "        vertical-align: top;\n",
       "    }\n",
       "\n",
       "    .dataframe thead th {\n",
       "        text-align: right;\n",
       "    }\n",
       "</style>\n",
       "<table border=\"1\" class=\"dataframe\">\n",
       "  <thead>\n",
       "    <tr style=\"text-align: right;\">\n",
       "      <th></th>\n",
       "      <th>docs</th>\n",
       "      <th>labels</th>\n",
       "      <th>source</th>\n",
       "    </tr>\n",
       "  </thead>\n",
       "  <tbody>\n",
       "    <tr>\n",
       "      <th>0</th>\n",
       "      <td>US in EU tariff chaos trade row\\n \\n \\n \\n The...</td>\n",
       "      <td>0</td>\n",
       "      <td>bbc</td>\n",
       "    </tr>\n",
       "    <tr>\n",
       "      <th>1</th>\n",
       "      <td>Takeover rumour lifts Exel shares\\n \\n \\n \\n S...</td>\n",
       "      <td>0</td>\n",
       "      <td>bbc</td>\n",
       "    </tr>\n",
       "    <tr>\n",
       "      <th>2</th>\n",
       "      <td>Bush budget seeks deep cutbacks\\n \\n \\n \\n Pre...</td>\n",
       "      <td>0</td>\n",
       "      <td>bbc</td>\n",
       "    </tr>\n",
       "    <tr>\n",
       "      <th>3</th>\n",
       "      <td>Metlife buys up Citigroup insurer\\n \\n \\n \\n U...</td>\n",
       "      <td>0</td>\n",
       "      <td>bbc</td>\n",
       "    </tr>\n",
       "    <tr>\n",
       "      <th>4</th>\n",
       "      <td>German economy rebounds\\n \\n \\n \\n Germany's e...</td>\n",
       "      <td>0</td>\n",
       "      <td>bbc</td>\n",
       "    </tr>\n",
       "  </tbody>\n",
       "</table>\n",
       "</div>"
      ],
      "text/plain": [
       "                                                docs  labels source\n",
       "0  US in EU tariff chaos trade row\\n \\n \\n \\n The...       0    bbc\n",
       "1  Takeover rumour lifts Exel shares\\n \\n \\n \\n S...       0    bbc\n",
       "2  Bush budget seeks deep cutbacks\\n \\n \\n \\n Pre...       0    bbc\n",
       "3  Metlife buys up Citigroup insurer\\n \\n \\n \\n U...       0    bbc\n",
       "4  German economy rebounds\\n \\n \\n \\n Germany's e...       0    bbc"
      ]
     },
     "execution_count": 30,
     "metadata": {},
     "output_type": "execute_result"
    }
   ],
   "source": [
    "import pandas as pd\n",
    "bbc_df = pd.DataFrame({\"docs\":docs,\"labels\":[0]*len(docs),\"source\":[\"bbc\"]*len(docs)})\n",
    "bbc_df.head()"
   ]
  },
  {
   "cell_type": "code",
   "execution_count": 31,
   "metadata": {},
   "outputs": [
    {
     "data": {
      "text/plain": [
       "0    2225\n",
       "Name: labels, dtype: int64"
      ]
     },
     "execution_count": 31,
     "metadata": {},
     "output_type": "execute_result"
    }
   ],
   "source": [
    "bbc_df.labels.value_counts()"
   ]
  },
  {
   "cell_type": "code",
   "execution_count": 32,
   "metadata": {},
   "outputs": [],
   "source": [
    "data_df_26k = data_df_26k.append(bbc_df)"
   ]
  },
  {
   "cell_type": "code",
   "execution_count": 33,
   "metadata": {},
   "outputs": [
    {
     "data": {
      "text/plain": [
       "0    6716\n",
       "1    3804\n",
       "Name: labels, dtype: int64"
      ]
     },
     "execution_count": 33,
     "metadata": {},
     "output_type": "execute_result"
    }
   ],
   "source": [
    "data_df_26k.labels.value_counts()"
   ]
  },
  {
   "cell_type": "code",
   "execution_count": 34,
   "metadata": {},
   "outputs": [
    {
     "name": "stdout",
     "output_type": "stream",
     "text": [
      " Find 11413 docs\n",
      " Find 15437 docs\n",
      " Read 15437 docs\n"
     ]
    }
   ],
   "source": [
    "data_path = \"/home/zm324/workspace/doc_cls/datasets/Reuters21578-Apte-90Cat/training/\"\n",
    "topics  = listdir(data_path)\n",
    "docs = []\n",
    "docfiles = []\n",
    "for topic_path in topics:\n",
    "    docfiles += [join(data_path,topic_path,f) for f in listdir(join(data_path,topic_path)) if isfile(join(data_path,topic_path, f))]\n",
    "print(f\" Find {len(docfiles)} docs\")\n",
    "\n",
    "data_path = \"/home/zm324/workspace/doc_cls/datasets/Reuters21578-Apte-90Cat/test/\"\n",
    "topics  = listdir(data_path)\n",
    "for topic_path in topics:\n",
    "    docfiles += [join(data_path,topic_path,f) for f in listdir(join(data_path,topic_path)) if isfile(join(data_path,topic_path, f))]\n",
    "print(f\" Find {len(docfiles)} docs\")\n",
    "\n",
    "for doc_file in docfiles:\n",
    "    with codecs.open(doc_file, \"r\", encoding=\"utf-8\", errors=\"ignore\") as f:\n",
    "        lines = f.readlines()\n",
    "        doc_string = \" \\n \".join(lines)\n",
    "    if len(doc_string)>10:\n",
    "        docs.append(doc_string)\n",
    "print(f\" Read {len(docs)} docs\")"
   ]
  },
  {
   "cell_type": "code",
   "execution_count": 35,
   "metadata": {},
   "outputs": [
    {
     "data": {
      "text/html": [
       "<div>\n",
       "<style scoped>\n",
       "    .dataframe tbody tr th:only-of-type {\n",
       "        vertical-align: middle;\n",
       "    }\n",
       "\n",
       "    .dataframe tbody tr th {\n",
       "        vertical-align: top;\n",
       "    }\n",
       "\n",
       "    .dataframe thead th {\n",
       "        text-align: right;\n",
       "    }\n",
       "</style>\n",
       "<table border=\"1\" class=\"dataframe\">\n",
       "  <thead>\n",
       "    <tr style=\"text-align: right;\">\n",
       "      <th></th>\n",
       "      <th>docs</th>\n",
       "      <th>labels</th>\n",
       "      <th>source</th>\n",
       "    </tr>\n",
       "  </thead>\n",
       "  <tbody>\n",
       "    <tr>\n",
       "      <th>0</th>\n",
       "      <td>\\n \\n \\r\\n \\n PANAMA SUGAR VESSEL SAFELY DOCKE...</td>\n",
       "      <td>0</td>\n",
       "      <td>Reuters</td>\n",
       "    </tr>\n",
       "    <tr>\n",
       "      <th>1</th>\n",
       "      <td>\\n \\n \\r\\n \\n MOSCOW SUPPORTS FREE GULF NAVIGA...</td>\n",
       "      <td>0</td>\n",
       "      <td>Reuters</td>\n",
       "    </tr>\n",
       "    <tr>\n",
       "      <th>2</th>\n",
       "      <td>\\n \\n \\r\\n \\n JANUARY CRUDE OIL MOVEMENTS FALL...</td>\n",
       "      <td>0</td>\n",
       "      <td>Reuters</td>\n",
       "    </tr>\n",
       "    <tr>\n",
       "      <th>3</th>\n",
       "      <td>\\n \\n \\r\\n \\n LONDON METAL FREIGHTS\\r\\n \\n \\n ...</td>\n",
       "      <td>0</td>\n",
       "      <td>Reuters</td>\n",
       "    </tr>\n",
       "    <tr>\n",
       "      <th>4</th>\n",
       "      <td>\\n \\n \\r\\n \\n GRAIN SHIPS WAITING AT NEW ORLEA...</td>\n",
       "      <td>0</td>\n",
       "      <td>Reuters</td>\n",
       "    </tr>\n",
       "  </tbody>\n",
       "</table>\n",
       "</div>"
      ],
      "text/plain": [
       "                                                docs  labels   source\n",
       "0  \\n \\n \\r\\n \\n PANAMA SUGAR VESSEL SAFELY DOCKE...       0  Reuters\n",
       "1  \\n \\n \\r\\n \\n MOSCOW SUPPORTS FREE GULF NAVIGA...       0  Reuters\n",
       "2  \\n \\n \\r\\n \\n JANUARY CRUDE OIL MOVEMENTS FALL...       0  Reuters\n",
       "3  \\n \\n \\r\\n \\n LONDON METAL FREIGHTS\\r\\n \\n \\n ...       0  Reuters\n",
       "4  \\n \\n \\r\\n \\n GRAIN SHIPS WAITING AT NEW ORLEA...       0  Reuters"
      ]
     },
     "execution_count": 35,
     "metadata": {},
     "output_type": "execute_result"
    }
   ],
   "source": [
    "import pandas as pd\n",
    "reuters_df = pd.DataFrame({\"docs\":docs,\"labels\":[0]*len(docs),\"source\":[\"Reuters\"]*len(docs)})\n",
    "reuters_df.head()"
   ]
  },
  {
   "cell_type": "code",
   "execution_count": 36,
   "metadata": {},
   "outputs": [],
   "source": [
    "data_df_26k=data_df_26k.append(reuters_df)"
   ]
  },
  {
   "cell_type": "code",
   "execution_count": 37,
   "metadata": {},
   "outputs": [
    {
     "data": {
      "text/plain": [
       "(0    22153\n",
       " 1     3804\n",
       " Name: labels, dtype: int64,\n",
       " 25957)"
      ]
     },
     "execution_count": 37,
     "metadata": {},
     "output_type": "execute_result"
    }
   ],
   "source": [
    "data_df_26k.labels.value_counts(), len(data_df_26k.index)"
   ]
  },
  {
   "cell_type": "markdown",
   "metadata": {},
   "source": [
    "## Remove Nan docs"
   ]
  },
  {
   "cell_type": "code",
   "execution_count": 38,
   "metadata": {},
   "outputs": [
    {
     "data": {
      "text/plain": [
       "25957"
      ]
     },
     "execution_count": 38,
     "metadata": {},
     "output_type": "execute_result"
    }
   ],
   "source": [
    "len(data_df_26k.index)"
   ]
  },
  {
   "cell_type": "code",
   "execution_count": 56,
   "metadata": {},
   "outputs": [
    {
     "data": {
      "text/plain": [
       "25956"
      ]
     },
     "execution_count": 56,
     "metadata": {},
     "output_type": "execute_result"
    }
   ],
   "source": [
    "data_df_26k = data_df_26k[data_df_26k[\"docs\"]!=\"\"]\n",
    "len(data_df_26k.index)"
   ]
  },
  {
   "cell_type": "code",
   "execution_count": 57,
   "metadata": {},
   "outputs": [],
   "source": [
    "import numpy as np\n",
    "for idx,row in data_df_26k.iterrows():\n",
    "    if row[\"docs\"]==\"\":\n",
    "        print(row)"
   ]
  },
  {
   "cell_type": "code",
   "execution_count": 58,
   "metadata": {},
   "outputs": [
    {
     "data": {
      "text/html": [
       "<div>\n",
       "<style scoped>\n",
       "    .dataframe tbody tr th:only-of-type {\n",
       "        vertical-align: middle;\n",
       "    }\n",
       "\n",
       "    .dataframe tbody tr th {\n",
       "        vertical-align: top;\n",
       "    }\n",
       "\n",
       "    .dataframe thead th {\n",
       "        text-align: right;\n",
       "    }\n",
       "</style>\n",
       "<table border=\"1\" class=\"dataframe\">\n",
       "  <thead>\n",
       "    <tr style=\"text-align: right;\">\n",
       "      <th></th>\n",
       "      <th>index</th>\n",
       "      <th>docs</th>\n",
       "      <th>labels</th>\n",
       "      <th>source</th>\n",
       "    </tr>\n",
       "  </thead>\n",
       "  <tbody>\n",
       "    <tr>\n",
       "      <th>0</th>\n",
       "      <td>32</td>\n",
       "      <td>India's Deccan gets more planes\\n \\n \\n \\n Air...</td>\n",
       "      <td>0</td>\n",
       "      <td>bbc</td>\n",
       "    </tr>\n",
       "    <tr>\n",
       "      <th>1</th>\n",
       "      <td>10431</td>\n",
       "      <td>\\n \\n  DECLINES COMMENT ON HONGKONG LAND REPOR...</td>\n",
       "      <td>0</td>\n",
       "      <td>Reuters</td>\n",
       "    </tr>\n",
       "    <tr>\n",
       "      <th>2</th>\n",
       "      <td>1676</td>\n",
       "      <td>Letter to XPO staff reveals extra safety measu...</td>\n",
       "      <td>1</td>\n",
       "      <td>promed_extended</td>\n",
       "    </tr>\n",
       "    <tr>\n",
       "      <th>3</th>\n",
       "      <td>13747</td>\n",
       "      <td>\\n \\n \\r\\n \\n KEYCORP &lt;KEY&gt; 3RD QTR NET\\r\\n \\n...</td>\n",
       "      <td>0</td>\n",
       "      <td>Reuters</td>\n",
       "    </tr>\n",
       "    <tr>\n",
       "      <th>4</th>\n",
       "      <td>4435</td>\n",
       "      <td>\\n \\n \\r\\n \\n API SAYS DISTILLATE STOCKS OFF 2...</td>\n",
       "      <td>0</td>\n",
       "      <td>Reuters</td>\n",
       "    </tr>\n",
       "    <tr>\n",
       "      <th>...</th>\n",
       "      <td>...</td>\n",
       "      <td>...</td>\n",
       "      <td>...</td>\n",
       "      <td>...</td>\n",
       "    </tr>\n",
       "    <tr>\n",
       "      <th>25951</th>\n",
       "      <td>8004</td>\n",
       "      <td>\\n \\n \\r\\n \\n NEW RUBBER PACT ADOPTED AT GENEV...</td>\n",
       "      <td>0</td>\n",
       "      <td>Reuters</td>\n",
       "    </tr>\n",
       "    <tr>\n",
       "      <th>25952</th>\n",
       "      <td>1452</td>\n",
       "      <td>\\n \\n \\r\\n \\n ABU DHABI TO REOPEN GULF OILFIEL...</td>\n",
       "      <td>0</td>\n",
       "      <td>Reuters</td>\n",
       "    </tr>\n",
       "    <tr>\n",
       "      <th>25953</th>\n",
       "      <td>4447</td>\n",
       "      <td>\\n \\n \\r\\n \\n DRAWDOWN SEEN IN U.S. DISTILLATE...</td>\n",
       "      <td>0</td>\n",
       "      <td>Reuters</td>\n",
       "    </tr>\n",
       "    <tr>\n",
       "      <th>25954</th>\n",
       "      <td>200</td>\n",
       "      <td>\\n  HANTAVIRUS UPDATE 2006 - AMERICAS (01): CO...</td>\n",
       "      <td>1</td>\n",
       "      <td>Biocaster</td>\n",
       "    </tr>\n",
       "    <tr>\n",
       "      <th>25955</th>\n",
       "      <td>762</td>\n",
       "      <td>Talks aim to avert pension strike\\n \\n \\n \\n T...</td>\n",
       "      <td>0</td>\n",
       "      <td>bbc</td>\n",
       "    </tr>\n",
       "  </tbody>\n",
       "</table>\n",
       "<p>25956 rows × 4 columns</p>\n",
       "</div>"
      ],
      "text/plain": [
       "       index                                               docs  labels  \\\n",
       "0         32  India's Deccan gets more planes\\n \\n \\n \\n Air...       0   \n",
       "1      10431  \\n \\n  DECLINES COMMENT ON HONGKONG LAND REPOR...       0   \n",
       "2       1676  Letter to XPO staff reveals extra safety measu...       1   \n",
       "3      13747  \\n \\n \\r\\n \\n KEYCORP <KEY> 3RD QTR NET\\r\\n \\n...       0   \n",
       "4       4435  \\n \\n \\r\\n \\n API SAYS DISTILLATE STOCKS OFF 2...       0   \n",
       "...      ...                                                ...     ...   \n",
       "25951   8004  \\n \\n \\r\\n \\n NEW RUBBER PACT ADOPTED AT GENEV...       0   \n",
       "25952   1452  \\n \\n \\r\\n \\n ABU DHABI TO REOPEN GULF OILFIEL...       0   \n",
       "25953   4447  \\n \\n \\r\\n \\n DRAWDOWN SEEN IN U.S. DISTILLATE...       0   \n",
       "25954    200  \\n  HANTAVIRUS UPDATE 2006 - AMERICAS (01): CO...       1   \n",
       "25955    762  Talks aim to avert pension strike\\n \\n \\n \\n T...       0   \n",
       "\n",
       "                source  \n",
       "0                  bbc  \n",
       "1              Reuters  \n",
       "2      promed_extended  \n",
       "3              Reuters  \n",
       "4              Reuters  \n",
       "...                ...  \n",
       "25951          Reuters  \n",
       "25952          Reuters  \n",
       "25953          Reuters  \n",
       "25954        Biocaster  \n",
       "25955              bbc  \n",
       "\n",
       "[25956 rows x 4 columns]"
      ]
     },
     "execution_count": 58,
     "metadata": {},
     "output_type": "execute_result"
    }
   ],
   "source": [
    "import random\n",
    "import numpy as np\n",
    "seed = 2020\n",
    "random.seed(seed)\n",
    "np.random.seed(seed)\n",
    "\n",
    "from sklearn.utils import shuffle\n",
    "data_df_26k_shuffle = shuffle(data_df_26k).reset_index()\n",
    "data_df_26k_shuffle"
   ]
  },
  {
   "cell_type": "code",
   "execution_count": 60,
   "metadata": {},
   "outputs": [
    {
     "data": {
      "text/html": [
       "<div>\n",
       "<style scoped>\n",
       "    .dataframe tbody tr th:only-of-type {\n",
       "        vertical-align: middle;\n",
       "    }\n",
       "\n",
       "    .dataframe tbody tr th {\n",
       "        vertical-align: top;\n",
       "    }\n",
       "\n",
       "    .dataframe thead th {\n",
       "        text-align: right;\n",
       "    }\n",
       "</style>\n",
       "<table border=\"1\" class=\"dataframe\">\n",
       "  <thead>\n",
       "    <tr style=\"text-align: right;\">\n",
       "      <th></th>\n",
       "      <th>index</th>\n",
       "      <th>docs</th>\n",
       "      <th>labels</th>\n",
       "      <th>source</th>\n",
       "      <th>flag</th>\n",
       "    </tr>\n",
       "  </thead>\n",
       "  <tbody>\n",
       "    <tr>\n",
       "      <th>0</th>\n",
       "      <td>32</td>\n",
       "      <td>India's Deccan gets more planes\\n \\n \\n \\n Air...</td>\n",
       "      <td>0</td>\n",
       "      <td>bbc</td>\n",
       "      <td>None</td>\n",
       "    </tr>\n",
       "    <tr>\n",
       "      <th>1</th>\n",
       "      <td>10431</td>\n",
       "      <td>\\n \\n  DECLINES COMMENT ON HONGKONG LAND REPOR...</td>\n",
       "      <td>0</td>\n",
       "      <td>Reuters</td>\n",
       "      <td>None</td>\n",
       "    </tr>\n",
       "    <tr>\n",
       "      <th>2</th>\n",
       "      <td>1676</td>\n",
       "      <td>Letter to XPO staff reveals extra safety measu...</td>\n",
       "      <td>1</td>\n",
       "      <td>promed_extended</td>\n",
       "      <td>None</td>\n",
       "    </tr>\n",
       "    <tr>\n",
       "      <th>3</th>\n",
       "      <td>13747</td>\n",
       "      <td>\\n \\n \\r\\n \\n KEYCORP &lt;KEY&gt; 3RD QTR NET\\r\\n \\n...</td>\n",
       "      <td>0</td>\n",
       "      <td>Reuters</td>\n",
       "      <td>None</td>\n",
       "    </tr>\n",
       "    <tr>\n",
       "      <th>4</th>\n",
       "      <td>4435</td>\n",
       "      <td>\\n \\n \\r\\n \\n API SAYS DISTILLATE STOCKS OFF 2...</td>\n",
       "      <td>0</td>\n",
       "      <td>Reuters</td>\n",
       "      <td>None</td>\n",
       "    </tr>\n",
       "  </tbody>\n",
       "</table>\n",
       "</div>"
      ],
      "text/plain": [
       "   index                                               docs  labels  \\\n",
       "0     32  India's Deccan gets more planes\\n \\n \\n \\n Air...       0   \n",
       "1  10431  \\n \\n  DECLINES COMMENT ON HONGKONG LAND REPOR...       0   \n",
       "2   1676  Letter to XPO staff reveals extra safety measu...       1   \n",
       "3  13747  \\n \\n \\r\\n \\n KEYCORP <KEY> 3RD QTR NET\\r\\n \\n...       0   \n",
       "4   4435  \\n \\n \\r\\n \\n API SAYS DISTILLATE STOCKS OFF 2...       0   \n",
       "\n",
       "            source  flag  \n",
       "0              bbc  None  \n",
       "1          Reuters  None  \n",
       "2  promed_extended  None  \n",
       "3          Reuters  None  \n",
       "4          Reuters  None  "
      ]
     },
     "execution_count": 60,
     "metadata": {},
     "output_type": "execute_result"
    }
   ],
   "source": [
    "data_df_26k_shuffle[\"flag\"] = None\n",
    "data_df_26k_shuffle.head()"
   ]
  },
  {
   "cell_type": "code",
   "execution_count": 61,
   "metadata": {},
   "outputs": [
    {
     "name": "stderr",
     "output_type": "stream",
     "text": [
      "<ipython-input-61-9b3f04c7d04b>:3: SettingWithCopyWarning: \n",
      "A value is trying to be set on a copy of a slice from a DataFrame.\n",
      "Try using .loc[row_indexer,col_indexer] = value instead\n",
      "\n",
      "See the caveats in the documentation: https://pandas.pydata.org/pandas-docs/stable/user_guide/indexing.html#returning-a-view-versus-a-copy\n",
      "  data_df_26k_shuffle.iloc[:train_index][\"flag\"]=\"train\"\n",
      "<ipython-input-61-9b3f04c7d04b>:4: SettingWithCopyWarning: \n",
      "A value is trying to be set on a copy of a slice from a DataFrame.\n",
      "Try using .loc[row_indexer,col_indexer] = value instead\n",
      "\n",
      "See the caveats in the documentation: https://pandas.pydata.org/pandas-docs/stable/user_guide/indexing.html#returning-a-view-versus-a-copy\n",
      "  data_df_26k_shuffle.iloc[train_index:valid_index][\"flag\"]=\"valid\"\n",
      "<ipython-input-61-9b3f04c7d04b>:5: SettingWithCopyWarning: \n",
      "A value is trying to be set on a copy of a slice from a DataFrame.\n",
      "Try using .loc[row_indexer,col_indexer] = value instead\n",
      "\n",
      "See the caveats in the documentation: https://pandas.pydata.org/pandas-docs/stable/user_guide/indexing.html#returning-a-view-versus-a-copy\n",
      "  data_df_26k_shuffle.iloc[valid_index:][\"flag\"]=\"test\"\n"
     ]
    }
   ],
   "source": [
    "train_index = int(len(data_df_26k_shuffle.index)*0.8)\n",
    "valid_index = train_index + round(len(data_df_26k_shuffle.index)*0.1)\n",
    "data_df_26k_shuffle.iloc[:train_index][\"flag\"]=\"train\"\n",
    "data_df_26k_shuffle.iloc[train_index:valid_index][\"flag\"]=\"valid\"\n",
    "data_df_26k_shuffle.iloc[valid_index:][\"flag\"]=\"test\""
   ]
  },
  {
   "cell_type": "code",
   "execution_count": 62,
   "metadata": {},
   "outputs": [
    {
     "data": {
      "text/plain": [
       "train    20764\n",
       "valid     2596\n",
       "test      2596\n",
       "Name: flag, dtype: int64"
      ]
     },
     "execution_count": 62,
     "metadata": {},
     "output_type": "execute_result"
    }
   ],
   "source": [
    "data_df_26k_shuffle.flag.value_counts()"
   ]
  },
  {
   "cell_type": "code",
   "execution_count": 63,
   "metadata": {},
   "outputs": [
    {
     "data": {
      "text/html": [
       "<div>\n",
       "<style scoped>\n",
       "    .dataframe tbody tr th:only-of-type {\n",
       "        vertical-align: middle;\n",
       "    }\n",
       "\n",
       "    .dataframe tbody tr th {\n",
       "        vertical-align: top;\n",
       "    }\n",
       "\n",
       "    .dataframe thead th {\n",
       "        text-align: right;\n",
       "    }\n",
       "</style>\n",
       "<table border=\"1\" class=\"dataframe\">\n",
       "  <thead>\n",
       "    <tr style=\"text-align: right;\">\n",
       "      <th></th>\n",
       "      <th>index</th>\n",
       "      <th>docs</th>\n",
       "      <th>labels</th>\n",
       "      <th>source</th>\n",
       "      <th>flag</th>\n",
       "    </tr>\n",
       "  </thead>\n",
       "  <tbody>\n",
       "    <tr>\n",
       "      <th>0</th>\n",
       "      <td>32</td>\n",
       "      <td>India's Deccan gets more planes\\n \\n \\n \\n Air...</td>\n",
       "      <td>0</td>\n",
       "      <td>bbc</td>\n",
       "      <td>train</td>\n",
       "    </tr>\n",
       "    <tr>\n",
       "      <th>1</th>\n",
       "      <td>10431</td>\n",
       "      <td>\\n \\n  DECLINES COMMENT ON HONGKONG LAND REPOR...</td>\n",
       "      <td>0</td>\n",
       "      <td>Reuters</td>\n",
       "      <td>train</td>\n",
       "    </tr>\n",
       "    <tr>\n",
       "      <th>2</th>\n",
       "      <td>1676</td>\n",
       "      <td>Letter to XPO staff reveals extra safety measu...</td>\n",
       "      <td>1</td>\n",
       "      <td>promed_extended</td>\n",
       "      <td>train</td>\n",
       "    </tr>\n",
       "    <tr>\n",
       "      <th>3</th>\n",
       "      <td>13747</td>\n",
       "      <td>\\n \\n \\r\\n \\n KEYCORP &lt;KEY&gt; 3RD QTR NET\\r\\n \\n...</td>\n",
       "      <td>0</td>\n",
       "      <td>Reuters</td>\n",
       "      <td>train</td>\n",
       "    </tr>\n",
       "    <tr>\n",
       "      <th>4</th>\n",
       "      <td>4435</td>\n",
       "      <td>\\n \\n \\r\\n \\n API SAYS DISTILLATE STOCKS OFF 2...</td>\n",
       "      <td>0</td>\n",
       "      <td>Reuters</td>\n",
       "      <td>train</td>\n",
       "    </tr>\n",
       "  </tbody>\n",
       "</table>\n",
       "</div>"
      ],
      "text/plain": [
       "   index                                               docs  labels  \\\n",
       "0     32  India's Deccan gets more planes\\n \\n \\n \\n Air...       0   \n",
       "1  10431  \\n \\n  DECLINES COMMENT ON HONGKONG LAND REPOR...       0   \n",
       "2   1676  Letter to XPO staff reveals extra safety measu...       1   \n",
       "3  13747  \\n \\n \\r\\n \\n KEYCORP <KEY> 3RD QTR NET\\r\\n \\n...       0   \n",
       "4   4435  \\n \\n \\r\\n \\n API SAYS DISTILLATE STOCKS OFF 2...       0   \n",
       "\n",
       "            source   flag  \n",
       "0              bbc  train  \n",
       "1          Reuters  train  \n",
       "2  promed_extended  train  \n",
       "3          Reuters  train  \n",
       "4          Reuters  train  "
      ]
     },
     "execution_count": 63,
     "metadata": {},
     "output_type": "execute_result"
    }
   ],
   "source": [
    "data_df_26k_shuffle.head()"
   ]
  },
  {
   "cell_type": "code",
   "execution_count": 64,
   "metadata": {},
   "outputs": [],
   "source": [
    "data_df_26k_shuffle.to_csv(\"../datasets/biocls_26k.csv\")"
   ]
  },
  {
   "cell_type": "code",
   "execution_count": 72,
   "metadata": {},
   "outputs": [
    {
     "data": {
      "text/plain": [
       "0    2212\n",
       "1     384\n",
       "Name: labels, dtype: int64"
      ]
     },
     "execution_count": 72,
     "metadata": {},
     "output_type": "execute_result"
    }
   ],
   "source": [
    "data_df_26k_shuffle[data_df_26k_shuffle[\"flag\"]==\"test\"][\"labels\"].value_counts()"
   ]
  },
  {
   "cell_type": "code",
   "execution_count": 71,
   "metadata": {},
   "outputs": [
    {
     "data": {
      "text/plain": [
       "0    17715\n",
       "1     3049\n",
       "Name: labels, dtype: int64"
      ]
     },
     "execution_count": 71,
     "metadata": {},
     "output_type": "execute_result"
    }
   ],
   "source": [
    "data_df_26k_shuffle[data_df_26k_shuffle[\"flag\"]==\"train\"][\"labels\"].value_counts()"
   ]
  },
  {
   "cell_type": "code",
   "execution_count": 70,
   "metadata": {},
   "outputs": [
    {
     "data": {
      "text/plain": [
       "0    2225\n",
       "1     371\n",
       "Name: labels, dtype: int64"
      ]
     },
     "execution_count": 70,
     "metadata": {},
     "output_type": "execute_result"
    }
   ],
   "source": [
    "data_df_26k_shuffle[data_df_26k_shuffle[\"flag\"]==\"valid\"][\"labels\"].value_counts()"
   ]
  },
  {
   "cell_type": "code",
   "execution_count": 69,
   "metadata": {},
   "outputs": [
    {
     "data": {
      "text/plain": [
       "25956"
      ]
     },
     "execution_count": 69,
     "metadata": {},
     "output_type": "execute_result"
    }
   ],
   "source": [
    "len(data_df_26k_shuffle.index)"
   ]
  },
  {
   "cell_type": "code",
   "execution_count": 140,
   "metadata": {},
   "outputs": [
    {
     "name": "stdout",
     "output_type": "stream",
     "text": [
      "|length|count|percent|\n",
      "|50|1436|0.0553|\n",
      "|256|14973|0.5768|\n",
      "|512|21087|0.8124|\n",
      "|1024|24433|0.9413|\n",
      "|2048|25513|0.9829|\n",
      "|4096|25825|0.9949|\n"
     ]
    }
   ],
   "source": [
    "print(\"|length|count|percent|\")\n",
    "n_lengths = [50,256,512,1024,2048,4096]\n",
    "for length in n_lengths:\n",
    "    count = 0\n",
    "    for idx,row in data_df_26k_shuffle.iterrows():\n",
    "        if len(row[\"docs\"].split(\" \"))<=length:\n",
    "            count+=1\n",
    "    print(\"|{:d}|{:d}|{:.4f}|\".format(length,count,count/len(data_df_26k_shuffle.index)))"
   ]
  },
  {
   "cell_type": "code",
   "execution_count": 141,
   "metadata": {},
   "outputs": [
    {
     "name": "stdout",
     "output_type": "stream",
     "text": [
      "|length|count|percent|\n",
      "|50|994|0.0383|\n",
      "|256|13021|0.5016|\n",
      "|512|19742|0.7606|\n",
      "|1024|23898|0.9207|\n",
      "|2048|25355|0.9768|\n",
      "|4096|25799|0.9939|\n"
     ]
    }
   ],
   "source": [
    "from transformers import BertTokenizer\n",
    "tokenizer = BertTokenizer.from_pretrained(\"bert-base-cased\")\n",
    "print(\"|length|count|percent|\")\n",
    "n_lengths = [50,256,512,1024,2048,4096]\n",
    "for length in n_lengths:\n",
    "    count = 0\n",
    "    for idx,row in data_df_26k_shuffle.iterrows():\n",
    "        ids = tokenizer.tokenize(row[\"docs\"])\n",
    "        if len(ids)<=length:\n",
    "            count+=1\n",
    "    print(\"|{:d}|{:d}|{:.4f}|\".format(length,count,count/len(data_df_26k_shuffle.index)))"
   ]
  },
  {
   "cell_type": "code",
   "execution_count": 142,
   "metadata": {},
   "outputs": [
    {
     "name": "stdout",
     "output_type": "stream",
     "text": [
      "|length|count|percent|\n",
      "|50|1908|0.0735|\n",
      "|256|13797|0.5315|\n",
      "|512|20146|0.7761|\n",
      "|1024|24034|0.9259|\n",
      "|2048|25401|0.9786|\n",
      "|4096|25834|0.9953|\n"
     ]
    }
   ],
   "source": [
    "from transformers import BertTokenizer\n",
    "tokenizer = BertTokenizer.from_pretrained(\"bert-base-uncased\")\n",
    "print(\"|length|count|percent|\")\n",
    "n_lengths = [50,256,512,1024,2048,4096]\n",
    "for length in n_lengths:\n",
    "    count = 0\n",
    "    for idx,row in data_df_26k_shuffle.iterrows():\n",
    "        ids = tokenizer.tokenize(row[\"docs\"])\n",
    "        if len(ids)<=length:\n",
    "            count+=1\n",
    "    print(\"|{:d}|{:d}|{:.4f}|\".format(length,count,count/len(data_df_26k_shuffle.index)))"
   ]
  },
  {
   "cell_type": "code",
   "execution_count": null,
   "metadata": {},
   "outputs": [],
   "source": []
  }
 ],
 "metadata": {
  "kernelspec": {
   "display_name": "doc_cls",
   "language": "python",
   "name": "doc_cls"
  },
  "language_info": {
   "codemirror_mode": {
    "name": "ipython",
    "version": 3
   },
   "file_extension": ".py",
   "mimetype": "text/x-python",
   "name": "python",
   "nbconvert_exporter": "python",
   "pygments_lexer": "ipython3",
   "version": "3.8.3"
  }
 },
 "nbformat": 4,
 "nbformat_minor": 4
}
