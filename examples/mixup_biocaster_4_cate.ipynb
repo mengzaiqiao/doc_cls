{
 "cells": [
  {
   "cell_type": "code",
   "execution_count": 1,
   "metadata": {},
   "outputs": [],
   "source": [
    "config = {\n",
    "    \"max_seq_length\": 512,\n",
    "    \"batch_size\": 16,\n",
    "    \"lr\": 0.001,\n",
    "    \"epochs\": 20,\n",
    "    \"mixup\":\"word\",\n",
    "    \"device\": \"cuda\",\n",
    "    \"gpu_ids\": \"2\",\n",
    "    \"seed\": 2020,\n",
    "    \"fp16\": False,\n",
    "    \"loss_scale\": 0,\n",
    "    \"gradient_accumulation_steps\":1,\n",
    "    \"warmup_proportion\": 0.1,\n",
    "    \"gradient_accumulation_steps\": 1,\n",
    "    \"num_labels\": 4,\n",
    "    \"is_multilabel\": False,\n",
    "    \"valid_metric\": \"macro_f1\",\n",
    "    \"model_save_dir\": \"../checkpoints/mixup_512_biocaster_4cate_20200908/\",\n",
    "    \"result_file\":\"../results/mixup_cnn_20200908.csv\"\n",
    "    \"patience\": 4,\n",
    "}"
   ]
  },
  {
   "cell_type": "code",
   "execution_count": 2,
   "metadata": {},
   "outputs": [
    {
     "name": "stdout",
     "output_type": "stream",
     "text": [
      "parse biocaser data from /home/zm324/workspace/doc_cls/datasets/biocaster/BioCaster.3.xml, docs number:1003, lablels number:1003\n"
     ]
    },
    {
     "data": {
      "text/html": [
       "<div>\n",
       "<style scoped>\n",
       "    .dataframe tbody tr th:only-of-type {\n",
       "        vertical-align: middle;\n",
       "    }\n",
       "\n",
       "    .dataframe tbody tr th {\n",
       "        vertical-align: top;\n",
       "    }\n",
       "\n",
       "    .dataframe thead th {\n",
       "        text-align: right;\n",
       "    }\n",
       "</style>\n",
       "<table border=\"1\" class=\"dataframe\">\n",
       "  <thead>\n",
       "    <tr style=\"text-align: right;\">\n",
       "      <th></th>\n",
       "      <th>docs</th>\n",
       "      <th>labels</th>\n",
       "      <th>source</th>\n",
       "    </tr>\n",
       "  </thead>\n",
       "  <tbody>\n",
       "    <tr>\n",
       "      <th>0</th>\n",
       "      <td>\\nBird Flu Outbreak Drill Spooks Manitoba Town...</td>\n",
       "      <td>0</td>\n",
       "      <td>Biocaster</td>\n",
       "    </tr>\n",
       "    <tr>\n",
       "      <th>1</th>\n",
       "      <td>\\nTyphoid outbreak in Agusan del Sur town unde...</td>\n",
       "      <td>3</td>\n",
       "      <td>Biocaster</td>\n",
       "    </tr>\n",
       "    <tr>\n",
       "      <th>2</th>\n",
       "      <td>\\n  Typhoid Outbreak In Central Nepal November...</td>\n",
       "      <td>3</td>\n",
       "      <td>Biocaster</td>\n",
       "    </tr>\n",
       "  </tbody>\n",
       "</table>\n",
       "</div>"
      ],
      "text/plain": [
       "                                                docs  labels     source\n",
       "0  \\nBird Flu Outbreak Drill Spooks Manitoba Town...       0  Biocaster\n",
       "1  \\nTyphoid outbreak in Agusan del Sur town unde...       3  Biocaster\n",
       "2  \\n  Typhoid Outbreak In Central Nepal November...       3  Biocaster"
      ]
     },
     "execution_count": 2,
     "metadata": {},
     "output_type": "execute_result"
    }
   ],
   "source": [
    "import sys\n",
    "sys.path.append(\"../\")\n",
    "from beta_nlp.utils.data_util import biocaster2df\n",
    "data_file = \"/home/zm324/workspace/doc_cls/datasets/biocaster/BioCaster.3.xml\"\n",
    "data_df = biocaster2df(data_file)\n",
    "data_df[\"source\"] = \"Biocaster\"\n",
    "data_df.head(3)"
   ]
  },
  {
   "cell_type": "code",
   "execution_count": 3,
   "metadata": {},
   "outputs": [
    {
     "name": "stderr",
     "output_type": "stream",
     "text": [
      "<ipython-input-3-79406d09754d>:6: SettingWithCopyWarning: \n",
      "A value is trying to be set on a copy of a slice from a DataFrame.\n",
      "Try using .loc[row_indexer,col_indexer] = value instead\n",
      "\n",
      "See the caveats in the documentation: https://pandas.pydata.org/pandas-docs/stable/user_guide/indexing.html#returning-a-view-versus-a-copy\n",
      "  data_df.iloc[:train_index][\"flag\"]=\"train\"\n",
      "<ipython-input-3-79406d09754d>:7: SettingWithCopyWarning: \n",
      "A value is trying to be set on a copy of a slice from a DataFrame.\n",
      "Try using .loc[row_indexer,col_indexer] = value instead\n",
      "\n",
      "See the caveats in the documentation: https://pandas.pydata.org/pandas-docs/stable/user_guide/indexing.html#returning-a-view-versus-a-copy\n",
      "  data_df.iloc[train_index:valid_index][\"flag\"]=\"valid\"\n",
      "<ipython-input-3-79406d09754d>:8: SettingWithCopyWarning: \n",
      "A value is trying to be set on a copy of a slice from a DataFrame.\n",
      "Try using .loc[row_indexer,col_indexer] = value instead\n",
      "\n",
      "See the caveats in the documentation: https://pandas.pydata.org/pandas-docs/stable/user_guide/indexing.html#returning-a-view-versus-a-copy\n",
      "  data_df.iloc[valid_index:][\"flag\"]=\"test\"\n"
     ]
    }
   ],
   "source": [
    "from sklearn.utils import shuffle\n",
    "data_df = shuffle(data_df).reset_index()\n",
    "data_df[\"flag\"]=None\n",
    "train_index = int(len(data_df.index)*0.8)\n",
    "valid_index = train_index + round(len(data_df.index)*0.1)\n",
    "data_df.iloc[:train_index][\"flag\"]=\"train\"\n",
    "data_df.iloc[train_index:valid_index][\"flag\"]=\"valid\"\n",
    "data_df.iloc[valid_index:][\"flag\"]=\"test\""
   ]
  },
  {
   "cell_type": "code",
   "execution_count": 4,
   "metadata": {},
   "outputs": [],
   "source": [
    "train_set = data_df[data_df[\"flag\"]==\"train\"]\n",
    "dev_set = data_df[data_df[\"flag\"]==\"valid\"]\n",
    "test_set = data_df[data_df[\"flag\"]==\"test\"]"
   ]
  },
  {
   "cell_type": "code",
   "execution_count": 5,
   "metadata": {},
   "outputs": [
    {
     "data": {
      "text/plain": [
       "(802, 100, 101)"
      ]
     },
     "execution_count": 5,
     "metadata": {},
     "output_type": "execute_result"
    }
   ],
   "source": [
    "len(train_set.index),len(dev_set.index),len(test_set.index)"
   ]
  },
  {
   "cell_type": "code",
   "execution_count": 6,
   "metadata": {},
   "outputs": [
    {
     "name": "stdout",
     "output_type": "stream",
     "text": [
      "Initialize vocab and embedding, vocab_size: 13529,  embed_dim：300\n"
     ]
    }
   ],
   "source": [
    "from beta_nlp.models.mixup_cls import MixupModel\n",
    "cls = MixupModel(train_set,config)"
   ]
  },
  {
   "cell_type": "code",
   "execution_count": 7,
   "metadata": {},
   "outputs": [
    {
     "data": {
      "text/plain": [
       "(802, 100, 101)"
      ]
     },
     "execution_count": 7,
     "metadata": {},
     "output_type": "execute_result"
    }
   ],
   "source": [
    "len(train_set.index),len(dev_set.index),len(test_set.index)"
   ]
  },
  {
   "cell_type": "code",
   "execution_count": 8,
   "metadata": {},
   "outputs": [
    {
     "data": {
      "application/vnd.jupyter.widget-view+json": {
       "model_id": "121c8901daa24cc0951e987b8c995e8d",
       "version_major": 2,
       "version_minor": 0
      },
      "text/plain": [
       "HBox(children=(FloatProgress(value=0.0, max=20.0), HTML(value='')))"
      ]
     },
     "metadata": {},
     "output_type": "display_data"
    },
    {
     "data": {
      "application/vnd.jupyter.widget-view+json": {
       "model_id": "1576999de99a43588fd58fd6d17f876e",
       "version_major": 2,
       "version_minor": 0
      },
      "text/plain": [
       "HBox(children=(FloatProgress(value=0.0, description='Training', max=51.0, style=ProgressStyle(description_widt…"
      ]
     },
     "metadata": {},
     "output_type": "display_data"
    },
    {
     "name": "stdout",
     "output_type": "stream",
     "text": [
      "\n",
      "Execute [train_an_epoch] method costing 369.81 ms\n",
      "[Epoch 0] loss: 2.0757073678222357\n"
     ]
    },
    {
     "data": {
      "application/vnd.jupyter.widget-view+json": {
       "model_id": "835077ca688a4f5d9793dc789d4ad15b",
       "version_major": 2,
       "version_minor": 0
      },
      "text/plain": [
       "HBox(children=(FloatProgress(value=0.0, description='Evaluating', max=7.0, style=ProgressStyle(description_wid…"
      ]
     },
     "metadata": {},
     "output_type": "display_data"
    },
    {
     "name": "stdout",
     "output_type": "stream",
     "text": [
      "\n",
      "Execute [eval] method costing 28.28 ms\n",
      "------------------------------------------------------------\n",
      "[Epoch 0]performance on validation set\n",
      "+----+-----------------+----------+\n",
      "|    | metrics         |   values |\n",
      "|----+-----------------+----------|\n",
      "|  0 | accuracy        | 0.26     |\n",
      "|  1 | macro_precision | 0.190104 |\n",
      "|  2 | macro_recall    | 0.253731 |\n",
      "|  3 | macro_f1        | 0.110552 |\n",
      "|  4 | micro_precision | 0.26     |\n",
      "|  5 | micro_recall    | 0.26     |\n",
      "|  6 | micro_f1        | 0.26     |\n",
      "+----+-----------------+----------+\n",
      "------------------------------------------------------------\n"
     ]
    },
    {
     "name": "stderr",
     "output_type": "stream",
     "text": [
      "/home/zm324/anaconda3/envs/doc_cls/lib/python3.8/site-packages/sklearn/metrics/_classification.py:1221: UndefinedMetricWarning: Precision is ill-defined and being set to 0.0 in labels with no predicted samples. Use `zero_division` parameter to control this behavior.\n",
      "  _warn_prf(average, modifier, msg_start, len(result))\n"
     ]
    },
    {
     "data": {
      "application/vnd.jupyter.widget-view+json": {
       "model_id": "b606b3e6305e42779cb39015d010b96e",
       "version_major": 2,
       "version_minor": 0
      },
      "text/plain": [
       "HBox(children=(FloatProgress(value=0.0, description='Training', max=51.0, style=ProgressStyle(description_widt…"
      ]
     },
     "metadata": {},
     "output_type": "display_data"
    },
    {
     "name": "stdout",
     "output_type": "stream",
     "text": [
      "\n",
      "Execute [train_an_epoch] method costing 322.84 ms\n",
      "[Epoch 1] loss: 1.1182929113799451\n"
     ]
    },
    {
     "data": {
      "application/vnd.jupyter.widget-view+json": {
       "model_id": "9b864476f15447208068cf3ab131e6e2",
       "version_major": 2,
       "version_minor": 0
      },
      "text/plain": [
       "HBox(children=(FloatProgress(value=0.0, description='Evaluating', max=7.0, style=ProgressStyle(description_wid…"
      ]
     },
     "metadata": {},
     "output_type": "display_data"
    },
    {
     "name": "stdout",
     "output_type": "stream",
     "text": [
      "\n",
      "Execute [eval] method costing 28.15 ms\n",
      "------------------------------------------------------------\n",
      "[Epoch 1]performance on validation set\n",
      "+----+-----------------+----------+\n",
      "|    | metrics         |   values |\n",
      "|----+-----------------+----------|\n",
      "|  0 | accuracy        | 0.62     |\n",
      "|  1 | macro_precision | 0.27381  |\n",
      "|  2 | macro_recall    | 0.300299 |\n",
      "|  3 | macro_f1        | 0.286131 |\n",
      "|  4 | micro_precision | 0.62     |\n",
      "|  5 | micro_recall    | 0.62     |\n",
      "|  6 | micro_f1        | 0.62     |\n",
      "+----+-----------------+----------+\n",
      "------------------------------------------------------------\n"
     ]
    },
    {
     "data": {
      "application/vnd.jupyter.widget-view+json": {
       "model_id": "a2f7331b48fa4f4f9e65176ef84ccc4f",
       "version_major": 2,
       "version_minor": 0
      },
      "text/plain": [
       "HBox(children=(FloatProgress(value=0.0, description='Training', max=51.0, style=ProgressStyle(description_widt…"
      ]
     },
     "metadata": {},
     "output_type": "display_data"
    },
    {
     "name": "stdout",
     "output_type": "stream",
     "text": [
      "\n",
      "Execute [train_an_epoch] method costing 326.50 ms\n",
      "[Epoch 2] loss: 0.9750791601106232\n"
     ]
    },
    {
     "data": {
      "application/vnd.jupyter.widget-view+json": {
       "model_id": "8b971fec457d412996821a8c67854acd",
       "version_major": 2,
       "version_minor": 0
      },
      "text/plain": [
       "HBox(children=(FloatProgress(value=0.0, description='Evaluating', max=7.0, style=ProgressStyle(description_wid…"
      ]
     },
     "metadata": {},
     "output_type": "display_data"
    },
    {
     "name": "stdout",
     "output_type": "stream",
     "text": [
      "\n",
      "Execute [eval] method costing 27.82 ms\n"
     ]
    },
    {
     "data": {
      "application/vnd.jupyter.widget-view+json": {
       "model_id": "bda444d1556c4e91beefbeed3e920abe",
       "version_major": 2,
       "version_minor": 0
      },
      "text/plain": [
       "HBox(children=(FloatProgress(value=0.0, description='Training', max=51.0, style=ProgressStyle(description_widt…"
      ]
     },
     "metadata": {},
     "output_type": "display_data"
    },
    {
     "name": "stdout",
     "output_type": "stream",
     "text": [
      "\n",
      "Execute [train_an_epoch] method costing 327.09 ms\n",
      "[Epoch 3] loss: 0.9340190010912278\n"
     ]
    },
    {
     "data": {
      "application/vnd.jupyter.widget-view+json": {
       "model_id": "738de980fb064f53ba3450eedc6a0dd8",
       "version_major": 2,
       "version_minor": 0
      },
      "text/plain": [
       "HBox(children=(FloatProgress(value=0.0, description='Evaluating', max=7.0, style=ProgressStyle(description_wid…"
      ]
     },
     "metadata": {},
     "output_type": "display_data"
    },
    {
     "name": "stdout",
     "output_type": "stream",
     "text": [
      "\n",
      "Execute [eval] method costing 27.67 ms\n",
      "------------------------------------------------------------\n",
      "[Epoch 3]performance on validation set\n",
      "+----+-----------------+----------+\n",
      "|    | metrics         |   values |\n",
      "|----+-----------------+----------|\n",
      "|  0 | accuracy        | 0.73     |\n",
      "|  1 | macro_precision | 0.34375  |\n",
      "|  2 | macro_recall    | 0.335075 |\n",
      "|  3 | macro_f1        | 0.33056  |\n",
      "|  4 | micro_precision | 0.73     |\n",
      "|  5 | micro_recall    | 0.73     |\n",
      "|  6 | micro_f1        | 0.73     |\n",
      "+----+-----------------+----------+\n",
      "------------------------------------------------------------\n"
     ]
    },
    {
     "data": {
      "application/vnd.jupyter.widget-view+json": {
       "model_id": "48a01343797647fbbae8030c1480ab1a",
       "version_major": 2,
       "version_minor": 0
      },
      "text/plain": [
       "HBox(children=(FloatProgress(value=0.0, description='Training', max=51.0, style=ProgressStyle(description_widt…"
      ]
     },
     "metadata": {},
     "output_type": "display_data"
    },
    {
     "name": "stdout",
     "output_type": "stream",
     "text": [
      "\n",
      "Execute [train_an_epoch] method costing 325.65 ms\n",
      "[Epoch 4] loss: 0.9087259103270138\n"
     ]
    },
    {
     "data": {
      "application/vnd.jupyter.widget-view+json": {
       "model_id": "5dd117ae9e354e2f94acbc5e630fb4d6",
       "version_major": 2,
       "version_minor": 0
      },
      "text/plain": [
       "HBox(children=(FloatProgress(value=0.0, description='Evaluating', max=7.0, style=ProgressStyle(description_wid…"
      ]
     },
     "metadata": {},
     "output_type": "display_data"
    },
    {
     "name": "stdout",
     "output_type": "stream",
     "text": [
      "\n",
      "Execute [eval] method costing 28.21 ms\n"
     ]
    },
    {
     "data": {
      "application/vnd.jupyter.widget-view+json": {
       "model_id": "7b256820c829473d8b2bedbd710b3e35",
       "version_major": 2,
       "version_minor": 0
      },
      "text/plain": [
       "HBox(children=(FloatProgress(value=0.0, description='Training', max=51.0, style=ProgressStyle(description_widt…"
      ]
     },
     "metadata": {},
     "output_type": "display_data"
    },
    {
     "name": "stdout",
     "output_type": "stream",
     "text": [
      "\n",
      "Execute [train_an_epoch] method costing 324.73 ms\n",
      "[Epoch 5] loss: 0.8964646061261495\n"
     ]
    },
    {
     "data": {
      "application/vnd.jupyter.widget-view+json": {
       "model_id": "96293cb6292b40ce89de337ca5600c3e",
       "version_major": 2,
       "version_minor": 0
      },
      "text/plain": [
       "HBox(children=(FloatProgress(value=0.0, description='Evaluating', max=7.0, style=ProgressStyle(description_wid…"
      ]
     },
     "metadata": {},
     "output_type": "display_data"
    },
    {
     "name": "stdout",
     "output_type": "stream",
     "text": [
      "\n",
      "Execute [eval] method costing 27.59 ms\n",
      "------------------------------------------------------------\n",
      "[Epoch 5]performance on validation set\n",
      "+----+-----------------+----------+\n",
      "|    | metrics         |   values |\n",
      "|----+-----------------+----------|\n",
      "|  0 | accuracy        | 0.73     |\n",
      "|  1 | macro_precision | 0.335895 |\n",
      "|  2 | macro_recall    | 0.347612 |\n",
      "|  3 | macro_f1        | 0.339339 |\n",
      "|  4 | micro_precision | 0.73     |\n",
      "|  5 | micro_recall    | 0.73     |\n",
      "|  6 | micro_f1        | 0.73     |\n",
      "+----+-----------------+----------+\n",
      "------------------------------------------------------------\n"
     ]
    },
    {
     "data": {
      "application/vnd.jupyter.widget-view+json": {
       "model_id": "84073960975d49fab528e35fa15fd2fc",
       "version_major": 2,
       "version_minor": 0
      },
      "text/plain": [
       "HBox(children=(FloatProgress(value=0.0, description='Training', max=51.0, style=ProgressStyle(description_widt…"
      ]
     },
     "metadata": {},
     "output_type": "display_data"
    },
    {
     "name": "stdout",
     "output_type": "stream",
     "text": [
      "\n",
      "Execute [train_an_epoch] method costing 331.26 ms\n",
      "[Epoch 6] loss: 0.8722236390207329\n"
     ]
    },
    {
     "data": {
      "application/vnd.jupyter.widget-view+json": {
       "model_id": "b4c8e27aec89423ca7d91676c397a115",
       "version_major": 2,
       "version_minor": 0
      },
      "text/plain": [
       "HBox(children=(FloatProgress(value=0.0, description='Evaluating', max=7.0, style=ProgressStyle(description_wid…"
      ]
     },
     "metadata": {},
     "output_type": "display_data"
    },
    {
     "name": "stdout",
     "output_type": "stream",
     "text": [
      "\n",
      "Execute [eval] method costing 27.74 ms\n",
      "------------------------------------------------------------\n",
      "[Epoch 6]performance on validation set\n",
      "+----+-----------------+----------+\n",
      "|    | metrics         |   values |\n",
      "|----+-----------------+----------|\n",
      "|  0 | accuracy        | 0.73     |\n",
      "|  1 | macro_precision | 0.33611  |\n",
      "|  2 | macro_recall    | 0.353881 |\n",
      "|  3 | macro_f1        | 0.34375  |\n",
      "|  4 | micro_precision | 0.73     |\n",
      "|  5 | micro_recall    | 0.73     |\n",
      "|  6 | micro_f1        | 0.73     |\n",
      "+----+-----------------+----------+\n",
      "------------------------------------------------------------\n"
     ]
    },
    {
     "data": {
      "application/vnd.jupyter.widget-view+json": {
       "model_id": "4160fce4458e43639fb4b38e6b9c20e7",
       "version_major": 2,
       "version_minor": 0
      },
      "text/plain": [
       "HBox(children=(FloatProgress(value=0.0, description='Training', max=51.0, style=ProgressStyle(description_widt…"
      ]
     },
     "metadata": {},
     "output_type": "display_data"
    },
    {
     "name": "stdout",
     "output_type": "stream",
     "text": [
      "\n",
      "Execute [train_an_epoch] method costing 325.40 ms\n",
      "[Epoch 7] loss: 0.8724590878860623\n"
     ]
    },
    {
     "data": {
      "application/vnd.jupyter.widget-view+json": {
       "model_id": "4374fde6bce040e89a1bdcf4ff86352b",
       "version_major": 2,
       "version_minor": 0
      },
      "text/plain": [
       "HBox(children=(FloatProgress(value=0.0, description='Evaluating', max=7.0, style=ProgressStyle(description_wid…"
      ]
     },
     "metadata": {},
     "output_type": "display_data"
    },
    {
     "name": "stdout",
     "output_type": "stream",
     "text": [
      "\n",
      "Execute [eval] method costing 28.04 ms\n",
      "------------------------------------------------------------\n",
      "[Epoch 7]performance on validation set\n",
      "+----+-----------------+----------+\n",
      "|    | metrics         |   values |\n",
      "|----+-----------------+----------|\n",
      "|  0 | accuracy        | 0.76     |\n",
      "|  1 | macro_precision | 0.356549 |\n",
      "|  2 | macro_recall    | 0.383881 |\n",
      "|  3 | macro_f1        | 0.369629 |\n",
      "|  4 | micro_precision | 0.76     |\n",
      "|  5 | micro_recall    | 0.76     |\n",
      "|  6 | micro_f1        | 0.76     |\n",
      "+----+-----------------+----------+\n",
      "------------------------------------------------------------\n"
     ]
    },
    {
     "data": {
      "application/vnd.jupyter.widget-view+json": {
       "model_id": "7eee098e4c8e471e9c7e1233650097f0",
       "version_major": 2,
       "version_minor": 0
      },
      "text/plain": [
       "HBox(children=(FloatProgress(value=0.0, description='Training', max=51.0, style=ProgressStyle(description_widt…"
      ]
     },
     "metadata": {},
     "output_type": "display_data"
    },
    {
     "name": "stdout",
     "output_type": "stream",
     "text": [
      "\n",
      "Execute [train_an_epoch] method costing 325.96 ms\n",
      "[Epoch 8] loss: 0.8562876985353582\n"
     ]
    },
    {
     "data": {
      "application/vnd.jupyter.widget-view+json": {
       "model_id": "e8e0826bf4fc47d28114bf909105fd13",
       "version_major": 2,
       "version_minor": 0
      },
      "text/plain": [
       "HBox(children=(FloatProgress(value=0.0, description='Evaluating', max=7.0, style=ProgressStyle(description_wid…"
      ]
     },
     "metadata": {},
     "output_type": "display_data"
    },
    {
     "name": "stdout",
     "output_type": "stream",
     "text": [
      "\n",
      "Execute [eval] method costing 27.59 ms\n"
     ]
    },
    {
     "data": {
      "application/vnd.jupyter.widget-view+json": {
       "model_id": "87db877098914e0ebaabfd72583af615",
       "version_major": 2,
       "version_minor": 0
      },
      "text/plain": [
       "HBox(children=(FloatProgress(value=0.0, description='Training', max=51.0, style=ProgressStyle(description_widt…"
      ]
     },
     "metadata": {},
     "output_type": "display_data"
    },
    {
     "name": "stdout",
     "output_type": "stream",
     "text": [
      "\n",
      "Execute [train_an_epoch] method costing 324.62 ms\n",
      "[Epoch 9] loss: 0.8494419671741187\n"
     ]
    },
    {
     "data": {
      "application/vnd.jupyter.widget-view+json": {
       "model_id": "bf24f97fd81046e4aba71449c4b82afe",
       "version_major": 2,
       "version_minor": 0
      },
      "text/plain": [
       "HBox(children=(FloatProgress(value=0.0, description='Evaluating', max=7.0, style=ProgressStyle(description_wid…"
      ]
     },
     "metadata": {},
     "output_type": "display_data"
    },
    {
     "name": "stdout",
     "output_type": "stream",
     "text": [
      "\n",
      "Execute [eval] method costing 27.17 ms\n",
      "------------------------------------------------------------\n",
      "[Epoch 9]performance on validation set\n",
      "+----+-----------------+----------+\n",
      "|    | metrics         |   values |\n",
      "|----+-----------------+----------|\n",
      "|  0 | accuracy        | 0.76     |\n",
      "|  1 | macro_precision | 0.356647 |\n",
      "|  2 | macro_recall    | 0.390149 |\n",
      "|  3 | macro_f1        | 0.372608 |\n",
      "|  4 | micro_precision | 0.76     |\n",
      "|  5 | micro_recall    | 0.76     |\n",
      "|  6 | micro_f1        | 0.76     |\n",
      "+----+-----------------+----------+\n",
      "------------------------------------------------------------\n"
     ]
    },
    {
     "data": {
      "application/vnd.jupyter.widget-view+json": {
       "model_id": "b0ad611abd0f4954a4fa8ccb1ab50627",
       "version_major": 2,
       "version_minor": 0
      },
      "text/plain": [
       "HBox(children=(FloatProgress(value=0.0, description='Training', max=51.0, style=ProgressStyle(description_widt…"
      ]
     },
     "metadata": {},
     "output_type": "display_data"
    },
    {
     "name": "stdout",
     "output_type": "stream",
     "text": [
      "\n",
      "Execute [train_an_epoch] method costing 325.79 ms\n",
      "[Epoch 10] loss: 0.8277119035814323\n"
     ]
    },
    {
     "data": {
      "application/vnd.jupyter.widget-view+json": {
       "model_id": "35421b4ba5214732bf6b47276b6bded6",
       "version_major": 2,
       "version_minor": 0
      },
      "text/plain": [
       "HBox(children=(FloatProgress(value=0.0, description='Evaluating', max=7.0, style=ProgressStyle(description_wid…"
      ]
     },
     "metadata": {},
     "output_type": "display_data"
    },
    {
     "name": "stdout",
     "output_type": "stream",
     "text": [
      "\n",
      "Execute [eval] method costing 27.59 ms\n",
      "------------------------------------------------------------\n",
      "[Epoch 10]performance on validation set\n",
      "+----+-----------------+----------+\n",
      "|    | metrics         |   values |\n",
      "|----+-----------------+----------|\n",
      "|  0 | accuracy        | 0.77     |\n",
      "|  1 | macro_precision | 0.362919 |\n",
      "|  2 | macro_recall    | 0.400149 |\n",
      "|  3 | macro_f1        | 0.380435 |\n",
      "|  4 | micro_precision | 0.77     |\n",
      "|  5 | micro_recall    | 0.77     |\n",
      "|  6 | micro_f1        | 0.77     |\n",
      "+----+-----------------+----------+\n",
      "------------------------------------------------------------\n"
     ]
    },
    {
     "data": {
      "application/vnd.jupyter.widget-view+json": {
       "model_id": "25a3291f3b8e47bb875ef13331235747",
       "version_major": 2,
       "version_minor": 0
      },
      "text/plain": [
       "HBox(children=(FloatProgress(value=0.0, description='Training', max=51.0, style=ProgressStyle(description_widt…"
      ]
     },
     "metadata": {},
     "output_type": "display_data"
    },
    {
     "name": "stdout",
     "output_type": "stream",
     "text": [
      "\n",
      "Execute [train_an_epoch] method costing 327.74 ms\n",
      "[Epoch 11] loss: 0.8342608388732461\n"
     ]
    },
    {
     "data": {
      "application/vnd.jupyter.widget-view+json": {
       "model_id": "4553c8a373684a3d992df81a2e791683",
       "version_major": 2,
       "version_minor": 0
      },
      "text/plain": [
       "HBox(children=(FloatProgress(value=0.0, description='Evaluating', max=7.0, style=ProgressStyle(description_wid…"
      ]
     },
     "metadata": {},
     "output_type": "display_data"
    },
    {
     "name": "stdout",
     "output_type": "stream",
     "text": [
      "\n",
      "Execute [eval] method costing 27.18 ms\n"
     ]
    },
    {
     "data": {
      "application/vnd.jupyter.widget-view+json": {
       "model_id": "76b70238ab0e463aa1988e33983e47d7",
       "version_major": 2,
       "version_minor": 0
      },
      "text/plain": [
       "HBox(children=(FloatProgress(value=0.0, description='Training', max=51.0, style=ProgressStyle(description_widt…"
      ]
     },
     "metadata": {},
     "output_type": "display_data"
    },
    {
     "name": "stdout",
     "output_type": "stream",
     "text": [
      "\n",
      "Execute [train_an_epoch] method costing 329.56 ms\n",
      "[Epoch 12] loss: 0.8242113029255587\n"
     ]
    },
    {
     "data": {
      "application/vnd.jupyter.widget-view+json": {
       "model_id": "2f22b1b1b29147388e77738b65205ea3",
       "version_major": 2,
       "version_minor": 0
      },
      "text/plain": [
       "HBox(children=(FloatProgress(value=0.0, description='Evaluating', max=7.0, style=ProgressStyle(description_wid…"
      ]
     },
     "metadata": {},
     "output_type": "display_data"
    },
    {
     "name": "stdout",
     "output_type": "stream",
     "text": [
      "\n",
      "Execute [eval] method costing 27.35 ms\n"
     ]
    },
    {
     "data": {
      "application/vnd.jupyter.widget-view+json": {
       "model_id": "c51c75803b0e40f09e29e50043637198",
       "version_major": 2,
       "version_minor": 0
      },
      "text/plain": [
       "HBox(children=(FloatProgress(value=0.0, description='Training', max=51.0, style=ProgressStyle(description_widt…"
      ]
     },
     "metadata": {},
     "output_type": "display_data"
    },
    {
     "name": "stdout",
     "output_type": "stream",
     "text": [
      "\n",
      "Execute [train_an_epoch] method costing 320.47 ms\n",
      "[Epoch 13] loss: 0.8339501584277433\n"
     ]
    },
    {
     "data": {
      "application/vnd.jupyter.widget-view+json": {
       "model_id": "15621b84cb2245358a9e931cf438e7be",
       "version_major": 2,
       "version_minor": 0
      },
      "text/plain": [
       "HBox(children=(FloatProgress(value=0.0, description='Evaluating', max=7.0, style=ProgressStyle(description_wid…"
      ]
     },
     "metadata": {},
     "output_type": "display_data"
    },
    {
     "name": "stdout",
     "output_type": "stream",
     "text": [
      "\n",
      "Execute [eval] method costing 29.27 ms\n"
     ]
    },
    {
     "data": {
      "application/vnd.jupyter.widget-view+json": {
       "model_id": "46548d75b0764afb9e4e07e76c69ff2e",
       "version_major": 2,
       "version_minor": 0
      },
      "text/plain": [
       "HBox(children=(FloatProgress(value=0.0, description='Training', max=51.0, style=ProgressStyle(description_widt…"
      ]
     },
     "metadata": {},
     "output_type": "display_data"
    },
    {
     "name": "stdout",
     "output_type": "stream",
     "text": [
      "\n",
      "Execute [train_an_epoch] method costing 329.41 ms\n",
      "[Epoch 14] loss: 0.8170970988039877\n"
     ]
    },
    {
     "data": {
      "application/vnd.jupyter.widget-view+json": {
       "model_id": "6ada671c027a495ba2e1f04f8dd4bfc3",
       "version_major": 2,
       "version_minor": 0
      },
      "text/plain": [
       "HBox(children=(FloatProgress(value=0.0, description='Evaluating', max=7.0, style=ProgressStyle(description_wid…"
      ]
     },
     "metadata": {},
     "output_type": "display_data"
    },
    {
     "name": "stdout",
     "output_type": "stream",
     "text": [
      "\n",
      "Execute [eval] method costing 27.44 ms\n",
      "Early Stopping. Epoch: 14, best_valid_metric (macro_f1): 0.3804347826086957\n",
      "\n"
     ]
    }
   ],
   "source": [
    "# cls.args.lr = 0.1\n",
    "# cls.init_optimizer()\n",
    "cls.train(train_set,dev_set)"
   ]
  },
  {
   "cell_type": "code",
   "execution_count": 9,
   "metadata": {},
   "outputs": [
    {
     "data": {
      "application/vnd.jupyter.widget-view+json": {
       "model_id": "3c47bc776bae4428930f7d19d4fe9439",
       "version_major": 2,
       "version_minor": 0
      },
      "text/plain": [
       "HBox(children=(FloatProgress(value=0.0, description='Evaluating', max=7.0, style=ProgressStyle(description_wid…"
      ]
     },
     "metadata": {},
     "output_type": "display_data"
    },
    {
     "name": "stdout",
     "output_type": "stream",
     "text": [
      "\n",
      "Execute [eval] method costing 27.87 ms\n"
     ]
    },
    {
     "data": {
      "text/plain": [
       "{'accuracy': 0.7227722772277227,\n",
       " 'macro_precision': 0.37012012012012013,\n",
       " 'macro_recall': 0.3821969696969697,\n",
       " 'macro_f1': 0.3682170542635659,\n",
       " 'micro_precision': 0.7227722772277227,\n",
       " 'micro_recall': 0.7227722772277227,\n",
       " 'micro_f1': 0.7227722772277227}"
      ]
     },
     "execution_count": 9,
     "metadata": {},
     "output_type": "execute_result"
    }
   ],
   "source": [
    "result = cls.test(test_set)\n",
    "import beta_nlp.utils.common import save_to_csv\n",
    "result.update(config)\n",
    "save_to_csv(result,config[result_file])"
   ]
  },
  {
   "cell_type": "code",
   "execution_count": 15,
   "metadata": {},
   "outputs": [
    {
     "data": {
      "text/html": [
       "<div>\n",
       "<style scoped>\n",
       "    .dataframe tbody tr th:only-of-type {\n",
       "        vertical-align: middle;\n",
       "    }\n",
       "\n",
       "    .dataframe tbody tr th {\n",
       "        vertical-align: top;\n",
       "    }\n",
       "\n",
       "    .dataframe thead th {\n",
       "        text-align: right;\n",
       "    }\n",
       "</style>\n",
       "<table border=\"1\" class=\"dataframe\">\n",
       "  <thead>\n",
       "    <tr style=\"text-align: right;\">\n",
       "      <th></th>\n",
       "      <th>index</th>\n",
       "      <th>docs</th>\n",
       "      <th>labels</th>\n",
       "      <th>source</th>\n",
       "      <th>flag</th>\n",
       "    </tr>\n",
       "  </thead>\n",
       "  <tbody>\n",
       "    <tr>\n",
       "      <th>902</th>\n",
       "      <td>576</td>\n",
       "      <td>\\n  Hughes furious with referee Poll Mark Hugh...</td>\n",
       "      <td>0</td>\n",
       "      <td>Biocaster</td>\n",
       "      <td>test</td>\n",
       "    </tr>\n",
       "    <tr>\n",
       "      <th>903</th>\n",
       "      <td>46</td>\n",
       "      <td>\\nBetter yellow fever vaccine possible  \\nBig ...</td>\n",
       "      <td>0</td>\n",
       "      <td>Biocaster</td>\n",
       "      <td>test</td>\n",
       "    </tr>\n",
       "    <tr>\n",
       "      <th>904</th>\n",
       "      <td>149</td>\n",
       "      <td>\\nDa Vinci Code falls under the censors knife ...</td>\n",
       "      <td>0</td>\n",
       "      <td>Biocaster</td>\n",
       "      <td>test</td>\n",
       "    </tr>\n",
       "    <tr>\n",
       "      <th>905</th>\n",
       "      <td>935</td>\n",
       "      <td>\\n  Chikungunya affects eight states\\nPress Tr...</td>\n",
       "      <td>3</td>\n",
       "      <td>Biocaster</td>\n",
       "      <td>test</td>\n",
       "    </tr>\n",
       "    <tr>\n",
       "      <th>906</th>\n",
       "      <td>844</td>\n",
       "      <td>\\n  Mononucleosis increases risk of multiple s...</td>\n",
       "      <td>0</td>\n",
       "      <td>Biocaster</td>\n",
       "      <td>test</td>\n",
       "    </tr>\n",
       "    <tr>\n",
       "      <th>907</th>\n",
       "      <td>296</td>\n",
       "      <td>\\n\\nTyphoon Prapiroon to lash mainland tonight...</td>\n",
       "      <td>0</td>\n",
       "      <td>Biocaster</td>\n",
       "      <td>test</td>\n",
       "    </tr>\n",
       "    <tr>\n",
       "      <th>908</th>\n",
       "      <td>501</td>\n",
       "      <td>\\n  ANGOLA: Marburg outbreak not under control...</td>\n",
       "      <td>0</td>\n",
       "      <td>Biocaster</td>\n",
       "      <td>test</td>\n",
       "    </tr>\n",
       "    <tr>\n",
       "      <th>909</th>\n",
       "      <td>606</td>\n",
       "      <td>\\n890811\\nMarketing: Sony Hopes to Win Much Bi...</td>\n",
       "      <td>0</td>\n",
       "      <td>Biocaster</td>\n",
       "      <td>test</td>\n",
       "    </tr>\n",
       "    <tr>\n",
       "      <th>910</th>\n",
       "      <td>353</td>\n",
       "      <td>\\n  Barcelona Holds Off Milan to Face Arsenal ...</td>\n",
       "      <td>0</td>\n",
       "      <td>Biocaster</td>\n",
       "      <td>test</td>\n",
       "    </tr>\n",
       "    <tr>\n",
       "      <th>911</th>\n",
       "      <td>302</td>\n",
       "      <td>\\n  VN athletes win 45 gold medals \\n11:35 19/...</td>\n",
       "      <td>0</td>\n",
       "      <td>Biocaster</td>\n",
       "      <td>test</td>\n",
       "    </tr>\n",
       "    <tr>\n",
       "      <th>912</th>\n",
       "      <td>732</td>\n",
       "      <td>\\n  Mendieta will miss rest of season \\n \\n \\n...</td>\n",
       "      <td>0</td>\n",
       "      <td>Biocaster</td>\n",
       "      <td>test</td>\n",
       "    </tr>\n",
       "    <tr>\n",
       "      <th>913</th>\n",
       "      <td>499</td>\n",
       "      <td>\\n  TANZANIA: Cholera breaks out in Dar es Sal...</td>\n",
       "      <td>3</td>\n",
       "      <td>Biocaster</td>\n",
       "      <td>test</td>\n",
       "    </tr>\n",
       "    <tr>\n",
       "      <th>914</th>\n",
       "      <td>205</td>\n",
       "      <td>\\n****** \\n[2] Burkina Faso, Niger \\nDate: Sat...</td>\n",
       "      <td>3</td>\n",
       "      <td>Biocaster</td>\n",
       "      <td>test</td>\n",
       "    </tr>\n",
       "    <tr>\n",
       "      <th>915</th>\n",
       "      <td>970</td>\n",
       "      <td>\\n  Conjunctivitis Caused By H7 Avian Influenz...</td>\n",
       "      <td>3</td>\n",
       "      <td>Biocaster</td>\n",
       "      <td>test</td>\n",
       "    </tr>\n",
       "    <tr>\n",
       "      <th>916</th>\n",
       "      <td>412</td>\n",
       "      <td>\\n  Japans Subaru telescope captures huge gas ...</td>\n",
       "      <td>0</td>\n",
       "      <td>Biocaster</td>\n",
       "      <td>test</td>\n",
       "    </tr>\n",
       "    <tr>\n",
       "      <th>917</th>\n",
       "      <td>734</td>\n",
       "      <td>\\nDirt may hold clue to superbugs \\n  \\n Study...</td>\n",
       "      <td>0</td>\n",
       "      <td>Biocaster</td>\n",
       "      <td>test</td>\n",
       "    </tr>\n",
       "    <tr>\n",
       "      <th>918</th>\n",
       "      <td>925</td>\n",
       "      <td>\\n  Avian influenza situation in Viet Nam upda...</td>\n",
       "      <td>3</td>\n",
       "      <td>Biocaster</td>\n",
       "      <td>test</td>\n",
       "    </tr>\n",
       "    <tr>\n",
       "      <th>919</th>\n",
       "      <td>740</td>\n",
       "      <td>\\n  Vomiting virus closes 11 schools \\n \\n \\n ...</td>\n",
       "      <td>3</td>\n",
       "      <td>Biocaster</td>\n",
       "      <td>test</td>\n",
       "    </tr>\n",
       "    <tr>\n",
       "      <th>920</th>\n",
       "      <td>669</td>\n",
       "      <td>\\nNYT-01-31-96 2107EST\\nBC-ASTEROID-PROBE-SCI-...</td>\n",
       "      <td>0</td>\n",
       "      <td>Biocaster</td>\n",
       "      <td>test</td>\n",
       "    </tr>\n",
       "    <tr>\n",
       "      <th>921</th>\n",
       "      <td>599</td>\n",
       "      <td>\\n880729\\nOPEC Appears to Back Off a Price War...</td>\n",
       "      <td>0</td>\n",
       "      <td>Biocaster</td>\n",
       "      <td>test</td>\n",
       "    </tr>\n",
       "  </tbody>\n",
       "</table>\n",
       "</div>"
      ],
      "text/plain": [
       "     index                                               docs  labels  \\\n",
       "902    576  \\n  Hughes furious with referee Poll Mark Hugh...       0   \n",
       "903     46  \\nBetter yellow fever vaccine possible  \\nBig ...       0   \n",
       "904    149  \\nDa Vinci Code falls under the censors knife ...       0   \n",
       "905    935  \\n  Chikungunya affects eight states\\nPress Tr...       3   \n",
       "906    844  \\n  Mononucleosis increases risk of multiple s...       0   \n",
       "907    296  \\n\\nTyphoon Prapiroon to lash mainland tonight...       0   \n",
       "908    501  \\n  ANGOLA: Marburg outbreak not under control...       0   \n",
       "909    606  \\n890811\\nMarketing: Sony Hopes to Win Much Bi...       0   \n",
       "910    353  \\n  Barcelona Holds Off Milan to Face Arsenal ...       0   \n",
       "911    302  \\n  VN athletes win 45 gold medals \\n11:35 19/...       0   \n",
       "912    732  \\n  Mendieta will miss rest of season \\n \\n \\n...       0   \n",
       "913    499  \\n  TANZANIA: Cholera breaks out in Dar es Sal...       3   \n",
       "914    205  \\n****** \\n[2] Burkina Faso, Niger \\nDate: Sat...       3   \n",
       "915    970  \\n  Conjunctivitis Caused By H7 Avian Influenz...       3   \n",
       "916    412  \\n  Japans Subaru telescope captures huge gas ...       0   \n",
       "917    734  \\nDirt may hold clue to superbugs \\n  \\n Study...       0   \n",
       "918    925  \\n  Avian influenza situation in Viet Nam upda...       3   \n",
       "919    740  \\n  Vomiting virus closes 11 schools \\n \\n \\n ...       3   \n",
       "920    669  \\nNYT-01-31-96 2107EST\\nBC-ASTEROID-PROBE-SCI-...       0   \n",
       "921    599  \\n880729\\nOPEC Appears to Back Off a Price War...       0   \n",
       "\n",
       "        source  flag  \n",
       "902  Biocaster  test  \n",
       "903  Biocaster  test  \n",
       "904  Biocaster  test  \n",
       "905  Biocaster  test  \n",
       "906  Biocaster  test  \n",
       "907  Biocaster  test  \n",
       "908  Biocaster  test  \n",
       "909  Biocaster  test  \n",
       "910  Biocaster  test  \n",
       "911  Biocaster  test  \n",
       "912  Biocaster  test  \n",
       "913  Biocaster  test  \n",
       "914  Biocaster  test  \n",
       "915  Biocaster  test  \n",
       "916  Biocaster  test  \n",
       "917  Biocaster  test  \n",
       "918  Biocaster  test  \n",
       "919  Biocaster  test  \n",
       "920  Biocaster  test  \n",
       "921  Biocaster  test  "
      ]
     },
     "execution_count": 15,
     "metadata": {},
     "output_type": "execute_result"
    }
   ],
   "source": [
    "test_set.iloc[:20]"
   ]
  },
  {
   "cell_type": "code",
   "execution_count": 16,
   "metadata": {},
   "outputs": [
    {
     "data": {
      "application/vnd.jupyter.widget-view+json": {
       "model_id": "693606a54424489fb4cbbd8c9ed26330",
       "version_major": 2,
       "version_minor": 0
      },
      "text/plain": [
       "HBox(children=(FloatProgress(value=0.0, description='Evaluating', max=2.0, style=ProgressStyle(description_wid…"
      ]
     },
     "metadata": {},
     "output_type": "display_data"
    },
    {
     "name": "stdout",
     "output_type": "stream",
     "text": [
      "\n",
      "Execute [predict] method costing 42.18 ms\n"
     ]
    },
    {
     "data": {
      "text/plain": [
       "array([0, 0, 0, 3, 0, 0, 0, 0, 0, 0, 0, 0, 3, 3, 0, 0, 3, 0, 0, 0])"
      ]
     },
     "execution_count": 16,
     "metadata": {},
     "output_type": "execute_result"
    }
   ],
   "source": [
    "cls.predict(test_set.iloc[:20])"
   ]
  },
  {
   "cell_type": "code",
   "execution_count": 12,
   "metadata": {},
   "outputs": [],
   "source": [
    "import torchvision"
   ]
  },
  {
   "cell_type": "code",
   "execution_count": 13,
   "metadata": {},
   "outputs": [
    {
     "name": "stdout",
     "output_type": "stream",
     "text": [
      "Files already downloaded and verified\n"
     ]
    }
   ],
   "source": [
    "trainset = torchvision.datasets.CIFAR10(root='./data', train=True, download=True)"
   ]
  },
  {
   "cell_type": "code",
   "execution_count": 14,
   "metadata": {},
   "outputs": [
    {
     "data": {
      "text/plain": [
       "9"
      ]
     },
     "execution_count": 14,
     "metadata": {},
     "output_type": "execute_result"
    }
   ],
   "source": [
    "trainset[1][1]"
   ]
  },
  {
   "cell_type": "code",
   "execution_count": null,
   "metadata": {},
   "outputs": [],
   "source": []
  }
 ],
 "metadata": {
  "kernelspec": {
   "display_name": "doc_cls",
   "language": "python",
   "name": "doc_cls"
  },
  "language_info": {
   "codemirror_mode": {
    "name": "ipython",
    "version": 3
   },
   "file_extension": ".py",
   "mimetype": "text/x-python",
   "name": "python",
   "nbconvert_exporter": "python",
   "pygments_lexer": "ipython3",
   "version": "3.8.3"
  }
 },
 "nbformat": 4,
 "nbformat_minor": 4
}
