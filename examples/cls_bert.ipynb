{
 "cells": [
  {
   "cell_type": "code",
   "execution_count": 10,
   "metadata": {},
   "outputs": [],
   "source": [
    "import sys\n",
    "sys.path.append(\"../\")\n",
    "from src.utils.data_util import biocaser2text\n",
    "from src.eval_method import CrossValidation\n",
    "from src.experiment import Experiment\n",
    "from src.metrics import Accuracy,Precision,Recall,F1Score\n",
    "from sklearn.svm import LinearSVC\n",
    "from sklearn.naive_bayes import BernoulliNB\n",
    "from sklearn.naive_bayes import GaussianNB\n",
    "from sklearn.naive_bayes import MultinomialNB\n",
    "from sklearn.tree import DecisionTreeClassifier\n",
    "from sklearn.ensemble import RandomForestClassifier\n",
    "from sklearn.pipeline import Pipeline\n",
    "from sklearn.feature_selection import chi2\n",
    "from sklearn.feature_selection import SelectKBest\n",
    "from src.preprocess import BasicTextPreprocess,BasicTextFeatureExtraction\n",
    "import matplotlib.pyplot as plt\n",
    "%matplotlib inline"
   ]
  },
  {
   "cell_type": "code",
   "execution_count": 2,
   "metadata": {},
   "outputs": [],
   "source": [
    "from src.preprocess.preprocessor import BasicTextPreprocess"
   ]
  },
  {
   "cell_type": "code",
   "execution_count": 3,
   "metadata": {
    "collapsed": false,
    "jupyter": {
     "outputs_hidden": false
    },
    "pycharm": {
     "name": "#%%\n"
    }
   },
   "outputs": [
    {
     "name": "stdout",
     "output_type": "stream",
     "text": [
      "found files: 3009\n",
      "found files: 1530\n"
     ]
    },
    {
     "data": {
      "text/html": [
       "<div>\n",
       "<style scoped>\n",
       "    .dataframe tbody tr th:only-of-type {\n",
       "        vertical-align: middle;\n",
       "    }\n",
       "\n",
       "    .dataframe tbody tr th {\n",
       "        vertical-align: top;\n",
       "    }\n",
       "\n",
       "    .dataframe thead th {\n",
       "        text-align: right;\n",
       "    }\n",
       "</style>\n",
       "<table border=\"1\" class=\"dataframe\">\n",
       "  <thead>\n",
       "    <tr style=\"text-align: right;\">\n",
       "      <th></th>\n",
       "      <th>docs</th>\n",
       "      <th>labels</th>\n",
       "    </tr>\n",
       "  </thead>\n",
       "  <tbody>\n",
       "    <tr>\n",
       "      <th>0</th>\n",
       "      <td>\\n \\n \\n \\n AVIAN INFLUENZA, HUMAN (109) - IND...</td>\n",
       "      <td>1</td>\n",
       "    </tr>\n",
       "    <tr>\n",
       "      <th>1</th>\n",
       "      <td>Health officials in Hong Kong say that...</td>\n",
       "      <td>1</td>\n",
       "    </tr>\n",
       "    <tr>\n",
       "      <th>2</th>\n",
       "      <td>\\n \\n EQUINE INFLUENZA - CHINA\\n \\n **********...</td>\n",
       "      <td>1</td>\n",
       "    </tr>\n",
       "    <tr>\n",
       "      <th>3</th>\n",
       "      <td>\\n \\n \\n \\n SALMONELLOSIS SENFTENBERG, BASIL -...</td>\n",
       "      <td>1</td>\n",
       "    </tr>\n",
       "    <tr>\n",
       "      <th>4</th>\n",
       "      <td>\\n \\n GIARDIASIS, HUMAN - UNITED KINGDOM: (YOR...</td>\n",
       "      <td>1</td>\n",
       "    </tr>\n",
       "  </tbody>\n",
       "</table>\n",
       "</div>"
      ],
      "text/plain": [
       "                                                docs  labels\n",
       "0  \\n \\n \\n \\n AVIAN INFLUENZA, HUMAN (109) - IND...       1\n",
       "1          Health officials in Hong Kong say that...       1\n",
       "2  \\n \\n EQUINE INFLUENZA - CHINA\\n \\n **********...       1\n",
       "3  \\n \\n \\n \\n SALMONELLOSIS SENFTENBERG, BASIL -...       1\n",
       "4  \\n \\n GIARDIASIS, HUMAN - UNITED KINGDOM: (YOR...       1"
      ]
     },
     "execution_count": 3,
     "metadata": {},
     "output_type": "execute_result"
    }
   ],
   "source": [
    "## this should load a dataframe, which col1 being the documents and col2 being the labels.\n",
    "from utils.data_util import get_raw_promed_df\n",
    "data_df = get_raw_promed_df()\n",
    "data_df.head(5)"
   ]
  },
  {
   "cell_type": "code",
   "execution_count": 4,
   "metadata": {},
   "outputs": [
    {
     "data": {
      "text/html": [
       "<div>\n",
       "<style scoped>\n",
       "    .dataframe tbody tr th:only-of-type {\n",
       "        vertical-align: middle;\n",
       "    }\n",
       "\n",
       "    .dataframe tbody tr th {\n",
       "        vertical-align: top;\n",
       "    }\n",
       "\n",
       "    .dataframe thead th {\n",
       "        text-align: right;\n",
       "    }\n",
       "</style>\n",
       "<table border=\"1\" class=\"dataframe\">\n",
       "  <thead>\n",
       "    <tr style=\"text-align: right;\">\n",
       "      <th></th>\n",
       "      <th>docs</th>\n",
       "      <th>labels</th>\n",
       "    </tr>\n",
       "  </thead>\n",
       "  <tbody>\n",
       "    <tr>\n",
       "      <th>0</th>\n",
       "      <td>avian influenza, human (109) - indonesia, ...</td>\n",
       "      <td>1</td>\n",
       "    </tr>\n",
       "    <tr>\n",
       "      <th>1</th>\n",
       "      <td>health officials in hong kong say that avi...</td>\n",
       "      <td>1</td>\n",
       "    </tr>\n",
       "    <tr>\n",
       "      <th>2</th>\n",
       "      <td>equine influenza - china  ******************...</td>\n",
       "      <td>1</td>\n",
       "    </tr>\n",
       "    <tr>\n",
       "      <th>3</th>\n",
       "      <td>salmonellosis senftenberg, basil - europe ...</td>\n",
       "      <td>1</td>\n",
       "    </tr>\n",
       "    <tr>\n",
       "      <th>4</th>\n",
       "      <td>giardiasis, human - united kingdom: (yorkshi...</td>\n",
       "      <td>1</td>\n",
       "    </tr>\n",
       "  </tbody>\n",
       "</table>\n",
       "</div>"
      ],
      "text/plain": [
       "                                                docs  labels\n",
       "0      avian influenza, human (109) - indonesia, ...       1\n",
       "1      health officials in hong kong say that avi...       1\n",
       "2    equine influenza - china  ******************...       1\n",
       "3      salmonellosis senftenberg, basil - europe ...       1\n",
       "4    giardiasis, human - united kingdom: (yorkshi...       1"
      ]
     },
     "execution_count": 4,
     "metadata": {},
     "output_type": "execute_result"
    }
   ],
   "source": [
    "bp = BasicTextPreprocess()\n",
    "data_df = bp.bert_process(data_df, \"docs\")\n",
    "data_df.head(5)"
   ]
  },
  {
   "cell_type": "code",
   "execution_count": 5,
   "metadata": {},
   "outputs": [],
   "source": [
    "data_df[\"doc_len\"] = data_df[\"docs\"].apply(lambda x: len(x.split(\" \")))"
   ]
  },
  {
   "cell_type": "code",
   "execution_count": 6,
   "metadata": {},
   "outputs": [
    {
     "data": {
      "text/plain": [
       "(11, 8784)"
      ]
     },
     "execution_count": 6,
     "metadata": {},
     "output_type": "execute_result"
    }
   ],
   "source": [
    "data_df[\"doc_len\"].min(),data_df[\"doc_len\"].max()"
   ]
  },
  {
   "cell_type": "code",
   "execution_count": 40,
   "metadata": {},
   "outputs": [],
   "source": [
    "def hist(data, bins, title=\"hist\", range = None):\n",
    "    fig = plt.figure(figsize=(15, 8))\n",
    "    ax = plt.axes()\n",
    "    plt.ylabel(\"Proportion\")\n",
    "    \n",
    "    # the histogram of the data\n",
    "    n, bins, patches = plt.hist(data, bins, density=False, facecolor='g',rwidth = 1, alpha=0.75)\n",
    "    # histtype : {'bar', 'barstacked', 'step', 'stepfilled'}, optional\n",
    "\n",
    "\n",
    "    plt.xlabel('Length of Docs')\n",
    "    plt.ylabel('Number of Docs')\n",
    "    plt.title('Histogram of Length of Doucment')\n",
    "    plt.show()\n",
    "    return"
   ]
  },
  {
   "cell_type": "code",
   "execution_count": 41,
   "metadata": {},
   "outputs": [
    {
     "data": {
      "image/png": "[encoded data removed]",
      "text/plain": [
       "<Figure size 1080x576 with 1 Axes>"
      ]
     },
     "metadata": {
      "needs_background": "light"
     },
     "output_type": "display_data"
    }
   ],
   "source": [
    "bins = [0,50,100,200,400,600,800,1000,8000]\n",
    "hist(data_df[\"doc_len\"].to_numpy(),bins)"
   ]
  },
  {
   "cell_type": "code",
   "execution_count": null,
   "metadata": {},
   "outputs": [],
   "source": [
    "def get_split(text1):\n",
    "    l_total = []\n",
    "    l_parcial = []\n",
    "    if len(text1.split())//150 >0:\n",
    "        n = len(text1.split())//150\n",
    "    else: \n",
    "        n = 1\n",
    "    for w in range(n):\n",
    "        if w == 0:\n",
    "            l_parcial = text1.split()[:200]\n",
    "            l_total.append(\" \".join(l_parcial))\n",
    "        else:\n",
    "            l_parcial = text1.split()[w*150:w*150 + 200]\n",
    "            l_total.append(\" \".join(l_parcial))\n",
    "    return l_total"
   ]
  },
  {
   "cell_type": "code",
   "execution_count": null,
   "metadata": {},
   "outputs": [],
   "source": [
    "data_df[\"docs_split\"] = data_df[\"docs\"].apply(get_split)"
   ]
  },
  {
   "cell_type": "code",
   "execution_count": null,
   "metadata": {},
   "outputs": [],
   "source": [
    "data_df.head()"
   ]
  },
  {
   "cell_type": "code",
   "execution_count": null,
   "metadata": {
    "collapsed": false,
    "jupyter": {
     "outputs_hidden": false
    },
    "pycharm": {
     "name": "#%%\n"
    }
   },
   "outputs": [],
   "source": [
    "bp = BasicTextPreprocess()\n",
    "\n",
    "bfe = BasicTextFeatureExtraction([\"tfidf\",\"bow\",\"bigram\",[\"tfidf\",\"bigram\"],[\"bow\",\"bigram\"],[\"tfidf\",\"trigram\"],[\"bow\",\"trigram\"],[\"tfidf\",\"bigram\",\"trigram\"]])\n",
    "\n",
    "cv = CrossValidation(n_splits=10, n_repeats=10, random_state=12345)\n",
    "\n",
    "acc = Accuracy()\n",
    "pre = Precision()\n",
    "rec = Recall()\n",
    "f1 = F1Score()\n",
    "\n",
    "svm = LinearSVC(random_state=0, tol=1e-5,max_iter=5000)\n",
    "svm.name = \"svm\"\n",
    "dtree = DecisionTreeClassifier(random_state=0,criterion='entropy')\n",
    "dtree.name=\"dtree\"\n",
    "bnb = BernoulliNB()\n",
    "bnb.name = \"BernoulliNB\"\n",
    "gnb = GaussianNB()\n",
    "gnb.name = \"GaussianNB\"\n",
    "mnb = MultinomialNB()\n",
    "mnb.name = \"MultinomialNB\"\n",
    "rf = RandomForestClassifier(max_depth=2, random_state=0)\n",
    "rf.name = \"RandomForest\"\n",
    "\n",
    "# chi2 feature selection\n",
    "ch2 = SelectKBest(chi2, k=9000)\n",
    "svm_ch2 = Pipeline([('sel', ch2), ('cls', svm)])\n",
    "svm_ch2.name = \"svm+chi2\"\n",
    "\n",
    "# chi2 feature selection\n",
    "dtree_ch2 = Pipeline([('sel', ch2), ('cls', dtree)])\n",
    "dtree_ch2.name = \"dtree+chi2\"\n",
    "\n",
    "# chi2 feature selection\n",
    "bnb_ch2 = Pipeline([('sel', ch2), ('cls', bnb)])\n",
    "bnb_ch2.name = \"BernoulliNB+chi2\"\n",
    "\n",
    "# chi2 feature selection\n",
    "gnb_ch2 = Pipeline([('sel', ch2), ('cls', gnb)])\n",
    "gnb_ch2.name = \"GaussianNB+chi2\"\n",
    "\n",
    "# chi2 feature selection\n",
    "mnb_ch2 = Pipeline([('sel', ch2), ('cls', mnb)])\n",
    "mnb_ch2.name = \"MultinomialNB+chi2\"\n",
    "\n",
    "# chi2 feature selection\n",
    "mnb_rf = Pipeline([('sel', ch2), ('cls', rf)])\n",
    "mnb_rf.name = \"RandomForest+chi2\""
   ]
  },
  {
   "cell_type": "code",
   "execution_count": null,
   "metadata": {},
   "outputs": [],
   "source": [
    "exp = Experiment(\n",
    "    data_df = data_df,\n",
    "    preprocessor = bp,\n",
    "    extractor = bfe,\n",
    "    eval_method=cv,\n",
    "#     models=[svm,dtree,bnb,gnb,mnb,svm_ch2,dtree_ch2,bnb_ch2,gnb_ch2,mnb_ch2],\n",
    "    models = [svm],\n",
    "    metrics=[acc,pre,rec,f1],\n",
    "    result_file = \"../promed_result.csv\",\n",
    "    verbose = True\n",
    ").run()"
   ]
  },
  {
   "cell_type": "code",
   "execution_count": null,
   "metadata": {},
   "outputs": [],
   "source": [
    "data_df.iloc[0].docs"
   ]
  },
  {
   "cell_type": "code",
   "execution_count": null,
   "metadata": {},
   "outputs": [],
   "source": [
    "data_df[\"labels\"].value_counts()"
   ]
  },
  {
   "cell_type": "code",
   "execution_count": null,
   "metadata": {},
   "outputs": [],
   "source": []
  }
 ],
 "metadata": {
  "kernelspec": {
   "display_name": "doc_cls",
   "language": "python",
   "name": "doc_cls"
  },
  "language_info": {
   "codemirror_mode": {
    "name": "ipython",
    "version": 3
   },
   "file_extension": ".py",
   "mimetype": "text/x-python",
   "name": "python",
   "nbconvert_exporter": "python",
   "pygments_lexer": "ipython3",
   "version": "3.8.3"
  }
 },
 "nbformat": 4,
 "nbformat_minor": 4
}
