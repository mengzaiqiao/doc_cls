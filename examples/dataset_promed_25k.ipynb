{
 "cells": [
  {
   "cell_type": "code",
   "execution_count": 1,
   "metadata": {},
   "outputs": [
    {
     "name": "stdout",
     "output_type": "stream",
     "text": [
      "found 3430 files\n",
      "Remain 3377 files after filter_out with alerting\n",
      "found files: 3377\n",
      "found 3430 files\n",
      "Remain 53 files after filter_in with alerting\n",
      "found files: 53\n",
      "found 3862 files\n",
      "found files: 3862\n"
     ]
    },
    {
     "data": {
      "text/plain": [
       "7292"
      ]
     },
     "execution_count": 1,
     "metadata": {},
     "output_type": "execute_result"
    }
   ],
   "source": [
    "## this should load a dataframe, which col1 being the documents and col2 being the labels.\n",
    "import sys\n",
    "sys.path.append(\"../\")\n",
    "from beta_nlp.utils.data_util import get_raw_extended_promed_df\n",
    "data_df_extended = get_raw_extended_promed_df()\n",
    "data_df_extended.name = \"extended_promed\"\n",
    "len(data_df_extended.index)"
   ]
  },
  {
   "cell_type": "code",
   "execution_count": 63,
   "metadata": {},
   "outputs": [],
   "source": [
    "data_df_extended.labels = data_df_extended.labels.apply(lambda x: 1 if x == 2 else x )"
   ]
  },
  {
   "cell_type": "code",
   "execution_count": 8,
   "metadata": {},
   "outputs": [
    {
     "data": {
      "text/plain": [
       "array([1, 0])"
      ]
     },
     "execution_count": 8,
     "metadata": {},
     "output_type": "execute_result"
    }
   ],
   "source": [
    "data_df_extended.labels.unique()"
   ]
  },
  {
   "cell_type": "code",
   "execution_count": 4,
   "metadata": {},
   "outputs": [
    {
     "name": "stdout",
     "output_type": "stream",
     "text": [
      " Find 2225 docs\n",
      " Read 2225 docs\n"
     ]
    }
   ],
   "source": [
    "from os import listdir\n",
    "from os.path import isfile, join\n",
    "import codecs\n",
    "import pandas as pd\n",
    "\n",
    "data_path = \"/home/zm324/workspace/doc_cls/datasets/bbc/\"\n",
    "topics  = listdir(data_path)\n",
    "docfiles = []\n",
    "for topic_path in topics:\n",
    "    docfiles += [join(data_path,topic_path,f) for f in listdir(join(data_path,topic_path)) if isfile(join(data_path,topic_path, f))]\n",
    "print(f\" Find {len(docfiles)} docs\")\n",
    "docs = []\n",
    "for doc_file in docfiles:\n",
    "    with codecs.open(doc_file, \"r\", encoding=\"utf-8\", errors=\"ignore\") as f:\n",
    "        lines = f.readlines()\n",
    "        doc_string = \" \\n \".join(lines)\n",
    "    docs.append(doc_string)\n",
    "print(f\" Read {len(docs)} docs\")\n"
   ]
  },
  {
   "cell_type": "code",
   "execution_count": 10,
   "metadata": {},
   "outputs": [
    {
     "data": {
      "text/plain": [
       "15437"
      ]
     },
     "execution_count": 10,
     "metadata": {},
     "output_type": "execute_result"
    }
   ],
   "source": [
    "len(docfiles)"
   ]
  },
  {
   "cell_type": "code",
   "execution_count": 9,
   "metadata": {},
   "outputs": [
    {
     "name": "stdout",
     "output_type": "stream",
     "text": [
      " Find 11413 docs\n",
      " Find 15437 docs\n",
      " Read 17662 docs\n"
     ]
    }
   ],
   "source": [
    "data_path = \"/home/zm324/workspace/doc_cls/datasets/Reuters21578-Apte-90Cat/training/\"\n",
    "topics  = listdir(data_path)\n",
    "docfiles = []\n",
    "for topic_path in topics:\n",
    "    docfiles += [join(data_path,topic_path,f) for f in listdir(join(data_path,topic_path)) if isfile(join(data_path,topic_path, f))]\n",
    "print(f\" Find {len(docfiles)} docs\")\n",
    "\n",
    "data_path = \"/home/zm324/workspace/doc_cls/datasets/Reuters21578-Apte-90Cat/test/\"\n",
    "topics  = listdir(data_path)\n",
    "for topic_path in topics:\n",
    "    docfiles += [join(data_path,topic_path,f) for f in listdir(join(data_path,topic_path)) if isfile(join(data_path,topic_path, f))]\n",
    "print(f\" Find {len(docfiles)} docs\")\n",
    "\n",
    "for doc_file in docfiles:\n",
    "    with codecs.open(doc_file, \"r\", encoding=\"utf-8\", errors=\"ignore\") as f:\n",
    "        lines = f.readlines()\n",
    "        doc_string = \" \\n \".join(lines)\n",
    "    if len(doc_string)>10:\n",
    "        docs.append(doc_string)\n",
    "print(f\" Read {len(docs)} docs\")"
   ]
  },
  {
   "cell_type": "code",
   "execution_count": 17,
   "metadata": {},
   "outputs": [
    {
     "data": {
      "text/plain": [
       "['ship',\n",
       " 'coffee',\n",
       " 'instal-debt',\n",
       " 'wheat',\n",
       " 'palmkernel',\n",
       " 'oilseed',\n",
       " 'hog',\n",
       " 'propane',\n",
       " 'sugar',\n",
       " 'livestock',\n",
       " 'nickel',\n",
       " 'trade',\n",
       " 'potato',\n",
       " 'pet-chem',\n",
       " 'cpi',\n",
       " 'rapeseed',\n",
       " 'sunseed',\n",
       " 'crude',\n",
       " 'corn',\n",
       " 'tea',\n",
       " 'cotton-oil',\n",
       " 'income',\n",
       " 'dmk',\n",
       " 'soybean',\n",
       " 'castor-oil',\n",
       " 'yen',\n",
       " 'groundnut',\n",
       " 'coconut',\n",
       " 'oat',\n",
       " 'naphtha',\n",
       " 'heat',\n",
       " 'jet',\n",
       " 'lin-oil',\n",
       " 'orange',\n",
       " 'coconut-oil',\n",
       " 'reserves',\n",
       " 'veg-oil',\n",
       " 'lead',\n",
       " 'rand',\n",
       " 'cotton',\n",
       " 'fuel',\n",
       " 'rape-oil',\n",
       " 'soy-meal',\n",
       " 'silver',\n",
       " 'housing',\n",
       " 'carcass',\n",
       " 'retail',\n",
       " 'acq',\n",
       " 'iron-steel',\n",
       " 'dlr',\n",
       " 'rye',\n",
       " 'sun-oil',\n",
       " 'palladium',\n",
       " 'wpi',\n",
       " 'nat-gas',\n",
       " 'copra-cake',\n",
       " 'gas',\n",
       " 'earn',\n",
       " 'strategic-metal',\n",
       " 'rice',\n",
       " 'money-fx',\n",
       " 'jobs',\n",
       " 'barley',\n",
       " 'rubber',\n",
       " 'l-cattle',\n",
       " 'cocoa',\n",
       " 'sun-meal',\n",
       " 'gnp',\n",
       " 'nzdlr',\n",
       " 'cpu',\n",
       " 'lei',\n",
       " 'grain',\n",
       " 'soy-oil',\n",
       " 'tin',\n",
       " 'nkr',\n",
       " 'ipi',\n",
       " 'interest',\n",
       " 'sorghum',\n",
       " 'money-supply',\n",
       " 'groundnut-oil',\n",
       " 'lumber',\n",
       " 'unknown',\n",
       " 'zinc',\n",
       " 'bop',\n",
       " 'meal-feed',\n",
       " 'dfl',\n",
       " 'platinum',\n",
       " 'gold',\n",
       " 'copper',\n",
       " 'alum',\n",
       " 'palm-oil']"
      ]
     },
     "execution_count": 17,
     "metadata": {},
     "output_type": "execute_result"
    }
   ],
   "source": [
    "data_path = \"/home/zm324/workspace/doc_cls/datasets/Reuters21578-Apte-90Cat/training/\"\n",
    "topics  = listdir(data_path)\n",
    "# for topic_path in topics:\n",
    "#     docfiles += [join(data_path,topic_path,f) for f in listdir(join(data_path,topic_path)) if isfile(join(data_path,topic_path, f))]\n",
    "# print(f\" Find {len(docfiles)} docs\")\n",
    "\n",
    "# for doc_file in docfiles:\n",
    "#     with codecs.open(doc_file, \"r\", encoding=\"utf-8\", errors=\"ignore\") as f:\n",
    "#         lines = f.readlines()\n",
    "#         doc_string = \" \\n \".join(lines)\n",
    "#     if len(doc_string)>10:\n",
    "#         docs.append(doc_string)\n",
    "topics"
   ]
  },
  {
   "cell_type": "code",
   "execution_count": 66,
   "metadata": {},
   "outputs": [],
   "source": [
    "labels = [0]*len(docs)"
   ]
  },
  {
   "cell_type": "code",
   "execution_count": 67,
   "metadata": {},
   "outputs": [
    {
     "data": {
      "text/plain": [
       "Index(['docs', 'labels'], dtype='object')"
      ]
     },
     "execution_count": 67,
     "metadata": {},
     "output_type": "execute_result"
    }
   ],
   "source": [
    "data_df_extended.columns"
   ]
  },
  {
   "cell_type": "code",
   "execution_count": 68,
   "metadata": {},
   "outputs": [],
   "source": [
    "df = pd.DataFrame({\"docs\":docs,\"labels\":labels})\n",
    "data_df_25k =  data_df_extended.append(df)"
   ]
  },
  {
   "cell_type": "code",
   "execution_count": 69,
   "metadata": {},
   "outputs": [
    {
     "data": {
      "text/html": [
       "<div>\n",
       "<style scoped>\n",
       "    .dataframe tbody tr th:only-of-type {\n",
       "        vertical-align: middle;\n",
       "    }\n",
       "\n",
       "    .dataframe tbody tr th {\n",
       "        vertical-align: top;\n",
       "    }\n",
       "\n",
       "    .dataframe thead th {\n",
       "        text-align: right;\n",
       "    }\n",
       "</style>\n",
       "<table border=\"1\" class=\"dataframe\">\n",
       "  <thead>\n",
       "    <tr style=\"text-align: right;\">\n",
       "      <th></th>\n",
       "      <th>index</th>\n",
       "      <th>docs</th>\n",
       "      <th>labels</th>\n",
       "    </tr>\n",
       "  </thead>\n",
       "  <tbody>\n",
       "    <tr>\n",
       "      <th>0</th>\n",
       "      <td>4130</td>\n",
       "      <td>\\n \\n \\r\\n \\n CFTC APPROVES MGE CORN SYRUP FUT...</td>\n",
       "      <td>0</td>\n",
       "    </tr>\n",
       "    <tr>\n",
       "      <th>1</th>\n",
       "      <td>1904</td>\n",
       "      <td>Koubek suspended after drugs test\\n \\n \\n \\n S...</td>\n",
       "      <td>0</td>\n",
       "    </tr>\n",
       "    <tr>\n",
       "      <th>2</th>\n",
       "      <td>13904</td>\n",
       "      <td>\\n \\n \\r\\n \\n DANISH CROPS TWO WEEKS BEHIND, O...</td>\n",
       "      <td>0</td>\n",
       "    </tr>\n",
       "    <tr>\n",
       "      <th>3</th>\n",
       "      <td>8056</td>\n",
       "      <td>\\n \\n \\r\\n \\n PHILIP CROSBY &lt;PCRO&gt; SEES LOWER ...</td>\n",
       "      <td>0</td>\n",
       "    </tr>\n",
       "    <tr>\n",
       "      <th>4</th>\n",
       "      <td>14238</td>\n",
       "      <td>\\n \\n \\r\\n \\n IRAQI TROOPS REPORTED PUSHING BA...</td>\n",
       "      <td>0</td>\n",
       "    </tr>\n",
       "    <tr>\n",
       "      <th>...</th>\n",
       "      <td>...</td>\n",
       "      <td>...</td>\n",
       "      <td>...</td>\n",
       "    </tr>\n",
       "    <tr>\n",
       "      <th>24949</th>\n",
       "      <td>11317</td>\n",
       "      <td>\\n \\n \\r\\n \\n U.S. CORN, SORGHUM PAYMENTS 50-5...</td>\n",
       "      <td>0</td>\n",
       "    </tr>\n",
       "    <tr>\n",
       "      <th>24950</th>\n",
       "      <td>5935</td>\n",
       "      <td>\\n \\n \\r\\n \\n AERO SERVICES &lt;AEROE&gt; IN PACT FO...</td>\n",
       "      <td>0</td>\n",
       "    </tr>\n",
       "    <tr>\n",
       "      <th>24951</th>\n",
       "      <td>1517</td>\n",
       "      <td>\\n \\n \\n \\n \\n \\n E. COLI O157, TOURIST AREA -...</td>\n",
       "      <td>1</td>\n",
       "    </tr>\n",
       "    <tr>\n",
       "      <th>24952</th>\n",
       "      <td>15942</td>\n",
       "      <td>\\n \\n \\r\\n \\n LIFETIME CORP &lt;LFT&gt; YEAR MARCH 2...</td>\n",
       "      <td>0</td>\n",
       "    </tr>\n",
       "    <tr>\n",
       "      <th>24953</th>\n",
       "      <td>13020</td>\n",
       "      <td>\\n \\n  INDIANA &lt;PIN&gt; TO REDEEM DOUBLE-DIGIT DE...</td>\n",
       "      <td>0</td>\n",
       "    </tr>\n",
       "  </tbody>\n",
       "</table>\n",
       "<p>24954 rows × 3 columns</p>\n",
       "</div>"
      ],
      "text/plain": [
       "       index                                               docs  labels\n",
       "0       4130  \\n \\n \\r\\n \\n CFTC APPROVES MGE CORN SYRUP FUT...       0\n",
       "1       1904  Koubek suspended after drugs test\\n \\n \\n \\n S...       0\n",
       "2      13904  \\n \\n \\r\\n \\n DANISH CROPS TWO WEEKS BEHIND, O...       0\n",
       "3       8056  \\n \\n \\r\\n \\n PHILIP CROSBY <PCRO> SEES LOWER ...       0\n",
       "4      14238  \\n \\n \\r\\n \\n IRAQI TROOPS REPORTED PUSHING BA...       0\n",
       "...      ...                                                ...     ...\n",
       "24949  11317  \\n \\n \\r\\n \\n U.S. CORN, SORGHUM PAYMENTS 50-5...       0\n",
       "24950   5935  \\n \\n \\r\\n \\n AERO SERVICES <AEROE> IN PACT FO...       0\n",
       "24951   1517  \\n \\n \\n \\n \\n \\n E. COLI O157, TOURIST AREA -...       1\n",
       "24952  15942  \\n \\n \\r\\n \\n LIFETIME CORP <LFT> YEAR MARCH 2...       0\n",
       "24953  13020  \\n \\n  INDIANA <PIN> TO REDEEM DOUBLE-DIGIT DE...       0\n",
       "\n",
       "[24954 rows x 3 columns]"
      ]
     },
     "execution_count": 69,
     "metadata": {},
     "output_type": "execute_result"
    }
   ],
   "source": [
    "from sklearn.utils import shuffle\n",
    "data_df_25k = shuffle(data_df_25k).reset_index()\n",
    "data_df_25k"
   ]
  },
  {
   "cell_type": "code",
   "execution_count": 70,
   "metadata": {},
   "outputs": [
    {
     "data": {
      "text/html": [
       "<div>\n",
       "<style scoped>\n",
       "    .dataframe tbody tr th:only-of-type {\n",
       "        vertical-align: middle;\n",
       "    }\n",
       "\n",
       "    .dataframe tbody tr th {\n",
       "        vertical-align: top;\n",
       "    }\n",
       "\n",
       "    .dataframe thead th {\n",
       "        text-align: right;\n",
       "    }\n",
       "</style>\n",
       "<table border=\"1\" class=\"dataframe\">\n",
       "  <thead>\n",
       "    <tr style=\"text-align: right;\">\n",
       "      <th></th>\n",
       "      <th>index</th>\n",
       "      <th>docs</th>\n",
       "      <th>labels</th>\n",
       "      <th>flag</th>\n",
       "    </tr>\n",
       "  </thead>\n",
       "  <tbody>\n",
       "    <tr>\n",
       "      <th>0</th>\n",
       "      <td>4130</td>\n",
       "      <td>\\n \\n \\r\\n \\n CFTC APPROVES MGE CORN SYRUP FUT...</td>\n",
       "      <td>0</td>\n",
       "      <td>None</td>\n",
       "    </tr>\n",
       "    <tr>\n",
       "      <th>1</th>\n",
       "      <td>1904</td>\n",
       "      <td>Koubek suspended after drugs test\\n \\n \\n \\n S...</td>\n",
       "      <td>0</td>\n",
       "      <td>None</td>\n",
       "    </tr>\n",
       "    <tr>\n",
       "      <th>2</th>\n",
       "      <td>13904</td>\n",
       "      <td>\\n \\n \\r\\n \\n DANISH CROPS TWO WEEKS BEHIND, O...</td>\n",
       "      <td>0</td>\n",
       "      <td>None</td>\n",
       "    </tr>\n",
       "    <tr>\n",
       "      <th>3</th>\n",
       "      <td>8056</td>\n",
       "      <td>\\n \\n \\r\\n \\n PHILIP CROSBY &lt;PCRO&gt; SEES LOWER ...</td>\n",
       "      <td>0</td>\n",
       "      <td>None</td>\n",
       "    </tr>\n",
       "    <tr>\n",
       "      <th>4</th>\n",
       "      <td>14238</td>\n",
       "      <td>\\n \\n \\r\\n \\n IRAQI TROOPS REPORTED PUSHING BA...</td>\n",
       "      <td>0</td>\n",
       "      <td>None</td>\n",
       "    </tr>\n",
       "  </tbody>\n",
       "</table>\n",
       "</div>"
      ],
      "text/plain": [
       "   index                                               docs  labels  flag\n",
       "0   4130  \\n \\n \\r\\n \\n CFTC APPROVES MGE CORN SYRUP FUT...       0  None\n",
       "1   1904  Koubek suspended after drugs test\\n \\n \\n \\n S...       0  None\n",
       "2  13904  \\n \\n \\r\\n \\n DANISH CROPS TWO WEEKS BEHIND, O...       0  None\n",
       "3   8056  \\n \\n \\r\\n \\n PHILIP CROSBY <PCRO> SEES LOWER ...       0  None\n",
       "4  14238  \\n \\n \\r\\n \\n IRAQI TROOPS REPORTED PUSHING BA...       0  None"
      ]
     },
     "execution_count": 70,
     "metadata": {},
     "output_type": "execute_result"
    }
   ],
   "source": [
    "data_df_25k[\"flag\"] = None\n",
    "data_df_25k.head()"
   ]
  },
  {
   "cell_type": "code",
   "execution_count": 71,
   "metadata": {},
   "outputs": [
    {
     "name": "stderr",
     "output_type": "stream",
     "text": [
      "<ipython-input-71-57e883f8af77>:4: SettingWithCopyWarning: \n",
      "A value is trying to be set on a copy of a slice from a DataFrame.\n",
      "Try using .loc[row_indexer,col_indexer] = value instead\n",
      "\n",
      "See the caveats in the documentation: https://pandas.pydata.org/pandas-docs/stable/user_guide/indexing.html#returning-a-view-versus-a-copy\n",
      "  data_df_25k.iloc[:train_n-valid_n][\"flag\"]=\"train\"\n",
      "<ipython-input-71-57e883f8af77>:5: SettingWithCopyWarning: \n",
      "A value is trying to be set on a copy of a slice from a DataFrame.\n",
      "Try using .loc[row_indexer,col_indexer] = value instead\n",
      "\n",
      "See the caveats in the documentation: https://pandas.pydata.org/pandas-docs/stable/user_guide/indexing.html#returning-a-view-versus-a-copy\n",
      "  data_df_25k.iloc[train_n-valid_n:train_n][\"flag\"]=\"valid\"\n",
      "<ipython-input-71-57e883f8af77>:6: SettingWithCopyWarning: \n",
      "A value is trying to be set on a copy of a slice from a DataFrame.\n",
      "Try using .loc[row_indexer,col_indexer] = value instead\n",
      "\n",
      "See the caveats in the documentation: https://pandas.pydata.org/pandas-docs/stable/user_guide/indexing.html#returning-a-view-versus-a-copy\n",
      "  data_df_25k.iloc[train_n:][\"flag\"]=\"test\"\n"
     ]
    }
   ],
   "source": [
    "train_n = int(len(data_df_25k.index)*0.8)\n",
    "test_n = len(data_df_25k.index) - train_n\n",
    "valid_n = train_n - int(train_n*0.8)\n",
    "data_df_25k.iloc[:train_n-valid_n][\"flag\"]=\"train\"\n",
    "data_df_25k.iloc[train_n-valid_n:train_n][\"flag\"]=\"valid\"\n",
    "data_df_25k.iloc[train_n:][\"flag\"]=\"test\""
   ]
  },
  {
   "cell_type": "code",
   "execution_count": 72,
   "metadata": {},
   "outputs": [
    {
     "data": {
      "text/plain": [
       "train    15970\n",
       "test      4991\n",
       "valid     3993\n",
       "Name: flag, dtype: int64"
      ]
     },
     "execution_count": 72,
     "metadata": {},
     "output_type": "execute_result"
    }
   ],
   "source": [
    "data_df_25k.flag.value_counts()"
   ]
  },
  {
   "cell_type": "code",
   "execution_count": 53,
   "metadata": {},
   "outputs": [],
   "source": [
    "data_df_25k = data_df_25k[[\"docs\",\"labels\",\"flag\"]]"
   ]
  },
  {
   "cell_type": "code",
   "execution_count": 54,
   "metadata": {},
   "outputs": [
    {
     "data": {
      "text/html": [
       "<div>\n",
       "<style scoped>\n",
       "    .dataframe tbody tr th:only-of-type {\n",
       "        vertical-align: middle;\n",
       "    }\n",
       "\n",
       "    .dataframe tbody tr th {\n",
       "        vertical-align: top;\n",
       "    }\n",
       "\n",
       "    .dataframe thead th {\n",
       "        text-align: right;\n",
       "    }\n",
       "</style>\n",
       "<table border=\"1\" class=\"dataframe\">\n",
       "  <thead>\n",
       "    <tr style=\"text-align: right;\">\n",
       "      <th></th>\n",
       "      <th>docs</th>\n",
       "      <th>labels</th>\n",
       "      <th>flag</th>\n",
       "    </tr>\n",
       "  </thead>\n",
       "  <tbody>\n",
       "    <tr>\n",
       "      <th>0</th>\n",
       "      <td>Funeral begins for 4 slain Oakland, police...</td>\n",
       "      <td>0</td>\n",
       "      <td>train</td>\n",
       "    </tr>\n",
       "    <tr>\n",
       "      <th>1</th>\n",
       "      <td>\\r\\n \\n Archive Number 19990925.1710 \\r\\n \\n P...</td>\n",
       "      <td>1</td>\n",
       "      <td>train</td>\n",
       "    </tr>\n",
       "    <tr>\n",
       "      <th>2</th>\n",
       "      <td>\\n \\n \\r\\n \\n HUSKY &lt;HYO&gt; SETS MEETING TO APPR...</td>\n",
       "      <td>0</td>\n",
       "      <td>train</td>\n",
       "    </tr>\n",
       "    <tr>\n",
       "      <th>3</th>\n",
       "      <td>\\n \\n  &lt;WAXM&gt; SELLS CONVERTIBLE DEBENTURES\\r\\n...</td>\n",
       "      <td>0</td>\n",
       "      <td>train</td>\n",
       "    </tr>\n",
       "    <tr>\n",
       "      <th>4</th>\n",
       "      <td>\\n \\n \\r\\n \\n U.S. EXPORT INSPECTIONS, IN THOU...</td>\n",
       "      <td>0</td>\n",
       "      <td>train</td>\n",
       "    </tr>\n",
       "  </tbody>\n",
       "</table>\n",
       "</div>"
      ],
      "text/plain": [
       "                                                docs  labels   flag\n",
       "0      Funeral begins for 4 slain Oakland, police...       0  train\n",
       "1  \\r\\n \\n Archive Number 19990925.1710 \\r\\n \\n P...       1  train\n",
       "2  \\n \\n \\r\\n \\n HUSKY <HYO> SETS MEETING TO APPR...       0  train\n",
       "3  \\n \\n  <WAXM> SELLS CONVERTIBLE DEBENTURES\\r\\n...       0  train\n",
       "4  \\n \\n \\r\\n \\n U.S. EXPORT INSPECTIONS, IN THOU...       0  train"
      ]
     },
     "execution_count": 54,
     "metadata": {},
     "output_type": "execute_result"
    }
   ],
   "source": [
    "data_df_25k.head()"
   ]
  },
  {
   "cell_type": "code",
   "execution_count": 104,
   "metadata": {},
   "outputs": [],
   "source": [
    "data_df_25k.to_csv(\"../data/promed_25k.csv\")"
   ]
  },
  {
   "cell_type": "code",
   "execution_count": 100,
   "metadata": {},
   "outputs": [
    {
     "data": {
      "text/plain": [
       "0    4294\n",
       "1     697\n",
       "Name: labels, dtype: int64"
      ]
     },
     "execution_count": 100,
     "metadata": {},
     "output_type": "execute_result"
    }
   ],
   "source": [
    "data_df_25k[data_df_25k[\"flag\"]==\"test\"][\"labels\"].value_counts()"
   ]
  },
  {
   "cell_type": "code",
   "execution_count": 101,
   "metadata": {},
   "outputs": [
    {
     "data": {
      "text/plain": [
       "0    13797\n",
       "1     2172\n",
       "Name: labels, dtype: int64"
      ]
     },
     "execution_count": 101,
     "metadata": {},
     "output_type": "execute_result"
    }
   ],
   "source": [
    "data_df_25k[data_df_25k[\"flag\"]==\"train\"][\"labels\"].value_counts()"
   ]
  },
  {
   "cell_type": "code",
   "execution_count": 102,
   "metadata": {},
   "outputs": [
    {
     "data": {
      "text/plain": [
       "0    3432\n",
       "1     561\n",
       "Name: labels, dtype: int64"
      ]
     },
     "execution_count": 102,
     "metadata": {},
     "output_type": "execute_result"
    }
   ],
   "source": [
    "data_df_25k[data_df_25k[\"flag\"]==\"valid\"][\"labels\"].value_counts()"
   ]
  },
  {
   "cell_type": "code",
   "execution_count": 103,
   "metadata": {},
   "outputs": [
    {
     "data": {
      "text/plain": [
       "24953"
      ]
     },
     "execution_count": 103,
     "metadata": {},
     "output_type": "execute_result"
    }
   ],
   "source": [
    "len(data_df_25k.index)"
   ]
  },
  {
   "cell_type": "code",
   "execution_count": 95,
   "metadata": {},
   "outputs": [
    {
     "data": {
      "text/html": [
       "<div>\n",
       "<style scoped>\n",
       "    .dataframe tbody tr th:only-of-type {\n",
       "        vertical-align: middle;\n",
       "    }\n",
       "\n",
       "    .dataframe tbody tr th {\n",
       "        vertical-align: top;\n",
       "    }\n",
       "\n",
       "    .dataframe thead th {\n",
       "        text-align: right;\n",
       "    }\n",
       "</style>\n",
       "<table border=\"1\" class=\"dataframe\">\n",
       "  <thead>\n",
       "    <tr style=\"text-align: right;\">\n",
       "      <th></th>\n",
       "      <th>index</th>\n",
       "      <th>docs</th>\n",
       "      <th>labels</th>\n",
       "      <th>flag</th>\n",
       "    </tr>\n",
       "  </thead>\n",
       "  <tbody>\n",
       "  </tbody>\n",
       "</table>\n",
       "</div>"
      ],
      "text/plain": [
       "Empty DataFrame\n",
       "Columns: [index, docs, labels, flag]\n",
       "Index: []"
      ]
     },
     "execution_count": 95,
     "metadata": {},
     "output_type": "execute_result"
    }
   ],
   "source": [
    "import numpy as np\n",
    "data_df_25k[data_df_25k[\"docs\"].isnull()]"
   ]
  },
  {
   "cell_type": "code",
   "execution_count": 99,
   "metadata": {},
   "outputs": [
    {
     "data": {
      "text/plain": [
       "index                                                  5208\n",
       "docs      \\n \\n \\r\\n \\n AMERITRUST <AMTR> SELLS TWO MLN ...\n",
       "labels                                                    0\n",
       "flag                                                  train\n",
       "Name: 2180, dtype: object"
      ]
     },
     "execution_count": 99,
     "metadata": {},
     "output_type": "execute_result"
    }
   ],
   "source": [
    "data_df_25k.iloc[2179]"
   ]
  },
  {
   "cell_type": "code",
   "execution_count": 98,
   "metadata": {},
   "outputs": [],
   "source": [
    "data_df_25k = data_df_25k.drop(2179)"
   ]
  },
  {
   "cell_type": "code",
   "execution_count": null,
   "metadata": {},
   "outputs": [],
   "source": []
  }
 ],
 "metadata": {
  "kernelspec": {
   "display_name": "doc_cls",
   "language": "python",
   "name": "doc_cls"
  },
  "language_info": {
   "codemirror_mode": {
    "name": "ipython",
    "version": 3
   },
   "file_extension": ".py",
   "mimetype": "text/x-python",
   "name": "python",
   "nbconvert_exporter": "python",
   "pygments_lexer": "ipython3",
   "version": "3.8.3"
  }
 },
 "nbformat": 4,
 "nbformat_minor": 4
}
