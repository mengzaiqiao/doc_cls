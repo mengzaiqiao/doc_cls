{
 "cells": [
  {
   "cell_type": "code",
   "execution_count": null,
   "metadata": {},
   "outputs": [],
   "source": [
    "config = {\n",
    "    \"pretrained_model\": \"bert-base-uncased\",\n",
    "    \"tokenizer\": \"bert-base-uncased\",\n",
    "    \"max_seq_length\": 256,\n",
    "    \"batch_size\": 16,\n",
    "    \"lr\": 2e-5,\n",
    "    \"epochs\": 10,\n",
    "    \"device\": \"cuda\",\n",
    "    \"gpu_ids\": \"0\",\n",
    "    \"seed\": 2020,\n",
    "    \"fp16\": False,\n",
    "    \"loss_scale\": 0,\n",
    "    \"gradient_accumulation_steps\":1,\n",
    "    \"warmup_proportion\": 0.1,\n",
    "    \"gradient_accumulation_steps\": 1,\n",
    "    \"num_labels\": 2,\n",
    "    \"is_multilabel\": False,\n",
    "    \"valid_metric\": \"f1\",\n",
    "    \"model_save_dir\": \"../checkpoints/bert_uncased_256_biocaster_binary_20200903/\",\n",
    "    \"patience\": 4,\n",
    "}"
   ]
  },
  {
   "cell_type": "code",
   "execution_count": 2,
   "metadata": {},
   "outputs": [
    {
     "name": "stdout",
     "output_type": "stream",
     "text": [
      "parse biocaser data from /home/zm324/workspace/doc_cls/datasets/biocaster/BioCaster.3.xml, docs number:1003, lablels number:1003\n"
     ]
    },
    {
     "data": {
      "text/html": [
       "<div>\n",
       "<style scoped>\n",
       "    .dataframe tbody tr th:only-of-type {\n",
       "        vertical-align: middle;\n",
       "    }\n",
       "\n",
       "    .dataframe tbody tr th {\n",
       "        vertical-align: top;\n",
       "    }\n",
       "\n",
       "    .dataframe thead th {\n",
       "        text-align: right;\n",
       "    }\n",
       "</style>\n",
       "<table border=\"1\" class=\"dataframe\">\n",
       "  <thead>\n",
       "    <tr style=\"text-align: right;\">\n",
       "      <th></th>\n",
       "      <th>docs</th>\n",
       "      <th>labels</th>\n",
       "      <th>source</th>\n",
       "    </tr>\n",
       "  </thead>\n",
       "  <tbody>\n",
       "    <tr>\n",
       "      <th>0</th>\n",
       "      <td>\\nBird Flu Outbreak Drill Spooks Manitoba Town...</td>\n",
       "      <td>0</td>\n",
       "      <td>Biocaster</td>\n",
       "    </tr>\n",
       "    <tr>\n",
       "      <th>1</th>\n",
       "      <td>\\nTyphoid outbreak in Agusan del Sur town unde...</td>\n",
       "      <td>1</td>\n",
       "      <td>Biocaster</td>\n",
       "    </tr>\n",
       "    <tr>\n",
       "      <th>2</th>\n",
       "      <td>\\n  Typhoid Outbreak In Central Nepal November...</td>\n",
       "      <td>1</td>\n",
       "      <td>Biocaster</td>\n",
       "    </tr>\n",
       "  </tbody>\n",
       "</table>\n",
       "</div>"
      ],
      "text/plain": [
       "                                                docs  labels     source\n",
       "0  \\nBird Flu Outbreak Drill Spooks Manitoba Town...       0  Biocaster\n",
       "1  \\nTyphoid outbreak in Agusan del Sur town unde...       1  Biocaster\n",
       "2  \\n  Typhoid Outbreak In Central Nepal November...       1  Biocaster"
      ]
     },
     "execution_count": 2,
     "metadata": {},
     "output_type": "execute_result"
    }
   ],
   "source": [
    "import sys\n",
    "sys.path.append(\"../\")\n",
    "from beta_nlp.utils.data_util import biocaser2text,biocaster2df\n",
    "data_file = \"/home/zm324/workspace/doc_cls/datasets/biocaster/BioCaster.3.xml\"\n",
    "data_df = biocaser2text(data_file)\n",
    "data_df[\"source\"] = \"Biocaster\"\n",
    "data_df.head(3)"
   ]
  },
  {
   "cell_type": "code",
   "execution_count": 3,
   "metadata": {},
   "outputs": [
    {
     "name": "stderr",
     "output_type": "stream",
     "text": [
      "<ipython-input-3-79406d09754d>:6: SettingWithCopyWarning: \n",
      "A value is trying to be set on a copy of a slice from a DataFrame.\n",
      "Try using .loc[row_indexer,col_indexer] = value instead\n",
      "\n",
      "See the caveats in the documentation: https://pandas.pydata.org/pandas-docs/stable/user_guide/indexing.html#returning-a-view-versus-a-copy\n",
      "  data_df.iloc[:train_index][\"flag\"]=\"train\"\n",
      "<ipython-input-3-79406d09754d>:7: SettingWithCopyWarning: \n",
      "A value is trying to be set on a copy of a slice from a DataFrame.\n",
      "Try using .loc[row_indexer,col_indexer] = value instead\n",
      "\n",
      "See the caveats in the documentation: https://pandas.pydata.org/pandas-docs/stable/user_guide/indexing.html#returning-a-view-versus-a-copy\n",
      "  data_df.iloc[train_index:valid_index][\"flag\"]=\"valid\"\n",
      "<ipython-input-3-79406d09754d>:8: SettingWithCopyWarning: \n",
      "A value is trying to be set on a copy of a slice from a DataFrame.\n",
      "Try using .loc[row_indexer,col_indexer] = value instead\n",
      "\n",
      "See the caveats in the documentation: https://pandas.pydata.org/pandas-docs/stable/user_guide/indexing.html#returning-a-view-versus-a-copy\n",
      "  data_df.iloc[valid_index:][\"flag\"]=\"test\"\n"
     ]
    }
   ],
   "source": [
    "from sklearn.utils import shuffle\n",
    "data_df = shuffle(data_df).reset_index()\n",
    "data_df[\"flag\"]=None\n",
    "train_index = int(len(data_df.index)*0.8)\n",
    "valid_index = train_index + round(len(data_df.index)*0.1)\n",
    "data_df.iloc[:train_index][\"flag\"]=\"train\"\n",
    "data_df.iloc[train_index:valid_index][\"flag\"]=\"valid\"\n",
    "data_df.iloc[valid_index:][\"flag\"]=\"test\""
   ]
  },
  {
   "cell_type": "code",
   "execution_count": 4,
   "metadata": {},
   "outputs": [],
   "source": [
    "train_set = data_df[data_df[\"flag\"]==\"train\"]\n",
    "dev_set = data_df[data_df[\"flag\"]==\"valid\"]\n",
    "test_set = data_df[data_df[\"flag\"]==\"test\"]"
   ]
  },
  {
   "cell_type": "code",
   "execution_count": 5,
   "metadata": {},
   "outputs": [
    {
     "data": {
      "text/plain": [
       "(802, 100, 101)"
      ]
     },
     "execution_count": 5,
     "metadata": {},
     "output_type": "execute_result"
    }
   ],
   "source": [
    "len(train_set.index),len(dev_set.index),len(test_set.index)"
   ]
  },
  {
   "cell_type": "code",
   "execution_count": 6,
   "metadata": {},
   "outputs": [
    {
     "name": "stderr",
     "output_type": "stream",
     "text": [
      "Some weights of the model checkpoint at bert-base-uncased were not used when initializing BertForSequenceClassification: ['cls.predictions.bias', 'cls.predictions.transform.dense.weight', 'cls.predictions.transform.dense.bias', 'cls.predictions.decoder.weight', 'cls.seq_relationship.weight', 'cls.seq_relationship.bias', 'cls.predictions.transform.LayerNorm.weight', 'cls.predictions.transform.LayerNorm.bias']\n",
      "- This IS expected if you are initializing BertForSequenceClassification from the checkpoint of a model trained on another task or with another architecture (e.g. initializing a BertForSequenceClassification model from a BertForPretraining model).\n",
      "- This IS NOT expected if you are initializing BertForSequenceClassification from the checkpoint of a model that you expect to be exactly identical (initializing a BertForSequenceClassification model from a BertForSequenceClassification model).\n",
      "Some weights of BertForSequenceClassification were not initialized from the model checkpoint at bert-base-uncased and are newly initialized: ['classifier.weight', 'classifier.bias']\n",
      "You should probably TRAIN this model on a down-stream task to be able to use it for predictions and inference.\n"
     ]
    },
    {
     "name": "stdout",
     "output_type": "stream",
     "text": [
      "The BERT model has 201 different named parameters.\n",
      "\n",
      "==== Embedding Layer ====\n",
      "\n",
      "bert.embeddings.word_embeddings.weight                  (30522, 768)\n",
      "bert.embeddings.position_embeddings.weight                (512, 768)\n",
      "bert.embeddings.token_type_embeddings.weight                (2, 768)\n",
      "bert.embeddings.LayerNorm.weight                              (768,)\n",
      "bert.embeddings.LayerNorm.bias                                (768,)\n",
      "\n",
      "==== First Transformer ====\n",
      "\n",
      "bert.encoder.layer.0.attention.self.query.weight          (768, 768)\n",
      "bert.encoder.layer.0.attention.self.query.bias                (768,)\n",
      "bert.encoder.layer.0.attention.self.key.weight            (768, 768)\n",
      "bert.encoder.layer.0.attention.self.key.bias                  (768,)\n",
      "bert.encoder.layer.0.attention.self.value.weight          (768, 768)\n",
      "bert.encoder.layer.0.attention.self.value.bias                (768,)\n",
      "bert.encoder.layer.0.attention.output.dense.weight        (768, 768)\n",
      "bert.encoder.layer.0.attention.output.dense.bias              (768,)\n",
      "bert.encoder.layer.0.attention.output.LayerNorm.weight        (768,)\n",
      "bert.encoder.layer.0.attention.output.LayerNorm.bias          (768,)\n",
      "bert.encoder.layer.0.intermediate.dense.weight           (3072, 768)\n",
      "bert.encoder.layer.0.intermediate.dense.bias                 (3072,)\n",
      "bert.encoder.layer.0.output.dense.weight                 (768, 3072)\n",
      "bert.encoder.layer.0.output.dense.bias                        (768,)\n",
      "bert.encoder.layer.0.output.LayerNorm.weight                  (768,)\n",
      "bert.encoder.layer.0.output.LayerNorm.bias                    (768,)\n",
      "\n",
      "==== Output Layer ====\n",
      "\n",
      "bert.pooler.dense.weight                                  (768, 768)\n",
      "bert.pooler.dense.bias                                        (768,)\n",
      "classifier.weight                                           (2, 768)\n",
      "classifier.bias                                                 (2,)\n"
     ]
    }
   ],
   "source": [
    "from beta_nlp.models.bert_cls import BertModel\n",
    "cls = BertModel(config)"
   ]
  },
  {
   "cell_type": "code",
   "execution_count": 7,
   "metadata": {},
   "outputs": [
    {
     "data": {
      "text/plain": [
       "(802, 100, 101)"
      ]
     },
     "execution_count": 7,
     "metadata": {},
     "output_type": "execute_result"
    }
   ],
   "source": [
    "len(train_set.index),len(dev_set.index),len(test_set.index)"
   ]
  },
  {
   "cell_type": "code",
   "execution_count": 8,
   "metadata": {
    "scrolled": true
   },
   "outputs": [
    {
     "name": "stderr",
     "output_type": "stream",
     "text": [
      "Epoch:   0%|          | 0/10 [00:00<?, ?it/s]\n",
      "Training:   0%|          | 0/51 [00:00<?, ?it/s]\u001b[A\n",
      "Training:   2%|▏         | 1/51 [00:00<00:15,  3.27it/s]\u001b[A\n",
      "Training:   4%|▍         | 2/51 [00:00<00:14,  3.31it/s]\u001b[A\n",
      "Training:   6%|▌         | 3/51 [00:00<00:14,  3.33it/s]\u001b[A\n",
      "Training:   8%|▊         | 4/51 [00:01<00:13,  3.37it/s]\u001b[A\n",
      "Training:  10%|▉         | 5/51 [00:01<00:13,  3.45it/s]\u001b[A\n",
      "Training:  12%|█▏        | 6/51 [00:01<00:12,  3.51it/s]\u001b[A\n",
      "Training:  14%|█▎        | 7/51 [00:02<00:12,  3.55it/s]\u001b[A\n",
      "Training:  16%|█▌        | 8/51 [00:02<00:12,  3.58it/s]\u001b[A\n",
      "Training:  18%|█▊        | 9/51 [00:02<00:11,  3.61it/s]\u001b[A\n",
      "Training:  20%|█▉        | 10/51 [00:02<00:11,  3.62it/s]\u001b[A\n",
      "Training:  22%|██▏       | 11/51 [00:03<00:11,  3.61it/s]\u001b[A\n",
      "Training:  24%|██▎       | 12/51 [00:03<00:10,  3.64it/s]\u001b[A\n",
      "Training:  25%|██▌       | 13/51 [00:03<00:10,  3.64it/s]\u001b[A\n",
      "Training:  27%|██▋       | 14/51 [00:03<00:10,  3.65it/s]\u001b[A\n",
      "Training:  29%|██▉       | 15/51 [00:04<00:09,  3.65it/s]\u001b[A\n",
      "Training:  31%|███▏      | 16/51 [00:04<00:09,  3.56it/s]\u001b[A\n",
      "Training:  33%|███▎      | 17/51 [00:04<00:09,  3.49it/s]\u001b[A\n",
      "Training:  35%|███▌      | 18/51 [00:05<00:09,  3.46it/s]\u001b[A\n",
      "Training:  37%|███▋      | 19/51 [00:05<00:09,  3.46it/s]\u001b[A\n",
      "Training:  39%|███▉      | 20/51 [00:05<00:08,  3.45it/s]\u001b[A\n",
      "Training:  41%|████      | 21/51 [00:05<00:08,  3.42it/s]\u001b[A\n",
      "Training:  43%|████▎     | 22/51 [00:06<00:08,  3.40it/s]\u001b[A\n",
      "Training:  45%|████▌     | 23/51 [00:06<00:08,  3.43it/s]\u001b[A\n",
      "Training:  47%|████▋     | 24/51 [00:06<00:07,  3.50it/s]\u001b[A\n",
      "Training:  49%|████▉     | 25/51 [00:07<00:07,  3.54it/s]\u001b[A\n",
      "Training:  51%|█████     | 26/51 [00:07<00:07,  3.57it/s]\u001b[A\n",
      "Training:  53%|█████▎    | 27/51 [00:07<00:06,  3.59it/s]\u001b[A\n",
      "Training:  55%|█████▍    | 28/51 [00:07<00:06,  3.61it/s]\u001b[A\n",
      "Training:  57%|█████▋    | 29/51 [00:08<00:06,  3.62it/s]\u001b[A\n",
      "Training:  59%|█████▉    | 30/51 [00:08<00:05,  3.62it/s]\u001b[A\n",
      "Training:  61%|██████    | 31/51 [00:08<00:05,  3.63it/s]\u001b[A\n",
      "Training:  63%|██████▎   | 32/51 [00:09<00:05,  3.63it/s]\u001b[A\n",
      "Training:  65%|██████▍   | 33/51 [00:09<00:04,  3.63it/s]\u001b[A\n",
      "Training:  67%|██████▋   | 34/51 [00:09<00:04,  3.64it/s]\u001b[A\n",
      "Training:  69%|██████▊   | 35/51 [00:09<00:04,  3.64it/s]\u001b[A\n",
      "Training:  71%|███████   | 36/51 [00:10<00:04,  3.65it/s]\u001b[A\n",
      "Training:  73%|███████▎  | 37/51 [00:10<00:03,  3.65it/s]\u001b[A\n",
      "Training:  75%|███████▍  | 38/51 [00:10<00:03,  3.65it/s]\u001b[A\n",
      "Training:  76%|███████▋  | 39/51 [00:10<00:03,  3.65it/s]\u001b[A\n",
      "Training:  78%|███████▊  | 40/51 [00:11<00:03,  3.65it/s]\u001b[A\n",
      "Training:  80%|████████  | 41/51 [00:11<00:02,  3.64it/s]\u001b[A\n",
      "Training:  82%|████████▏ | 42/51 [00:11<00:02,  3.64it/s]\u001b[A\n",
      "Training:  84%|████████▍ | 43/51 [00:12<00:02,  3.64it/s]\u001b[A\n",
      "Training:  86%|████████▋ | 44/51 [00:12<00:01,  3.64it/s]\u001b[A\n",
      "Training:  88%|████████▊ | 45/51 [00:12<00:01,  3.64it/s]\u001b[A\n",
      "Training:  90%|█████████ | 46/51 [00:12<00:01,  3.64it/s]\u001b[A\n",
      "Training:  92%|█████████▏| 47/51 [00:13<00:01,  3.64it/s]\u001b[A\n",
      "Training:  94%|█████████▍| 48/51 [00:13<00:00,  3.64it/s]\u001b[A\n",
      "Training:  96%|█████████▌| 49/51 [00:13<00:00,  3.64it/s]\u001b[A\n",
      "Training: 100%|██████████| 51/51 [00:14<00:00,  3.64it/s]\u001b[A\n",
      "Epoch:   0%|          | 0/10 [00:14<?, ?it/s]\n",
      "Evaluating:   0%|          | 0/7 [00:00<?, ?it/s]\u001b[A\n",
      "Evaluating:  29%|██▊       | 2/7 [00:00<00:00, 11.10it/s]\u001b[A"
     ]
    },
    {
     "name": "stdout",
     "output_type": "stream",
     "text": [
      "Execute [train_an_epoch] method costing 14021.00 ms\n",
      "[Epoch 0] loss: 33.19612929224968\n"
     ]
    },
    {
     "name": "stderr",
     "output_type": "stream",
     "text": [
      "\n",
      "Evaluating:  57%|█████▋    | 4/7 [00:00<00:00, 11.10it/s]\u001b[A\n",
      "Evaluating: 100%|██████████| 7/7 [00:00<00:00, 12.34it/s]\u001b[A\n"
     ]
    },
    {
     "name": "stdout",
     "output_type": "stream",
     "text": [
      "Execute [eval] method costing 570.57 ms\n",
      "------------------------------------------------------------\n",
      "[Epoch 0]performance on validation set\n",
      "+----+-----------+----------+\n",
      "|    | metrics   |   values |\n",
      "|----+-----------+----------|\n",
      "|  0 | accuracy  | 0.88     |\n",
      "|  1 | precision | 0.789474 |\n",
      "|  2 | recall    | 0.882353 |\n",
      "|  3 | f1        | 0.833333 |\n",
      "+----+-----------+----------+\n",
      "------------------------------------------------------------\n"
     ]
    },
    {
     "name": "stderr",
     "output_type": "stream",
     "text": [
      "Epoch:  10%|█         | 1/10 [00:15<02:15, 15.07s/it]\n",
      "Training:   0%|          | 0/51 [00:00<?, ?it/s]\u001b[A\n",
      "Training:   2%|▏         | 1/51 [00:00<00:13,  3.71it/s]\u001b[A\n",
      "Training:   4%|▍         | 2/51 [00:00<00:13,  3.69it/s]\u001b[A\n",
      "Training:   6%|▌         | 3/51 [00:00<00:13,  3.67it/s]\u001b[A\n",
      "Training:   8%|▊         | 4/51 [00:01<00:12,  3.66it/s]\u001b[A\n",
      "Training:  10%|▉         | 5/51 [00:01<00:12,  3.66it/s]\u001b[A\n",
      "Training:  12%|█▏        | 6/51 [00:01<00:12,  3.65it/s]\u001b[A\n",
      "Training:  14%|█▎        | 7/51 [00:01<00:12,  3.64it/s]\u001b[A\n",
      "Training:  16%|█▌        | 8/51 [00:02<00:11,  3.64it/s]\u001b[A\n",
      "Training:  18%|█▊        | 9/51 [00:02<00:11,  3.64it/s]\u001b[A\n",
      "Training:  20%|█▉        | 10/51 [00:02<00:11,  3.63it/s]\u001b[A\n",
      "Training:  22%|██▏       | 11/51 [00:03<00:11,  3.63it/s]\u001b[A\n",
      "Training:  24%|██▎       | 12/51 [00:03<00:10,  3.64it/s]\u001b[A\n",
      "Training:  25%|██▌       | 13/51 [00:03<00:10,  3.64it/s]\u001b[A\n",
      "Training:  27%|██▋       | 14/51 [00:03<00:10,  3.63it/s]\u001b[A\n",
      "Training:  29%|██▉       | 15/51 [00:04<00:09,  3.63it/s]\u001b[A\n",
      "Training:  31%|███▏      | 16/51 [00:04<00:09,  3.63it/s]\u001b[A\n",
      "Training:  33%|███▎      | 17/51 [00:04<00:09,  3.63it/s]\u001b[A\n",
      "Training:  35%|███▌      | 18/51 [00:04<00:09,  3.63it/s]\u001b[A\n",
      "Training:  37%|███▋      | 19/51 [00:05<00:08,  3.63it/s]\u001b[A\n",
      "Training:  39%|███▉      | 20/51 [00:05<00:08,  3.63it/s]\u001b[A\n",
      "Training:  41%|████      | 21/51 [00:05<00:08,  3.62it/s]\u001b[A\n",
      "Training:  43%|████▎     | 22/51 [00:06<00:08,  3.62it/s]\u001b[A\n",
      "Training:  45%|████▌     | 23/51 [00:06<00:07,  3.62it/s]\u001b[A\n",
      "Training:  47%|████▋     | 24/51 [00:06<00:07,  3.62it/s]\u001b[A\n",
      "Training:  49%|████▉     | 25/51 [00:06<00:07,  3.62it/s]\u001b[A\n",
      "Training:  51%|█████     | 26/51 [00:07<00:06,  3.63it/s]\u001b[A\n",
      "Training:  53%|█████▎    | 27/51 [00:07<00:06,  3.63it/s]\u001b[A\n",
      "Training:  55%|█████▍    | 28/51 [00:07<00:06,  3.62it/s]\u001b[A\n",
      "Training:  57%|█████▋    | 29/51 [00:07<00:06,  3.62it/s]\u001b[A\n",
      "Training:  59%|█████▉    | 30/51 [00:08<00:05,  3.62it/s]\u001b[A\n",
      "Training:  61%|██████    | 31/51 [00:08<00:05,  3.62it/s]\u001b[A\n",
      "Training:  63%|██████▎   | 32/51 [00:08<00:05,  3.62it/s]\u001b[A\n",
      "Training:  65%|██████▍   | 33/51 [00:09<00:04,  3.62it/s]\u001b[A\n",
      "Training:  67%|██████▋   | 34/51 [00:09<00:04,  3.62it/s]\u001b[A\n",
      "Training:  69%|██████▊   | 35/51 [00:09<00:04,  3.62it/s]\u001b[A\n",
      "Training:  71%|███████   | 36/51 [00:09<00:04,  3.62it/s]\u001b[A\n",
      "Training:  73%|███████▎  | 37/51 [00:10<00:03,  3.62it/s]\u001b[A\n",
      "Training:  75%|███████▍  | 38/51 [00:10<00:03,  3.62it/s]\u001b[A\n",
      "Training:  76%|███████▋  | 39/51 [00:10<00:03,  3.62it/s]\u001b[A\n",
      "Training:  78%|███████▊  | 40/51 [00:11<00:03,  3.62it/s]\u001b[A\n",
      "Training:  80%|████████  | 41/51 [00:11<00:02,  3.62it/s]\u001b[A\n",
      "Training:  82%|████████▏ | 42/51 [00:11<00:02,  3.62it/s]\u001b[A\n",
      "Training:  84%|████████▍ | 43/51 [00:11<00:02,  3.62it/s]\u001b[A\n",
      "Training:  86%|████████▋ | 44/51 [00:12<00:01,  3.61it/s]\u001b[A\n",
      "Training:  88%|████████▊ | 45/51 [00:12<00:01,  3.61it/s]\u001b[A\n",
      "Training:  90%|█████████ | 46/51 [00:12<00:01,  3.61it/s]\u001b[A\n",
      "Training:  92%|█████████▏| 47/51 [00:12<00:01,  3.61it/s]\u001b[A\n",
      "Training:  94%|█████████▍| 48/51 [00:13<00:00,  3.61it/s]\u001b[A\n",
      "Training:  96%|█████████▌| 49/51 [00:13<00:00,  3.61it/s]\u001b[A\n",
      "Training: 100%|██████████| 51/51 [00:13<00:00,  3.68it/s]\u001b[A\n",
      "Epoch:  10%|█         | 1/10 [00:28<02:15, 15.07s/it]\n",
      "Evaluating:   0%|          | 0/7 [00:00<?, ?it/s]\u001b[A\n",
      "Evaluating:  29%|██▊       | 2/7 [00:00<00:00, 10.99it/s]\u001b[A"
     ]
    },
    {
     "name": "stdout",
     "output_type": "stream",
     "text": [
      "Execute [train_an_epoch] method costing 13857.33 ms\n",
      "[Epoch 1] loss: 19.15534035861492\n"
     ]
    },
    {
     "name": "stderr",
     "output_type": "stream",
     "text": [
      "\n",
      "Evaluating:  57%|█████▋    | 4/7 [00:00<00:00, 10.98it/s]\u001b[A\n",
      "Evaluating: 100%|██████████| 7/7 [00:00<00:00, 12.24it/s]\u001b[A\n"
     ]
    },
    {
     "name": "stdout",
     "output_type": "stream",
     "text": [
      "Execute [eval] method costing 574.89 ms\n",
      "------------------------------------------------------------\n",
      "[Epoch 1]performance on validation set\n",
      "+----+-----------+----------+\n",
      "|    | metrics   |   values |\n",
      "|----+-----------+----------|\n",
      "|  0 | accuracy  | 0.91     |\n",
      "|  1 | precision | 0.903226 |\n",
      "|  2 | recall    | 0.823529 |\n",
      "|  3 | f1        | 0.861538 |\n",
      "+----+-----------+----------+\n",
      "------------------------------------------------------------\n"
     ]
    },
    {
     "name": "stderr",
     "output_type": "stream",
     "text": [
      "Epoch:  20%|██        | 2/10 [00:29<02:00, 15.02s/it]\n",
      "Training:   0%|          | 0/51 [00:00<?, ?it/s]\u001b[A\n",
      "Training:   2%|▏         | 1/51 [00:00<00:13,  3.68it/s]\u001b[A\n",
      "Training:   4%|▍         | 2/51 [00:00<00:13,  3.66it/s]\u001b[A\n",
      "Training:   6%|▌         | 3/51 [00:00<00:13,  3.65it/s]\u001b[A\n",
      "Training:   8%|▊         | 4/51 [00:01<00:12,  3.63it/s]\u001b[A\n",
      "Training:  10%|▉         | 5/51 [00:01<00:12,  3.63it/s]\u001b[A\n",
      "Training:  12%|█▏        | 6/51 [00:01<00:12,  3.62it/s]\u001b[A\n",
      "Training:  14%|█▎        | 7/51 [00:01<00:12,  3.61it/s]\u001b[A\n",
      "Training:  16%|█▌        | 8/51 [00:02<00:11,  3.61it/s]\u001b[A\n",
      "Training:  18%|█▊        | 9/51 [00:02<00:11,  3.61it/s]\u001b[A\n",
      "Training:  20%|█▉        | 10/51 [00:02<00:11,  3.61it/s]\u001b[A\n",
      "Training:  22%|██▏       | 11/51 [00:03<00:11,  3.61it/s]\u001b[A\n",
      "Training:  24%|██▎       | 12/51 [00:03<00:10,  3.61it/s]\u001b[A\n",
      "Training:  25%|██▌       | 13/51 [00:03<00:10,  3.61it/s]\u001b[A\n",
      "Training:  27%|██▋       | 14/51 [00:03<00:10,  3.60it/s]\u001b[A\n",
      "Training:  29%|██▉       | 15/51 [00:04<00:09,  3.61it/s]\u001b[A\n",
      "Training:  31%|███▏      | 16/51 [00:04<00:09,  3.60it/s]\u001b[A\n",
      "Training:  33%|███▎      | 17/51 [00:04<00:09,  3.60it/s]\u001b[A\n",
      "Training:  35%|███▌      | 18/51 [00:04<00:09,  3.60it/s]\u001b[A\n",
      "Training:  37%|███▋      | 19/51 [00:05<00:08,  3.60it/s]\u001b[A\n",
      "Training:  39%|███▉      | 20/51 [00:05<00:08,  3.61it/s]\u001b[A\n",
      "Training:  41%|████      | 21/51 [00:05<00:08,  3.60it/s]\u001b[A\n",
      "Training:  43%|████▎     | 22/51 [00:06<00:08,  3.60it/s]\u001b[A\n",
      "Training:  45%|████▌     | 23/51 [00:06<00:07,  3.60it/s]\u001b[A\n",
      "Training:  47%|████▋     | 24/51 [00:06<00:07,  3.59it/s]\u001b[A\n",
      "Training:  49%|████▉     | 25/51 [00:06<00:07,  3.59it/s]\u001b[A\n",
      "Training:  51%|█████     | 26/51 [00:07<00:06,  3.60it/s]\u001b[A\n",
      "Training:  53%|█████▎    | 27/51 [00:07<00:06,  3.60it/s]\u001b[A\n",
      "Training:  55%|█████▍    | 28/51 [00:07<00:06,  3.60it/s]\u001b[A\n",
      "Training:  57%|█████▋    | 29/51 [00:08<00:06,  3.60it/s]\u001b[A\n",
      "Training:  59%|█████▉    | 30/51 [00:08<00:05,  3.60it/s]\u001b[A\n",
      "Training:  61%|██████    | 31/51 [00:08<00:05,  3.60it/s]\u001b[A\n",
      "Training:  63%|██████▎   | 32/51 [00:08<00:05,  3.60it/s]\u001b[A\n",
      "Training:  65%|██████▍   | 33/51 [00:09<00:05,  3.60it/s]\u001b[A\n",
      "Training:  67%|██████▋   | 34/51 [00:09<00:04,  3.60it/s]\u001b[A\n",
      "Training:  69%|██████▊   | 35/51 [00:09<00:04,  3.60it/s]\u001b[A\n",
      "Training:  71%|███████   | 36/51 [00:09<00:04,  3.59it/s]\u001b[A\n",
      "Training:  73%|███████▎  | 37/51 [00:10<00:03,  3.59it/s]\u001b[A\n",
      "Training:  75%|███████▍  | 38/51 [00:10<00:03,  3.61it/s]\u001b[A\n",
      "Training:  76%|███████▋  | 39/51 [00:10<00:03,  3.60it/s]\u001b[A\n",
      "Training:  78%|███████▊  | 40/51 [00:11<00:03,  3.59it/s]\u001b[A\n",
      "Training:  80%|████████  | 41/51 [00:11<00:02,  3.60it/s]\u001b[A\n",
      "Training:  82%|████████▏ | 42/51 [00:11<00:02,  3.59it/s]\u001b[A\n",
      "Training:  84%|████████▍ | 43/51 [00:11<00:02,  3.59it/s]\u001b[A\n",
      "Training:  86%|████████▋ | 44/51 [00:12<00:01,  3.59it/s]\u001b[A\n",
      "Training:  88%|████████▊ | 45/51 [00:12<00:01,  3.59it/s]\u001b[A\n",
      "Training:  90%|█████████ | 46/51 [00:12<00:01,  3.59it/s]\u001b[A\n",
      "Training:  92%|█████████▏| 47/51 [00:13<00:01,  3.58it/s]\u001b[A\n",
      "Training:  94%|█████████▍| 48/51 [00:13<00:00,  3.58it/s]\u001b[A\n",
      "Training:  96%|█████████▌| 49/51 [00:13<00:00,  3.58it/s]\u001b[A\n",
      "Training: 100%|██████████| 51/51 [00:13<00:00,  3.66it/s]\u001b[A\n",
      "Epoch:  20%|██        | 2/10 [00:43<02:00, 15.02s/it]\n",
      "Evaluating:   0%|          | 0/7 [00:00<?, ?it/s]\u001b[A\n",
      "Evaluating:  29%|██▊       | 2/7 [00:00<00:00, 10.94it/s]\u001b[A"
     ]
    },
    {
     "name": "stdout",
     "output_type": "stream",
     "text": [
      "Execute [train_an_epoch] method costing 13954.47 ms\n",
      "[Epoch 2] loss: 8.631589837372303\n"
     ]
    },
    {
     "name": "stderr",
     "output_type": "stream",
     "text": [
      "\n",
      "Evaluating:  57%|█████▋    | 4/7 [00:00<00:00, 10.92it/s]\u001b[A\n",
      "Evaluating: 100%|██████████| 7/7 [00:00<00:00, 12.15it/s]\u001b[A\n"
     ]
    },
    {
     "name": "stdout",
     "output_type": "stream",
     "text": [
      "Execute [eval] method costing 579.08 ms\n",
      "------------------------------------------------------------\n",
      "[Epoch 2]performance on validation set\n",
      "+----+-----------+----------+\n",
      "|    | metrics   |   values |\n",
      "|----+-----------+----------|\n",
      "|  0 | accuracy  | 0.92     |\n",
      "|  1 | precision | 0.842105 |\n",
      "|  2 | recall    | 0.941176 |\n",
      "|  3 | f1        | 0.888889 |\n",
      "+----+-----------+----------+\n",
      "------------------------------------------------------------\n"
     ]
    },
    {
     "name": "stderr",
     "output_type": "stream",
     "text": [
      "Epoch:  30%|███       | 3/10 [00:44<01:45, 15.00s/it]\n",
      "Training:   0%|          | 0/51 [00:00<?, ?it/s]\u001b[A\n",
      "Training:   2%|▏         | 1/51 [00:00<00:13,  3.67it/s]\u001b[A\n",
      "Training:   4%|▍         | 2/51 [00:00<00:13,  3.64it/s]\u001b[A\n",
      "Training:   6%|▌         | 3/51 [00:00<00:13,  3.62it/s]\u001b[A\n",
      "Training:   8%|▊         | 4/51 [00:01<00:13,  3.61it/s]\u001b[A\n",
      "Training:  10%|▉         | 5/51 [00:01<00:12,  3.61it/s]\u001b[A\n",
      "Training:  12%|█▏        | 6/51 [00:01<00:12,  3.60it/s]\u001b[A\n",
      "Training:  14%|█▎        | 7/51 [00:01<00:12,  3.59it/s]\u001b[A\n",
      "Training:  16%|█▌        | 8/51 [00:02<00:11,  3.60it/s]\u001b[A\n",
      "Training:  18%|█▊        | 9/51 [00:02<00:11,  3.59it/s]\u001b[A\n",
      "Training:  20%|█▉        | 10/51 [00:02<00:11,  3.59it/s]\u001b[A\n",
      "Training:  22%|██▏       | 11/51 [00:03<00:11,  3.59it/s]\u001b[A\n",
      "Training:  24%|██▎       | 12/51 [00:03<00:10,  3.59it/s]\u001b[A\n",
      "Training:  25%|██▌       | 13/51 [00:03<00:10,  3.59it/s]\u001b[A\n",
      "Training:  27%|██▋       | 14/51 [00:03<00:10,  3.60it/s]\u001b[A\n",
      "Training:  29%|██▉       | 15/51 [00:04<00:10,  3.59it/s]\u001b[A\n",
      "Training:  31%|███▏      | 16/51 [00:04<00:09,  3.59it/s]\u001b[A\n",
      "Training:  33%|███▎      | 17/51 [00:04<00:09,  3.59it/s]\u001b[A\n",
      "Training:  35%|███▌      | 18/51 [00:05<00:09,  3.59it/s]\u001b[A\n",
      "Training:  37%|███▋      | 19/51 [00:05<00:08,  3.58it/s]\u001b[A\n",
      "Training:  39%|███▉      | 20/51 [00:05<00:08,  3.58it/s]\u001b[A\n",
      "Training:  41%|████      | 21/51 [00:05<00:08,  3.58it/s]\u001b[A\n",
      "Training:  43%|████▎     | 22/51 [00:06<00:08,  3.59it/s]\u001b[A\n",
      "Training:  45%|████▌     | 23/51 [00:06<00:07,  3.59it/s]\u001b[A\n",
      "Training:  47%|████▋     | 24/51 [00:06<00:07,  3.59it/s]\u001b[A\n",
      "Training:  49%|████▉     | 25/51 [00:06<00:07,  3.59it/s]\u001b[A\n",
      "Training:  51%|█████     | 26/51 [00:07<00:06,  3.59it/s]\u001b[A\n",
      "Training:  53%|█████▎    | 27/51 [00:07<00:06,  3.59it/s]\u001b[A\n",
      "Training:  55%|█████▍    | 28/51 [00:07<00:06,  3.58it/s]\u001b[A\n",
      "Training:  57%|█████▋    | 29/51 [00:08<00:06,  3.59it/s]\u001b[A\n",
      "Training:  59%|█████▉    | 30/51 [00:08<00:05,  3.58it/s]\u001b[A\n",
      "Training:  61%|██████    | 31/51 [00:08<00:05,  3.58it/s]\u001b[A\n",
      "Training:  63%|██████▎   | 32/51 [00:08<00:05,  3.57it/s]\u001b[A\n",
      "Training:  65%|██████▍   | 33/51 [00:09<00:05,  3.57it/s]\u001b[A\n",
      "Training:  67%|██████▋   | 34/51 [00:09<00:04,  3.58it/s]\u001b[A\n",
      "Training:  69%|██████▊   | 35/51 [00:09<00:04,  3.57it/s]\u001b[A\n",
      "Training:  71%|███████   | 36/51 [00:10<00:04,  3.57it/s]\u001b[A\n",
      "Training:  73%|███████▎  | 37/51 [00:10<00:03,  3.57it/s]\u001b[A\n",
      "Training:  75%|███████▍  | 38/51 [00:10<00:03,  3.56it/s]\u001b[A\n",
      "Training:  76%|███████▋  | 39/51 [00:10<00:03,  3.56it/s]\u001b[A\n",
      "Training:  78%|███████▊  | 40/51 [00:11<00:03,  3.57it/s]\u001b[A\n",
      "Training:  80%|████████  | 41/51 [00:11<00:02,  3.56it/s]\u001b[A\n",
      "Training:  82%|████████▏ | 42/51 [00:11<00:02,  3.55it/s]\u001b[A\n",
      "Training:  84%|████████▍ | 43/51 [00:12<00:02,  3.54it/s]\u001b[A\n",
      "Training:  86%|████████▋ | 44/51 [00:12<00:01,  3.54it/s]\u001b[A\n",
      "Training:  88%|████████▊ | 45/51 [00:12<00:01,  3.54it/s]\u001b[A\n",
      "Training:  90%|█████████ | 46/51 [00:12<00:01,  3.53it/s]\u001b[A\n",
      "Training:  92%|█████████▏| 47/51 [00:13<00:01,  3.53it/s]\u001b[A\n",
      "Training:  94%|█████████▍| 48/51 [00:13<00:00,  3.54it/s]\u001b[A\n",
      "Training:  96%|█████████▌| 49/51 [00:13<00:00,  3.53it/s]\u001b[A\n",
      "Training: 100%|██████████| 51/51 [00:14<00:00,  3.63it/s]\u001b[A\n",
      "Epoch:  30%|███       | 3/10 [00:58<01:45, 15.00s/it]\n",
      "Evaluating:   0%|          | 0/7 [00:00<?, ?it/s]\u001b[A\n",
      "Evaluating:  29%|██▊       | 2/7 [00:00<00:00, 10.66it/s]\u001b[A"
     ]
    },
    {
     "name": "stdout",
     "output_type": "stream",
     "text": [
      "Execute [train_an_epoch] method costing 14055.44 ms\n",
      "[Epoch 3] loss: 4.983914364129305\n"
     ]
    },
    {
     "name": "stderr",
     "output_type": "stream",
     "text": [
      "\n",
      "Evaluating:  57%|█████▋    | 4/7 [00:00<00:00, 10.67it/s]\u001b[A\n",
      "Evaluating: 100%|██████████| 7/7 [00:00<00:00, 11.93it/s]\u001b[A\n",
      "Epoch:  40%|████      | 4/10 [00:59<01:29, 14.90s/it]\n",
      "Training:   0%|          | 0/51 [00:00<?, ?it/s]\u001b[A"
     ]
    },
    {
     "name": "stdout",
     "output_type": "stream",
     "text": [
      "Execute [eval] method costing 589.80 ms\n"
     ]
    },
    {
     "name": "stderr",
     "output_type": "stream",
     "text": [
      "\n",
      "Training:   2%|▏         | 1/51 [00:00<00:14,  3.55it/s]\u001b[A\n",
      "Training:   4%|▍         | 2/51 [00:00<00:13,  3.53it/s]\u001b[A\n",
      "Training:   6%|▌         | 3/51 [00:00<00:13,  3.52it/s]\u001b[A\n",
      "Training:   8%|▊         | 4/51 [00:01<00:13,  3.52it/s]\u001b[A\n",
      "Training:  10%|▉         | 5/51 [00:01<00:13,  3.53it/s]\u001b[A\n",
      "Training:  12%|█▏        | 6/51 [00:01<00:12,  3.52it/s]\u001b[A\n",
      "Training:  14%|█▎        | 7/51 [00:01<00:12,  3.51it/s]\u001b[A\n",
      "Training:  16%|█▌        | 8/51 [00:02<00:12,  3.52it/s]\u001b[A\n",
      "Training:  18%|█▊        | 9/51 [00:02<00:11,  3.52it/s]\u001b[A\n",
      "Training:  20%|█▉        | 10/51 [00:02<00:11,  3.52it/s]\u001b[A\n",
      "Training:  22%|██▏       | 11/51 [00:03<00:11,  3.51it/s]\u001b[A\n",
      "Training:  24%|██▎       | 12/51 [00:03<00:11,  3.50it/s]\u001b[A\n",
      "Training:  25%|██▌       | 13/51 [00:03<00:10,  3.51it/s]\u001b[A\n",
      "Training:  27%|██▋       | 14/51 [00:03<00:10,  3.50it/s]\u001b[A\n",
      "Training:  29%|██▉       | 15/51 [00:04<00:10,  3.49it/s]\u001b[A\n",
      "Training:  31%|███▏      | 16/51 [00:04<00:10,  3.49it/s]\u001b[A\n",
      "Training:  33%|███▎      | 17/51 [00:04<00:09,  3.49it/s]\u001b[A\n",
      "Training:  35%|███▌      | 18/51 [00:05<00:09,  3.48it/s]\u001b[A\n",
      "Training:  37%|███▋      | 19/51 [00:05<00:09,  3.50it/s]\u001b[A\n",
      "Training:  39%|███▉      | 20/51 [00:05<00:08,  3.50it/s]\u001b[A\n",
      "Training:  41%|████      | 21/51 [00:05<00:08,  3.49it/s]\u001b[A\n",
      "Training:  43%|████▎     | 22/51 [00:06<00:08,  3.48it/s]\u001b[A\n",
      "Training:  45%|████▌     | 23/51 [00:06<00:08,  3.49it/s]\u001b[A\n",
      "Training:  47%|████▋     | 24/51 [00:06<00:07,  3.49it/s]\u001b[A\n",
      "Training:  49%|████▉     | 25/51 [00:07<00:07,  3.48it/s]\u001b[A\n",
      "Training:  51%|█████     | 26/51 [00:07<00:07,  3.49it/s]\u001b[A\n",
      "Training:  53%|█████▎    | 27/51 [00:07<00:06,  3.48it/s]\u001b[A\n",
      "Training:  55%|█████▍    | 28/51 [00:08<00:06,  3.48it/s]\u001b[A\n",
      "Training:  57%|█████▋    | 29/51 [00:08<00:06,  3.49it/s]\u001b[A\n",
      "Training:  59%|█████▉    | 30/51 [00:08<00:06,  3.49it/s]\u001b[A\n",
      "Training:  61%|██████    | 31/51 [00:08<00:05,  3.48it/s]\u001b[A\n",
      "Training:  63%|██████▎   | 32/51 [00:09<00:05,  3.47it/s]\u001b[A\n",
      "Training:  65%|██████▍   | 33/51 [00:09<00:05,  3.48it/s]\u001b[A\n",
      "Training:  67%|██████▋   | 34/51 [00:09<00:04,  3.48it/s]\u001b[A\n",
      "Training:  69%|██████▊   | 35/51 [00:10<00:04,  3.50it/s]\u001b[A\n",
      "Training:  71%|███████   | 36/51 [00:10<00:04,  3.49it/s]\u001b[A\n",
      "Training:  73%|███████▎  | 37/51 [00:10<00:04,  3.49it/s]\u001b[A\n",
      "Training:  75%|███████▍  | 38/51 [00:10<00:03,  3.47it/s]\u001b[A\n",
      "Training:  76%|███████▋  | 39/51 [00:11<00:03,  3.49it/s]\u001b[A\n",
      "Training:  78%|███████▊  | 40/51 [00:11<00:03,  3.49it/s]\u001b[A\n",
      "Training:  80%|████████  | 41/51 [00:11<00:02,  3.50it/s]\u001b[A\n",
      "Training:  82%|████████▏ | 42/51 [00:12<00:02,  3.49it/s]\u001b[A\n",
      "Training:  84%|████████▍ | 43/51 [00:12<00:02,  3.49it/s]\u001b[A\n",
      "Training:  86%|████████▋ | 44/51 [00:12<00:02,  3.49it/s]\u001b[A\n",
      "Training:  88%|████████▊ | 45/51 [00:12<00:01,  3.49it/s]\u001b[A\n",
      "Training:  90%|█████████ | 46/51 [00:13<00:01,  3.49it/s]\u001b[A\n",
      "Training:  92%|█████████▏| 47/51 [00:13<00:01,  3.49it/s]\u001b[A\n",
      "Training:  94%|█████████▍| 48/51 [00:13<00:00,  3.48it/s]\u001b[A\n",
      "Training:  96%|█████████▌| 49/51 [00:14<00:00,  3.47it/s]\u001b[A\n",
      "Training: 100%|██████████| 51/51 [00:14<00:00,  3.55it/s]\u001b[A\n",
      "Epoch:  40%|████      | 4/10 [01:13<01:29, 14.90s/it]\n",
      "Evaluating:   0%|          | 0/7 [00:00<?, ?it/s]\u001b[A\n",
      "Evaluating:  29%|██▊       | 2/7 [00:00<00:00, 10.51it/s]\u001b[A"
     ]
    },
    {
     "name": "stdout",
     "output_type": "stream",
     "text": [
      "Execute [train_an_epoch] method costing 14377.46 ms\n",
      "[Epoch 4] loss: 4.217663422226906\n"
     ]
    },
    {
     "name": "stderr",
     "output_type": "stream",
     "text": [
      "\n",
      "Evaluating:  57%|█████▋    | 4/7 [00:00<00:00, 10.54it/s]\u001b[A\n",
      "Evaluating: 100%|██████████| 7/7 [00:00<00:00, 11.76it/s]\u001b[A\n",
      "Epoch:  50%|█████     | 5/10 [01:14<01:14, 14.92s/it]\n",
      "Training:   0%|          | 0/51 [00:00<?, ?it/s]\u001b[A"
     ]
    },
    {
     "name": "stdout",
     "output_type": "stream",
     "text": [
      "Execute [eval] method costing 598.27 ms\n"
     ]
    },
    {
     "name": "stderr",
     "output_type": "stream",
     "text": [
      "\n",
      "Training:   2%|▏         | 1/51 [00:00<00:14,  3.54it/s]\u001b[A\n",
      "Training:   4%|▍         | 2/51 [00:00<00:13,  3.53it/s]\u001b[A\n",
      "Training:   6%|▌         | 3/51 [00:00<00:13,  3.52it/s]\u001b[A\n",
      "Training:   8%|▊         | 4/51 [00:01<00:13,  3.52it/s]\u001b[A\n",
      "Training:  10%|▉         | 5/51 [00:01<00:13,  3.49it/s]\u001b[A\n",
      "Training:  12%|█▏        | 6/51 [00:01<00:12,  3.49it/s]\u001b[A\n",
      "Training:  14%|█▎        | 7/51 [00:02<00:12,  3.49it/s]\u001b[A\n",
      "Training:  16%|█▌        | 8/51 [00:02<00:12,  3.49it/s]\u001b[A\n",
      "Training:  18%|█▊        | 9/51 [00:02<00:12,  3.49it/s]\u001b[A\n",
      "Training:  20%|█▉        | 10/51 [00:02<00:11,  3.48it/s]\u001b[A\n",
      "Training:  22%|██▏       | 11/51 [00:03<00:11,  3.48it/s]\u001b[A\n",
      "Training:  24%|██▎       | 12/51 [00:03<00:11,  3.49it/s]\u001b[A\n",
      "Training:  25%|██▌       | 13/51 [00:03<00:10,  3.49it/s]\u001b[A\n",
      "Training:  27%|██▋       | 14/51 [00:04<00:10,  3.49it/s]\u001b[A\n",
      "Training:  29%|██▉       | 15/51 [00:04<00:10,  3.47it/s]\u001b[A\n",
      "Training:  31%|███▏      | 16/51 [00:04<00:10,  3.48it/s]\u001b[A\n",
      "Training:  33%|███▎      | 17/51 [00:04<00:09,  3.49it/s]\u001b[A\n",
      "Training:  35%|███▌      | 18/51 [00:05<00:09,  3.49it/s]\u001b[A\n",
      "Training:  37%|███▋      | 19/51 [00:05<00:09,  3.48it/s]\u001b[A\n",
      "Training:  39%|███▉      | 20/51 [00:05<00:08,  3.48it/s]\u001b[A\n",
      "Training:  41%|████      | 21/51 [00:06<00:08,  3.48it/s]\u001b[A\n",
      "Training:  43%|████▎     | 22/51 [00:06<00:08,  3.49it/s]\u001b[A\n",
      "Training:  45%|████▌     | 23/51 [00:06<00:08,  3.49it/s]\u001b[A\n",
      "Training:  47%|████▋     | 24/51 [00:06<00:07,  3.48it/s]\u001b[A\n",
      "Training:  49%|████▉     | 25/51 [00:07<00:07,  3.49it/s]\u001b[A\n",
      "Training:  51%|█████     | 26/51 [00:07<00:07,  3.49it/s]\u001b[A\n",
      "Training:  53%|█████▎    | 27/51 [00:07<00:06,  3.51it/s]\u001b[A\n",
      "Training:  55%|█████▍    | 28/51 [00:08<00:06,  3.50it/s]\u001b[A\n",
      "Training:  57%|█████▋    | 29/51 [00:08<00:06,  3.49it/s]\u001b[A\n",
      "Training:  59%|█████▉    | 30/51 [00:08<00:06,  3.49it/s]\u001b[A\n",
      "Training:  61%|██████    | 31/51 [00:08<00:05,  3.49it/s]\u001b[A\n",
      "Training:  63%|██████▎   | 32/51 [00:09<00:05,  3.50it/s]\u001b[A\n",
      "Training:  65%|██████▍   | 33/51 [00:09<00:05,  3.49it/s]\u001b[A\n",
      "Training:  67%|██████▋   | 34/51 [00:09<00:04,  3.49it/s]\u001b[A\n",
      "Training:  69%|██████▊   | 35/51 [00:10<00:04,  3.48it/s]\u001b[A\n",
      "Training:  71%|███████   | 36/51 [00:10<00:04,  3.46it/s]\u001b[A\n",
      "Training:  73%|███████▎  | 37/51 [00:10<00:04,  3.48it/s]\u001b[A\n",
      "Training:  75%|███████▍  | 38/51 [00:10<00:03,  3.48it/s]\u001b[A\n",
      "Training:  76%|███████▋  | 39/51 [00:11<00:03,  3.48it/s]\u001b[A\n",
      "Training:  78%|███████▊  | 40/51 [00:11<00:03,  3.48it/s]\u001b[A\n",
      "Training:  80%|████████  | 41/51 [00:11<00:02,  3.49it/s]\u001b[A\n",
      "Training:  82%|████████▏ | 42/51 [00:12<00:02,  3.50it/s]\u001b[A\n",
      "Training:  84%|████████▍ | 43/51 [00:12<00:02,  3.49it/s]\u001b[A\n",
      "Training:  86%|████████▋ | 44/51 [00:12<00:02,  3.49it/s]\u001b[A\n",
      "Training:  88%|████████▊ | 45/51 [00:12<00:01,  3.48it/s]\u001b[A\n",
      "Training:  90%|█████████ | 46/51 [00:13<00:01,  3.48it/s]\u001b[A\n",
      "Training:  92%|█████████▏| 47/51 [00:13<00:01,  3.49it/s]\u001b[A\n",
      "Training:  94%|█████████▍| 48/51 [00:13<00:00,  3.49it/s]\u001b[A\n",
      "Training:  96%|█████████▌| 49/51 [00:14<00:00,  3.49it/s]\u001b[A\n",
      "Training: 100%|██████████| 51/51 [00:14<00:00,  3.54it/s]\u001b[A\n",
      "Epoch:  50%|█████     | 5/10 [01:28<01:14, 14.92s/it]\n",
      "Evaluating:   0%|          | 0/7 [00:00<?, ?it/s]\u001b[A\n",
      "Evaluating:  29%|██▊       | 2/7 [00:00<00:00, 10.57it/s]\u001b[A"
     ]
    },
    {
     "name": "stdout",
     "output_type": "stream",
     "text": [
      "Execute [train_an_epoch] method costing 14401.02 ms\n",
      "[Epoch 5] loss: 0.7324629053473473\n"
     ]
    },
    {
     "name": "stderr",
     "output_type": "stream",
     "text": [
      "\n",
      "Evaluating:  57%|█████▋    | 4/7 [00:00<00:00, 10.57it/s]\u001b[A\n",
      "Evaluating: 100%|██████████| 7/7 [00:00<00:00, 11.74it/s]\u001b[A\n",
      "Epoch:  60%|██████    | 6/10 [01:29<00:59, 14.95s/it]\n",
      "Training:   0%|          | 0/51 [00:00<?, ?it/s]\u001b[A"
     ]
    },
    {
     "name": "stdout",
     "output_type": "stream",
     "text": [
      "Execute [eval] method costing 599.62 ms\n"
     ]
    },
    {
     "name": "stderr",
     "output_type": "stream",
     "text": [
      "\n",
      "Training:   2%|▏         | 1/51 [00:00<00:14,  3.55it/s]\u001b[A\n",
      "Training:   4%|▍         | 2/51 [00:00<00:13,  3.52it/s]\u001b[A\n",
      "Training:   6%|▌         | 3/51 [00:00<00:13,  3.51it/s]\u001b[A\n",
      "Training:   8%|▊         | 4/51 [00:01<00:13,  3.51it/s]\u001b[A\n",
      "Training:  10%|▉         | 5/51 [00:01<00:13,  3.52it/s]\u001b[A\n",
      "Training:  12%|█▏        | 6/51 [00:01<00:12,  3.51it/s]\u001b[A\n",
      "Training:  14%|█▎        | 7/51 [00:02<00:12,  3.50it/s]\u001b[A\n",
      "Training:  16%|█▌        | 8/51 [00:02<00:12,  3.50it/s]\u001b[A\n",
      "Training:  18%|█▊        | 9/51 [00:02<00:12,  3.50it/s]\u001b[A\n",
      "Training:  20%|█▉        | 10/51 [00:02<00:11,  3.48it/s]\u001b[A\n",
      "Training:  22%|██▏       | 11/51 [00:03<00:11,  3.48it/s]\u001b[A\n",
      "Training:  24%|██▎       | 12/51 [00:03<00:11,  3.48it/s]\u001b[A\n",
      "Training:  25%|██▌       | 13/51 [00:03<00:10,  3.48it/s]\u001b[A\n",
      "Training:  27%|██▋       | 14/51 [00:04<00:10,  3.49it/s]\u001b[A\n",
      "Training:  29%|██▉       | 15/51 [00:04<00:10,  3.48it/s]\u001b[A\n",
      "Training:  31%|███▏      | 16/51 [00:04<00:10,  3.49it/s]\u001b[A\n",
      "Training:  33%|███▎      | 17/51 [00:04<00:09,  3.48it/s]\u001b[A\n",
      "Training:  35%|███▌      | 18/51 [00:05<00:09,  3.49it/s]\u001b[A\n",
      "Training:  37%|███▋      | 19/51 [00:05<00:09,  3.50it/s]\u001b[A\n",
      "Training:  39%|███▉      | 20/51 [00:05<00:08,  3.50it/s]\u001b[A\n",
      "Training:  41%|████      | 21/51 [00:06<00:08,  3.48it/s]\u001b[A\n",
      "Training:  43%|████▎     | 22/51 [00:06<00:08,  3.49it/s]\u001b[A\n",
      "Training:  45%|████▌     | 23/51 [00:06<00:08,  3.48it/s]\u001b[A\n",
      "Training:  47%|████▋     | 24/51 [00:06<00:07,  3.50it/s]\u001b[A\n",
      "Training:  49%|████▉     | 25/51 [00:07<00:07,  3.49it/s]\u001b[A\n",
      "Training:  51%|█████     | 26/51 [00:07<00:07,  3.49it/s]\u001b[A\n",
      "Training:  53%|█████▎    | 27/51 [00:07<00:06,  3.49it/s]\u001b[A\n",
      "Training:  55%|█████▍    | 28/51 [00:08<00:06,  3.50it/s]\u001b[A\n",
      "Training:  57%|█████▋    | 29/51 [00:08<00:06,  3.50it/s]\u001b[A\n",
      "Training:  59%|█████▉    | 30/51 [00:08<00:06,  3.49it/s]\u001b[A\n",
      "Training:  61%|██████    | 31/51 [00:08<00:05,  3.50it/s]\u001b[A\n",
      "Training:  63%|██████▎   | 32/51 [00:09<00:05,  3.49it/s]\u001b[A\n",
      "Training:  65%|██████▍   | 33/51 [00:09<00:05,  3.49it/s]\u001b[A\n",
      "Training:  67%|██████▋   | 34/51 [00:09<00:04,  3.50it/s]\u001b[A\n",
      "Training:  69%|██████▊   | 35/51 [00:10<00:04,  3.50it/s]\u001b[A\n",
      "Training:  71%|███████   | 36/51 [00:10<00:04,  3.50it/s]\u001b[A\n",
      "Training:  73%|███████▎  | 37/51 [00:10<00:04,  3.49it/s]\u001b[A\n",
      "Training:  75%|███████▍  | 38/51 [00:10<00:03,  3.49it/s]\u001b[A\n",
      "Training:  76%|███████▋  | 39/51 [00:11<00:03,  3.51it/s]\u001b[A\n",
      "Training:  78%|███████▊  | 40/51 [00:11<00:03,  3.50it/s]\u001b[A\n",
      "Training:  80%|████████  | 41/51 [00:11<00:02,  3.50it/s]\u001b[A\n",
      "Training:  82%|████████▏ | 42/51 [00:12<00:02,  3.50it/s]\u001b[A\n",
      "Training:  84%|████████▍ | 43/51 [00:12<00:02,  3.50it/s]\u001b[A\n",
      "Training:  86%|████████▋ | 44/51 [00:12<00:01,  3.50it/s]\u001b[A\n",
      "Training:  88%|████████▊ | 45/51 [00:12<00:01,  3.50it/s]\u001b[A\n",
      "Training:  90%|█████████ | 46/51 [00:13<00:01,  3.50it/s]\u001b[A\n",
      "Training:  92%|█████████▏| 47/51 [00:13<00:01,  3.49it/s]\u001b[A\n",
      "Training:  94%|█████████▍| 48/51 [00:13<00:00,  3.50it/s]\u001b[A\n",
      "Training:  96%|█████████▌| 49/51 [00:14<00:00,  3.51it/s]\u001b[A\n",
      "Training: 100%|██████████| 51/51 [00:14<00:00,  3.55it/s]\u001b[A\n",
      "Epoch:  60%|██████    | 6/10 [01:43<00:59, 14.95s/it]\n",
      "Evaluating:   0%|          | 0/7 [00:00<?, ?it/s]\u001b[A\n",
      "Evaluating:  29%|██▊       | 2/7 [00:00<00:00, 10.70it/s]\u001b[A"
     ]
    },
    {
     "name": "stdout",
     "output_type": "stream",
     "text": [
      "Execute [train_an_epoch] method costing 14368.47 ms\n",
      "[Epoch 6] loss: 2.3766325041651726\n"
     ]
    },
    {
     "name": "stderr",
     "output_type": "stream",
     "text": [
      "\n",
      "Evaluating:  57%|█████▋    | 4/7 [00:00<00:00, 10.67it/s]\u001b[A\n",
      "Evaluating: 100%|██████████| 7/7 [00:00<00:00, 11.87it/s]\u001b[A\n",
      "Epoch:  60%|██████    | 6/10 [01:44<01:09, 17.42s/it]"
     ]
    },
    {
     "name": "stdout",
     "output_type": "stream",
     "text": [
      "Execute [eval] method costing 592.68 ms\n",
      "Early Stopping. Epoch: 6, best_valid_metric (f1): 0.8888888888888888\n"
     ]
    },
    {
     "name": "stderr",
     "output_type": "stream",
     "text": [
      "\n"
     ]
    }
   ],
   "source": [
    "cls.train(train_set,dev_set)"
   ]
  },
  {
   "cell_type": "code",
   "execution_count": 9,
   "metadata": {},
   "outputs": [
    {
     "name": "stderr",
     "output_type": "stream",
     "text": [
      "Evaluating: 100%|██████████| 7/7 [00:00<00:00, 11.91it/s]"
     ]
    },
    {
     "name": "stdout",
     "output_type": "stream",
     "text": [
      "Execute [eval] method costing 591.10 ms\n"
     ]
    },
    {
     "name": "stderr",
     "output_type": "stream",
     "text": [
      "\n"
     ]
    },
    {
     "data": {
      "text/plain": [
       "{'accuracy': 0.9207920792079208,\n",
       " 'precision': 0.8409090909090909,\n",
       " 'recall': 0.9736842105263158,\n",
       " 'f1': 0.9024390243902439}"
      ]
     },
     "execution_count": 9,
     "metadata": {},
     "output_type": "execute_result"
    }
   ],
   "source": [
    "cls.test(test_set)"
   ]
  },
  {
   "cell_type": "code",
   "execution_count": 10,
   "metadata": {},
   "outputs": [
    {
     "data": {
      "text/html": [
       "<div>\n",
       "<style scoped>\n",
       "    .dataframe tbody tr th:only-of-type {\n",
       "        vertical-align: middle;\n",
       "    }\n",
       "\n",
       "    .dataframe tbody tr th {\n",
       "        vertical-align: top;\n",
       "    }\n",
       "\n",
       "    .dataframe thead th {\n",
       "        text-align: right;\n",
       "    }\n",
       "</style>\n",
       "<table border=\"1\" class=\"dataframe\">\n",
       "  <thead>\n",
       "    <tr style=\"text-align: right;\">\n",
       "      <th></th>\n",
       "      <th>index</th>\n",
       "      <th>docs</th>\n",
       "      <th>labels</th>\n",
       "      <th>source</th>\n",
       "      <th>flag</th>\n",
       "    </tr>\n",
       "  </thead>\n",
       "  <tbody>\n",
       "    <tr>\n",
       "      <th>903</th>\n",
       "      <td>185</td>\n",
       "      <td>\\nArchive Number 20061109.3216 \\nPublished Dat...</td>\n",
       "      <td>1</td>\n",
       "      <td>Biocaster</td>\n",
       "      <td>test</td>\n",
       "    </tr>\n",
       "    <tr>\n",
       "      <th>904</th>\n",
       "      <td>698</td>\n",
       "      <td>\\n  India carries out huge bird cull Health of...</td>\n",
       "      <td>1</td>\n",
       "      <td>Biocaster</td>\n",
       "      <td>test</td>\n",
       "    </tr>\n",
       "    <tr>\n",
       "      <th>905</th>\n",
       "      <td>676</td>\n",
       "      <td>\\nNYT-03-05-96 2001EST\\nBC-TAIWAN-STOCKS-BLOOM...</td>\n",
       "      <td>0</td>\n",
       "      <td>Biocaster</td>\n",
       "      <td>test</td>\n",
       "    </tr>\n",
       "    <tr>\n",
       "      <th>906</th>\n",
       "      <td>630</td>\n",
       "      <td>\\n940112\\nDRS Industries to Change NAME \\n01/1...</td>\n",
       "      <td>0</td>\n",
       "      <td>Biocaster</td>\n",
       "      <td>test</td>\n",
       "    </tr>\n",
       "    <tr>\n",
       "      <th>907</th>\n",
       "      <td>621</td>\n",
       "      <td>\\n930729\\nEconomy: Group of Top Executives Urg...</td>\n",
       "      <td>0</td>\n",
       "      <td>Biocaster</td>\n",
       "      <td>test</td>\n",
       "    </tr>\n",
       "    <tr>\n",
       "      <th>908</th>\n",
       "      <td>191</td>\n",
       "      <td>\\nArchive Number 20060623.1743 \\nPublished Dat...</td>\n",
       "      <td>1</td>\n",
       "      <td>Biocaster</td>\n",
       "      <td>test</td>\n",
       "    </tr>\n",
       "    <tr>\n",
       "      <th>909</th>\n",
       "      <td>283</td>\n",
       "      <td>\\n  Hot weather sends more children to hospita...</td>\n",
       "      <td>0</td>\n",
       "      <td>Biocaster</td>\n",
       "      <td>test</td>\n",
       "    </tr>\n",
       "    <tr>\n",
       "      <th>910</th>\n",
       "      <td>507</td>\n",
       "      <td>\\n  PAKISTAN: Abandoned cinema becomes rehab c...</td>\n",
       "      <td>0</td>\n",
       "      <td>Biocaster</td>\n",
       "      <td>test</td>\n",
       "    </tr>\n",
       "    <tr>\n",
       "      <th>911</th>\n",
       "      <td>511</td>\n",
       "      <td>\\n  TANZANIA: Government waives tax on maize i...</td>\n",
       "      <td>0</td>\n",
       "      <td>Biocaster</td>\n",
       "      <td>test</td>\n",
       "    </tr>\n",
       "  </tbody>\n",
       "</table>\n",
       "</div>"
      ],
      "text/plain": [
       "     index                                               docs  labels  \\\n",
       "903    185  \\nArchive Number 20061109.3216 \\nPublished Dat...       1   \n",
       "904    698  \\n  India carries out huge bird cull Health of...       1   \n",
       "905    676  \\nNYT-03-05-96 2001EST\\nBC-TAIWAN-STOCKS-BLOOM...       0   \n",
       "906    630  \\n940112\\nDRS Industries to Change NAME \\n01/1...       0   \n",
       "907    621  \\n930729\\nEconomy: Group of Top Executives Urg...       0   \n",
       "908    191  \\nArchive Number 20060623.1743 \\nPublished Dat...       1   \n",
       "909    283  \\n  Hot weather sends more children to hospita...       0   \n",
       "910    507  \\n  PAKISTAN: Abandoned cinema becomes rehab c...       0   \n",
       "911    511  \\n  TANZANIA: Government waives tax on maize i...       0   \n",
       "\n",
       "        source  flag  \n",
       "903  Biocaster  test  \n",
       "904  Biocaster  test  \n",
       "905  Biocaster  test  \n",
       "906  Biocaster  test  \n",
       "907  Biocaster  test  \n",
       "908  Biocaster  test  \n",
       "909  Biocaster  test  \n",
       "910  Biocaster  test  \n",
       "911  Biocaster  test  "
      ]
     },
     "execution_count": 10,
     "metadata": {},
     "output_type": "execute_result"
    }
   ],
   "source": [
    "test_set.iloc[1:10]"
   ]
  },
  {
   "cell_type": "code",
   "execution_count": 11,
   "metadata": {},
   "outputs": [
    {
     "name": "stderr",
     "output_type": "stream",
     "text": [
      "Evaluating: 100%|██████████| 1/1 [00:00<00:00, 19.49it/s]"
     ]
    },
    {
     "name": "stdout",
     "output_type": "stream",
     "text": [
      "Execute [predict] method costing 103.16 ms\n"
     ]
    },
    {
     "name": "stderr",
     "output_type": "stream",
     "text": [
      "\n"
     ]
    },
    {
     "data": {
      "text/plain": [
       "array([1, 1, 0, 0, 0, 1, 1, 0, 0])"
      ]
     },
     "execution_count": 11,
     "metadata": {},
     "output_type": "execute_result"
    }
   ],
   "source": [
    "cls.predict(test_set.iloc[1:10])"
   ]
  },
  {
   "cell_type": "code",
   "execution_count": null,
   "metadata": {},
   "outputs": [],
   "source": []
  },
  {
   "cell_type": "code",
   "execution_count": null,
   "metadata": {},
   "outputs": [],
   "source": []
  }
 ],
 "metadata": {
  "kernelspec": {
   "display_name": "doc_cls",
   "language": "python",
   "name": "doc_cls"
  },
  "language_info": {
   "codemirror_mode": {
    "name": "ipython",
    "version": 3
   },
   "file_extension": ".py",
   "mimetype": "text/x-python",
   "name": "python",
   "nbconvert_exporter": "python",
   "pygments_lexer": "ipython3",
   "version": "3.8.3"
  }
 },
 "nbformat": 4,
 "nbformat_minor": 4
}
