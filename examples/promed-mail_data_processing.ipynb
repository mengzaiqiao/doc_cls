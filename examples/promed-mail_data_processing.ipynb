{
 "cells": [
  {
   "cell_type": "markdown",
   "metadata": {},
   "source": [
    "# read ProMed-mail documents "
   ]
  },
  {
   "cell_type": "code",
   "execution_count": null,
   "metadata": {},
   "outputs": [],
   "source": [
    "import nltk\n",
    "nltk.download('punkt')\n",
    "nltk.download('stopwords')"
   ]
  },
  {
   "cell_type": "code",
   "execution_count": 39,
   "metadata": {},
   "outputs": [],
   "source": [
    "from torchtext.data.utils import get_tokenizer\n",
    "from nltk.corpus import stopwords\n",
    "from os import listdir\n",
    "from os.path import isfile, join\n",
    "\n",
    "def get_promed_data(data_path,stopwords=True,tokenizer=None,lower=True):\n",
    "    docfiles = [f for f in listdir(data_path) if isfile(join(data_path, f))]\n",
    "    print(f\"found files: {len(docfiles)}\")\n",
    "    \n",
    "    if stopwords:\n",
    "        from nltk.corpus import stopwords\n",
    "        stopwords = stopwords.words('english')\n",
    "    \n",
    "    if not tokenizer:\n",
    "        tokenizer = get_tokenizer(\"basic_english\")\n",
    "        \n",
    "    docs = []    \n",
    "    for doc_file in docfiles:\n",
    "        file = data_path+doc_file\n",
    "        with open(file) as f:\n",
    "            lines = f.readlines()\n",
    "            doc_string = \" \\n \".join(lines)\n",
    "            if lower:\n",
    "                doc_string = doc_string.lower() # use only lowercase\n",
    "#             print(doc_string)\n",
    "            tokens = tokenizer(doc_string)\n",
    "            if stopwords:\n",
    "                tokens = [w for w in tokens if (w not in stopwords) and (w.isalnum())]\n",
    "        docs.append(tokens)\n",
    "    return docs"
   ]
  },
  {
   "cell_type": "code",
   "execution_count": 1,
   "metadata": {},
   "outputs": [
    {
     "name": "stdout",
     "output_type": "stream",
     "text": [
      "found files: 2405\n"
     ]
    }
   ],
   "source": [
    "from data_util import get_promed_data\n",
    "data_path = \"../data/promed_data/stripped/\"\n",
    "docs = get_promed_data(data_path)"
   ]
  },
  {
   "cell_type": "code",
   "execution_count": null,
   "metadata": {},
   "outputs": [],
   "source": [
    "from os import tokenizer\n",
    "from os.path import isfile, join\n",
    "data_path = \"../data/promed_data/stripped/\"\n",
    "docfiles = [f for f in listdir(data_path) if isfile(join(data_path, f))]"
   ]
  },
  {
   "cell_type": "code",
   "execution_count": null,
   "metadata": {},
   "outputs": [],
   "source": [
    "from nltk.tokenize import word_tokenize\n",
    "\n",
    "\n",
    "docs = []\n",
    "for doc_file in docfiles:\n",
    "    file = data_path+doc_file\n",
    "    with open(file) as f:\n",
    "        lines = f.readlines()\n",
    "        doc_string = \"\".join(lines)\n",
    "        doc_string = doc_string.lower() # use only lowercase\n",
    "#         doc_string = [w for w in doc_string if (w not in stopwords)]\n",
    "#         doc_string = \"\".join(doc_string)\n",
    "        tokens = word_tokenize(doc_string)\n",
    "        tokens = [w for w in tokens if (w not in stopwords) and (w.isalnum())]\n",
    "    docs.append(tokens)"
   ]
  },
  {
   "cell_type": "markdown",
   "metadata": {},
   "source": [
    "### pytorch tokenizer|"
   ]
  },
  {
   "cell_type": "code",
   "execution_count": null,
   "metadata": {},
   "outputs": [],
   "source": [
    "from torchtext.data.utils import get_tokenizer\n",
    "from nltk.corpus import stopwords\n",
    "stopwords = stopwords.words('english')\n",
    "tokenizer = get_tokenizer(\"basic_english\")\n",
    "\n",
    "docs = []\n",
    "for doc_file in docfiles:\n",
    "    file = data_path+doc_file\n",
    "    with open(file) as f:\n",
    "        lines = f.readlines()\n",
    "        doc_string = \"\".join(lines)\n",
    "        doc_string = doc_string.lower() # use only lowercase\n",
    "#         doc_string = [w for w in doc_string if (w not in stopwords)]\n",
    "#         doc_string = \"\".join(doc_string)\n",
    "        tokens = tokenizer(doc_string)\n",
    "        tokens = [w for w in tokens if (w not in stopwords) and (w.isalnum())]\n",
    "        break\n",
    "#     docs.append(tokens)"
   ]
  },
  {
   "cell_type": "code",
   "execution_count": null,
   "metadata": {},
   "outputs": [],
   "source": [
    "tokens"
   ]
  },
  {
   "cell_type": "code",
   "execution_count": null,
   "metadata": {},
   "outputs": [],
   "source": [
    "docs = []\n",
    "titles = []\n",
    "for doc_file in docfiles:\n",
    "    file = data_path+doc_file\n",
    "    with open(file) as f:\n",
    "        for line in f.readlines():\n",
    "            print(line)\n",
    "            break"
   ]
  },
  {
   "cell_type": "code",
   "execution_count": null,
   "metadata": {},
   "outputs": [],
   "source": []
  }
 ],
 "metadata": {
  "kernelspec": {
   "display_name": "doc_cls",
   "language": "python",
   "name": "doc_cls"
  },
  "language_info": {
   "codemirror_mode": {
    "name": "ipython",
    "version": 3
   },
   "file_extension": ".py",
   "mimetype": "text/x-python",
   "name": "python",
   "nbconvert_exporter": "python",
   "pygments_lexer": "ipython3",
   "version": "3.8.3"
  }
 },
 "nbformat": 4,
 "nbformat_minor": 4
}
