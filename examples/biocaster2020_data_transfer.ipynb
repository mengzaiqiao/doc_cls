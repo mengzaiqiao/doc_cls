{
 "cells": [
  {
   "cell_type": "code",
   "execution_count": 1,
   "metadata": {},
   "outputs": [],
   "source": [
    "import os\n",
    "passphrase = \"08364axjhf884127\"\n",
    "# file = \"bc_news.30842.3619.gpg\"\n",
    "# cmd = f'cat {file} | gpg –passphrase {passphrase} –batch –quiet –yes -c > {file.replace(\".gpg\",\".xml\")}'\n",
    "# os.system(cmd)"
   ]
  },
  {
   "cell_type": "code",
   "execution_count": 5,
   "metadata": {},
   "outputs": [],
   "source": [
    "from os import listdir\n",
    "from os.path import isfile, join\n",
    "mypath = \"../data/biocaster2020/\"\n",
    "onlyfiles = [f for f in listdir(mypath) if isfile(join(mypath, f))]\n",
    "# file = mypath+onlyfiles[0]"
   ]
  },
  {
   "cell_type": "code",
   "execution_count": 6,
   "metadata": {},
   "outputs": [],
   "source": [
    "for file in onlyfiles:\n",
    "    file = mypath+file\n",
    "    o_file = file.replace(\".gpg\",\".xml\")\n",
    "#     get_FileSize(file)\n",
    "    cmd = f\"gpg --batch --yes --passphrase=\\\"{passphrase}\\\" -o {o_file} -d {file}\"\n",
    "    os.system(cmd)\n",
    "#     get_FileSize(o_file)"
   ]
  },
  {
   "cell_type": "code",
   "execution_count": 7,
   "metadata": {},
   "outputs": [
    {
     "data": {
      "text/plain": [
       "39942"
      ]
     },
     "execution_count": 7,
     "metadata": {},
     "output_type": "execute_result"
    }
   ],
   "source": [
    "# onlyfiles = [f for f in listdir(mypath) if isfile(join(mypath, f))]\n",
    "# for files in onlyfiles:\n",
    "#     if \".xml\" in files:\n",
    "#         os.system(f\"rm {mypath+files}\")\n",
    "onlyfiles = [f for f in listdir(mypath) if isfile(join(mypath, f))]\n",
    "len(onlyfiles)"
   ]
  },
  {
   "cell_type": "code",
   "execution_count": null,
   "metadata": {},
   "outputs": [],
   "source": [
    "def get_FileSize(filePath):\n",
    "    fsize = os.path.getsize(filePath)\n",
    "    fsize = fsize/float(1024)\n",
    "    fsize = round(fsize,4)\n",
    "    print(f\"{filePath}:{fsize}KB\")\n",
    "    return fsize"
   ]
  },
  {
   "cell_type": "code",
   "execution_count": 8,
   "metadata": {},
   "outputs": [],
   "source": [
    "onlyfiles = [f for f in listdir(mypath) if isfile(join(mypath, f))]"
   ]
  },
  {
   "cell_type": "code",
   "execution_count": 9,
   "metadata": {},
   "outputs": [
    {
     "data": {
      "text/plain": [
       "['bc_news.6583.1485.gpg',\n",
       " 'bc_news.5057.1725.xml',\n",
       " 'bc_news.9636.1276.xml',\n",
       " 'bc_news.4789.4565.xml',\n",
       " 'bc_news.4843.8448.xml',\n",
       " 'bc_news.24746.3112.xml',\n",
       " 'bc_news.4843.8729.gpg',\n",
       " 'bc_news.4789.4991.xml',\n",
       " 'bc_news.6734.3373.xml',\n",
       " 'bc_news.4843.7362.xml',\n",
       " 'bc_news.15336.1304.xml',\n",
       " 'bc_news.6583.1107.gpg',\n",
       " 'bc_news.5297.2501.xml',\n",
       " 'bc_news.24746.3833.gpg',\n",
       " 'bc_news.24746.5199.xml',\n",
       " 'bc_news.24746.1815.gpg',\n",
       " 'bc_news.15336.1572.gpg',\n",
       " 'bc_news.4843.1994.xml',\n",
       " 'bc_news.4789.1617.gpg']"
      ]
     },
     "execution_count": 9,
     "metadata": {},
     "output_type": "execute_result"
    }
   ],
   "source": [
    "onlyfiles[1:20]"
   ]
  },
  {
   "cell_type": "code",
   "execution_count": 10,
   "metadata": {},
   "outputs": [
    {
     "name": "stdout",
     "output_type": "stream",
     "text": [
      "<?xml version=\"1.0\" encoding=\"UTF-8\" ?>\n",
      "<doc>\n",
      "<header version=\"1.1\">\n",
      "\t<meta name=\"DC.subject\" content=\"disease_outbreak\"/>\n",
      "\t<meta name=\"DC.accessRights\" content=\"This file has been produced as part of the EPI-AI project at the University of Cambridge. It is not intended for distribution outside of the University of Cambridge (except for cooperating researchers and annotators with the project) as it contains copyrighted material. If you have received this file and are not a member of the EPI-AI project then please report this to Nigel Collier (nhc30@cam.ac.uk) at the University of Cambridge\"/>\n",
      "\t<meta name=\"DC.rights\" content=\"2020 Google Inc.\"/>\n",
      "\t<meta name=\"DC.identifier\" content=\"https://www.sciencedaily.com/releases/2017/08/170815135050.htm\"/>\n",
      "\t<meta name=\"DC.publisher\" content=\"Google_News\"/>\n",
      "\t<meta name=\"PublisherDescription\" content=\"Google News\"/>\n",
      "\t<meta name=\"DC.source\" content=\"\"/>\n",
      "\t<meta name=\"DC.language\" content=\"en\"/>\n",
      "\t<meta name=\"DC.title\" content=\"Compounds in desert creosote bush could treat giardia, &apos;brain-eating&apos; amoeba infections - Science Daily\"/>\n",
      "\t<meta name=\"DC.creator\" content=\"\"/>\n",
      "\t<meta name=\"DC.keywords\" content=\"\"/>\n",
      "\t<meta name=\"DC.date\" content=\"Tue, 15 Aug 2017 08:00:00 +0100\"/>\n",
      "\t<meta name=\"ISO_date\" content=\"2017-08-15\"/>\n",
      "\t<meta name=\"DC.dateAccepted\" content=\"Thu, 30 Jul 2020 12:16:24 +0100\"/>\n",
      "\t<meta name=\"ISO_dateAccepted\" content=\"2020-07-30\"/>\n",
      "\t<meta name=\"DC.type\" content=\"text\"/>\n",
      "\t<meta name=\"DC.description\" content=\"Compounds in desert creosote bush could treat giardia, &apos;brain-eating&apos; amoeba infections Science Daily\"/>\n",
      "\t<meta name=\"Restricted\" content=\"no\"/>\n",
      "\t<meta name=\"Genre\" content=\"press_news_report\"/>\n",
      "\t<meta name=\"Country\" content=\"\"/>\n",
      "\t<meta name=\"Attribution\" content=\"Google News\"/>\n",
      "</header>\n",
      "<text>\n",
      "</text>\n",
      "<relevancy>\n",
      "<category name=\"disease_outbreak\" score=\"1\"/>\n",
      "</relevancy>\n",
      "<sem1>\n",
      "<basic_entity>\n",
      "</basic_entity>\n",
      "<categories>\n",
      "<BioCaster.category name=\"animal\"/>\n",
      "<BioCaster.category name=\"disease\"/>\n",
      "<BioCaster.category name=\"location\"/>\n",
      "<BioCaster.category name=\"organization\"/>\n",
      "<BioCaster.category name=\"person\"/>\n",
      "<BioCaster.category name=\"time\"/>\n",
      "</categories>\n",
      "<semlex>\n",
      "<BioCaster.semlex name=\"animal\" content=\"Bear\"/>\n",
      "<BioCaster.semlex name=\"animal\" content=\"animal\"/>\n",
      "<BioCaster.semlex name=\"animal\" content=\"bear\"/>\n",
      "<BioCaster.semlex name=\"disease\" content=\"giardiasis\"/>\n",
      "<BioCaster.semlex name=\"location\" content=\"Berlin\"/>\n",
      "<BioCaster.semlex name=\"location\" content=\"California\"/>\n",
      "<BioCaster.semlex name=\"location\" content=\"Colorado\"/>\n",
      "<BioCaster.semlex name=\"location\" content=\"Mexico\"/>\n",
      "<BioCaster.semlex name=\"location\" content=\"San Diego\"/>\n",
      "<BioCaster.semlex name=\"location\" content=\"Southwestern United States\"/>\n",
      "<BioCaster.semlex name=\"organization\" content=\"World Health Organization\"/>\n",
      "<BioCaster.semlex name=\"person\" content=\"1 million cases\"/>\n",
      "<BioCaster.semlex name=\"person\" content=\"95 percent fatality\"/>\n",
      "<BioCaster.semlex name=\"person\" content=\"Marine\"/>\n",
      "<BioCaster.semlex name=\"person\" content=\"case\"/>\n",
      "<BioCaster.semlex name=\"person\" content=\"deaths\"/>\n",
      "<BioCaster.semlex name=\"person\" content=\"people\"/>\n",
      "<BioCaster.semlex name=\"time\" content=\"15 August 2017\"/>\n",
      "<BioCaster.semlex name=\"time\" content=\"August 15\"/>\n",
      "<BioCaster.semlex name=\"time\" content=\"August 9\"/>\n",
      "<BioCaster.semlex name=\"time\" content=\"July 30\"/>\n",
      "</semlex>\n",
      "</sem1>\n",
      "<sem2>\n",
      "case(1 million cases)\n",
      "disease(giardiasis)\n",
      "case(1 million cases)\n",
      "disease(giardiasis)\n",
      "province(California)\n",
      "province(California)\n",
      "province(Colorado)\n",
      "disease(giardiasis)\n",
      "time(August 15)\n",
      "time(August 9)\n",
      "article_date(August 15)\n",
      "species(human)\n",
      "airport_city(true)\n",
      "airport_city(true)\n",
      "airport_city(true)\n",
      "province(California)\n",
      "airport_city(true)\n",
      "time(15 August 2017)\n",
      "province(California)\n",
      "airport_city(true)\n",
      "time(August 15)\n",
      "province(California)\n",
      "time(July 30)\n",
      "airport_city(true)\n",
      "time(July 30)\n",
      "province(Berlin)\n",
      "city(Berlin)\n",
      "major_city(true)\n",
      "species(human)\n",
      "</sem2>\n",
      "<sem3>\n",
      "<EVENT name=\"OUTBREAK\">\n",
      "\t<SLOT name=\"HAS_DISEASE\" type=\"DISEASE\" content=\"Giardiasis\" alt=\"\" root_term=\"Giardiasis\" bid=\"\"/>\n",
      "\t<SLOT name=\"HAS_LOCATION.COUNTRY\" type=\"LOCATION\" content=\"United States of America\" alt=\"\" root_term=\"United States of America\" bid=\"\"/>\n",
      "\t<SLOT name=\"HAS_LOCATION.PROVINCE\" type=\"LOCATION\" content=\"California\" alt=\"\" root_term=\"\" bid=\"\"/>\n",
      "\t<SLOT name=\"HAS_LOCATION.OTHER\" type=\"LOCATION\" content=\"\"/>\n",
      "\t<SLOT name=\"HAS_AGENT\" type=\"micro_organism\" content=\"Giardia lamblia\" alt=\"\" root_term=\"\" bid=\"\"/>\n",
      "\t<SLOT name=\"HAS_SPECIES\" type=\"animal\" content=\"human\" alt=\"\" root_term=\"\" bid=\"\"/>\n",
      "\t<SLOT name=\"TIME.relative\" type=\"string\" content=\"\"/>\n",
      "\t<SLOT name=\"INTERNATIONAL_TRAVEL\" type=\"Boolean\" content=\"false\"/>\n",
      "\t<SLOT name=\"DELIBERATE_RELEASE\" type=\"Boolean\" content=\"false\"/>\n",
      "\t<SLOT name=\"ZOONOSIS\" type=\"Boolean\" content=\"false\"/>\n",
      "\t<SLOT name=\"DRUG_RESISTANCE\" type=\"Boolean\" content=\"false\"/>\n",
      "\t<SLOT name=\"FOOD_CONTAMINATION\" type=\"Boolean\" content=\"false\"/>\n",
      "\t<SLOT name=\"HOSPITAL_WORKER\" type=\"Boolean\" content=\"false\"/>\n",
      "\t<SLOT name=\"FARM_WORKER\" type=\"Boolean\" content=\"false\"/>\n",
      "\t<SLOT name=\"MILITARY_WORKER\" type=\"Boolean\" content=\"false\"/>\n",
      "\t<SLOT name=\"MALFORMED_PRODUCT\" type=\"Boolean\" content=\"false\"/>\n",
      "\t<SLOT name=\"NEW_TYPE_AGENT\" type=\"Boolean\" content=\"false\"/>\n",
      "\t<SLOT name=\"PANIC\" type=\"Boolean\" content=\"false\"/>\n",
      "\t<SLOT name=\"DESTRUCTIVE_BEHAVIOUR\" type=\"Boolean\" content=\"false\"/>\n",
      "\t<SLOT name=\"ECONOMIC_DISRUPTION\" type=\"Boolean\" content=\"false\"/>\n",
      "\t<SLOT name=\"SERVICE_DISRUPTION\" type=\"Boolean\" content=\"false\"/>\n",
      "\t<SLOT name=\"MAJOR_CITY\" type=\"Boolean\" content=\"true\"/>\n",
      "\t<SLOT name=\"AIRPORT_CITY\" type=\"Boolean\" content=\"true\"/>\n",
      "\t<SLOT name=\"CATEGORY_A\" type=\"Boolean\" content=\"false\">\n",
      "\t<SLOT name=\"COMMENT\" type=\"string\" content=\"Event frame filled by TR2ST.pl v2.3\"/>\n",
      "</EVENT>\n",
      "</sem3>\n",
      "</doc>\n"
     ]
    }
   ],
   "source": [
    "!cat ../data/biocaster2020/bc_news.24746.5199.xml"
   ]
  },
  {
   "cell_type": "code",
   "execution_count": null,
   "metadata": {},
   "outputs": [],
   "source": []
  }
 ],
 "metadata": {
  "kernelspec": {
   "display_name": "Python 3",
   "language": "python",
   "name": "python3"
  },
  "language_info": {
   "codemirror_mode": {
    "name": "ipython",
    "version": 3
   },
   "file_extension": ".py",
   "mimetype": "text/x-python",
   "name": "python",
   "nbconvert_exporter": "python",
   "pygments_lexer": "ipython3",
   "version": "3.7.6"
  }
 },
 "nbformat": 4,
 "nbformat_minor": 4
}
