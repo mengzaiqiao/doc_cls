{
 "cells": [
  {
   "cell_type": "code",
   "execution_count": 5,
   "metadata": {},
   "outputs": [],
   "source": [
    "data_file = \"../datasets/biocaster/BioCaster.3.xml\""
   ]
  },
  {
   "cell_type": "code",
   "execution_count": 6,
   "metadata": {},
   "outputs": [],
   "source": [
    "from xml.dom.minidom import parse\n",
    "import xml.dom.minidom\n",
    "\n",
    "def biocaser2text(data_file):\n",
    "    docs = []\n",
    "    labels = []\n",
    "    with open(data_file) as f:\n",
    "        text_root = '<root>'+f.read()+'</root>'\n",
    "        DOMTree = xml.dom.minidom.parseString(text_root)\n",
    "        collection = DOMTree.documentElement\n",
    "        docElements = collection.getElementsByTagName(\"DOC\")\n",
    "        for docE in docElements:\n",
    "            doc_string = \"\"\n",
    "            label = docElement.getAttribute(\"relevancy\")\n",
    "            for curNode in docElement.childNodes:\n",
    "                if curNode.hasChildNodes():\n",
    "                    for curNode_child in curNode.childNodes:\n",
    "                        if curNode_child.hasChildNodes():\n",
    "                            raise \"Error!!! Shuld have more hasChildNodes\"\n",
    "                        doc_string += curNode_child.data \n",
    "                else:\n",
    "                    doc_string += curNode.data\n",
    "            docs.append(doc_string.replace(\"\\n\\n\",\"\\n\"))\n",
    "            labels.append(label)\n",
    "    print(f\"parse biocaser data from {data_file}, docs number:{len(docs)}, lablels number:{len(labels)}\")\n",
    "    return docs, labels"
   ]
  },
  {
   "cell_type": "code",
   "execution_count": 7,
   "metadata": {},
   "outputs": [
    {
     "ename": "NameError",
     "evalue": "name 'docElement' is not defined",
     "output_type": "error",
     "traceback": [
      "\u001b[0;31m---------------------------------------------------------------------------\u001b[0m",
      "\u001b[0;31mNameError\u001b[0m                                 Traceback (most recent call last)",
      "\u001b[0;32m<ipython-input-7-c2b98d5a8717>\u001b[0m in \u001b[0;36m<module>\u001b[0;34m\u001b[0m\n\u001b[0;32m----> 1\u001b[0;31m \u001b[0mdocs\u001b[0m\u001b[0;34m,\u001b[0m \u001b[0mlabels\u001b[0m \u001b[0;34m=\u001b[0m \u001b[0mbiocaser2text\u001b[0m\u001b[0;34m(\u001b[0m\u001b[0mdata_file\u001b[0m\u001b[0;34m)\u001b[0m\u001b[0;34m\u001b[0m\u001b[0;34m\u001b[0m\u001b[0m\n\u001b[0m",
      "\u001b[0;32m<ipython-input-6-3437b0951d08>\u001b[0m in \u001b[0;36mbiocaser2text\u001b[0;34m(data_file)\u001b[0m\n\u001b[1;32m     12\u001b[0m         \u001b[0;32mfor\u001b[0m \u001b[0mdocE\u001b[0m \u001b[0;32min\u001b[0m \u001b[0mdocElements\u001b[0m\u001b[0;34m:\u001b[0m\u001b[0;34m\u001b[0m\u001b[0;34m\u001b[0m\u001b[0m\n\u001b[1;32m     13\u001b[0m             \u001b[0mdoc_string\u001b[0m \u001b[0;34m=\u001b[0m \u001b[0;34m\"\"\u001b[0m\u001b[0;34m\u001b[0m\u001b[0;34m\u001b[0m\u001b[0m\n\u001b[0;32m---> 14\u001b[0;31m             \u001b[0mlabel\u001b[0m \u001b[0;34m=\u001b[0m \u001b[0mdocElement\u001b[0m\u001b[0;34m.\u001b[0m\u001b[0mgetAttribute\u001b[0m\u001b[0;34m(\u001b[0m\u001b[0;34m\"relevancy\"\u001b[0m\u001b[0;34m)\u001b[0m\u001b[0;34m\u001b[0m\u001b[0;34m\u001b[0m\u001b[0m\n\u001b[0m\u001b[1;32m     15\u001b[0m             \u001b[0;32mfor\u001b[0m \u001b[0mcurNode\u001b[0m \u001b[0;32min\u001b[0m \u001b[0mdocElement\u001b[0m\u001b[0;34m.\u001b[0m\u001b[0mchildNodes\u001b[0m\u001b[0;34m:\u001b[0m\u001b[0;34m\u001b[0m\u001b[0;34m\u001b[0m\u001b[0m\n\u001b[1;32m     16\u001b[0m                 \u001b[0;32mif\u001b[0m \u001b[0mcurNode\u001b[0m\u001b[0;34m.\u001b[0m\u001b[0mhasChildNodes\u001b[0m\u001b[0;34m(\u001b[0m\u001b[0;34m)\u001b[0m\u001b[0;34m:\u001b[0m\u001b[0;34m\u001b[0m\u001b[0;34m\u001b[0m\u001b[0m\n",
      "\u001b[0;31mNameError\u001b[0m: name 'docElement' is not defined"
     ]
    }
   ],
   "source": [
    "docs, labels = biocaser2text(data_file)"
   ]
  },
  {
   "cell_type": "code",
   "execution_count": 119,
   "metadata": {},
   "outputs": [
    {
     "data": {
      "text/plain": [
       "'reject'"
      ]
     },
     "execution_count": 119,
     "metadata": {},
     "output_type": "execute_result"
    }
   ],
   "source": [
    "from "
   ]
  },
  {
   "cell_type": "code",
   "execution_count": 33,
   "metadata": {},
   "outputs": [],
   "source": [
    "\n",
    "\n",
    "# 使用minidom解析器打开 XML 文档\n"
   ]
  },
  {
   "cell_type": "code",
   "execution_count": 34,
   "metadata": {},
   "outputs": [],
   "source": [
    "# 在集合中获取所有电影\n",
    "movies = collection.getElementsByTagName(\"DOC\")"
   ]
  },
  {
   "cell_type": "code",
   "execution_count": 66,
   "metadata": {},
   "outputs": [],
   "source": [
    "docElement = movies[0]"
   ]
  },
  {
   "cell_type": "code",
   "execution_count": 67,
   "metadata": {},
   "outputs": [
    {
     "data": {
      "text/plain": [
       "'reject'"
      ]
     },
     "execution_count": 67,
     "metadata": {},
     "output_type": "execute_result"
    }
   ],
   "source": [
    "docElement.getAttribute(\"relevancy\")"
   ]
  },
  {
   "cell_type": "code",
   "execution_count": 68,
   "metadata": {},
   "outputs": [
    {
     "name": "stdout",
     "output_type": "stream",
     "text": [
      "Bird Flu Outbreak Drill Spooks Manitoba Town  Jason McIntyre Saturday, November 4, 2006   There are no moon men in Steinbach, Manitoba.  Local residents phoned and e-mailed radio stations as far away as Winnipeg wanting to know why people in eerie space suits had blocked off a road and were working at a community farm.  According to the Canadian Food Inspection Agency spokesperson Sandra Stephens, there is no need for alarm. Those participating in the mock avian influenza drill had biohazard suits and cordoned off a specific area.  Federal Agriculture Minister Chuck Strahl said the event wasnt publicized to ensure the test parameters were as close to real-world as possible.      \n",
      "reject\n"
     ]
    }
   ],
   "source": [
    "doc_string = \"\"\n",
    "label = docElement.getAttribute(\"relevancy\")\n",
    "for curNode in docElement.childNodes:\n",
    "    if curNode.hasChildNodes():\n",
    "        for curNode_child in curNode.childNodes:\n",
    "            if curNode_child.hasChildNodes():\n",
    "                print(\"Error!!!\")\n",
    "            doc_string += curNode_child.data \n",
    "    else:\n",
    "        doc_string += curNode.data\n",
    "print(doc_string.replace(\"\\n\",\"\"))\n",
    "print(label)"
   ]
  },
  {
   "cell_type": "code",
   "execution_count": null,
   "metadata": {},
   "outputs": [],
   "source": []
  }
 ],
 "metadata": {
  "kernelspec": {
   "display_name": "doc_cls",
   "language": "python",
   "name": "doc_cls"
  },
  "language_info": {
   "codemirror_mode": {
    "name": "ipython",
    "version": 3
   },
   "file_extension": ".py",
   "mimetype": "text/x-python",
   "name": "python",
   "nbconvert_exporter": "python",
   "pygments_lexer": "ipython3",
   "version": "3.8.3"
  }
 },
 "nbformat": 4,
 "nbformat_minor": 4
}
