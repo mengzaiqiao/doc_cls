{
 "cells": [
  {
   "cell_type": "code",
   "execution_count": null,
   "metadata": {},
   "outputs": [],
   "source": [
    "config = {\n",
    "    \"pretrained_model\": \"bert-base-cased\",\n",
    "    \"tokenizer\": \"bert-base-cased\",\n",
    "    \"max_seq_length\": 256,\n",
    "    \"batch_size\": 16,\n",
    "    \"lr\": 2e-5,\n",
    "    \"epochs\": 10,\n",
    "    \"device\": \"cuda\",\n",
    "    \"gpu_ids\": \"2\",\n",
    "    \"seed\": 2020,\n",
    "    \"fp16\": False,\n",
    "    \"loss_scale\": 0,\n",
    "    \"gradient_accumulation_steps\":1,\n",
    "    \"warmup_proportion\": 0.1,\n",
    "    \"gradient_accumulation_steps\": 1,\n",
    "    \"num_labels\": 4,\n",
    "    \"is_multilabel\": False,\n",
    "    \"valid_metric\": \"macro_f1\",\n",
    "    \"model_save_dir\": \"../checkpoints/bert_cased_256_biocaster_4cate_20200903/\",\n",
    "    \"patience\": 4,\n",
    "}"
   ]
  },
  {
   "cell_type": "code",
   "execution_count": 2,
   "metadata": {},
   "outputs": [
    {
     "name": "stdout",
     "output_type": "stream",
     "text": [
      "parse biocaser data from /home/zm324/workspace/doc_cls/datasets/biocaster/BioCaster.3.xml, docs number:1003, lablels number:1003\n"
     ]
    },
    {
     "data": {
      "text/html": [
       "<div>\n",
       "<style scoped>\n",
       "    .dataframe tbody tr th:only-of-type {\n",
       "        vertical-align: middle;\n",
       "    }\n",
       "\n",
       "    .dataframe tbody tr th {\n",
       "        vertical-align: top;\n",
       "    }\n",
       "\n",
       "    .dataframe thead th {\n",
       "        text-align: right;\n",
       "    }\n",
       "</style>\n",
       "<table border=\"1\" class=\"dataframe\">\n",
       "  <thead>\n",
       "    <tr style=\"text-align: right;\">\n",
       "      <th></th>\n",
       "      <th>docs</th>\n",
       "      <th>labels</th>\n",
       "      <th>source</th>\n",
       "    </tr>\n",
       "  </thead>\n",
       "  <tbody>\n",
       "    <tr>\n",
       "      <th>0</th>\n",
       "      <td>\\nBird Flu Outbreak Drill Spooks Manitoba Town...</td>\n",
       "      <td>0</td>\n",
       "      <td>Biocaster</td>\n",
       "    </tr>\n",
       "    <tr>\n",
       "      <th>1</th>\n",
       "      <td>\\nTyphoid outbreak in Agusan del Sur town unde...</td>\n",
       "      <td>3</td>\n",
       "      <td>Biocaster</td>\n",
       "    </tr>\n",
       "    <tr>\n",
       "      <th>2</th>\n",
       "      <td>\\n  Typhoid Outbreak In Central Nepal November...</td>\n",
       "      <td>3</td>\n",
       "      <td>Biocaster</td>\n",
       "    </tr>\n",
       "  </tbody>\n",
       "</table>\n",
       "</div>"
      ],
      "text/plain": [
       "                                                docs  labels     source\n",
       "0  \\nBird Flu Outbreak Drill Spooks Manitoba Town...       0  Biocaster\n",
       "1  \\nTyphoid outbreak in Agusan del Sur town unde...       3  Biocaster\n",
       "2  \\n  Typhoid Outbreak In Central Nepal November...       3  Biocaster"
      ]
     },
     "execution_count": 2,
     "metadata": {},
     "output_type": "execute_result"
    }
   ],
   "source": [
    "import sys\n",
    "sys.path.append(\"../\")\n",
    "from beta_nlp.utils.data_util import biocaser2text,biocaster2df\n",
    "data_file = \"/home/zm324/workspace/doc_cls/datasets/biocaster/BioCaster.3.xml\"\n",
    "data_df = biocaster2df(data_file)\n",
    "data_df[\"source\"] = \"Biocaster\"\n",
    "data_df.head(3)"
   ]
  },
  {
   "cell_type": "code",
   "execution_count": 3,
   "metadata": {},
   "outputs": [
    {
     "name": "stderr",
     "output_type": "stream",
     "text": [
      "<ipython-input-3-79406d09754d>:6: SettingWithCopyWarning: \n",
      "A value is trying to be set on a copy of a slice from a DataFrame.\n",
      "Try using .loc[row_indexer,col_indexer] = value instead\n",
      "\n",
      "See the caveats in the documentation: https://pandas.pydata.org/pandas-docs/stable/user_guide/indexing.html#returning-a-view-versus-a-copy\n",
      "  data_df.iloc[:train_index][\"flag\"]=\"train\"\n",
      "<ipython-input-3-79406d09754d>:7: SettingWithCopyWarning: \n",
      "A value is trying to be set on a copy of a slice from a DataFrame.\n",
      "Try using .loc[row_indexer,col_indexer] = value instead\n",
      "\n",
      "See the caveats in the documentation: https://pandas.pydata.org/pandas-docs/stable/user_guide/indexing.html#returning-a-view-versus-a-copy\n",
      "  data_df.iloc[train_index:valid_index][\"flag\"]=\"valid\"\n",
      "<ipython-input-3-79406d09754d>:8: SettingWithCopyWarning: \n",
      "A value is trying to be set on a copy of a slice from a DataFrame.\n",
      "Try using .loc[row_indexer,col_indexer] = value instead\n",
      "\n",
      "See the caveats in the documentation: https://pandas.pydata.org/pandas-docs/stable/user_guide/indexing.html#returning-a-view-versus-a-copy\n",
      "  data_df.iloc[valid_index:][\"flag\"]=\"test\"\n"
     ]
    }
   ],
   "source": [
    "from sklearn.utils import shuffle\n",
    "data_df = shuffle(data_df).reset_index()\n",
    "data_df[\"flag\"]=None\n",
    "train_index = int(len(data_df.index)*0.8)\n",
    "valid_index = train_index + round(len(data_df.index)*0.1)\n",
    "data_df.iloc[:train_index][\"flag\"]=\"train\"\n",
    "data_df.iloc[train_index:valid_index][\"flag\"]=\"valid\"\n",
    "data_df.iloc[valid_index:][\"flag\"]=\"test\""
   ]
  },
  {
   "cell_type": "code",
   "execution_count": 4,
   "metadata": {},
   "outputs": [],
   "source": [
    "train_set = data_df[data_df[\"flag\"]==\"train\"]\n",
    "dev_set = data_df[data_df[\"flag\"]==\"valid\"]\n",
    "test_set = data_df[data_df[\"flag\"]==\"test\"]"
   ]
  },
  {
   "cell_type": "code",
   "execution_count": 5,
   "metadata": {},
   "outputs": [
    {
     "data": {
      "text/plain": [
       "(802, 100, 101)"
      ]
     },
     "execution_count": 5,
     "metadata": {},
     "output_type": "execute_result"
    }
   ],
   "source": [
    "len(train_set.index),len(dev_set.index),len(test_set.index)"
   ]
  },
  {
   "cell_type": "code",
   "execution_count": 6,
   "metadata": {},
   "outputs": [
    {
     "name": "stderr",
     "output_type": "stream",
     "text": [
      "Some weights of the model checkpoint at bert-base-cased were not used when initializing BertForSequenceClassification: ['cls.predictions.bias', 'cls.predictions.transform.dense.weight', 'cls.predictions.transform.dense.bias', 'cls.predictions.decoder.weight', 'cls.seq_relationship.weight', 'cls.seq_relationship.bias', 'cls.predictions.transform.LayerNorm.weight', 'cls.predictions.transform.LayerNorm.bias']\n",
      "- This IS expected if you are initializing BertForSequenceClassification from the checkpoint of a model trained on another task or with another architecture (e.g. initializing a BertForSequenceClassification model from a BertForPretraining model).\n",
      "- This IS NOT expected if you are initializing BertForSequenceClassification from the checkpoint of a model that you expect to be exactly identical (initializing a BertForSequenceClassification model from a BertForSequenceClassification model).\n",
      "Some weights of BertForSequenceClassification were not initialized from the model checkpoint at bert-base-cased and are newly initialized: ['classifier.weight', 'classifier.bias']\n",
      "You should probably TRAIN this model on a down-stream task to be able to use it for predictions and inference.\n"
     ]
    },
    {
     "name": "stdout",
     "output_type": "stream",
     "text": [
      "The BERT model has 201 different named parameters.\n",
      "\n",
      "==== Embedding Layer ====\n",
      "\n",
      "bert.embeddings.word_embeddings.weight                  (28996, 768)\n",
      "bert.embeddings.position_embeddings.weight                (512, 768)\n",
      "bert.embeddings.token_type_embeddings.weight                (2, 768)\n",
      "bert.embeddings.LayerNorm.weight                              (768,)\n",
      "bert.embeddings.LayerNorm.bias                                (768,)\n",
      "\n",
      "==== First Transformer ====\n",
      "\n",
      "bert.encoder.layer.0.attention.self.query.weight          (768, 768)\n",
      "bert.encoder.layer.0.attention.self.query.bias                (768,)\n",
      "bert.encoder.layer.0.attention.self.key.weight            (768, 768)\n",
      "bert.encoder.layer.0.attention.self.key.bias                  (768,)\n",
      "bert.encoder.layer.0.attention.self.value.weight          (768, 768)\n",
      "bert.encoder.layer.0.attention.self.value.bias                (768,)\n",
      "bert.encoder.layer.0.attention.output.dense.weight        (768, 768)\n",
      "bert.encoder.layer.0.attention.output.dense.bias              (768,)\n",
      "bert.encoder.layer.0.attention.output.LayerNorm.weight        (768,)\n",
      "bert.encoder.layer.0.attention.output.LayerNorm.bias          (768,)\n",
      "bert.encoder.layer.0.intermediate.dense.weight           (3072, 768)\n",
      "bert.encoder.layer.0.intermediate.dense.bias                 (3072,)\n",
      "bert.encoder.layer.0.output.dense.weight                 (768, 3072)\n",
      "bert.encoder.layer.0.output.dense.bias                        (768,)\n",
      "bert.encoder.layer.0.output.LayerNorm.weight                  (768,)\n",
      "bert.encoder.layer.0.output.LayerNorm.bias                    (768,)\n",
      "\n",
      "==== Output Layer ====\n",
      "\n",
      "bert.pooler.dense.weight                                  (768, 768)\n",
      "bert.pooler.dense.bias                                        (768,)\n",
      "classifier.weight                                           (4, 768)\n",
      "classifier.bias                                                 (4,)\n"
     ]
    }
   ],
   "source": [
    "from beta_nlp.models.bert_cls import BertModel\n",
    "cls = BertModel(config)"
   ]
  },
  {
   "cell_type": "code",
   "execution_count": 7,
   "metadata": {},
   "outputs": [
    {
     "data": {
      "text/plain": [
       "(802, 100, 101)"
      ]
     },
     "execution_count": 7,
     "metadata": {},
     "output_type": "execute_result"
    }
   ],
   "source": [
    "len(train_set.index),len(dev_set.index),len(test_set.index)"
   ]
  },
  {
   "cell_type": "code",
   "execution_count": 8,
   "metadata": {
    "scrolled": true
   },
   "outputs": [
    {
     "name": "stderr",
     "output_type": "stream",
     "text": [
      "Epoch:   0%|          | 0/10 [00:00<?, ?it/s]\n",
      "Training:   0%|          | 0/51 [00:00<?, ?it/s]\u001b[A\n",
      "Training:   2%|▏         | 1/51 [00:00<00:15,  3.20it/s]\u001b[A\n",
      "Training:   4%|▍         | 2/51 [00:00<00:14,  3.32it/s]\u001b[A\n",
      "Training:   6%|▌         | 3/51 [00:00<00:14,  3.39it/s]\u001b[A\n",
      "Training:   8%|▊         | 4/51 [00:01<00:13,  3.44it/s]\u001b[A\n",
      "Training:  10%|▉         | 5/51 [00:01<00:13,  3.47it/s]\u001b[A\n",
      "Training:  12%|█▏        | 6/51 [00:01<00:12,  3.50it/s]\u001b[A\n",
      "Training:  14%|█▎        | 7/51 [00:01<00:12,  3.52it/s]\u001b[A\n",
      "Training:  16%|█▌        | 8/51 [00:02<00:12,  3.53it/s]\u001b[A\n",
      "Training:  18%|█▊        | 9/51 [00:02<00:11,  3.54it/s]\u001b[A\n",
      "Training:  20%|█▉        | 10/51 [00:02<00:11,  3.55it/s]\u001b[A\n",
      "Training:  22%|██▏       | 11/51 [00:03<00:11,  3.55it/s]\u001b[A\n",
      "Training:  24%|██▎       | 12/51 [00:03<00:10,  3.55it/s]\u001b[A\n",
      "Training:  25%|██▌       | 13/51 [00:03<00:10,  3.55it/s]\u001b[A\n",
      "Training:  27%|██▋       | 14/51 [00:03<00:10,  3.56it/s]\u001b[A\n",
      "Training:  29%|██▉       | 15/51 [00:04<00:10,  3.55it/s]\u001b[A\n",
      "Training:  31%|███▏      | 16/51 [00:04<00:09,  3.56it/s]\u001b[A\n",
      "Training:  33%|███▎      | 17/51 [00:04<00:09,  3.55it/s]\u001b[A\n",
      "Training:  35%|███▌      | 18/51 [00:05<00:09,  3.55it/s]\u001b[A\n",
      "Training:  37%|███▋      | 19/51 [00:05<00:09,  3.53it/s]\u001b[A\n",
      "Training:  39%|███▉      | 20/51 [00:05<00:08,  3.55it/s]\u001b[A\n",
      "Training:  41%|████      | 21/51 [00:05<00:08,  3.55it/s]\u001b[A\n",
      "Training:  43%|████▎     | 22/51 [00:06<00:08,  3.55it/s]\u001b[A\n",
      "Training:  45%|████▌     | 23/51 [00:06<00:07,  3.55it/s]\u001b[A\n",
      "Training:  47%|████▋     | 24/51 [00:06<00:07,  3.55it/s]\u001b[A\n",
      "Training:  49%|████▉     | 25/51 [00:07<00:07,  3.55it/s]\u001b[A\n",
      "Training:  51%|█████     | 26/51 [00:07<00:07,  3.55it/s]\u001b[A\n",
      "Training:  53%|█████▎    | 27/51 [00:07<00:06,  3.54it/s]\u001b[A\n",
      "Training:  55%|█████▍    | 28/51 [00:07<00:06,  3.55it/s]\u001b[A\n",
      "Training:  57%|█████▋    | 29/51 [00:08<00:06,  3.54it/s]\u001b[A\n",
      "Training:  59%|█████▉    | 30/51 [00:08<00:05,  3.54it/s]\u001b[A\n",
      "Training:  61%|██████    | 31/51 [00:08<00:05,  3.53it/s]\u001b[A\n",
      "Training:  63%|██████▎   | 32/51 [00:09<00:05,  3.53it/s]\u001b[A\n",
      "Training:  65%|██████▍   | 33/51 [00:09<00:05,  3.53it/s]\u001b[A\n",
      "Training:  67%|██████▋   | 34/51 [00:09<00:04,  3.54it/s]\u001b[A\n",
      "Training:  69%|██████▊   | 35/51 [00:09<00:04,  3.53it/s]\u001b[A\n",
      "Training:  71%|███████   | 36/51 [00:10<00:04,  3.53it/s]\u001b[A\n",
      "Training:  73%|███████▎  | 37/51 [00:10<00:03,  3.53it/s]\u001b[A\n",
      "Training:  75%|███████▍  | 38/51 [00:10<00:03,  3.53it/s]\u001b[A\n",
      "Training:  76%|███████▋  | 39/51 [00:11<00:03,  3.53it/s]\u001b[A\n",
      "Training:  78%|███████▊  | 40/51 [00:11<00:03,  3.53it/s]\u001b[A\n",
      "Training:  80%|████████  | 41/51 [00:11<00:02,  3.53it/s]\u001b[A\n",
      "Training:  82%|████████▏ | 42/51 [00:11<00:02,  3.52it/s]\u001b[A\n",
      "Training:  84%|████████▍ | 43/51 [00:12<00:02,  3.52it/s]\u001b[A\n",
      "Training:  86%|████████▋ | 44/51 [00:12<00:01,  3.52it/s]\u001b[A\n",
      "Training:  88%|████████▊ | 45/51 [00:12<00:01,  3.52it/s]\u001b[A\n",
      "Training:  90%|█████████ | 46/51 [00:13<00:01,  3.52it/s]\u001b[A\n",
      "Training:  92%|█████████▏| 47/51 [00:13<00:01,  3.51it/s]\u001b[A\n",
      "Training:  94%|█████████▍| 48/51 [00:13<00:00,  3.51it/s]\u001b[A\n",
      "Training:  96%|█████████▌| 49/51 [00:13<00:00,  3.51it/s]\u001b[A\n",
      "Training: 100%|██████████| 51/51 [00:14<00:00,  3.59it/s]\u001b[A\n",
      "Epoch:   0%|          | 0/10 [00:14<?, ?it/s]\n",
      "Evaluating:   0%|          | 0/7 [00:00<?, ?it/s]\u001b[A\n",
      "Evaluating:  29%|██▊       | 2/7 [00:00<00:00, 10.78it/s]\u001b[A"
     ]
    },
    {
     "name": "stdout",
     "output_type": "stream",
     "text": [
      "Execute [train_an_epoch] method costing 14217.95 ms\n",
      "[Epoch 0] loss: 58.540070950984955\n"
     ]
    },
    {
     "name": "stderr",
     "output_type": "stream",
     "text": [
      "\n",
      "Evaluating:  57%|█████▋    | 4/7 [00:00<00:00, 10.73it/s]\u001b[A\n",
      "Evaluating: 100%|██████████| 7/7 [00:00<00:00, 11.91it/s]\u001b[A\n",
      "/home/zm324/anaconda3/envs/doc_cls/lib/python3.8/site-packages/sklearn/metrics/_classification.py:1221: UndefinedMetricWarning: Precision is ill-defined and being set to 0.0 in labels with no predicted samples. Use `zero_division` parameter to control this behavior.\n",
      "  _warn_prf(average, modifier, msg_start, len(result))\n"
     ]
    },
    {
     "name": "stdout",
     "output_type": "stream",
     "text": [
      "Execute [eval] method costing 593.47 ms\n",
      "------------------------------------------------------------\n",
      "[Epoch 0]performance on validation set\n",
      "+----+-----------------+----------+\n",
      "|    | metrics         |   values |\n",
      "|----+-----------------+----------|\n",
      "|  0 | accuracy        | 0.62     |\n",
      "|  1 | macro_precision | 0.155    |\n",
      "|  2 | macro_recall    | 0.25     |\n",
      "|  3 | macro_f1        | 0.191358 |\n",
      "|  4 | micro_precision | 0.62     |\n",
      "|  5 | micro_recall    | 0.62     |\n",
      "|  6 | micro_f1        | 0.62     |\n",
      "+----+-----------------+----------+\n",
      "------------------------------------------------------------\n"
     ]
    },
    {
     "name": "stderr",
     "output_type": "stream",
     "text": [
      "Epoch:  10%|█         | 1/10 [00:15<02:17, 15.27s/it]\n",
      "Training:   0%|          | 0/51 [00:00<?, ?it/s]\u001b[A\n",
      "Training:   2%|▏         | 1/51 [00:00<00:13,  3.58it/s]\u001b[A\n",
      "Training:   4%|▍         | 2/51 [00:00<00:13,  3.56it/s]\u001b[A\n",
      "Training:   6%|▌         | 3/51 [00:00<00:13,  3.55it/s]\u001b[A\n",
      "Training:   8%|▊         | 4/51 [00:01<00:13,  3.53it/s]\u001b[A\n",
      "Training:  10%|▉         | 5/51 [00:01<00:13,  3.52it/s]\u001b[A\n",
      "Training:  12%|█▏        | 6/51 [00:01<00:12,  3.52it/s]\u001b[A\n",
      "Training:  14%|█▎        | 7/51 [00:01<00:12,  3.51it/s]\u001b[A\n",
      "Training:  16%|█▌        | 8/51 [00:02<00:12,  3.50it/s]\u001b[A\n",
      "Training:  18%|█▊        | 9/51 [00:02<00:12,  3.49it/s]\u001b[A\n",
      "Training:  20%|█▉        | 10/51 [00:02<00:11,  3.49it/s]\u001b[A\n",
      "Training:  22%|██▏       | 11/51 [00:03<00:11,  3.49it/s]\u001b[A\n",
      "Training:  24%|██▎       | 12/51 [00:03<00:11,  3.49it/s]\u001b[A\n",
      "Training:  25%|██▌       | 13/51 [00:03<00:10,  3.49it/s]\u001b[A\n",
      "Training:  27%|██▋       | 14/51 [00:04<00:10,  3.49it/s]\u001b[A\n",
      "Training:  29%|██▉       | 15/51 [00:04<00:10,  3.48it/s]\u001b[A\n",
      "Training:  31%|███▏      | 16/51 [00:04<00:10,  3.48it/s]\u001b[A\n",
      "Training:  33%|███▎      | 17/51 [00:04<00:09,  3.48it/s]\u001b[A\n",
      "Training:  35%|███▌      | 18/51 [00:05<00:09,  3.48it/s]\u001b[A\n",
      "Training:  37%|███▋      | 19/51 [00:05<00:09,  3.48it/s]\u001b[A\n",
      "Training:  39%|███▉      | 20/51 [00:05<00:08,  3.48it/s]\u001b[A\n",
      "Training:  41%|████      | 21/51 [00:06<00:08,  3.48it/s]\u001b[A\n",
      "Training:  43%|████▎     | 22/51 [00:06<00:08,  3.47it/s]\u001b[A\n",
      "Training:  45%|████▌     | 23/51 [00:06<00:08,  3.48it/s]\u001b[A\n",
      "Training:  47%|████▋     | 24/51 [00:06<00:07,  3.48it/s]\u001b[A\n",
      "Training:  49%|████▉     | 25/51 [00:07<00:07,  3.48it/s]\u001b[A\n",
      "Training:  51%|█████     | 26/51 [00:07<00:07,  3.48it/s]\u001b[A\n",
      "Training:  53%|█████▎    | 27/51 [00:07<00:06,  3.48it/s]\u001b[A\n",
      "Training:  55%|█████▍    | 28/51 [00:08<00:06,  3.48it/s]\u001b[A\n",
      "Training:  57%|█████▋    | 29/51 [00:08<00:06,  3.47it/s]\u001b[A\n",
      "Training:  59%|█████▉    | 30/51 [00:08<00:06,  3.47it/s]\u001b[A\n",
      "Training:  61%|██████    | 31/51 [00:08<00:05,  3.47it/s]\u001b[A\n",
      "Training:  63%|██████▎   | 32/51 [00:09<00:05,  3.47it/s]\u001b[A\n",
      "Training:  65%|██████▍   | 33/51 [00:09<00:05,  3.47it/s]\u001b[A\n",
      "Training:  67%|██████▋   | 34/51 [00:09<00:04,  3.47it/s]\u001b[A\n",
      "Training:  69%|██████▊   | 35/51 [00:10<00:04,  3.47it/s]\u001b[A\n",
      "Training:  71%|███████   | 36/51 [00:10<00:04,  3.47it/s]\u001b[A\n",
      "Training:  73%|███████▎  | 37/51 [00:10<00:04,  3.46it/s]\u001b[A\n",
      "Training:  75%|███████▍  | 38/51 [00:10<00:03,  3.46it/s]\u001b[A\n",
      "Training:  76%|███████▋  | 39/51 [00:11<00:03,  3.46it/s]\u001b[A\n",
      "Training:  78%|███████▊  | 40/51 [00:11<00:03,  3.45it/s]\u001b[A\n",
      "Training:  80%|████████  | 41/51 [00:11<00:02,  3.45it/s]\u001b[A\n",
      "Training:  82%|████████▏ | 42/51 [00:12<00:02,  3.45it/s]\u001b[A\n",
      "Training:  84%|████████▍ | 43/51 [00:12<00:02,  3.46it/s]\u001b[A\n",
      "Training:  86%|████████▋ | 44/51 [00:12<00:02,  3.46it/s]\u001b[A\n",
      "Training:  88%|████████▊ | 45/51 [00:12<00:01,  3.45it/s]\u001b[A\n",
      "Training:  90%|█████████ | 46/51 [00:13<00:01,  3.45it/s]\u001b[A\n",
      "Training:  92%|█████████▏| 47/51 [00:13<00:01,  3.44it/s]\u001b[A\n",
      "Training:  94%|█████████▍| 48/51 [00:13<00:00,  3.44it/s]\u001b[A\n",
      "Training:  96%|█████████▌| 49/51 [00:14<00:00,  3.43it/s]\u001b[A\n",
      "Training: 100%|██████████| 51/51 [00:14<00:00,  3.53it/s]\u001b[A\n",
      "Epoch:  10%|█         | 1/10 [00:29<02:17, 15.27s/it]\n",
      "Evaluating:   0%|          | 0/7 [00:00<?, ?it/s]\u001b[A\n",
      "Evaluating:  29%|██▊       | 2/7 [00:00<00:00, 10.38it/s]\u001b[A"
     ]
    },
    {
     "name": "stdout",
     "output_type": "stream",
     "text": [
      "Execute [train_an_epoch] method costing 14460.89 ms\n",
      "[Epoch 1] loss: 38.69098410010338\n"
     ]
    },
    {
     "name": "stderr",
     "output_type": "stream",
     "text": [
      "\n",
      "Evaluating:  57%|█████▋    | 4/7 [00:00<00:00, 10.35it/s]\u001b[A\n",
      "Evaluating: 100%|██████████| 7/7 [00:00<00:00, 11.54it/s]\u001b[A\n"
     ]
    },
    {
     "name": "stdout",
     "output_type": "stream",
     "text": [
      "Execute [eval] method costing 610.66 ms\n",
      "------------------------------------------------------------\n",
      "[Epoch 1]performance on validation set\n",
      "+----+-----------------+----------+\n",
      "|    | metrics         |   values |\n",
      "|----+-----------------+----------|\n",
      "|  0 | accuracy        | 0.82     |\n",
      "|  1 | macro_precision | 0.409183 |\n",
      "|  2 | macro_recall    | 0.408602 |\n",
      "|  3 | macro_f1        | 0.405556 |\n",
      "|  4 | micro_precision | 0.82     |\n",
      "|  5 | micro_recall    | 0.82     |\n",
      "|  6 | micro_f1        | 0.82     |\n",
      "+----+-----------------+----------+\n",
      "------------------------------------------------------------\n"
     ]
    },
    {
     "name": "stderr",
     "output_type": "stream",
     "text": [
      "Epoch:  20%|██        | 2/10 [00:30<02:02, 15.34s/it]\n",
      "Training:   0%|          | 0/51 [00:00<?, ?it/s]\u001b[A\n",
      "Training:   2%|▏         | 1/51 [00:00<00:14,  3.52it/s]\u001b[A\n",
      "Training:   4%|▍         | 2/51 [00:00<00:14,  3.47it/s]\u001b[A\n",
      "Training:   6%|▌         | 3/51 [00:00<00:13,  3.44it/s]\u001b[A\n",
      "Training:   8%|▊         | 4/51 [00:01<00:13,  3.41it/s]\u001b[A\n",
      "Training:  10%|▉         | 5/51 [00:01<00:13,  3.39it/s]\u001b[A\n",
      "Training:  12%|█▏        | 6/51 [00:01<00:13,  3.38it/s]\u001b[A\n",
      "Training:  14%|█▎        | 7/51 [00:02<00:13,  3.36it/s]\u001b[A\n",
      "Training:  16%|█▌        | 8/51 [00:02<00:12,  3.36it/s]\u001b[A\n",
      "Training:  18%|█▊        | 9/51 [00:02<00:12,  3.35it/s]\u001b[A\n",
      "Training:  20%|█▉        | 10/51 [00:02<00:12,  3.33it/s]\u001b[A\n",
      "Training:  22%|██▏       | 11/51 [00:03<00:12,  3.32it/s]\u001b[A\n",
      "Training:  24%|██▎       | 12/51 [00:03<00:11,  3.31it/s]\u001b[A\n",
      "Training:  25%|██▌       | 13/51 [00:03<00:11,  3.31it/s]\u001b[A\n",
      "Training:  27%|██▋       | 14/51 [00:04<00:11,  3.31it/s]\u001b[A\n",
      "Training:  29%|██▉       | 15/51 [00:04<00:10,  3.32it/s]\u001b[A\n",
      "Training:  31%|███▏      | 16/51 [00:04<00:10,  3.31it/s]\u001b[A\n",
      "Training:  33%|███▎      | 17/51 [00:05<00:10,  3.31it/s]\u001b[A\n",
      "Training:  35%|███▌      | 18/51 [00:05<00:09,  3.30it/s]\u001b[A\n",
      "Training:  37%|███▋      | 19/51 [00:05<00:09,  3.30it/s]\u001b[A\n",
      "Training:  39%|███▉      | 20/51 [00:06<00:09,  3.30it/s]\u001b[A\n",
      "Training:  41%|████      | 21/51 [00:06<00:09,  3.30it/s]\u001b[A\n",
      "Training:  43%|████▎     | 22/51 [00:06<00:08,  3.30it/s]\u001b[A\n",
      "Training:  45%|████▌     | 23/51 [00:06<00:08,  3.29it/s]\u001b[A\n",
      "Training:  47%|████▋     | 24/51 [00:07<00:08,  3.29it/s]\u001b[A\n",
      "Training:  49%|████▉     | 25/51 [00:07<00:07,  3.28it/s]\u001b[A\n",
      "Training:  51%|█████     | 26/51 [00:07<00:07,  3.27it/s]\u001b[A\n",
      "Training:  53%|█████▎    | 27/51 [00:08<00:07,  3.26it/s]\u001b[A\n",
      "Training:  55%|█████▍    | 28/51 [00:08<00:07,  3.26it/s]\u001b[A\n",
      "Training:  57%|█████▋    | 29/51 [00:08<00:06,  3.23it/s]\u001b[A\n",
      "Training:  59%|█████▉    | 30/51 [00:09<00:06,  3.21it/s]\u001b[A\n",
      "Training:  61%|██████    | 31/51 [00:09<00:06,  3.19it/s]\u001b[A\n",
      "Training:  63%|██████▎   | 32/51 [00:09<00:05,  3.18it/s]\u001b[A\n",
      "Training:  65%|██████▍   | 33/51 [00:10<00:05,  3.17it/s]\u001b[A\n",
      "Training:  67%|██████▋   | 34/51 [00:10<00:05,  3.17it/s]\u001b[A\n",
      "Training:  69%|██████▊   | 35/51 [00:10<00:05,  3.16it/s]\u001b[A\n",
      "Training:  71%|███████   | 36/51 [00:10<00:04,  3.16it/s]\u001b[A\n",
      "Training:  73%|███████▎  | 37/51 [00:11<00:04,  3.16it/s]\u001b[A\n",
      "Training:  75%|███████▍  | 38/51 [00:11<00:04,  3.17it/s]\u001b[A\n",
      "Training:  76%|███████▋  | 39/51 [00:11<00:03,  3.16it/s]\u001b[A\n",
      "Training:  78%|███████▊  | 40/51 [00:12<00:03,  3.16it/s]\u001b[A\n",
      "Training:  80%|████████  | 41/51 [00:12<00:03,  3.16it/s]\u001b[A\n",
      "Training:  82%|████████▏ | 42/51 [00:12<00:02,  3.16it/s]\u001b[A\n",
      "Training:  84%|████████▍ | 43/51 [00:13<00:02,  3.19it/s]\u001b[A\n",
      "Training:  86%|████████▋ | 44/51 [00:13<00:02,  3.20it/s]\u001b[A\n",
      "Training:  88%|████████▊ | 45/51 [00:13<00:01,  3.22it/s]\u001b[A\n",
      "Training:  90%|█████████ | 46/51 [00:14<00:01,  3.22it/s]\u001b[A\n",
      "Training:  92%|█████████▏| 47/51 [00:14<00:01,  3.23it/s]\u001b[A\n",
      "Training:  94%|█████████▍| 48/51 [00:14<00:00,  3.22it/s]\u001b[A\n",
      "Training:  96%|█████████▌| 49/51 [00:15<00:00,  3.17it/s]\u001b[A\n",
      "Training: 100%|██████████| 51/51 [00:15<00:00,  3.30it/s]\u001b[A\n",
      "Epoch:  20%|██        | 2/10 [00:46<02:02, 15.34s/it]\n",
      "Evaluating:   0%|          | 0/7 [00:00<?, ?it/s]\u001b[A\n",
      "Evaluating:  14%|█▍        | 1/7 [00:00<00:00,  9.09it/s]\u001b[A"
     ]
    },
    {
     "name": "stdout",
     "output_type": "stream",
     "text": [
      "Execute [train_an_epoch] method costing 15466.74 ms\n",
      "[Epoch 2] loss: 27.145755991339684\n"
     ]
    },
    {
     "name": "stderr",
     "output_type": "stream",
     "text": [
      "\n",
      "Evaluating:  29%|██▊       | 2/7 [00:00<00:00,  9.13it/s]\u001b[A\n",
      "Evaluating:  43%|████▎     | 3/7 [00:00<00:00,  9.16it/s]\u001b[A\n",
      "Evaluating:  57%|█████▋    | 4/7 [00:00<00:00,  9.17it/s]\u001b[A\n",
      "Evaluating:  71%|███████▏  | 5/7 [00:00<00:00,  9.18it/s]\u001b[A\n",
      "Evaluating: 100%|██████████| 7/7 [00:00<00:00, 10.24it/s]\u001b[A\n"
     ]
    },
    {
     "name": "stdout",
     "output_type": "stream",
     "text": [
      "Execute [eval] method costing 687.33 ms\n",
      "------------------------------------------------------------\n",
      "[Epoch 2]performance on validation set\n",
      "+----+-----------------+----------+\n",
      "|    | metrics         |   values |\n",
      "|----+-----------------+----------|\n",
      "|  0 | accuracy        | 0.83     |\n",
      "|  1 | macro_precision | 0.404655 |\n",
      "|  2 | macro_recall    | 0.430352 |\n",
      "|  3 | macro_f1        | 0.416857 |\n",
      "|  4 | micro_precision | 0.83     |\n",
      "|  5 | micro_recall    | 0.83     |\n",
      "|  6 | micro_f1        | 0.83     |\n",
      "+----+-----------------+----------+\n",
      "------------------------------------------------------------\n"
     ]
    },
    {
     "name": "stderr",
     "output_type": "stream",
     "text": [
      "Epoch:  30%|███       | 3/10 [00:47<01:50, 15.72s/it]\n",
      "Training:   0%|          | 0/51 [00:00<?, ?it/s]\u001b[A\n",
      "Training:   2%|▏         | 1/51 [00:00<00:15,  3.26it/s]\u001b[A\n",
      "Training:   4%|▍         | 2/51 [00:00<00:15,  3.23it/s]\u001b[A\n",
      "Training:   6%|▌         | 3/51 [00:00<00:14,  3.21it/s]\u001b[A\n",
      "Training:   8%|▊         | 4/51 [00:01<00:14,  3.20it/s]\u001b[A\n",
      "Training:  10%|▉         | 5/51 [00:01<00:14,  3.19it/s]\u001b[A\n",
      "Training:  12%|█▏        | 6/51 [00:01<00:14,  3.18it/s]\u001b[A\n",
      "Training:  14%|█▎        | 7/51 [00:02<00:13,  3.18it/s]\u001b[A\n",
      "Training:  16%|█▌        | 8/51 [00:02<00:13,  3.18it/s]\u001b[A\n",
      "Training:  18%|█▊        | 9/51 [00:02<00:13,  3.17it/s]\u001b[A\n",
      "Training:  20%|█▉        | 10/51 [00:03<00:12,  3.19it/s]\u001b[A\n",
      "Training:  22%|██▏       | 11/51 [00:03<00:12,  3.19it/s]\u001b[A\n",
      "Training:  24%|██▎       | 12/51 [00:03<00:12,  3.21it/s]\u001b[A\n",
      "Training:  25%|██▌       | 13/51 [00:04<00:11,  3.20it/s]\u001b[A\n",
      "Training:  27%|██▋       | 14/51 [00:04<00:11,  3.18it/s]\u001b[A\n",
      "Training:  29%|██▉       | 15/51 [00:04<00:11,  3.16it/s]\u001b[A\n",
      "Training:  31%|███▏      | 16/51 [00:05<00:11,  3.15it/s]\u001b[A\n",
      "Training:  33%|███▎      | 17/51 [00:05<00:10,  3.14it/s]\u001b[A\n",
      "Training:  35%|███▌      | 18/51 [00:05<00:10,  3.14it/s]\u001b[A\n",
      "Training:  37%|███▋      | 19/51 [00:05<00:10,  3.13it/s]\u001b[A\n",
      "Training:  39%|███▉      | 20/51 [00:06<00:09,  3.13it/s]\u001b[A\n",
      "Training:  41%|████      | 21/51 [00:06<00:09,  3.16it/s]\u001b[A\n",
      "Training:  43%|████▎     | 22/51 [00:06<00:09,  3.13it/s]\u001b[A\n",
      "Training:  45%|████▌     | 23/51 [00:07<00:09,  3.09it/s]\u001b[A\n",
      "Training:  47%|████▋     | 24/51 [00:07<00:08,  3.07it/s]\u001b[A\n",
      "Training:  49%|████▉     | 25/51 [00:07<00:08,  3.05it/s]\u001b[A\n",
      "Training:  51%|█████     | 26/51 [00:08<00:08,  3.03it/s]\u001b[A\n",
      "Training:  53%|█████▎    | 27/51 [00:08<00:07,  3.03it/s]\u001b[A\n",
      "Training:  55%|█████▍    | 28/51 [00:08<00:07,  3.03it/s]\u001b[A\n",
      "Training:  57%|█████▋    | 29/51 [00:09<00:07,  3.03it/s]\u001b[A\n",
      "Training:  59%|█████▉    | 30/51 [00:09<00:06,  3.02it/s]\u001b[A\n",
      "Training:  61%|██████    | 31/51 [00:09<00:06,  3.02it/s]\u001b[A\n",
      "Training:  63%|██████▎   | 32/51 [00:10<00:06,  3.02it/s]\u001b[A\n",
      "Training:  65%|██████▍   | 33/51 [00:10<00:05,  3.01it/s]\u001b[A\n",
      "Training:  67%|██████▋   | 34/51 [00:10<00:05,  3.01it/s]\u001b[A\n",
      "Training:  69%|██████▊   | 35/51 [00:11<00:05,  3.01it/s]\u001b[A\n",
      "Training:  71%|███████   | 36/51 [00:11<00:04,  3.01it/s]\u001b[A\n",
      "Training:  73%|███████▎  | 37/51 [00:11<00:04,  3.01it/s]\u001b[A\n",
      "Training:  75%|███████▍  | 38/51 [00:12<00:04,  3.01it/s]\u001b[A\n",
      "Training:  76%|███████▋  | 39/51 [00:12<00:03,  3.01it/s]\u001b[A\n",
      "Training:  78%|███████▊  | 40/51 [00:12<00:03,  3.01it/s]\u001b[A\n",
      "Training:  80%|████████  | 41/51 [00:13<00:03,  3.01it/s]\u001b[A\n",
      "Training:  82%|████████▏ | 42/51 [00:13<00:02,  3.01it/s]\u001b[A\n",
      "Training:  84%|████████▍ | 43/51 [00:13<00:02,  3.01it/s]\u001b[A\n",
      "Training:  86%|████████▋ | 44/51 [00:14<00:02,  3.01it/s]\u001b[A\n",
      "Training:  88%|████████▊ | 45/51 [00:14<00:01,  3.01it/s]\u001b[A\n",
      "Training:  90%|█████████ | 46/51 [00:14<00:01,  3.01it/s]\u001b[A\n",
      "Training:  92%|█████████▏| 47/51 [00:15<00:01,  3.01it/s]\u001b[A\n",
      "Training:  94%|█████████▍| 48/51 [00:15<00:00,  3.02it/s]\u001b[A\n",
      "Training:  96%|█████████▌| 49/51 [00:15<00:00,  3.03it/s]\u001b[A\n",
      "Training: 100%|██████████| 51/51 [00:16<00:00,  3.13it/s]\u001b[A\n",
      "Epoch:  30%|███       | 3/10 [01:03<01:50, 15.72s/it]\n",
      "Evaluating:   0%|          | 0/7 [00:00<?, ?it/s]\u001b[A\n",
      "Evaluating:  14%|█▍        | 1/7 [00:00<00:00,  9.29it/s]\u001b[A"
     ]
    },
    {
     "name": "stdout",
     "output_type": "stream",
     "text": [
      "Execute [train_an_epoch] method costing 16309.37 ms\n",
      "[Epoch 3] loss: 20.09278702735901\n"
     ]
    },
    {
     "name": "stderr",
     "output_type": "stream",
     "text": [
      "\n",
      "Evaluating:  29%|██▊       | 2/7 [00:00<00:00,  9.26it/s]\u001b[A\n",
      "Evaluating:  43%|████▎     | 3/7 [00:00<00:00,  9.26it/s]\u001b[A\n",
      "Evaluating:  57%|█████▋    | 4/7 [00:00<00:00,  9.25it/s]\u001b[A\n",
      "Evaluating:  71%|███████▏  | 5/7 [00:00<00:00,  9.24it/s]\u001b[A\n",
      "Evaluating: 100%|██████████| 7/7 [00:00<00:00, 10.31it/s]\u001b[A\n",
      "Epoch:  40%|████      | 4/10 [01:04<01:36, 16.10s/it]\n",
      "Training:   0%|          | 0/51 [00:00<?, ?it/s]\u001b[A"
     ]
    },
    {
     "name": "stdout",
     "output_type": "stream",
     "text": [
      "Execute [eval] method costing 683.08 ms\n"
     ]
    },
    {
     "name": "stderr",
     "output_type": "stream",
     "text": [
      "\n",
      "Training:   2%|▏         | 1/51 [00:00<00:16,  3.11it/s]\u001b[A\n",
      "Training:   4%|▍         | 2/51 [00:00<00:15,  3.09it/s]\u001b[A\n",
      "Training:   6%|▌         | 3/51 [00:00<00:15,  3.09it/s]\u001b[A\n",
      "Training:   8%|▊         | 4/51 [00:01<00:15,  3.08it/s]\u001b[A\n",
      "Training:  10%|▉         | 5/51 [00:01<00:14,  3.07it/s]\u001b[A\n",
      "Training:  12%|█▏        | 6/51 [00:01<00:14,  3.07it/s]\u001b[A\n",
      "Training:  14%|█▎        | 7/51 [00:02<00:14,  3.07it/s]\u001b[A\n",
      "Training:  16%|█▌        | 8/51 [00:02<00:14,  3.07it/s]\u001b[A\n",
      "Training:  18%|█▊        | 9/51 [00:02<00:13,  3.07it/s]\u001b[A\n",
      "Training:  20%|█▉        | 10/51 [00:03<00:13,  3.07it/s]\u001b[A\n",
      "Training:  22%|██▏       | 11/51 [00:03<00:13,  3.07it/s]\u001b[A\n",
      "Training:  24%|██▎       | 12/51 [00:03<00:12,  3.07it/s]\u001b[A\n",
      "Training:  25%|██▌       | 13/51 [00:04<00:12,  3.07it/s]\u001b[A\n",
      "Training:  27%|██▋       | 14/51 [00:04<00:12,  3.06it/s]\u001b[A\n",
      "Training:  29%|██▉       | 15/51 [00:04<00:11,  3.06it/s]\u001b[A\n",
      "Training:  31%|███▏      | 16/51 [00:05<00:11,  3.07it/s]\u001b[A\n",
      "Training:  33%|███▎      | 17/51 [00:05<00:11,  3.07it/s]\u001b[A\n",
      "Training:  35%|███▌      | 18/51 [00:05<00:10,  3.06it/s]\u001b[A\n",
      "Training:  37%|███▋      | 19/51 [00:06<00:10,  3.06it/s]\u001b[A\n",
      "Training:  39%|███▉      | 20/51 [00:06<00:10,  3.06it/s]\u001b[A\n",
      "Training:  41%|████      | 21/51 [00:06<00:09,  3.06it/s]\u001b[A\n",
      "Training:  43%|████▎     | 22/51 [00:07<00:09,  3.06it/s]\u001b[A\n",
      "Training:  45%|████▌     | 23/51 [00:07<00:09,  3.06it/s]\u001b[A\n",
      "Training:  47%|████▋     | 24/51 [00:07<00:08,  3.06it/s]\u001b[A\n",
      "Training:  49%|████▉     | 25/51 [00:08<00:08,  3.07it/s]\u001b[A\n",
      "Training:  51%|█████     | 26/51 [00:08<00:08,  3.06it/s]\u001b[A\n",
      "Training:  53%|█████▎    | 27/51 [00:08<00:07,  3.06it/s]\u001b[A\n",
      "Training:  55%|█████▍    | 28/51 [00:09<00:07,  3.06it/s]\u001b[A\n",
      "Training:  57%|█████▋    | 29/51 [00:09<00:07,  3.07it/s]\u001b[A\n",
      "Training:  59%|█████▉    | 30/51 [00:09<00:06,  3.06it/s]\u001b[A\n",
      "Training:  61%|██████    | 31/51 [00:10<00:06,  3.07it/s]\u001b[A\n",
      "Training:  63%|██████▎   | 32/51 [00:10<00:06,  3.07it/s]\u001b[A\n",
      "Training:  65%|██████▍   | 33/51 [00:10<00:05,  3.07it/s]\u001b[A\n",
      "Training:  67%|██████▋   | 34/51 [00:11<00:05,  3.07it/s]\u001b[A\n",
      "Training:  69%|██████▊   | 35/51 [00:11<00:05,  3.07it/s]\u001b[A\n",
      "Training:  71%|███████   | 36/51 [00:11<00:04,  3.07it/s]\u001b[A\n",
      "Training:  73%|███████▎  | 37/51 [00:12<00:04,  3.07it/s]\u001b[A\n",
      "Training:  75%|███████▍  | 38/51 [00:12<00:04,  3.05it/s]\u001b[A\n",
      "Training:  76%|███████▋  | 39/51 [00:12<00:04,  3.00it/s]\u001b[A\n",
      "Training:  78%|███████▊  | 40/51 [00:13<00:03,  2.96it/s]\u001b[A\n",
      "Training:  80%|████████  | 41/51 [00:13<00:03,  2.95it/s]\u001b[A\n",
      "Training:  82%|████████▏ | 42/51 [00:13<00:03,  2.93it/s]\u001b[A\n",
      "Training:  84%|████████▍ | 43/51 [00:14<00:02,  2.92it/s]\u001b[A\n",
      "Training:  86%|████████▋ | 44/51 [00:14<00:02,  2.90it/s]\u001b[A\n",
      "Training:  88%|████████▊ | 45/51 [00:14<00:02,  2.89it/s]\u001b[A\n",
      "Training:  90%|█████████ | 46/51 [00:15<00:01,  2.88it/s]\u001b[A\n",
      "Training:  92%|█████████▏| 47/51 [00:15<00:01,  2.88it/s]\u001b[A\n",
      "Training:  94%|█████████▍| 48/51 [00:15<00:01,  2.87it/s]\u001b[A\n",
      "Training:  96%|█████████▌| 49/51 [00:16<00:00,  2.87it/s]\u001b[A\n",
      "Training: 100%|██████████| 51/51 [00:16<00:00,  3.06it/s]\u001b[A\n",
      "Epoch:  40%|████      | 4/10 [01:21<01:36, 16.10s/it]\n",
      "Evaluating:   0%|          | 0/7 [00:00<?, ?it/s]\u001b[A\n",
      "Evaluating:  14%|█▍        | 1/7 [00:00<00:00,  8.58it/s]\u001b[A"
     ]
    },
    {
     "name": "stdout",
     "output_type": "stream",
     "text": [
      "Execute [train_an_epoch] method costing 16649.67 ms\n",
      "[Epoch 4] loss: 17.160867378115654\n"
     ]
    },
    {
     "name": "stderr",
     "output_type": "stream",
     "text": [
      "\n",
      "Evaluating:  29%|██▊       | 2/7 [00:00<00:00,  8.60it/s]\u001b[A\n",
      "Evaluating:  43%|████▎     | 3/7 [00:00<00:00,  8.61it/s]\u001b[A\n",
      "Evaluating:  57%|█████▋    | 4/7 [00:00<00:00,  8.62it/s]\u001b[A\n",
      "Evaluating:  71%|███████▏  | 5/7 [00:00<00:00,  8.64it/s]\u001b[A\n",
      "Evaluating: 100%|██████████| 7/7 [00:00<00:00,  9.65it/s]\u001b[A\n"
     ]
    },
    {
     "name": "stdout",
     "output_type": "stream",
     "text": [
      "Execute [eval] method costing 729.22 ms\n",
      "------------------------------------------------------------\n",
      "[Epoch 4]performance on validation set\n",
      "+----+-----------------+----------+\n",
      "|    | metrics         |   values |\n",
      "|----+-----------------+----------|\n",
      "|  0 | accuracy        | 0.88     |\n",
      "|  1 | macro_precision | 0.56026  |\n",
      "|  2 | macro_recall    | 0.536901 |\n",
      "|  3 | macro_f1        | 0.544016 |\n",
      "|  4 | micro_precision | 0.88     |\n",
      "|  5 | micro_recall    | 0.88     |\n",
      "|  6 | micro_f1        | 0.88     |\n",
      "+----+-----------------+----------+\n",
      "------------------------------------------------------------\n"
     ]
    },
    {
     "name": "stderr",
     "output_type": "stream",
     "text": [
      "Epoch:  50%|█████     | 5/10 [01:22<01:23, 16.62s/it]\n",
      "Training:   0%|          | 0/51 [00:00<?, ?it/s]\u001b[A\n",
      "Training:   2%|▏         | 1/51 [00:00<00:16,  3.03it/s]\u001b[A\n",
      "Training:   4%|▍         | 2/51 [00:00<00:16,  3.01it/s]\u001b[A\n",
      "Training:   6%|▌         | 3/51 [00:01<00:15,  3.01it/s]\u001b[A\n",
      "Training:   8%|▊         | 4/51 [00:01<00:15,  2.99it/s]\u001b[A\n",
      "Training:  10%|▉         | 5/51 [00:01<00:15,  2.98it/s]\u001b[A\n",
      "Training:  12%|█▏        | 6/51 [00:02<00:15,  2.95it/s]\u001b[A\n",
      "Training:  14%|█▎        | 7/51 [00:02<00:15,  2.93it/s]\u001b[A\n",
      "Training:  16%|█▌        | 8/51 [00:02<00:14,  2.91it/s]\u001b[A\n",
      "Training:  18%|█▊        | 9/51 [00:03<00:14,  2.90it/s]\u001b[A\n",
      "Training:  20%|█▉        | 10/51 [00:03<00:14,  2.89it/s]\u001b[A\n",
      "Training:  22%|██▏       | 11/51 [00:03<00:13,  2.88it/s]\u001b[A\n",
      "Training:  24%|██▎       | 12/51 [00:04<00:13,  2.88it/s]\u001b[A\n",
      "Training:  25%|██▌       | 13/51 [00:04<00:13,  2.87it/s]\u001b[A\n",
      "Training:  27%|██▋       | 14/51 [00:04<00:12,  2.87it/s]\u001b[A\n",
      "Training:  29%|██▉       | 15/51 [00:05<00:12,  2.87it/s]\u001b[A\n",
      "Training:  31%|███▏      | 16/51 [00:05<00:12,  2.87it/s]\u001b[A\n",
      "Training:  33%|███▎      | 17/51 [00:05<00:11,  2.87it/s]\u001b[A\n",
      "Training:  35%|███▌      | 18/51 [00:06<00:11,  2.87it/s]\u001b[A\n",
      "Training:  37%|███▋      | 19/51 [00:06<00:11,  2.87it/s]\u001b[A\n",
      "Training:  39%|███▉      | 20/51 [00:06<00:10,  2.87it/s]\u001b[A\n",
      "Training:  41%|████      | 21/51 [00:07<00:10,  2.87it/s]\u001b[A\n",
      "Training:  43%|████▎     | 22/51 [00:07<00:10,  2.87it/s]\u001b[A\n",
      "Training:  45%|████▌     | 23/51 [00:07<00:09,  2.87it/s]\u001b[A\n",
      "Training:  47%|████▋     | 24/51 [00:08<00:09,  2.87it/s]\u001b[A\n",
      "Training:  49%|████▉     | 25/51 [00:08<00:09,  2.86it/s]\u001b[A\n",
      "Training:  51%|█████     | 26/51 [00:09<00:08,  2.86it/s]\u001b[A\n",
      "Training:  53%|█████▎    | 27/51 [00:09<00:08,  2.87it/s]\u001b[A\n",
      "Training:  55%|█████▍    | 28/51 [00:09<00:08,  2.87it/s]\u001b[A\n",
      "Training:  57%|█████▋    | 29/51 [00:10<00:07,  2.87it/s]\u001b[A\n",
      "Training:  59%|█████▉    | 30/51 [00:10<00:07,  2.87it/s]\u001b[A\n",
      "Training:  61%|██████    | 31/51 [00:10<00:06,  2.86it/s]\u001b[A\n",
      "Training:  63%|██████▎   | 32/51 [00:11<00:06,  2.86it/s]\u001b[A\n",
      "Training:  65%|██████▍   | 33/51 [00:11<00:06,  2.86it/s]\u001b[A\n",
      "Training:  67%|██████▋   | 34/51 [00:11<00:05,  2.87it/s]\u001b[A\n",
      "Training:  69%|██████▊   | 35/51 [00:12<00:05,  2.87it/s]\u001b[A\n",
      "Training:  71%|███████   | 36/51 [00:12<00:05,  2.87it/s]\u001b[A\n",
      "Training:  73%|███████▎  | 37/51 [00:12<00:04,  2.87it/s]\u001b[A\n",
      "Training:  75%|███████▍  | 38/51 [00:13<00:04,  2.86it/s]\u001b[A\n",
      "Training:  76%|███████▋  | 39/51 [00:13<00:04,  2.87it/s]\u001b[A\n",
      "Training:  78%|███████▊  | 40/51 [00:13<00:03,  2.86it/s]\u001b[A\n",
      "Training:  80%|████████  | 41/51 [00:14<00:03,  2.86it/s]\u001b[A\n",
      "Training:  82%|████████▏ | 42/51 [00:14<00:03,  2.86it/s]\u001b[A\n",
      "Training:  84%|████████▍ | 43/51 [00:14<00:02,  2.86it/s]\u001b[A\n",
      "Training:  86%|████████▋ | 44/51 [00:15<00:02,  2.86it/s]\u001b[A\n",
      "Training:  88%|████████▊ | 45/51 [00:15<00:02,  2.86it/s]\u001b[A\n",
      "Training:  90%|█████████ | 46/51 [00:15<00:01,  2.86it/s]\u001b[A\n",
      "Training:  92%|█████████▏| 47/51 [00:16<00:01,  2.86it/s]\u001b[A\n",
      "Training:  94%|█████████▍| 48/51 [00:16<00:01,  2.86it/s]\u001b[A\n",
      "Training:  96%|█████████▌| 49/51 [00:17<00:00,  2.86it/s]\u001b[A\n",
      "Training: 100%|██████████| 51/51 [00:17<00:00,  2.92it/s]\u001b[A\n",
      "Epoch:  50%|█████     | 5/10 [01:39<01:23, 16.62s/it]\n",
      "Evaluating:   0%|          | 0/7 [00:00<?, ?it/s]\u001b[A\n",
      "Evaluating:  14%|█▍        | 1/7 [00:00<00:00,  8.62it/s]\u001b[A"
     ]
    },
    {
     "name": "stdout",
     "output_type": "stream",
     "text": [
      "Execute [train_an_epoch] method costing 17461.41 ms\n",
      "[Epoch 5] loss: 14.759841367602348\n"
     ]
    },
    {
     "name": "stderr",
     "output_type": "stream",
     "text": [
      "\n",
      "Evaluating:  29%|██▊       | 2/7 [00:00<00:00,  8.60it/s]\u001b[A\n",
      "Evaluating:  43%|████▎     | 3/7 [00:00<00:00,  8.61it/s]\u001b[A\n",
      "Evaluating:  57%|█████▋    | 4/7 [00:00<00:00,  8.61it/s]\u001b[A\n",
      "Evaluating:  71%|███████▏  | 5/7 [00:00<00:00,  8.62it/s]\u001b[A\n",
      "Evaluating: 100%|██████████| 7/7 [00:00<00:00,  9.59it/s]\u001b[A\n",
      "Epoch:  60%|██████    | 6/10 [01:40<01:08, 17.10s/it]\n",
      "Training:   0%|          | 0/51 [00:00<?, ?it/s]\u001b[A"
     ]
    },
    {
     "name": "stdout",
     "output_type": "stream",
     "text": [
      "Execute [eval] method costing 733.74 ms\n"
     ]
    },
    {
     "name": "stderr",
     "output_type": "stream",
     "text": [
      "\n",
      "Training:   2%|▏         | 1/51 [00:00<00:17,  2.90it/s]\u001b[A\n",
      "Training:   4%|▍         | 2/51 [00:00<00:16,  2.94it/s]\u001b[A\n",
      "Training:   6%|▌         | 3/51 [00:01<00:16,  2.98it/s]\u001b[A\n",
      "Training:   8%|▊         | 4/51 [00:01<00:15,  3.01it/s]\u001b[A\n",
      "Training:  10%|▉         | 5/51 [00:01<00:15,  2.99it/s]\u001b[A\n",
      "Training:  12%|█▏        | 6/51 [00:01<00:15,  2.99it/s]\u001b[A\n",
      "Training:  14%|█▎        | 7/51 [00:02<00:14,  2.99it/s]\u001b[A\n",
      "Training:  16%|█▌        | 8/51 [00:02<00:14,  2.99it/s]\u001b[A\n",
      "Training:  18%|█▊        | 9/51 [00:03<00:14,  2.99it/s]\u001b[A\n",
      "Training:  20%|█▉        | 10/51 [00:03<00:13,  2.99it/s]\u001b[A\n",
      "Training:  22%|██▏       | 11/51 [00:03<00:13,  2.99it/s]\u001b[A\n",
      "Training:  24%|██▎       | 12/51 [00:04<00:13,  2.99it/s]\u001b[A\n",
      "Training:  25%|██▌       | 13/51 [00:04<00:12,  2.98it/s]\u001b[A\n",
      "Training:  27%|██▋       | 14/51 [00:04<00:12,  2.98it/s]\u001b[A\n",
      "Training:  29%|██▉       | 15/51 [00:05<00:12,  2.98it/s]\u001b[A\n",
      "Training:  31%|███▏      | 16/51 [00:05<00:11,  2.98it/s]\u001b[A\n",
      "Training:  33%|███▎      | 17/51 [00:05<00:11,  2.98it/s]\u001b[A\n",
      "Training:  35%|███▌      | 18/51 [00:06<00:11,  2.99it/s]\u001b[A\n",
      "Training:  37%|███▋      | 19/51 [00:06<00:10,  2.98it/s]\u001b[A\n",
      "Training:  39%|███▉      | 20/51 [00:06<00:10,  2.98it/s]\u001b[A\n",
      "Training:  41%|████      | 21/51 [00:07<00:10,  2.98it/s]\u001b[A\n",
      "Training:  43%|████▎     | 22/51 [00:07<00:09,  2.98it/s]\u001b[A\n",
      "Training:  45%|████▌     | 23/51 [00:07<00:09,  2.98it/s]\u001b[A\n",
      "Training:  47%|████▋     | 24/51 [00:08<00:09,  2.97it/s]\u001b[A\n",
      "Training:  49%|████▉     | 25/51 [00:08<00:08,  2.97it/s]\u001b[A\n",
      "Training:  51%|█████     | 26/51 [00:08<00:08,  2.97it/s]\u001b[A\n",
      "Training:  53%|█████▎    | 27/51 [00:09<00:08,  2.97it/s]\u001b[A\n",
      "Training:  55%|█████▍    | 28/51 [00:09<00:07,  2.97it/s]\u001b[A\n",
      "Training:  57%|█████▋    | 29/51 [00:09<00:07,  2.98it/s]\u001b[A\n",
      "Training:  59%|█████▉    | 30/51 [00:10<00:07,  2.97it/s]\u001b[A\n",
      "Training:  61%|██████    | 31/51 [00:10<00:06,  2.97it/s]\u001b[A\n",
      "Training:  63%|██████▎   | 32/51 [00:10<00:06,  2.97it/s]\u001b[A\n",
      "Training:  65%|██████▍   | 33/51 [00:11<00:06,  2.97it/s]\u001b[A\n",
      "Training:  67%|██████▋   | 34/51 [00:11<00:05,  2.97it/s]\u001b[A\n",
      "Training:  69%|██████▊   | 35/51 [00:11<00:05,  2.97it/s]\u001b[A\n",
      "Training:  71%|███████   | 36/51 [00:12<00:05,  2.97it/s]\u001b[A\n",
      "Training:  73%|███████▎  | 37/51 [00:12<00:04,  2.97it/s]\u001b[A\n",
      "Training:  75%|███████▍  | 38/51 [00:12<00:04,  2.97it/s]\u001b[A\n",
      "Training:  76%|███████▋  | 39/51 [00:13<00:04,  2.98it/s]\u001b[A\n",
      "Training:  78%|███████▊  | 40/51 [00:13<00:03,  2.97it/s]\u001b[A\n",
      "Training:  80%|████████  | 41/51 [00:13<00:03,  2.98it/s]\u001b[A\n",
      "Training:  82%|████████▏ | 42/51 [00:14<00:03,  2.97it/s]\u001b[A\n",
      "Training:  84%|████████▍ | 43/51 [00:14<00:02,  2.98it/s]\u001b[A\n",
      "Training:  86%|████████▋ | 44/51 [00:14<00:02,  2.97it/s]\u001b[A\n",
      "Training:  88%|████████▊ | 45/51 [00:15<00:02,  2.97it/s]\u001b[A\n",
      "Training:  90%|█████████ | 46/51 [00:15<00:01,  2.98it/s]\u001b[A\n",
      "Training:  92%|█████████▏| 47/51 [00:15<00:01,  2.98it/s]\u001b[A\n",
      "Training:  94%|█████████▍| 48/51 [00:16<00:01,  2.98it/s]\u001b[A\n",
      "Training:  96%|█████████▌| 49/51 [00:16<00:00,  2.98it/s]\u001b[A\n",
      "Training: 100%|██████████| 51/51 [00:16<00:00,  3.03it/s]\u001b[A\n",
      "Epoch:  60%|██████    | 6/10 [01:57<01:08, 17.10s/it]\n",
      "Evaluating:   0%|          | 0/7 [00:00<?, ?it/s]\u001b[A\n",
      "Evaluating:  14%|█▍        | 1/7 [00:00<00:00,  9.08it/s]\u001b[A"
     ]
    },
    {
     "name": "stdout",
     "output_type": "stream",
     "text": [
      "Execute [train_an_epoch] method costing 16845.88 ms\n",
      "[Epoch 6] loss: 10.189044892787933\n"
     ]
    },
    {
     "name": "stderr",
     "output_type": "stream",
     "text": [
      "\n",
      "Evaluating:  29%|██▊       | 2/7 [00:00<00:00,  9.05it/s]\u001b[A\n",
      "Evaluating:  43%|████▎     | 3/7 [00:00<00:00,  9.02it/s]\u001b[A\n",
      "Evaluating:  57%|█████▋    | 4/7 [00:00<00:00,  9.01it/s]\u001b[A\n",
      "Evaluating:  71%|███████▏  | 5/7 [00:00<00:00,  8.99it/s]\u001b[A\n",
      "Evaluating: 100%|██████████| 7/7 [00:00<00:00, 10.05it/s]\u001b[A\n",
      "Epoch:  70%|███████   | 7/10 [01:57<00:51, 17.23s/it]\n",
      "Training:   0%|          | 0/51 [00:00<?, ?it/s]\u001b[A"
     ]
    },
    {
     "name": "stdout",
     "output_type": "stream",
     "text": [
      "Execute [eval] method costing 700.94 ms\n"
     ]
    },
    {
     "name": "stderr",
     "output_type": "stream",
     "text": [
      "\n",
      "Training:   2%|▏         | 1/51 [00:00<00:16,  3.01it/s]\u001b[A\n",
      "Training:   4%|▍         | 2/51 [00:00<00:16,  3.00it/s]\u001b[A\n",
      "Training:   6%|▌         | 3/51 [00:01<00:16,  3.00it/s]\u001b[A\n",
      "Training:   8%|▊         | 4/51 [00:01<00:15,  3.00it/s]\u001b[A\n",
      "Training:  10%|▉         | 5/51 [00:01<00:15,  3.00it/s]\u001b[A\n",
      "Training:  12%|█▏        | 6/51 [00:02<00:15,  3.00it/s]\u001b[A\n",
      "Training:  14%|█▎        | 7/51 [00:02<00:14,  3.00it/s]\u001b[A\n",
      "Training:  16%|█▌        | 8/51 [00:02<00:14,  2.99it/s]\u001b[A\n",
      "Training:  18%|█▊        | 9/51 [00:03<00:14,  2.98it/s]\u001b[A\n",
      "Training:  20%|█▉        | 10/51 [00:03<00:13,  2.98it/s]\u001b[A\n",
      "Training:  22%|██▏       | 11/51 [00:03<00:13,  2.97it/s]\u001b[A\n",
      "Training:  24%|██▎       | 12/51 [00:04<00:13,  2.98it/s]\u001b[A\n",
      "Training:  25%|██▌       | 13/51 [00:04<00:12,  2.99it/s]\u001b[A\n",
      "Training:  27%|██▋       | 14/51 [00:04<00:12,  2.99it/s]\u001b[A\n",
      "Training:  29%|██▉       | 15/51 [00:05<00:12,  2.98it/s]\u001b[A\n",
      "Training:  31%|███▏      | 16/51 [00:05<00:11,  2.99it/s]\u001b[A\n",
      "Training:  33%|███▎      | 17/51 [00:05<00:11,  2.99it/s]\u001b[A\n",
      "Training:  35%|███▌      | 18/51 [00:06<00:11,  3.00it/s]\u001b[A\n",
      "Training:  37%|███▋      | 19/51 [00:06<00:10,  3.00it/s]\u001b[A\n",
      "Training:  39%|███▉      | 20/51 [00:06<00:10,  2.99it/s]\u001b[A\n",
      "Training:  41%|████      | 21/51 [00:07<00:10,  2.99it/s]\u001b[A\n",
      "Training:  43%|████▎     | 22/51 [00:07<00:09,  2.99it/s]\u001b[A\n",
      "Training:  45%|████▌     | 23/51 [00:07<00:09,  2.98it/s]\u001b[A\n",
      "Training:  47%|████▋     | 24/51 [00:08<00:09,  2.98it/s]\u001b[A\n",
      "Training:  49%|████▉     | 25/51 [00:08<00:08,  2.98it/s]\u001b[A\n",
      "Training:  51%|█████     | 26/51 [00:08<00:08,  2.98it/s]\u001b[A\n",
      "Training:  53%|█████▎    | 27/51 [00:09<00:08,  2.98it/s]\u001b[A\n",
      "Training:  55%|█████▍    | 28/51 [00:09<00:07,  2.98it/s]\u001b[A\n",
      "Training:  57%|█████▋    | 29/51 [00:09<00:07,  2.97it/s]\u001b[A\n",
      "Training:  59%|█████▉    | 30/51 [00:10<00:07,  2.97it/s]\u001b[A\n",
      "Training:  61%|██████    | 31/51 [00:10<00:06,  2.97it/s]\u001b[A\n",
      "Training:  63%|██████▎   | 32/51 [00:10<00:06,  2.98it/s]\u001b[A\n",
      "Training:  65%|██████▍   | 33/51 [00:11<00:06,  2.99it/s]\u001b[A\n",
      "Training:  67%|██████▋   | 34/51 [00:11<00:05,  2.98it/s]\u001b[A\n",
      "Training:  69%|██████▊   | 35/51 [00:11<00:05,  2.98it/s]\u001b[A\n",
      "Training:  71%|███████   | 36/51 [00:12<00:05,  2.98it/s]\u001b[A\n",
      "Training:  73%|███████▎  | 37/51 [00:12<00:04,  2.98it/s]\u001b[A\n",
      "Training:  75%|███████▍  | 38/51 [00:12<00:04,  2.99it/s]\u001b[A\n",
      "Training:  76%|███████▋  | 39/51 [00:13<00:04,  2.99it/s]\u001b[A\n",
      "Training:  78%|███████▊  | 40/51 [00:13<00:03,  2.99it/s]\u001b[A\n",
      "Training:  80%|████████  | 41/51 [00:13<00:03,  2.99it/s]\u001b[A\n",
      "Training:  82%|████████▏ | 42/51 [00:14<00:03,  2.99it/s]\u001b[A\n",
      "Training:  84%|████████▍ | 43/51 [00:14<00:02,  2.99it/s]\u001b[A\n",
      "Training:  86%|████████▋ | 44/51 [00:14<00:02,  2.98it/s]\u001b[A\n",
      "Training:  88%|████████▊ | 45/51 [00:15<00:02,  2.98it/s]\u001b[A\n",
      "Training:  90%|█████████ | 46/51 [00:15<00:01,  2.98it/s]\u001b[A\n",
      "Training:  92%|█████████▏| 47/51 [00:15<00:01,  2.98it/s]\u001b[A\n",
      "Training:  94%|█████████▍| 48/51 [00:16<00:01,  2.98it/s]\u001b[A\n",
      "Training:  96%|█████████▌| 49/51 [00:16<00:00,  2.97it/s]\u001b[A\n",
      "Training: 100%|██████████| 51/51 [00:16<00:00,  3.03it/s]\u001b[A\n",
      "Epoch:  70%|███████   | 7/10 [02:14<00:51, 17.23s/it]\n",
      "Evaluating:   0%|          | 0/7 [00:00<?, ?it/s]\u001b[A\n",
      "Evaluating:  14%|█▍        | 1/7 [00:00<00:00,  8.99it/s]\u001b[A"
     ]
    },
    {
     "name": "stdout",
     "output_type": "stream",
     "text": [
      "Execute [train_an_epoch] method costing 16825.04 ms\n",
      "[Epoch 7] loss: 7.5422279834747314\n"
     ]
    },
    {
     "name": "stderr",
     "output_type": "stream",
     "text": [
      "\n",
      "Evaluating:  29%|██▊       | 2/7 [00:00<00:00,  8.99it/s]\u001b[A\n",
      "Evaluating:  43%|████▎     | 3/7 [00:00<00:00,  9.00it/s]\u001b[A\n",
      "Evaluating:  57%|█████▋    | 4/7 [00:00<00:00,  9.02it/s]\u001b[A\n",
      "Evaluating:  71%|███████▏  | 5/7 [00:00<00:00,  9.02it/s]\u001b[A\n",
      "Evaluating: 100%|██████████| 7/7 [00:00<00:00, 10.07it/s]\u001b[A\n",
      "Epoch:  80%|████████  | 8/10 [02:15<00:34, 17.32s/it]\n",
      "Training:   0%|          | 0/51 [00:00<?, ?it/s]\u001b[A"
     ]
    },
    {
     "name": "stdout",
     "output_type": "stream",
     "text": [
      "Execute [eval] method costing 699.10 ms\n"
     ]
    },
    {
     "name": "stderr",
     "output_type": "stream",
     "text": [
      "\n",
      "Training:   2%|▏         | 1/51 [00:00<00:16,  3.02it/s]\u001b[A\n",
      "Training:   4%|▍         | 2/51 [00:00<00:16,  3.01it/s]\u001b[A\n",
      "Training:   6%|▌         | 3/51 [00:01<00:15,  3.00it/s]\u001b[A\n",
      "Training:   8%|▊         | 4/51 [00:01<00:15,  3.00it/s]\u001b[A\n",
      "Training:  10%|▉         | 5/51 [00:01<00:15,  2.99it/s]\u001b[A\n",
      "Training:  12%|█▏        | 6/51 [00:02<00:15,  2.99it/s]\u001b[A\n",
      "Training:  14%|█▎        | 7/51 [00:02<00:14,  2.98it/s]\u001b[A\n",
      "Training:  16%|█▌        | 8/51 [00:02<00:14,  2.98it/s]\u001b[A\n",
      "Training:  18%|█▊        | 9/51 [00:03<00:14,  2.98it/s]\u001b[A\n",
      "Training:  20%|█▉        | 10/51 [00:03<00:13,  2.98it/s]\u001b[A\n",
      "Training:  22%|██▏       | 11/51 [00:03<00:13,  2.99it/s]\u001b[A\n",
      "Training:  24%|██▎       | 12/51 [00:04<00:13,  2.98it/s]\u001b[A\n",
      "Training:  25%|██▌       | 13/51 [00:04<00:12,  2.98it/s]\u001b[A\n",
      "Training:  27%|██▋       | 14/51 [00:04<00:12,  2.99it/s]\u001b[A\n",
      "Training:  29%|██▉       | 15/51 [00:05<00:12,  2.98it/s]\u001b[A\n",
      "Training:  31%|███▏      | 16/51 [00:05<00:11,  2.98it/s]\u001b[A\n",
      "Training:  33%|███▎      | 17/51 [00:05<00:11,  2.97it/s]\u001b[A\n",
      "Training:  35%|███▌      | 18/51 [00:06<00:11,  2.97it/s]\u001b[A\n",
      "Training:  37%|███▋      | 19/51 [00:06<00:10,  2.97it/s]\u001b[A\n",
      "Training:  39%|███▉      | 20/51 [00:06<00:10,  2.97it/s]\u001b[A\n",
      "Training:  41%|████      | 21/51 [00:07<00:10,  2.98it/s]\u001b[A\n",
      "Training:  43%|████▎     | 22/51 [00:07<00:09,  2.97it/s]\u001b[A\n",
      "Training:  45%|████▌     | 23/51 [00:07<00:09,  2.97it/s]\u001b[A\n",
      "Training:  47%|████▋     | 24/51 [00:08<00:09,  2.97it/s]\u001b[A\n",
      "Training:  49%|████▉     | 25/51 [00:08<00:08,  2.97it/s]\u001b[A\n",
      "Training:  51%|█████     | 26/51 [00:08<00:08,  2.98it/s]\u001b[A\n",
      "Training:  53%|█████▎    | 27/51 [00:09<00:08,  2.97it/s]\u001b[A\n",
      "Training:  55%|█████▍    | 28/51 [00:09<00:07,  2.98it/s]\u001b[A\n",
      "Training:  57%|█████▋    | 29/51 [00:09<00:07,  2.99it/s]\u001b[A\n",
      "Training:  59%|█████▉    | 30/51 [00:10<00:07,  2.99it/s]\u001b[A\n",
      "Training:  61%|██████    | 31/51 [00:10<00:06,  2.99it/s]\u001b[A\n",
      "Training:  63%|██████▎   | 32/51 [00:10<00:06,  2.98it/s]\u001b[A\n",
      "Training:  65%|██████▍   | 33/51 [00:11<00:06,  2.98it/s]\u001b[A\n",
      "Training:  67%|██████▋   | 34/51 [00:11<00:05,  2.98it/s]\u001b[A\n",
      "Training:  69%|██████▊   | 35/51 [00:11<00:05,  2.98it/s]\u001b[A\n",
      "Training:  71%|███████   | 36/51 [00:12<00:05,  2.98it/s]\u001b[A\n",
      "Training:  73%|███████▎  | 37/51 [00:12<00:04,  2.98it/s]\u001b[A\n",
      "Training:  75%|███████▍  | 38/51 [00:12<00:04,  2.98it/s]\u001b[A\n",
      "Training:  76%|███████▋  | 39/51 [00:13<00:04,  2.99it/s]\u001b[A\n",
      "Training:  78%|███████▊  | 40/51 [00:13<00:03,  2.99it/s]\u001b[A\n",
      "Training:  80%|████████  | 41/51 [00:13<00:03,  2.99it/s]\u001b[A\n",
      "Training:  82%|████████▏ | 42/51 [00:14<00:03,  2.99it/s]\u001b[A\n",
      "Training:  84%|████████▍ | 43/51 [00:14<00:02,  2.99it/s]\u001b[A\n",
      "Training:  86%|████████▋ | 44/51 [00:14<00:02,  2.98it/s]\u001b[A\n",
      "Training:  88%|████████▊ | 45/51 [00:15<00:02,  2.99it/s]\u001b[A\n",
      "Training:  90%|█████████ | 46/51 [00:15<00:01,  2.98it/s]\u001b[A\n",
      "Training:  92%|█████████▏| 47/51 [00:15<00:01,  2.98it/s]\u001b[A\n",
      "Training:  94%|█████████▍| 48/51 [00:16<00:01,  2.98it/s]\u001b[A\n",
      "Training:  96%|█████████▌| 49/51 [00:16<00:00,  2.98it/s]\u001b[A\n",
      "Training: 100%|██████████| 51/51 [00:16<00:00,  3.03it/s]\u001b[A\n",
      "Epoch:  80%|████████  | 8/10 [02:32<00:34, 17.32s/it]\n",
      "Evaluating:   0%|          | 0/7 [00:00<?, ?it/s]\u001b[A\n",
      "Evaluating:  14%|█▍        | 1/7 [00:00<00:00,  9.07it/s]\u001b[A"
     ]
    },
    {
     "name": "stdout",
     "output_type": "stream",
     "text": [
      "Execute [train_an_epoch] method costing 16842.01 ms\n",
      "[Epoch 8] loss: 6.01769096404314\n"
     ]
    },
    {
     "name": "stderr",
     "output_type": "stream",
     "text": [
      "\n",
      "Evaluating:  29%|██▊       | 2/7 [00:00<00:00,  9.05it/s]\u001b[A\n",
      "Evaluating:  43%|████▎     | 3/7 [00:00<00:00,  9.04it/s]\u001b[A\n",
      "Evaluating:  57%|█████▋    | 4/7 [00:00<00:00,  9.03it/s]\u001b[A\n",
      "Evaluating:  71%|███████▏  | 5/7 [00:00<00:00,  9.03it/s]\u001b[A\n",
      "Evaluating: 100%|██████████| 7/7 [00:00<00:00, 10.07it/s]\u001b[A\n",
      "Epoch:  80%|████████  | 8/10 [02:33<00:38, 19.13s/it]"
     ]
    },
    {
     "name": "stdout",
     "output_type": "stream",
     "text": [
      "Execute [eval] method costing 699.31 ms\n",
      "Early Stopping. Epoch: 8, best_valid_metric (macro_f1): 0.5440158952781674\n"
     ]
    },
    {
     "name": "stderr",
     "output_type": "stream",
     "text": [
      "\n"
     ]
    }
   ],
   "source": [
    "cls.train(train_set,dev_set)"
   ]
  },
  {
   "cell_type": "code",
   "execution_count": 9,
   "metadata": {},
   "outputs": [
    {
     "name": "stderr",
     "output_type": "stream",
     "text": [
      "Evaluating: 100%|██████████| 7/7 [00:00<00:00, 10.40it/s]"
     ]
    },
    {
     "name": "stdout",
     "output_type": "stream",
     "text": [
      "Execute [eval] method costing 677.06 ms\n"
     ]
    },
    {
     "name": "stderr",
     "output_type": "stream",
     "text": [
      "\n"
     ]
    },
    {
     "data": {
      "text/plain": [
       "{'accuracy': 0.8415841584158416,\n",
       " 'macro_precision': 0.5433262711864407,\n",
       " 'macro_recall': 0.4935515873015873,\n",
       " 'macro_f1': 0.4968821510297483,\n",
       " 'micro_precision': 0.8415841584158416,\n",
       " 'micro_recall': 0.8415841584158416,\n",
       " 'micro_f1': 0.8415841584158416}"
      ]
     },
     "execution_count": 9,
     "metadata": {},
     "output_type": "execute_result"
    }
   ],
   "source": [
    "cls.test(test_set)"
   ]
  },
  {
   "cell_type": "code",
   "execution_count": 10,
   "metadata": {},
   "outputs": [
    {
     "data": {
      "text/html": [
       "<div>\n",
       "<style scoped>\n",
       "    .dataframe tbody tr th:only-of-type {\n",
       "        vertical-align: middle;\n",
       "    }\n",
       "\n",
       "    .dataframe tbody tr th {\n",
       "        vertical-align: top;\n",
       "    }\n",
       "\n",
       "    .dataframe thead th {\n",
       "        text-align: right;\n",
       "    }\n",
       "</style>\n",
       "<table border=\"1\" class=\"dataframe\">\n",
       "  <thead>\n",
       "    <tr style=\"text-align: right;\">\n",
       "      <th></th>\n",
       "      <th>index</th>\n",
       "      <th>docs</th>\n",
       "      <th>labels</th>\n",
       "      <th>source</th>\n",
       "      <th>flag</th>\n",
       "    </tr>\n",
       "  </thead>\n",
       "  <tbody>\n",
       "    <tr>\n",
       "      <th>903</th>\n",
       "      <td>290</td>\n",
       "      <td>\\n  Venezuelan President to Visit Vietnam from...</td>\n",
       "      <td>0</td>\n",
       "      <td>Biocaster</td>\n",
       "      <td>test</td>\n",
       "    </tr>\n",
       "    <tr>\n",
       "      <th>904</th>\n",
       "      <td>278</td>\n",
       "      <td>\\n  Bird flu outbreaks found in two more provi...</td>\n",
       "      <td>3</td>\n",
       "      <td>Biocaster</td>\n",
       "      <td>test</td>\n",
       "    </tr>\n",
       "    <tr>\n",
       "      <th>905</th>\n",
       "      <td>508</td>\n",
       "      <td>\\n  KENYA: Eight dead, scores injured as build...</td>\n",
       "      <td>0</td>\n",
       "      <td>Biocaster</td>\n",
       "      <td>test</td>\n",
       "    </tr>\n",
       "    <tr>\n",
       "      <th>906</th>\n",
       "      <td>393</td>\n",
       "      <td>\\n  Indonesia cannot rule out human-to-human t...</td>\n",
       "      <td>2</td>\n",
       "      <td>Biocaster</td>\n",
       "      <td>test</td>\n",
       "    </tr>\n",
       "    <tr>\n",
       "      <th>907</th>\n",
       "      <td>149</td>\n",
       "      <td>\\nDa Vinci Code falls under the censors knife ...</td>\n",
       "      <td>0</td>\n",
       "      <td>Biocaster</td>\n",
       "      <td>test</td>\n",
       "    </tr>\n",
       "    <tr>\n",
       "      <th>908</th>\n",
       "      <td>549</td>\n",
       "      <td>\\n  Wait Monument getting back to Springfield ...</td>\n",
       "      <td>0</td>\n",
       "      <td>Biocaster</td>\n",
       "      <td>test</td>\n",
       "    </tr>\n",
       "    <tr>\n",
       "      <th>909</th>\n",
       "      <td>968</td>\n",
       "      <td>\\nDanger drugs stolen\\nDANGEROUS drugs were st...</td>\n",
       "      <td>0</td>\n",
       "      <td>Biocaster</td>\n",
       "      <td>test</td>\n",
       "    </tr>\n",
       "    <tr>\n",
       "      <th>910</th>\n",
       "      <td>121</td>\n",
       "      <td>\\n  09 Mar 2006\\n  Fatal Case of Meningitis De...</td>\n",
       "      <td>3</td>\n",
       "      <td>Biocaster</td>\n",
       "      <td>test</td>\n",
       "    </tr>\n",
       "    <tr>\n",
       "      <th>911</th>\n",
       "      <td>69</td>\n",
       "      <td>\\n  Legionnaires bacteria found in Calgary hos...</td>\n",
       "      <td>3</td>\n",
       "      <td>Biocaster</td>\n",
       "      <td>test</td>\n",
       "    </tr>\n",
       "  </tbody>\n",
       "</table>\n",
       "</div>"
      ],
      "text/plain": [
       "     index                                               docs  labels  \\\n",
       "903    290  \\n  Venezuelan President to Visit Vietnam from...       0   \n",
       "904    278  \\n  Bird flu outbreaks found in two more provi...       3   \n",
       "905    508  \\n  KENYA: Eight dead, scores injured as build...       0   \n",
       "906    393  \\n  Indonesia cannot rule out human-to-human t...       2   \n",
       "907    149  \\nDa Vinci Code falls under the censors knife ...       0   \n",
       "908    549  \\n  Wait Monument getting back to Springfield ...       0   \n",
       "909    968  \\nDanger drugs stolen\\nDANGEROUS drugs were st...       0   \n",
       "910    121  \\n  09 Mar 2006\\n  Fatal Case of Meningitis De...       3   \n",
       "911     69  \\n  Legionnaires bacteria found in Calgary hos...       3   \n",
       "\n",
       "        source  flag  \n",
       "903  Biocaster  test  \n",
       "904  Biocaster  test  \n",
       "905  Biocaster  test  \n",
       "906  Biocaster  test  \n",
       "907  Biocaster  test  \n",
       "908  Biocaster  test  \n",
       "909  Biocaster  test  \n",
       "910  Biocaster  test  \n",
       "911  Biocaster  test  "
      ]
     },
     "execution_count": 10,
     "metadata": {},
     "output_type": "execute_result"
    }
   ],
   "source": [
    "test_set.iloc[1:10]"
   ]
  },
  {
   "cell_type": "code",
   "execution_count": 11,
   "metadata": {},
   "outputs": [
    {
     "name": "stderr",
     "output_type": "stream",
     "text": [
      "Evaluating: 100%|██████████| 1/1 [00:00<00:00, 17.73it/s]"
     ]
    },
    {
     "name": "stdout",
     "output_type": "stream",
     "text": [
      "Execute [predict] method costing 76.85 ms\n"
     ]
    },
    {
     "name": "stderr",
     "output_type": "stream",
     "text": [
      "\n"
     ]
    },
    {
     "data": {
      "text/plain": [
       "array([0, 3, 0, 0, 0, 0, 0, 0, 3])"
      ]
     },
     "execution_count": 11,
     "metadata": {},
     "output_type": "execute_result"
    }
   ],
   "source": [
    "cls.predict(test_set.iloc[1:10])"
   ]
  },
  {
   "cell_type": "code",
   "execution_count": null,
   "metadata": {},
   "outputs": [],
   "source": []
  },
  {
   "cell_type": "markdown",
   "metadata": {},
   "source": [
    "### "
   ]
  }
 ],
 "metadata": {
  "kernelspec": {
   "display_name": "doc_cls",
   "language": "python",
   "name": "doc_cls"
  },
  "language_info": {
   "codemirror_mode": {
    "name": "ipython",
    "version": 3
   },
   "file_extension": ".py",
   "mimetype": "text/x-python",
   "name": "python",
   "nbconvert_exporter": "python",
   "pygments_lexer": "ipython3",
   "version": "3.8.3"
  }
 },
 "nbformat": 4,
 "nbformat_minor": 4
}
