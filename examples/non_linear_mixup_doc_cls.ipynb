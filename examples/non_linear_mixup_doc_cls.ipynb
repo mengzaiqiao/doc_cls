{
 "cells": [
  {
   "cell_type": "code",
   "execution_count": 1,
   "metadata": {},
   "outputs": [],
   "source": [
    "config = {\n",
    "    \"max_seq_length\": 512,\n",
    "    \"batch_size\": 16,\n",
    "    \"lr\": 0.001,\n",
    "    \"epochs\": 20,\n",
    "    \"mixup\": None,\n",
    "    \"device\": \"cuda:1\",\n",
    "    \"seed\": 2020,\n",
    "    \"fp16\": False,\n",
    "    \"loss_scale\": 0,\n",
    "    \"label_dim\": 100,\n",
    "    \"dropout\":0.2,\n",
    "    \"gradient_accumulation_steps\":1,\n",
    "    \"warmup_proportion\": 0.1,\n",
    "    \"num_labels\": 4,\n",
    "    \"is_multilabel\": False,\n",
    "    \"valid_metric\": \"macro_f1\",\n",
    "    \"model_save_dir\": \"../checkpoints/non_linear_mixup_biocaster_4cate_20200915/\",\n",
    "    \"result_file\":\"../results/non_linear_mixup_cnn_20200915.csv\",\n",
    "    \"patience\": 4,\n",
    "}"
   ]
  },
  {
   "cell_type": "code",
   "execution_count": 2,
   "metadata": {},
   "outputs": [],
   "source": [
    "import sys\n",
    "sys.path.append(\"../\")\n",
    "from beta_nlp.utils.data_util import biocaster2df,split_data\n",
    "data_file = \"/home/zm324/workspace/doc_cls/datasets/biocaster/BioCaster.3.xml\""
   ]
  },
  {
   "cell_type": "code",
   "execution_count": 3,
   "metadata": {},
   "outputs": [],
   "source": [
    "def train():\n",
    "    data_df = biocaster2df(data_file)\n",
    "    train_set,dev_set,test_set = split_data(data_df,config[\"seed\"])\n",
    "    from beta_nlp.models.nonlinear_mixup_cls import NonLinearMixupModel\n",
    "    from beta_nlp.utils.common import save_to_csv\n",
    "    cls = NonLinearMixupModel(train_set,config)\n",
    "    cls.train(train_set,dev_set)\n",
    "    result = cls.test(test_set)\n",
    "    result.update(config)\n",
    "    save_to_csv(result, config[\"result_file\"])"
   ]
  },
  {
   "cell_type": "code",
   "execution_count": null,
   "metadata": {},
   "outputs": [
    {
     "name": "stdout",
     "output_type": "stream",
     "text": [
      "parse biocaser data from /home/zm324/workspace/doc_cls/datasets/biocaster/BioCaster.3.xml, docs number:1003, lablels number:1003\n"
     ]
    }
   ],
   "source": [
    "config[\"mixup\"]= \"sentence\"\n",
    "config[\"model\"] = \"Nonlinear_mixup\"\n",
    "lr_opt= [1, 0.5]\n",
    "max_seq_length_opt = [200,400,512,600,800]\n",
    "dropout_opt = [0, 0.1,0.2,0.3,0.4,0.5 ]\n",
    "label_dim_opt = [20,50,100,200,300]\n",
    "# lr_opt = [0.5]\n",
    "# label_dim_opt = [100]\n",
    "# max_seq_length_opt = [256]\n",
    "# dropout_opt = [0.2]\n",
    "for i in range(10):\n",
    "    for lr in lr_opt:\n",
    "        for label_dim in label_dim_opt:\n",
    "            for max_seq_length in max_seq_length_opt:\n",
    "                for dropout in dropout_opt:\n",
    "                    config[\"label_dim\"]=label_dim\n",
    "                    config[\"lr\"]=lr\n",
    "                    config[\"max_seq_length\"]=max_seq_length\n",
    "                    config[\"dropout\"] = dropout\n",
    "                    train()"
   ]
  }
 ],
 "metadata": {
  "kernelspec": {
   "display_name": "doc_cls",
   "language": "python",
   "name": "doc_cls"
  },
  "language_info": {
   "codemirror_mode": {
    "name": "ipython",
    "version": 3
   },
   "file_extension": ".py",
   "mimetype": "text/x-python",
   "name": "python",
   "nbconvert_exporter": "python",
   "pygments_lexer": "ipython3",
   "version": "3.8.3"
  }
 },
 "nbformat": 4,
 "nbformat_minor": 4
}
