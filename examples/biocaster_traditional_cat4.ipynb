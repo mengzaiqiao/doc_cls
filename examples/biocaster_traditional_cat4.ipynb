{
 "cells": [
  {
   "cell_type": "code",
   "execution_count": 1,
   "metadata": {},
   "outputs": [],
   "source": [
    "import sys\n",
    "sys.path.append(\"../\")\n",
    "from beta_nlp.utils.data_util import biocaster2df\n",
    "from beta_nlp.eval_method import CrossValidation,TrainDevTest\n",
    "from beta_nlp.experiment import Experiment\n",
    "from beta_nlp.metrics import Accuracy,Precision,Recall,F1Score\n",
    "from sklearn.svm import LinearSVC\n",
    "from sklearn.naive_bayes import BernoulliNB\n",
    "from sklearn.naive_bayes import GaussianNB\n",
    "from sklearn.naive_bayes import MultinomialNB\n",
    "from sklearn.tree import DecisionTreeClassifier\n",
    "from sklearn.ensemble import RandomForestClassifier\n",
    "from sklearn.pipeline import Pipeline\n",
    "from sklearn.feature_selection import chi2\n",
    "from sklearn.feature_selection import SelectKBest\n",
    "from beta_nlp.preprocess import BasicTextPreprocess,BasicTextFeatureExtraction"
   ]
  },
  {
   "cell_type": "code",
   "execution_count": 2,
   "metadata": {},
   "outputs": [
    {
     "name": "stdout",
     "output_type": "stream",
     "text": [
      "parse biocaser data from /home/zm324/workspace/doc_cls/datasets/biocaster/BioCaster.3.xml, docs number:1003, lablels number:1003\n"
     ]
    },
    {
     "name": "stderr",
     "output_type": "stream",
     "text": [
      "<ipython-input-2-80f842c2ba0e>:17: SettingWithCopyWarning: \n",
      "A value is trying to be set on a copy of a slice from a DataFrame.\n",
      "Try using .loc[row_indexer,col_indexer] = value instead\n",
      "\n",
      "See the caveats in the documentation: https://pandas.pydata.org/pandas-docs/stable/user_guide/indexing.html#returning-a-view-versus-a-copy\n",
      "  data_df.iloc[:train_index][\"flag\"]=\"train\"\n",
      "<ipython-input-2-80f842c2ba0e>:18: SettingWithCopyWarning: \n",
      "A value is trying to be set on a copy of a slice from a DataFrame.\n",
      "Try using .loc[row_indexer,col_indexer] = value instead\n",
      "\n",
      "See the caveats in the documentation: https://pandas.pydata.org/pandas-docs/stable/user_guide/indexing.html#returning-a-view-versus-a-copy\n",
      "  data_df.iloc[train_index:valid_index][\"flag\"]=\"valid\"\n",
      "<ipython-input-2-80f842c2ba0e>:19: SettingWithCopyWarning: \n",
      "A value is trying to be set on a copy of a slice from a DataFrame.\n",
      "Try using .loc[row_indexer,col_indexer] = value instead\n",
      "\n",
      "See the caveats in the documentation: https://pandas.pydata.org/pandas-docs/stable/user_guide/indexing.html#returning-a-view-versus-a-copy\n",
      "  data_df.iloc[valid_index:][\"flag\"]=\"test\"\n"
     ]
    },
    {
     "data": {
      "text/html": [
       "<div>\n",
       "<style scoped>\n",
       "    .dataframe tbody tr th:only-of-type {\n",
       "        vertical-align: middle;\n",
       "    }\n",
       "\n",
       "    .dataframe tbody tr th {\n",
       "        vertical-align: top;\n",
       "    }\n",
       "\n",
       "    .dataframe thead th {\n",
       "        text-align: right;\n",
       "    }\n",
       "</style>\n",
       "<table border=\"1\" class=\"dataframe\">\n",
       "  <thead>\n",
       "    <tr style=\"text-align: right;\">\n",
       "      <th></th>\n",
       "      <th>index</th>\n",
       "      <th>docs</th>\n",
       "      <th>labels</th>\n",
       "      <th>source</th>\n",
       "      <th>flag</th>\n",
       "    </tr>\n",
       "  </thead>\n",
       "  <tbody>\n",
       "    <tr>\n",
       "      <th>0</th>\n",
       "      <td>297</td>\n",
       "      <td>\\n\\nWorld Cup fever boosts business \\n16:45 14...</td>\n",
       "      <td>0</td>\n",
       "      <td>Biocaster</td>\n",
       "      <td>train</td>\n",
       "    </tr>\n",
       "    <tr>\n",
       "      <th>1</th>\n",
       "      <td>333</td>\n",
       "      <td>\\n  Cholera Outbreak in Malawi Claims 24 Lives...</td>\n",
       "      <td>3</td>\n",
       "      <td>Biocaster</td>\n",
       "      <td>train</td>\n",
       "    </tr>\n",
       "    <tr>\n",
       "      <th>2</th>\n",
       "      <td>588</td>\n",
       "      <td>\\n871112\\nInternational Corporate Report\\n11/1...</td>\n",
       "      <td>0</td>\n",
       "      <td>Biocaster</td>\n",
       "      <td>train</td>\n",
       "    </tr>\n",
       "  </tbody>\n",
       "</table>\n",
       "</div>"
      ],
      "text/plain": [
       "   index                                               docs  labels  \\\n",
       "0    297  \\n\\nWorld Cup fever boosts business \\n16:45 14...       0   \n",
       "1    333  \\n  Cholera Outbreak in Malawi Claims 24 Lives...       3   \n",
       "2    588  \\n871112\\nInternational Corporate Report\\n11/1...       0   \n",
       "\n",
       "      source   flag  \n",
       "0  Biocaster  train  \n",
       "1  Biocaster  train  \n",
       "2  Biocaster  train  "
      ]
     },
     "execution_count": 2,
     "metadata": {},
     "output_type": "execute_result"
    }
   ],
   "source": [
    "import sys\n",
    "sys.path.append(\"../\")\n",
    "from beta_nlp.utils.data_util import biocaser2text\n",
    "data_file = \"/home/zm324/workspace/doc_cls/datasets/biocaster/BioCaster.3.xml\"\n",
    "data_df = biocaster2df(data_file)\n",
    "data_df[\"source\"] = \"Biocaster\"\n",
    "from sklearn.utils import shuffle\n",
    "import random\n",
    "import numpy as np\n",
    "seed = 2021\n",
    "random.seed(seed)\n",
    "np.random.seed(seed)\n",
    "data_df = shuffle(data_df).reset_index()\n",
    "data_df[\"flag\"]=None\n",
    "train_index = int(len(data_df.index)*0.8)\n",
    "valid_index = train_index + round(len(data_df.index)*0.1)\n",
    "data_df.iloc[:train_index][\"flag\"]=\"train\"\n",
    "data_df.iloc[train_index:valid_index][\"flag\"]=\"valid\"\n",
    "data_df.iloc[valid_index:][\"flag\"]=\"test\"\n",
    "data_df.head(3)"
   ]
  },
  {
   "cell_type": "code",
   "execution_count": 3,
   "metadata": {
    "collapsed": false,
    "jupyter": {
     "outputs_hidden": false
    },
    "pycharm": {
     "name": "#%%\n"
    }
   },
   "outputs": [],
   "source": [
    "bp = BasicTextPreprocess()\n",
    "\n",
    "# bfe = BasicTextFeatureExtraction([\"tfidf\",\"bow\",\"bigram\",[\"tfidf\",\"bigram\"],[\"bow\",\"bigram\"],[\"tfidf\",\"trigram\"],[\"bow\",\"trigram\"],[\"tfidf\",\"bigram\",\"trigram\"]])\n",
    "bfe = BasicTextFeatureExtraction([\"tfidf\"])\n",
    "\n",
    "\n",
    "cv = CrossValidation(n_splits=10, n_repeats=10, random_state=12345)\n",
    "# tdt = TrainDevTest()\n",
    "\n",
    "acc = Accuracy(k=4)\n",
    "pre = Precision(k=4)\n",
    "rec = Recall(k=4)\n",
    "f1 = F1Score(k=4)\n",
    "\n",
    "svm = LinearSVC(random_state=0, tol=1e-5,max_iter=5000)\n",
    "svm.name = \"svm\"\n",
    "dtree = DecisionTreeClassifier(random_state=0,criterion='entropy')\n",
    "dtree.name=\"dtree\"\n",
    "bnb = BernoulliNB()\n",
    "bnb.name = \"BernoulliNB\"\n",
    "gnb = GaussianNB()\n",
    "gnb.name = \"GaussianNB\"\n",
    "mnb = MultinomialNB()\n",
    "mnb.name = \"MultinomialNB\"\n",
    "rf = RandomForestClassifier(max_depth=2, random_state=0)\n",
    "rf.name = \"RandomForest\"\n",
    "\n",
    "# chi2 feature selection\n",
    "ch2 = SelectKBest(chi2, k=9000)\n",
    "svm_ch2 = Pipeline([('sel', ch2), ('cls', svm)])\n",
    "svm_ch2.name = \"svm+chi2\"\n",
    "\n",
    "# chi2 feature selection\n",
    "dtree_ch2 = Pipeline([('sel', ch2), ('cls', dtree)])\n",
    "dtree_ch2.name = \"dtree+chi2\"\n",
    "\n",
    "# chi2 feature selection\n",
    "bnb_ch2 = Pipeline([('sel', ch2), ('cls', bnb)])\n",
    "bnb_ch2.name = \"BernoulliNB+chi2\"\n",
    "\n",
    "# chi2 feature selection\n",
    "gnb_ch2 = Pipeline([('sel', ch2), ('cls', gnb)])\n",
    "gnb_ch2.name = \"GaussianNB+chi2\"\n",
    "\n",
    "# chi2 feature selection\n",
    "mnb_ch2 = Pipeline([('sel', ch2), ('cls', mnb)])\n",
    "mnb_ch2.name = \"MultinomialNB+chi2\"\n",
    "\n",
    "# chi2 feature selection\n",
    "mnb_rf = Pipeline([('sel', ch2), ('cls', rf)])\n",
    "mnb_rf.name = \"RandomForest+chi2\""
   ]
  },
  {
   "cell_type": "code",
   "execution_count": 4,
   "metadata": {},
   "outputs": [
    {
     "name": "stdout",
     "output_type": "stream",
     "text": [
      "clean_html...\n",
      "remove_spaces...\n",
      "remove_punctuation...\n",
      "stemming...\n",
      "lemmatization...\n",
      "Found feature_columns: ['tfidf']\n",
      "Experiment with svm model on tfidf feature.\n",
      "Create new result_file: ../results/traditional_biocaster_result_seed_2021.csv\n",
      "saving result ...\n",
      "   accuracy  precision    recall  f1_score  Train (s)  Test (s)       dataset  \\\n",
      "0  0.821782   0.645822  0.486953  0.522273   0.150719   0.04288  Default_name   \n",
      "\n",
      "  model feature  \n",
      "0   svm   tfidf  "
     ]
    },
    {
     "name": "stderr",
     "output_type": "stream",
     "text": [
      "/home/zm324/anaconda3/envs/doc_cls/lib/python3.8/site-packages/sklearn/metrics/_classification.py:1221: UndefinedMetricWarning: Precision is ill-defined and being set to 0.0 in labels with no predicted samples. Use `zero_division` parameter to control this behavior.\n",
      "  _warn_prf(average, modifier, msg_start, len(result))\n"
     ]
    },
    {
     "name": "stdout",
     "output_type": "stream",
     "text": [
      "\n",
      "Experiment with dtree model on tfidf feature.\n",
      "../results/traditional_biocaster_result_seed_2021.csv  already exists, appending result to it\n",
      "saving result ...\n",
      "   accuracy  precision    recall  f1_score  Train (s)  Test (s)       dataset  \\\n",
      "0  0.693069   0.375622  0.426768  0.384989   0.960733  0.010445  Default_name   \n",
      "\n",
      "   model feature  \n",
      "0  dtree   tfidf  \n",
      "Experiment with BernoulliNB model on tfidf feature.\n"
     ]
    },
    {
     "name": "stderr",
     "output_type": "stream",
     "text": [
      "/home/zm324/anaconda3/envs/doc_cls/lib/python3.8/site-packages/sklearn/metrics/_classification.py:1221: UndefinedMetricWarning: Precision is ill-defined and being set to 0.0 in labels with no predicted samples. Use `zero_division` parameter to control this behavior.\n",
      "  _warn_prf(average, modifier, msg_start, len(result))\n"
     ]
    },
    {
     "name": "stdout",
     "output_type": "stream",
     "text": [
      "../results/traditional_biocaster_result_seed_2021.csv  already exists, appending result to it\n",
      "saving result ...\n",
      "   accuracy  precision    recall  f1_score  Train (s)  Test (s)       dataset  \\\n",
      "0  0.841584   0.402184  0.447811   0.42301   0.176806  0.029448  Default_name   \n",
      "\n",
      "         model feature  \n",
      "0  BernoulliNB   tfidf  \n",
      "Experiment with GaussianNB model on tfidf feature.\n"
     ]
    },
    {
     "name": "stderr",
     "output_type": "stream",
     "text": [
      "/home/zm324/anaconda3/envs/doc_cls/lib/python3.8/site-packages/sklearn/metrics/_classification.py:1221: UndefinedMetricWarning: Precision is ill-defined and being set to 0.0 in labels with no predicted samples. Use `zero_division` parameter to control this behavior.\n",
      "  _warn_prf(average, modifier, msg_start, len(result))\n",
      "/home/zm324/anaconda3/envs/doc_cls/lib/python3.8/site-packages/sklearn/metrics/_classification.py:1221: UndefinedMetricWarning: Precision is ill-defined and being set to 0.0 in labels with no predicted samples. Use `zero_division` parameter to control this behavior.\n",
      "  _warn_prf(average, modifier, msg_start, len(result))\n"
     ]
    },
    {
     "name": "stdout",
     "output_type": "stream",
     "text": [
      "../results/traditional_biocaster_result_seed_2021.csv  already exists, appending result to it\n",
      "saving result ...\n",
      "   accuracy  precision    recall  f1_score  Train (s)  Test (s)       dataset  \\\n",
      "0  0.683168   0.312802  0.288721  0.271976   0.325993  0.065339  Default_name   \n",
      "\n",
      "        model feature  \n",
      "0  GaussianNB   tfidf  \n",
      "Experiment with MultinomialNB model on tfidf feature.\n",
      "../results/traditional_biocaster_result_seed_2021.csv  already exists, appending result to it\n",
      "saving result ...\n",
      "   accuracy  precision    recall  f1_score  Train (s)  Test (s)       dataset  \\\n",
      "0  0.712871   0.423684  0.305556  0.295878   0.073018  0.013886  Default_name   \n",
      "\n",
      "           model feature  \n",
      "0  MultinomialNB   tfidf  \n",
      "Experiment with svm+chi2 model on tfidf feature.\n"
     ]
    },
    {
     "name": "stderr",
     "output_type": "stream",
     "text": [
      "/home/zm324/anaconda3/envs/doc_cls/lib/python3.8/site-packages/sklearn/metrics/_classification.py:1221: UndefinedMetricWarning: Precision is ill-defined and being set to 0.0 in labels with no predicted samples. Use `zero_division` parameter to control this behavior.\n",
      "  _warn_prf(average, modifier, msg_start, len(result))\n"
     ]
    },
    {
     "name": "stdout",
     "output_type": "stream",
     "text": [
      "../results/traditional_biocaster_result_seed_2021.csv  already exists, appending result to it\n",
      "saving result ...\n",
      "   accuracy  precision    recall  f1_score  Train (s)  Test (s)       dataset  \\\n",
      "0  0.821782   0.645822  0.486953  0.522273   0.411746  0.018293  Default_name   \n",
      "\n",
      "      model feature  \n",
      "0  svm+chi2   tfidf  \n",
      "Experiment with dtree+chi2 model on tfidf feature.\n",
      "../results/traditional_biocaster_result_seed_2021.csv  already exists, appending result to it\n",
      "saving result ...\n",
      "   accuracy  precision    recall  f1_score  Train (s)  Test (s)       dataset  \\\n",
      "0  0.732673   0.365714  0.384259  0.373177   0.733904  0.013199  Default_name   \n",
      "\n",
      "        model feature  \n",
      "0  dtree+chi2   tfidf  \n",
      "Experiment with BernoulliNB+chi2 model on tfidf feature.\n"
     ]
    },
    {
     "name": "stderr",
     "output_type": "stream",
     "text": [
      "/home/zm324/anaconda3/envs/doc_cls/lib/python3.8/site-packages/sklearn/metrics/_classification.py:1221: UndefinedMetricWarning: Precision is ill-defined and being set to 0.0 in labels with no predicted samples. Use `zero_division` parameter to control this behavior.\n",
      "  _warn_prf(average, modifier, msg_start, len(result))\n"
     ]
    },
    {
     "name": "stdout",
     "output_type": "stream",
     "text": [
      "../results/traditional_biocaster_result_seed_2021.csv  already exists, appending result to it\n",
      "saving result ...\n",
      "   accuracy  precision    recall  f1_score  Train (s)  Test (s)       dataset  \\\n",
      "0  0.841584   0.402184  0.447811   0.42301   0.379972  0.022191  Default_name   \n",
      "\n",
      "              model feature  \n",
      "0  BernoulliNB+chi2   tfidf  \n",
      "Experiment with GaussianNB+chi2 model on tfidf feature.\n"
     ]
    },
    {
     "name": "stderr",
     "output_type": "stream",
     "text": [
      "/home/zm324/anaconda3/envs/doc_cls/lib/python3.8/site-packages/sklearn/metrics/_classification.py:1221: UndefinedMetricWarning: Precision is ill-defined and being set to 0.0 in labels with no predicted samples. Use `zero_division` parameter to control this behavior.\n",
      "  _warn_prf(average, modifier, msg_start, len(result))\n"
     ]
    },
    {
     "name": "stdout",
     "output_type": "stream",
     "text": [
      "../results/traditional_biocaster_result_seed_2021.csv  already exists, appending result to it\n",
      "saving result ...\n",
      "   accuracy  precision   recall  f1_score  Train (s)  Test (s)       dataset  \\\n",
      "0  0.732673   0.353414  0.34596  0.341387   0.400618  0.032515  Default_name   \n",
      "\n",
      "             model feature  \n",
      "0  GaussianNB+chi2   tfidf  \n",
      "Experiment with MultinomialNB+chi2 model on tfidf feature.\n",
      "../results/traditional_biocaster_result_seed_2021.csv  already exists, appending result to it\n",
      "saving result ...\n",
      "   accuracy  precision    recall  f1_score  Train (s)  Test (s)       dataset  \\\n",
      "0  0.732673    0.40157  0.324074  0.319972   0.302815   0.02125  Default_name   \n",
      "\n",
      "                model feature  \n",
      "0  MultinomialNB+chi2   tfidf  \n"
     ]
    },
    {
     "name": "stderr",
     "output_type": "stream",
     "text": [
      "/home/zm324/anaconda3/envs/doc_cls/lib/python3.8/site-packages/sklearn/metrics/_classification.py:1221: UndefinedMetricWarning: Precision is ill-defined and being set to 0.0 in labels with no predicted samples. Use `zero_division` parameter to control this behavior.\n",
      "  _warn_prf(average, modifier, msg_start, len(result))\n"
     ]
    }
   ],
   "source": [
    "exp = Experiment(\n",
    "    data_df = data_df,\n",
    "    preprocessor = bp,\n",
    "    extractor = bfe,\n",
    "    eval_method=tdt,\n",
    "    models=[svm,dtree,bnb,gnb,mnb,svm_ch2,dtree_ch2,bnb_ch2,gnb_ch2,mnb_ch2],\n",
    "#     models = [svm],\n",
    "    metrics=[acc,pre,rec,f1],\n",
    "    result_file = \"../results/traditional_biocaster_result_seed_2021.csv\",\n",
    "    verbose = True\n",
    ").run()"
   ]
  },
  {
   "cell_type": "code",
   "execution_count": null,
   "metadata": {},
   "outputs": [],
   "source": []
  }
 ],
 "metadata": {
  "kernelspec": {
   "display_name": "doc_cls",
   "language": "python",
   "name": "doc_cls"
  },
  "language_info": {
   "codemirror_mode": {
    "name": "ipython",
    "version": 3
   },
   "file_extension": ".py",
   "mimetype": "text/x-python",
   "name": "python",
   "nbconvert_exporter": "python",
   "pygments_lexer": "ipython3",
   "version": "3.8.3"
  }
 },
 "nbformat": 4,
 "nbformat_minor": 4
}
