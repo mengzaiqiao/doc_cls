{
 "cells": [
  {
   "cell_type": "code",
   "execution_count": 4,
   "metadata": {},
   "outputs": [
    {
     "name": "stderr",
     "output_type": "stream",
     "text": [
      "ag_news_csv.tar.gz: 11.8MB [00:00, 29.2MB/s]\n",
      "120000lines [00:04, 28445.72lines/s]\n",
      "120000lines [00:08, 14469.49lines/s]\n",
      "7600lines [00:00, 15125.04lines/s]\n"
     ]
    }
   ],
   "source": [
    "import torch\n",
    "import torchtext\n",
    "from torchtext.datasets import text_classification\n",
    "NGRAMS = 2\n",
    "import os\n",
    "if not os.path.isdir('./.data'):\n",
    "    os.mkdir('./.data')\n",
    "train_dataset, test_dataset = text_classification.DATASETS['AG_NEWS'](\n",
    "    root='./.data', ngrams=NGRAMS, vocab=None)\n",
    "BATCH_SIZE = 16\n",
    "device = torch.device(\"cuda\" if torch.cuda.is_available() else \"cpu\")"
   ]
  },
  {
   "cell_type": "code",
   "execution_count": 7,
   "metadata": {},
   "outputs": [
    {
     "data": {
      "text/plain": [
       "(2,\n",
       " tensor([     93,   16478,      78,    2680,      34,    1230,     717,    4562,\n",
       "              14,      32,      15,      32,      16,    1129,      49,    9392,\n",
       "              78,  766148,      34,       3,    1230,    4562,       8,     717,\n",
       "              93,  559272,     947,       6,    1239,    3934,     125, 1178056,\n",
       "               4,      35,      78,     396,      31,      11,     153,       2,\n",
       "          881320,  373252,   12125,   23059,  802619,  258328,  447615,  199864,\n",
       "              43,      44,     144,     145,   40078,   13205,  152671,  373240,\n",
       "         1002054,  766149,     171,    4412,  934044,   47573,    2586,   17490,\n",
       "          881151,  559273,   16579,   17268,   64855,  954751,  699138, 1178057,\n",
       "             733,   26650,   36317,    1670,     177,     435,     949]))"
      ]
     },
     "execution_count": 7,
     "metadata": {},
     "output_type": "execute_result"
    }
   ],
   "source": [
    "train_dataset[3]"
   ]
  },
  {
   "cell_type": "code",
   "execution_count": 2,
   "metadata": {},
   "outputs": [],
   "source": [
    "import torchtext"
   ]
  },
  {
   "cell_type": "code",
   "execution_count": 3,
   "metadata": {},
   "outputs": [
    {
     "data": {
      "text/plain": [
       "'0.6.0'"
      ]
     },
     "execution_count": 3,
     "metadata": {},
     "output_type": "execute_result"
    }
   ],
   "source": [
    "torchtext.__version__"
   ]
  },
  {
   "cell_type": "code",
   "execution_count": null,
   "metadata": {},
   "outputs": [],
   "source": []
  }
 ],
 "metadata": {
  "kernelspec": {
   "display_name": "doc_cls",
   "language": "python",
   "name": "doc_cls"
  },
  "language_info": {
   "codemirror_mode": {
    "name": "ipython",
    "version": 3
   },
   "file_extension": ".py",
   "mimetype": "text/x-python",
   "name": "python",
   "nbconvert_exporter": "python",
   "pygments_lexer": "ipython3",
   "version": "3.8.3"
  }
 },
 "nbformat": 4,
 "nbformat_minor": 4
}
