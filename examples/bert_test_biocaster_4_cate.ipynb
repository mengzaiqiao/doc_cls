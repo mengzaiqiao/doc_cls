{
 "cells": [
  {
   "cell_type": "code",
   "execution_count": 1,
   "metadata": {},
   "outputs": [],
   "source": [
    "config = {\n",
    "    \"pretrained_model\": \"bert-base-cased\",\n",
    "    \"tokenizer\": \"bert-base-cased\",\n",
    "    \"max_seq_length\": 512,\n",
    "    \"batch_size\": 10,\n",
    "    \"lr\": 2e-5,\n",
    "    \"epochs\": 10,\n",
    "    \"device\": \"cuda\",\n",
    "    \"gpu_ids\": \"0,1,2,3\",\n",
    "    \"seed\": 2020,\n",
    "    \"fp16\": False,\n",
    "    \"loss_scale\": 0,\n",
    "    \"gradient_accumulation_steps\":1,\n",
    "    \"warmup_proportion\": 0.1,\n",
    "    \"gradient_accumulation_steps\": 1,\n",
    "    \"num_labels\": 4,\n",
    "    \"is_multilabel\": False,\n",
    "    \"valid_metric\": \"macro_f1\",\n",
    "    \"model_save_dir\": \"../checkpoints/bert_cased_512_biocaster_4cate_20200903/\",\n",
    "    \"patience\": 4,\n",
    "}"
   ]
  },
  {
   "cell_type": "code",
   "execution_count": 2,
   "metadata": {},
   "outputs": [
    {
     "name": "stdout",
     "output_type": "stream",
     "text": [
      "parse biocaser data from /home/zm324/workspace/doc_cls/datasets/biocaster/BioCaster.3.xml, docs number:1003, lablels number:1003\n"
     ]
    },
    {
     "data": {
      "text/html": [
       "<div>\n",
       "<style scoped>\n",
       "    .dataframe tbody tr th:only-of-type {\n",
       "        vertical-align: middle;\n",
       "    }\n",
       "\n",
       "    .dataframe tbody tr th {\n",
       "        vertical-align: top;\n",
       "    }\n",
       "\n",
       "    .dataframe thead th {\n",
       "        text-align: right;\n",
       "    }\n",
       "</style>\n",
       "<table border=\"1\" class=\"dataframe\">\n",
       "  <thead>\n",
       "    <tr style=\"text-align: right;\">\n",
       "      <th></th>\n",
       "      <th>docs</th>\n",
       "      <th>labels</th>\n",
       "      <th>source</th>\n",
       "    </tr>\n",
       "  </thead>\n",
       "  <tbody>\n",
       "    <tr>\n",
       "      <th>0</th>\n",
       "      <td>\\nBird Flu Outbreak Drill Spooks Manitoba Town...</td>\n",
       "      <td>0</td>\n",
       "      <td>Biocaster</td>\n",
       "    </tr>\n",
       "    <tr>\n",
       "      <th>1</th>\n",
       "      <td>\\nTyphoid outbreak in Agusan del Sur town unde...</td>\n",
       "      <td>3</td>\n",
       "      <td>Biocaster</td>\n",
       "    </tr>\n",
       "    <tr>\n",
       "      <th>2</th>\n",
       "      <td>\\n  Typhoid Outbreak In Central Nepal November...</td>\n",
       "      <td>3</td>\n",
       "      <td>Biocaster</td>\n",
       "    </tr>\n",
       "  </tbody>\n",
       "</table>\n",
       "</div>"
      ],
      "text/plain": [
       "                                                docs  labels     source\n",
       "0  \\nBird Flu Outbreak Drill Spooks Manitoba Town...       0  Biocaster\n",
       "1  \\nTyphoid outbreak in Agusan del Sur town unde...       3  Biocaster\n",
       "2  \\n  Typhoid Outbreak In Central Nepal November...       3  Biocaster"
      ]
     },
     "execution_count": 2,
     "metadata": {},
     "output_type": "execute_result"
    }
   ],
   "source": [
    "import sys\n",
    "sys.path.append(\"../\")\n",
    "from beta_nlp.utils.data_util import biocaster2df\n",
    "data_file = \"/home/zm324/workspace/doc_cls/datasets/biocaster/BioCaster.3.xml\"\n",
    "data_df = biocaster2df(data_file)\n",
    "data_df[\"source\"] = \"Biocaster\"\n",
    "data_df.head(3)"
   ]
  },
  {
   "cell_type": "code",
   "execution_count": 3,
   "metadata": {},
   "outputs": [
    {
     "name": "stderr",
     "output_type": "stream",
     "text": [
      "<ipython-input-3-79406d09754d>:6: SettingWithCopyWarning: \n",
      "A value is trying to be set on a copy of a slice from a DataFrame.\n",
      "Try using .loc[row_indexer,col_indexer] = value instead\n",
      "\n",
      "See the caveats in the documentation: https://pandas.pydata.org/pandas-docs/stable/user_guide/indexing.html#returning-a-view-versus-a-copy\n",
      "  data_df.iloc[:train_index][\"flag\"]=\"train\"\n",
      "<ipython-input-3-79406d09754d>:7: SettingWithCopyWarning: \n",
      "A value is trying to be set on a copy of a slice from a DataFrame.\n",
      "Try using .loc[row_indexer,col_indexer] = value instead\n",
      "\n",
      "See the caveats in the documentation: https://pandas.pydata.org/pandas-docs/stable/user_guide/indexing.html#returning-a-view-versus-a-copy\n",
      "  data_df.iloc[train_index:valid_index][\"flag\"]=\"valid\"\n",
      "<ipython-input-3-79406d09754d>:8: SettingWithCopyWarning: \n",
      "A value is trying to be set on a copy of a slice from a DataFrame.\n",
      "Try using .loc[row_indexer,col_indexer] = value instead\n",
      "\n",
      "See the caveats in the documentation: https://pandas.pydata.org/pandas-docs/stable/user_guide/indexing.html#returning-a-view-versus-a-copy\n",
      "  data_df.iloc[valid_index:][\"flag\"]=\"test\"\n"
     ]
    }
   ],
   "source": [
    "from sklearn.utils import shuffle\n",
    "data_df = shuffle(data_df).reset_index()\n",
    "data_df[\"flag\"]=None\n",
    "train_index = int(len(data_df.index)*0.8)\n",
    "valid_index = train_index + round(len(data_df.index)*0.1)\n",
    "data_df.iloc[:train_index][\"flag\"]=\"train\"\n",
    "data_df.iloc[train_index:valid_index][\"flag\"]=\"valid\"\n",
    "data_df.iloc[valid_index:][\"flag\"]=\"test\""
   ]
  },
  {
   "cell_type": "code",
   "execution_count": 4,
   "metadata": {},
   "outputs": [],
   "source": [
    "train_set = data_df[data_df[\"flag\"]==\"train\"]\n",
    "dev_set = data_df[data_df[\"flag\"]==\"valid\"]\n",
    "test_set = data_df[data_df[\"flag\"]==\"test\"]"
   ]
  },
  {
   "cell_type": "code",
   "execution_count": 5,
   "metadata": {},
   "outputs": [
    {
     "data": {
      "text/plain": [
       "(802, 100, 101)"
      ]
     },
     "execution_count": 5,
     "metadata": {},
     "output_type": "execute_result"
    }
   ],
   "source": [
    "len(train_set.index),len(dev_set.index),len(test_set.index)"
   ]
  },
  {
   "cell_type": "code",
   "execution_count": 6,
   "metadata": {},
   "outputs": [
    {
     "name": "stderr",
     "output_type": "stream",
     "text": [
      "Some weights of the model checkpoint at bert-base-cased were not used when initializing BertForSequenceClassification: ['cls.predictions.bias', 'cls.predictions.transform.dense.weight', 'cls.predictions.transform.dense.bias', 'cls.predictions.decoder.weight', 'cls.seq_relationship.weight', 'cls.seq_relationship.bias', 'cls.predictions.transform.LayerNorm.weight', 'cls.predictions.transform.LayerNorm.bias']\n",
      "- This IS expected if you are initializing BertForSequenceClassification from the checkpoint of a model trained on another task or with another architecture (e.g. initializing a BertForSequenceClassification model from a BertForPretraining model).\n",
      "- This IS NOT expected if you are initializing BertForSequenceClassification from the checkpoint of a model that you expect to be exactly identical (initializing a BertForSequenceClassification model from a BertForSequenceClassification model).\n",
      "Some weights of BertForSequenceClassification were not initialized from the model checkpoint at bert-base-cased and are newly initialized: ['classifier.weight', 'classifier.bias']\n",
      "You should probably TRAIN this model on a down-stream task to be able to use it for predictions and inference.\n"
     ]
    },
    {
     "name": "stdout",
     "output_type": "stream",
     "text": [
      "The BERT model has 201 different named parameters.\n",
      "\n",
      "==== Embedding Layer ====\n",
      "\n",
      "bert.embeddings.word_embeddings.weight                  (28996, 768)\n",
      "bert.embeddings.position_embeddings.weight                (512, 768)\n",
      "bert.embeddings.token_type_embeddings.weight                (2, 768)\n",
      "bert.embeddings.LayerNorm.weight                              (768,)\n",
      "bert.embeddings.LayerNorm.bias                                (768,)\n",
      "\n",
      "==== First Transformer ====\n",
      "\n",
      "bert.encoder.layer.0.attention.self.query.weight          (768, 768)\n",
      "bert.encoder.layer.0.attention.self.query.bias                (768,)\n",
      "bert.encoder.layer.0.attention.self.key.weight            (768, 768)\n",
      "bert.encoder.layer.0.attention.self.key.bias                  (768,)\n",
      "bert.encoder.layer.0.attention.self.value.weight          (768, 768)\n",
      "bert.encoder.layer.0.attention.self.value.bias                (768,)\n",
      "bert.encoder.layer.0.attention.output.dense.weight        (768, 768)\n",
      "bert.encoder.layer.0.attention.output.dense.bias              (768,)\n",
      "bert.encoder.layer.0.attention.output.LayerNorm.weight        (768,)\n",
      "bert.encoder.layer.0.attention.output.LayerNorm.bias          (768,)\n",
      "bert.encoder.layer.0.intermediate.dense.weight           (3072, 768)\n",
      "bert.encoder.layer.0.intermediate.dense.bias                 (3072,)\n",
      "bert.encoder.layer.0.output.dense.weight                 (768, 3072)\n",
      "bert.encoder.layer.0.output.dense.bias                        (768,)\n",
      "bert.encoder.layer.0.output.LayerNorm.weight                  (768,)\n",
      "bert.encoder.layer.0.output.LayerNorm.bias                    (768,)\n",
      "\n",
      "==== Output Layer ====\n",
      "\n",
      "bert.pooler.dense.weight                                  (768, 768)\n",
      "bert.pooler.dense.bias                                        (768,)\n",
      "classifier.weight                                           (4, 768)\n",
      "classifier.bias                                                 (4,)\n"
     ]
    }
   ],
   "source": [
    "from beta_nlp.models.bert_cls import BertModel\n",
    "cls = BertModel(config)"
   ]
  },
  {
   "cell_type": "code",
   "execution_count": 7,
   "metadata": {},
   "outputs": [
    {
     "data": {
      "text/plain": [
       "(802, 100, 101)"
      ]
     },
     "execution_count": 7,
     "metadata": {},
     "output_type": "execute_result"
    }
   ],
   "source": [
    "len(train_set.index),len(dev_set.index),len(test_set.index)"
   ]
  },
  {
   "cell_type": "code",
   "execution_count": 8,
   "metadata": {},
   "outputs": [
    {
     "data": {
      "application/vnd.jupyter.widget-view+json": {
       "model_id": "4bdad967126d4b688333d8525ee58613",
       "version_major": 2,
       "version_minor": 0
      },
      "text/plain": [
       "HBox(children=(FloatProgress(value=0.0, description='Epoch', max=10.0, style=ProgressStyle(description_width='…"
      ]
     },
     "metadata": {},
     "output_type": "display_data"
    },
    {
     "data": {
      "application/vnd.jupyter.widget-view+json": {
       "model_id": "2c54d10ed3924453ab21e90d63a040d7",
       "version_major": 2,
       "version_minor": 0
      },
      "text/plain": [
       "HBox(children=(FloatProgress(value=0.0, description='Training', max=81.0, style=ProgressStyle(description_widt…"
      ]
     },
     "metadata": {},
     "output_type": "display_data"
    },
    {
     "name": "stdout",
     "output_type": "stream",
     "text": [
      "\n",
      "Execute [train_an_epoch] method costing 31637.72 ms\n",
      "[Epoch 0] loss: 89.48777252435684\n"
     ]
    },
    {
     "data": {
      "application/vnd.jupyter.widget-view+json": {
       "model_id": "59cb0d53a89f4b19987065890a47c9b7",
       "version_major": 2,
       "version_minor": 0
      },
      "text/plain": [
       "HBox(children=(FloatProgress(value=0.0, description='Evaluating', max=10.0, style=ProgressStyle(description_wi…"
      ]
     },
     "metadata": {},
     "output_type": "display_data"
    },
    {
     "name": "stdout",
     "output_type": "stream",
     "text": [
      "\n",
      "Execute [eval] method costing 1350.36 ms\n",
      "--------------------------------------------------------------------------------\n",
      "[Epoch 0]performance on validation set\n",
      "+----+-----------------+----------+\n",
      "|    | metrics         |   values |\n",
      "|----+-----------------+----------|\n",
      "|  0 | accuracy        | 0.75     |\n",
      "|  1 | macro_precision | 0.356739 |\n",
      "|  2 | macro_recall    | 0.395833 |\n",
      "|  3 | macro_f1        | 0.375266 |\n",
      "|  4 | micro_precision | 0.75     |\n",
      "|  5 | micro_recall    | 0.75     |\n",
      "|  6 | micro_f1        | 0.75     |\n",
      "+----+-----------------+----------+\n",
      "--------------------------------------------------------------------------------\n"
     ]
    },
    {
     "name": "stderr",
     "output_type": "stream",
     "text": [
      "/home/zm324/anaconda3/envs/doc_cls/lib/python3.8/site-packages/sklearn/metrics/_classification.py:1221: UndefinedMetricWarning: Precision is ill-defined and being set to 0.0 in labels with no predicted samples. Use `zero_division` parameter to control this behavior.\n",
      "  _warn_prf(average, modifier, msg_start, len(result))\n"
     ]
    },
    {
     "data": {
      "application/vnd.jupyter.widget-view+json": {
       "model_id": "6304d2434a084bb6b74aa5a97dff7031",
       "version_major": 2,
       "version_minor": 0
      },
      "text/plain": [
       "HBox(children=(FloatProgress(value=0.0, description='Training', max=81.0, style=ProgressStyle(description_widt…"
      ]
     },
     "metadata": {},
     "output_type": "display_data"
    },
    {
     "name": "stdout",
     "output_type": "stream",
     "text": [
      "\n",
      "Execute [train_an_epoch] method costing 32368.51 ms\n",
      "[Epoch 1] loss: 52.58577781915665\n"
     ]
    },
    {
     "data": {
      "application/vnd.jupyter.widget-view+json": {
       "model_id": "50c41bc321094e9abfa9f50752ac3640",
       "version_major": 2,
       "version_minor": 0
      },
      "text/plain": [
       "HBox(children=(FloatProgress(value=0.0, description='Evaluating', max=10.0, style=ProgressStyle(description_wi…"
      ]
     },
     "metadata": {},
     "output_type": "display_data"
    },
    {
     "name": "stdout",
     "output_type": "stream",
     "text": [
      "\n",
      "Execute [eval] method costing 1377.92 ms\n",
      "--------------------------------------------------------------------------------\n",
      "[Epoch 1]performance on validation set\n",
      "+----+-----------------+----------+\n",
      "|    | metrics         |   values |\n",
      "|----+-----------------+----------|\n",
      "|  0 | accuracy        | 0.81     |\n",
      "|  1 | macro_precision | 0.394505 |\n",
      "|  2 | macro_recall    | 0.4375   |\n",
      "|  3 | macro_f1        | 0.414886 |\n",
      "|  4 | micro_precision | 0.81     |\n",
      "|  5 | micro_recall    | 0.81     |\n",
      "|  6 | micro_f1        | 0.81     |\n",
      "+----+-----------------+----------+\n",
      "--------------------------------------------------------------------------------\n"
     ]
    },
    {
     "data": {
      "application/vnd.jupyter.widget-view+json": {
       "model_id": "0905b11798494d33a7d4f4b3080e3a83",
       "version_major": 2,
       "version_minor": 0
      },
      "text/plain": [
       "HBox(children=(FloatProgress(value=0.0, description='Training', max=81.0, style=ProgressStyle(description_widt…"
      ]
     },
     "metadata": {},
     "output_type": "display_data"
    },
    {
     "name": "stdout",
     "output_type": "stream",
     "text": [
      "\n",
      "Execute [train_an_epoch] method costing 33700.08 ms\n",
      "[Epoch 2] loss: 38.85207523405552\n"
     ]
    },
    {
     "data": {
      "application/vnd.jupyter.widget-view+json": {
       "model_id": "5a0fea6580d1498699e27f7b54fcda1e",
       "version_major": 2,
       "version_minor": 0
      },
      "text/plain": [
       "HBox(children=(FloatProgress(value=0.0, description='Evaluating', max=10.0, style=ProgressStyle(description_wi…"
      ]
     },
     "metadata": {},
     "output_type": "display_data"
    },
    {
     "name": "stdout",
     "output_type": "stream",
     "text": [
      "\n",
      "Execute [eval] method costing 1442.55 ms\n"
     ]
    },
    {
     "data": {
      "application/vnd.jupyter.widget-view+json": {
       "model_id": "59f96f67bf9b495b9bc6b336594da336",
       "version_major": 2,
       "version_minor": 0
      },
      "text/plain": [
       "HBox(children=(FloatProgress(value=0.0, description='Training', max=81.0, style=ProgressStyle(description_widt…"
      ]
     },
     "metadata": {},
     "output_type": "display_data"
    },
    {
     "name": "stdout",
     "output_type": "stream",
     "text": [
      "\n",
      "Execute [train_an_epoch] method costing 34516.08 ms\n",
      "[Epoch 3] loss: 33.26074527576566\n"
     ]
    },
    {
     "data": {
      "application/vnd.jupyter.widget-view+json": {
       "model_id": "dd790c4c42f64fb29010afae95f475e6",
       "version_major": 2,
       "version_minor": 0
      },
      "text/plain": [
       "HBox(children=(FloatProgress(value=0.0, description='Evaluating', max=10.0, style=ProgressStyle(description_wi…"
      ]
     },
     "metadata": {},
     "output_type": "display_data"
    },
    {
     "name": "stdout",
     "output_type": "stream",
     "text": [
      "\n",
      "Execute [eval] method costing 1445.74 ms\n",
      "--------------------------------------------------------------------------------\n",
      "[Epoch 3]performance on validation set\n",
      "+----+-----------------+----------+\n",
      "|    | metrics         |   values |\n",
      "|----+-----------------+----------|\n",
      "|  0 | accuracy        | 0.84     |\n",
      "|  1 | macro_precision | 0.408046 |\n",
      "|  2 | macro_recall    | 0.466667 |\n",
      "|  3 | macro_f1        | 0.431733 |\n",
      "|  4 | micro_precision | 0.84     |\n",
      "|  5 | micro_recall    | 0.84     |\n",
      "|  6 | micro_f1        | 0.84     |\n",
      "+----+-----------------+----------+\n",
      "--------------------------------------------------------------------------------\n"
     ]
    },
    {
     "data": {
      "application/vnd.jupyter.widget-view+json": {
       "model_id": "659c65e5e483481ea093d1e6d522011e",
       "version_major": 2,
       "version_minor": 0
      },
      "text/plain": [
       "HBox(children=(FloatProgress(value=0.0, description='Training', max=81.0, style=ProgressStyle(description_widt…"
      ]
     },
     "metadata": {},
     "output_type": "display_data"
    },
    {
     "name": "stdout",
     "output_type": "stream",
     "text": [
      "\n",
      "Execute [train_an_epoch] method costing 34390.25 ms\n",
      "[Epoch 4] loss: 28.434348770417273\n"
     ]
    },
    {
     "data": {
      "application/vnd.jupyter.widget-view+json": {
       "model_id": "8d41d3b12ef74dd09a3b161da6288d2c",
       "version_major": 2,
       "version_minor": 0
      },
      "text/plain": [
       "HBox(children=(FloatProgress(value=0.0, description='Evaluating', max=10.0, style=ProgressStyle(description_wi…"
      ]
     },
     "metadata": {},
     "output_type": "display_data"
    },
    {
     "name": "stdout",
     "output_type": "stream",
     "text": [
      "\n",
      "Execute [eval] method costing 1445.64 ms\n",
      "--------------------------------------------------------------------------------\n",
      "[Epoch 4]performance on validation set\n",
      "+----+-----------------+----------+\n",
      "|    | metrics         |   values |\n",
      "|----+-----------------+----------|\n",
      "|  0 | accuracy        | 0.85     |\n",
      "|  1 | macro_precision | 0.412591 |\n",
      "|  2 | macro_recall    | 0.466667 |\n",
      "|  3 | macro_f1        | 0.437265 |\n",
      "|  4 | micro_precision | 0.85     |\n",
      "|  5 | micro_recall    | 0.85     |\n",
      "|  6 | micro_f1        | 0.85     |\n",
      "+----+-----------------+----------+\n",
      "--------------------------------------------------------------------------------\n"
     ]
    },
    {
     "data": {
      "application/vnd.jupyter.widget-view+json": {
       "model_id": "def31ec9821341fc9ae57aa9dd6e4f29",
       "version_major": 2,
       "version_minor": 0
      },
      "text/plain": [
       "HBox(children=(FloatProgress(value=0.0, description='Training', max=81.0, style=ProgressStyle(description_widt…"
      ]
     },
     "metadata": {},
     "output_type": "display_data"
    },
    {
     "name": "stdout",
     "output_type": "stream",
     "text": [
      "\n",
      "Execute [train_an_epoch] method costing 34374.23 ms\n",
      "[Epoch 5] loss: 23.603579218499362\n"
     ]
    },
    {
     "data": {
      "application/vnd.jupyter.widget-view+json": {
       "model_id": "29f5cf896667486ea9d35217845c1653",
       "version_major": 2,
       "version_minor": 0
      },
      "text/plain": [
       "HBox(children=(FloatProgress(value=0.0, description='Evaluating', max=10.0, style=ProgressStyle(description_wi…"
      ]
     },
     "metadata": {},
     "output_type": "display_data"
    },
    {
     "name": "stdout",
     "output_type": "stream",
     "text": [
      "\n",
      "Execute [eval] method costing 1440.09 ms\n",
      "--------------------------------------------------------------------------------\n",
      "[Epoch 5]performance on validation set\n",
      "+----+-----------------+----------+\n",
      "|    | metrics         |   values |\n",
      "|----+-----------------+----------|\n",
      "|  0 | accuracy        | 0.79     |\n",
      "|  1 | macro_precision | 0.460871 |\n",
      "|  2 | macro_recall    | 0.475    |\n",
      "|  3 | macro_f1        | 0.466774 |\n",
      "|  4 | micro_precision | 0.79     |\n",
      "|  5 | micro_recall    | 0.79     |\n",
      "|  6 | micro_f1        | 0.79     |\n",
      "+----+-----------------+----------+\n",
      "--------------------------------------------------------------------------------\n"
     ]
    },
    {
     "data": {
      "application/vnd.jupyter.widget-view+json": {
       "model_id": "5712cf7202b64f99bc125f369088e084",
       "version_major": 2,
       "version_minor": 0
      },
      "text/plain": [
       "HBox(children=(FloatProgress(value=0.0, description='Training', max=81.0, style=ProgressStyle(description_widt…"
      ]
     },
     "metadata": {},
     "output_type": "display_data"
    },
    {
     "name": "stdout",
     "output_type": "stream",
     "text": [
      "\n",
      "Execute [train_an_epoch] method costing 34496.68 ms\n",
      "[Epoch 6] loss: 18.54363940283656\n"
     ]
    },
    {
     "data": {
      "application/vnd.jupyter.widget-view+json": {
       "model_id": "307ce9b2021c4e73999934ffc0fa8185",
       "version_major": 2,
       "version_minor": 0
      },
      "text/plain": [
       "HBox(children=(FloatProgress(value=0.0, description='Evaluating', max=10.0, style=ProgressStyle(description_wi…"
      ]
     },
     "metadata": {},
     "output_type": "display_data"
    },
    {
     "name": "stdout",
     "output_type": "stream",
     "text": [
      "\n",
      "Execute [eval] method costing 1446.13 ms\n",
      "--------------------------------------------------------------------------------\n",
      "[Epoch 6]performance on validation set\n",
      "+----+-----------------+----------+\n",
      "|    | metrics         |   values |\n",
      "|----+-----------------+----------|\n",
      "|  0 | accuracy        | 0.79     |\n",
      "|  1 | macro_precision | 0.475319 |\n",
      "|  2 | macro_recall    | 0.497917 |\n",
      "|  3 | macro_f1        | 0.485043 |\n",
      "|  4 | micro_precision | 0.79     |\n",
      "|  5 | micro_recall    | 0.79     |\n",
      "|  6 | micro_f1        | 0.79     |\n",
      "+----+-----------------+----------+\n",
      "--------------------------------------------------------------------------------\n"
     ]
    },
    {
     "data": {
      "application/vnd.jupyter.widget-view+json": {
       "model_id": "833abce26eeb4606a0b4b8eec58ec3ee",
       "version_major": 2,
       "version_minor": 0
      },
      "text/plain": [
       "HBox(children=(FloatProgress(value=0.0, description='Training', max=81.0, style=ProgressStyle(description_widt…"
      ]
     },
     "metadata": {},
     "output_type": "display_data"
    },
    {
     "name": "stdout",
     "output_type": "stream",
     "text": [
      "\n",
      "Execute [train_an_epoch] method costing 34420.16 ms\n",
      "[Epoch 7] loss: 14.385576400207356\n"
     ]
    },
    {
     "data": {
      "application/vnd.jupyter.widget-view+json": {
       "model_id": "af3ad559ec77442c9aa90b8e9ee13d49",
       "version_major": 2,
       "version_minor": 0
      },
      "text/plain": [
       "HBox(children=(FloatProgress(value=0.0, description='Evaluating', max=10.0, style=ProgressStyle(description_wi…"
      ]
     },
     "metadata": {},
     "output_type": "display_data"
    },
    {
     "name": "stdout",
     "output_type": "stream",
     "text": [
      "\n",
      "Execute [eval] method costing 1445.48 ms\n",
      "--------------------------------------------------------------------------------\n",
      "[Epoch 7]performance on validation set\n",
      "+----+-----------------+----------+\n",
      "|    | metrics         |   values |\n",
      "|----+-----------------+----------|\n",
      "|  0 | accuracy        | 0.87     |\n",
      "|  1 | macro_precision | 0.671711 |\n",
      "|  2 | macro_recall    | 0.533333 |\n",
      "|  3 | macro_f1        | 0.543382 |\n",
      "|  4 | micro_precision | 0.87     |\n",
      "|  5 | micro_recall    | 0.87     |\n",
      "|  6 | micro_f1        | 0.87     |\n",
      "+----+-----------------+----------+\n",
      "--------------------------------------------------------------------------------\n"
     ]
    },
    {
     "data": {
      "application/vnd.jupyter.widget-view+json": {
       "model_id": "96b2fc7a20da43a4a1788ae0cca32821",
       "version_major": 2,
       "version_minor": 0
      },
      "text/plain": [
       "HBox(children=(FloatProgress(value=0.0, description='Training', max=81.0, style=ProgressStyle(description_widt…"
      ]
     },
     "metadata": {},
     "output_type": "display_data"
    },
    {
     "name": "stdout",
     "output_type": "stream",
     "text": [
      "\n",
      "Execute [train_an_epoch] method costing 34411.60 ms\n",
      "[Epoch 8] loss: 10.491857270943001\n"
     ]
    },
    {
     "data": {
      "application/vnd.jupyter.widget-view+json": {
       "model_id": "2409d7a8266643a6a9b9fcb4775f1dfb",
       "version_major": 2,
       "version_minor": 0
      },
      "text/plain": [
       "HBox(children=(FloatProgress(value=0.0, description='Evaluating', max=10.0, style=ProgressStyle(description_wi…"
      ]
     },
     "metadata": {},
     "output_type": "display_data"
    },
    {
     "name": "stdout",
     "output_type": "stream",
     "text": [
      "\n",
      "Execute [eval] method costing 1448.87 ms\n"
     ]
    },
    {
     "data": {
      "application/vnd.jupyter.widget-view+json": {
       "model_id": "ee887e671b154547b99a7012885bfa2f",
       "version_major": 2,
       "version_minor": 0
      },
      "text/plain": [
       "HBox(children=(FloatProgress(value=0.0, description='Training', max=81.0, style=ProgressStyle(description_widt…"
      ]
     },
     "metadata": {},
     "output_type": "display_data"
    },
    {
     "name": "stdout",
     "output_type": "stream",
     "text": [
      "\n",
      "Execute [train_an_epoch] method costing 34361.96 ms\n",
      "[Epoch 9] loss: 10.587603650230449\n"
     ]
    },
    {
     "data": {
      "application/vnd.jupyter.widget-view+json": {
       "model_id": "8e4510554587433caf85b8f5af43c35f",
       "version_major": 2,
       "version_minor": 0
      },
      "text/plain": [
       "HBox(children=(FloatProgress(value=0.0, description='Evaluating', max=10.0, style=ProgressStyle(description_wi…"
      ]
     },
     "metadata": {},
     "output_type": "display_data"
    },
    {
     "name": "stdout",
     "output_type": "stream",
     "text": [
      "\n",
      "Execute [eval] method costing 1439.04 ms\n",
      "\n"
     ]
    }
   ],
   "source": [
    "cls.train(train_set,dev_set)"
   ]
  },
  {
   "cell_type": "code",
   "execution_count": 9,
   "metadata": {},
   "outputs": [
    {
     "data": {
      "application/vnd.jupyter.widget-view+json": {
       "model_id": "15a020a0489e42888f39c00941a7383c",
       "version_major": 2,
       "version_minor": 0
      },
      "text/plain": [
       "HBox(children=(FloatProgress(value=0.0, description='Evaluating', max=11.0, style=ProgressStyle(description_wi…"
      ]
     },
     "metadata": {},
     "output_type": "display_data"
    },
    {
     "name": "stdout",
     "output_type": "stream",
     "text": [
      "\n",
      "Execute [eval] method costing 1453.96 ms\n"
     ]
    },
    {
     "data": {
      "text/plain": [
       "{'accuracy': 0.8118811881188119,\n",
       " 'macro_precision': 0.4544794188861985,\n",
       " 'macro_recall': 0.5133538777606574,\n",
       " 'macro_f1': 0.4742273180458624,\n",
       " 'micro_precision': 0.8118811881188119,\n",
       " 'micro_recall': 0.8118811881188119,\n",
       " 'micro_f1': 0.8118811881188119}"
      ]
     },
     "execution_count": 9,
     "metadata": {},
     "output_type": "execute_result"
    }
   ],
   "source": [
    "cls.test(test_set)"
   ]
  },
  {
   "cell_type": "code",
   "execution_count": 10,
   "metadata": {},
   "outputs": [
    {
     "data": {
      "text/html": [
       "<div>\n",
       "<style scoped>\n",
       "    .dataframe tbody tr th:only-of-type {\n",
       "        vertical-align: middle;\n",
       "    }\n",
       "\n",
       "    .dataframe tbody tr th {\n",
       "        vertical-align: top;\n",
       "    }\n",
       "\n",
       "    .dataframe thead th {\n",
       "        text-align: right;\n",
       "    }\n",
       "</style>\n",
       "<table border=\"1\" class=\"dataframe\">\n",
       "  <thead>\n",
       "    <tr style=\"text-align: right;\">\n",
       "      <th></th>\n",
       "      <th>index</th>\n",
       "      <th>docs</th>\n",
       "      <th>labels</th>\n",
       "      <th>source</th>\n",
       "      <th>flag</th>\n",
       "    </tr>\n",
       "  </thead>\n",
       "  <tbody>\n",
       "    <tr>\n",
       "      <th>903</th>\n",
       "      <td>263</td>\n",
       "      <td>\\n\\nSource: University Of Toronto \\nDate: Marc...</td>\n",
       "      <td>0</td>\n",
       "      <td>Biocaster</td>\n",
       "      <td>test</td>\n",
       "    </tr>\n",
       "    <tr>\n",
       "      <th>904</th>\n",
       "      <td>554</td>\n",
       "      <td>\\n  Resident struck by Legionnaires Health off...</td>\n",
       "      <td>3</td>\n",
       "      <td>Biocaster</td>\n",
       "      <td>test</td>\n",
       "    </tr>\n",
       "    <tr>\n",
       "      <th>905</th>\n",
       "      <td>703</td>\n",
       "      <td>\\n Energy costs to drive inflation \\n \\n \\n Hi...</td>\n",
       "      <td>0</td>\n",
       "      <td>Biocaster</td>\n",
       "      <td>test</td>\n",
       "    </tr>\n",
       "    <tr>\n",
       "      <th>906</th>\n",
       "      <td>658</td>\n",
       "      <td>\\nNYT-01-18-96 1853EST\\nBC-SATELLITE-TV-NYT CA...</td>\n",
       "      <td>0</td>\n",
       "      <td>Biocaster</td>\n",
       "      <td>test</td>\n",
       "    </tr>\n",
       "    <tr>\n",
       "      <th>907</th>\n",
       "      <td>860</td>\n",
       "      <td>\\n  China says time right for Taiwan talks .\\n...</td>\n",
       "      <td>0</td>\n",
       "      <td>Biocaster</td>\n",
       "      <td>test</td>\n",
       "    </tr>\n",
       "    <tr>\n",
       "      <th>908</th>\n",
       "      <td>780</td>\n",
       "      <td>\\n  West Nile Found In Blood Donation\\nWASHING...</td>\n",
       "      <td>3</td>\n",
       "      <td>Biocaster</td>\n",
       "      <td>test</td>\n",
       "    </tr>\n",
       "    <tr>\n",
       "      <th>909</th>\n",
       "      <td>134</td>\n",
       "      <td>\\n  SARS CRISIS: Eighth victim of virus to go ...</td>\n",
       "      <td>0</td>\n",
       "      <td>Biocaster</td>\n",
       "      <td>test</td>\n",
       "    </tr>\n",
       "    <tr>\n",
       "      <th>910</th>\n",
       "      <td>801</td>\n",
       "      <td>\\n  HFMD death toll rises to 9 in eastern Mala...</td>\n",
       "      <td>3</td>\n",
       "      <td>Biocaster</td>\n",
       "      <td>test</td>\n",
       "    </tr>\n",
       "    <tr>\n",
       "      <th>911</th>\n",
       "      <td>365</td>\n",
       "      <td>\\n  TB Cases Increase in Mpigi District \\nThe ...</td>\n",
       "      <td>3</td>\n",
       "      <td>Biocaster</td>\n",
       "      <td>test</td>\n",
       "    </tr>\n",
       "  </tbody>\n",
       "</table>\n",
       "</div>"
      ],
      "text/plain": [
       "     index                                               docs  labels  \\\n",
       "903    263  \\n\\nSource: University Of Toronto \\nDate: Marc...       0   \n",
       "904    554  \\n  Resident struck by Legionnaires Health off...       3   \n",
       "905    703  \\n Energy costs to drive inflation \\n \\n \\n Hi...       0   \n",
       "906    658  \\nNYT-01-18-96 1853EST\\nBC-SATELLITE-TV-NYT CA...       0   \n",
       "907    860  \\n  China says time right for Taiwan talks .\\n...       0   \n",
       "908    780  \\n  West Nile Found In Blood Donation\\nWASHING...       3   \n",
       "909    134  \\n  SARS CRISIS: Eighth victim of virus to go ...       0   \n",
       "910    801  \\n  HFMD death toll rises to 9 in eastern Mala...       3   \n",
       "911    365  \\n  TB Cases Increase in Mpigi District \\nThe ...       3   \n",
       "\n",
       "        source  flag  \n",
       "903  Biocaster  test  \n",
       "904  Biocaster  test  \n",
       "905  Biocaster  test  \n",
       "906  Biocaster  test  \n",
       "907  Biocaster  test  \n",
       "908  Biocaster  test  \n",
       "909  Biocaster  test  \n",
       "910  Biocaster  test  \n",
       "911  Biocaster  test  "
      ]
     },
     "execution_count": 10,
     "metadata": {},
     "output_type": "execute_result"
    }
   ],
   "source": [
    "test_set.iloc[1:10]"
   ]
  },
  {
   "cell_type": "code",
   "execution_count": 11,
   "metadata": {},
   "outputs": [
    {
     "data": {
      "application/vnd.jupyter.widget-view+json": {
       "model_id": "34902ed4e1f44497b876e94ee53526ec",
       "version_major": 2,
       "version_minor": 0
      },
      "text/plain": [
       "HBox(children=(FloatProgress(value=0.0, description='Evaluating', max=1.0, style=ProgressStyle(description_wid…"
      ]
     },
     "metadata": {},
     "output_type": "display_data"
    },
    {
     "name": "stdout",
     "output_type": "stream",
     "text": [
      "\n",
      "Execute [predict] method costing 156.87 ms\n"
     ]
    },
    {
     "data": {
      "text/plain": [
       "array([0, 3, 0, 0, 0, 0, 3, 3, 0])"
      ]
     },
     "execution_count": 11,
     "metadata": {},
     "output_type": "execute_result"
    }
   ],
   "source": [
    "cls.predict(test_set.iloc[1:10])"
   ]
  }
 ],
 "metadata": {
  "kernelspec": {
   "display_name": "doc_cls",
   "language": "python",
   "name": "doc_cls"
  },
  "language_info": {
   "codemirror_mode": {
    "name": "ipython",
    "version": 3
   },
   "file_extension": ".py",
   "mimetype": "text/x-python",
   "name": "python",
   "nbconvert_exporter": "python",
   "pygments_lexer": "ipython3",
   "version": "3.8.3"
  }
 },
 "nbformat": 4,
 "nbformat_minor": 4
}
