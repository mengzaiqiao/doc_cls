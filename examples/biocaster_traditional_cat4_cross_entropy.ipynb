{
 "cells": [
  {
   "cell_type": "code",
   "execution_count": null,
   "metadata": {},
   "outputs": [],
   "source": [
    "import sys\n",
    "sys.path.append(\"../\")\n",
    "from beta_nlp.utils.data_util import biocaster2df\n",
    "from beta_nlp.eval_method import CrossValidation,TrainDevTest\n",
    "from beta_nlp.experiment import Experiment\n",
    "from beta_nlp.metrics import Accuracy,Precision,Recall,F1Score\n",
    "from sklearn.svm import LinearSVC\n",
    "from sklearn.naive_bayes import BernoulliNB\n",
    "from sklearn.naive_bayes import GaussianNB\n",
    "from sklearn.naive_bayes import MultinomialNB\n",
    "from sklearn.tree import DecisionTreeClassifier\n",
    "from sklearn.ensemble import RandomForestClassifier\n",
    "from sklearn.pipeline import Pipeline\n",
    "from sklearn.feature_selection import chi2\n",
    "from sklearn.feature_selection import SelectKBest\n",
    "from beta_nlp.preprocess import BasicTextPreprocess,BasicTextFeatureExtraction"
   ]
  },
  {
   "cell_type": "code",
   "execution_count": null,
   "metadata": {},
   "outputs": [],
   "source": [
    "import sys\n",
    "sys.path.append(\"../\")\n",
    "data_file = \"/home/zm324/workspace/doc_cls/datasets/biocaster/BioCaster.3.xml\"\n",
    "data_df = biocaster2df(data_file)\n",
    "data_df[\"source\"] = \"Biocaster\""
   ]
  },
  {
   "cell_type": "code",
   "execution_count": null,
   "metadata": {
    "collapsed": false,
    "jupyter": {
     "outputs_hidden": false
    },
    "pycharm": {
     "name": "#%%\n"
    }
   },
   "outputs": [],
   "source": [
    "bp = BasicTextPreprocess()\n",
    "\n",
    "# bfe = BasicTextFeatureExtraction([\"tfidf\",\"bow\",\"bigram\",[\"tfidf\",\"bigram\"],[\"bow\",\"bigram\"],[\"tfidf\",\"trigram\"],[\"bow\",\"trigram\"],[\"tfidf\",\"bigram\",\"trigram\"]])\n",
    "bfe = BasicTextFeatureExtraction([\"tfidf\"])\n",
    "\n",
    "\n",
    "cv = CrossValidation(n_splits=10, n_repeats=10, random_state=12345)\n",
    "# tdt = TrainDevTest()\n",
    "\n",
    "acc = Accuracy(k=4)\n",
    "pre = Precision(k=4)\n",
    "rec = Recall(k=4)\n",
    "f1 = F1Score(k=4)\n",
    "\n",
    "svm = LinearSVC(random_state=0, tol=1e-5,max_iter=5000)\n",
    "svm.name = \"svm\"\n",
    "dtree = DecisionTreeClassifier(random_state=0,criterion='entropy')\n",
    "dtree.name=\"dtree\"\n",
    "bnb = BernoulliNB()\n",
    "bnb.name = \"BernoulliNB\"\n",
    "gnb = GaussianNB()\n",
    "gnb.name = \"GaussianNB\"\n",
    "mnb = MultinomialNB()\n",
    "mnb.name = \"MultinomialNB\"\n",
    "rf = RandomForestClassifier(max_depth=2, random_state=0)\n",
    "rf.name = \"RandomForest\"\n",
    "\n",
    "# chi2 feature selection\n",
    "ch2 = SelectKBest(chi2, k=9000)\n",
    "svm_ch2 = Pipeline([('sel', ch2), ('cls', svm)])\n",
    "svm_ch2.name = \"svm+chi2\"\n",
    "\n",
    "# chi2 feature selection\n",
    "dtree_ch2 = Pipeline([('sel', ch2), ('cls', dtree)])\n",
    "dtree_ch2.name = \"dtree+chi2\"\n",
    "\n",
    "# chi2 feature selection\n",
    "bnb_ch2 = Pipeline([('sel', ch2), ('cls', bnb)])\n",
    "bnb_ch2.name = \"BernoulliNB+chi2\"\n",
    "\n",
    "# chi2 feature selection\n",
    "gnb_ch2 = Pipeline([('sel', ch2), ('cls', gnb)])\n",
    "gnb_ch2.name = \"GaussianNB+chi2\"\n",
    "\n",
    "# chi2 feature selection\n",
    "mnb_ch2 = Pipeline([('sel', ch2), ('cls', mnb)])\n",
    "mnb_ch2.name = \"MultinomialNB+chi2\"\n",
    "\n",
    "# chi2 feature selection\n",
    "mnb_rf = Pipeline([('sel', ch2), ('cls', rf)])\n",
    "mnb_rf.name = \"RandomForest+chi2\""
   ]
  },
  {
   "cell_type": "code",
   "execution_count": null,
   "metadata": {},
   "outputs": [],
   "source": [
    "exp = Experiment(\n",
    "    data_df = data_df,\n",
    "    preprocessor = bp,\n",
    "    extractor = bfe,\n",
    "    eval_method=cv,\n",
    "#     models=[svm,dtree,bnb,gnb,mnb,svm_ch2,dtree_ch2,bnb_ch2,gnb_ch2,mnb_ch2],\n",
    "    models = [mnb],\n",
    "    metrics=[acc,pre,rec,f1],\n",
    "    result_file = \"../results/traditional_biocaster_result_seed_2021.csv\",\n",
    "    verbose = True\n",
    ").run()"
   ]
  }
 ],
 "metadata": {
  "kernelspec": {
   "display_name": "doc_cls",
   "language": "python",
   "name": "doc_cls"
  },
  "language_info": {
   "codemirror_mode": {
    "name": "ipython",
    "version": 3
   },
   "file_extension": ".py",
   "mimetype": "text/x-python",
   "name": "python",
   "nbconvert_exporter": "python",
   "pygments_lexer": "ipython3",
   "version": "3.8.3"
  }
 },
 "nbformat": 4,
 "nbformat_minor": 4
}
