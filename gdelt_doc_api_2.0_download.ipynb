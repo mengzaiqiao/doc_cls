{
 "cells": [
  {
   "cell_type": "code",
   "execution_count": 1,
   "metadata": {},
   "outputs": [],
   "source": [
    "url = 'https://www.gpb.org/news/2020/08/03/fulton-countys-distribution-of-covid-19-relief-funds-unconscionable-local-mayor'\n",
    "from tqdm.auto import tqdm\n",
    "\n",
    "def download_article(url):\n",
    "    \"\"\" download article from a url\n",
    "    \"\"\"\n",
    "    from newspaper import Article\n",
    "    article = Article(url)\n",
    "    try:\n",
    "        article.download()\n",
    "        article.parse()\n",
    "    except:\n",
    "        print(f\"{url} cannot be downloaded or parsed.\")\n",
    "        return None\n",
    "    title = article.title\n",
    "    text = article.text\n",
    "    top_image = article.top_image\n",
    "    movies = article.movies\n",
    "#     print(f\"Downloaded an article with title: {title}..\")\n",
    "    result ={\n",
    "        \"title\":title,\n",
    "        \"text\":text,\n",
    "        \"top_image\":top_image,\n",
    "        \"url\":url,\n",
    "#         \"movies\":movies,\n",
    "    } \n",
    "    return result"
   ]
  },
  {
   "cell_type": "code",
   "execution_count": 2,
   "metadata": {},
   "outputs": [],
   "source": [
    "result = download_article(url)"
   ]
  },
  {
   "cell_type": "code",
   "execution_count": 3,
   "metadata": {},
   "outputs": [],
   "source": [
    "def get_urls_from_api(query,language,startdatetime,enddatetime,maxrecords=250):\n",
    "    \"\"\"get the urls based on the query keywords and time range\n",
    "    \"\"\"\n",
    "    import urllib, json\n",
    "    url = f\"https://api.gdeltproject.org/api/v2/doc/doc?query={query}%20sourcelang:{language}&mode=artlist&STARTDATETIME={startdatetime}&ENDDATETIME={enddatetime}&MAXRECORDS={maxrecords}&format=json\"\n",
    "    data = urllib.request.urlopen(url).read().decode()\n",
    "    data = json.loads(data)\n",
    "    if not data:\n",
    "        return []\n",
    "    urls = []\n",
    "    url_dic = {}\n",
    "    for article in data['articles']:\n",
    "        if article['url'] not in url_dic:\n",
    "            urls.append(article['url'])\n",
    "            url_dic[article['url']]=1\n",
    "    return urls"
   ]
  },
  {
   "cell_type": "code",
   "execution_count": 4,
   "metadata": {},
   "outputs": [
    {
     "data": {
      "text/plain": [
       "[]"
      ]
     },
     "execution_count": 4,
     "metadata": {},
     "output_type": "execute_result"
    }
   ],
   "source": [
    "query = \"BOTULISM\"\n",
    "language = \"SWAHILI\"\n",
    "startdatetime = \"20170101000000\"\n",
    "enddatetime = \"20171231235959\"\n",
    "urls = get_urls_from_api(query,language,startdatetime,enddatetime)[:3]\n",
    "urls"
   ]
  },
  {
   "cell_type": "code",
   "execution_count": 5,
   "metadata": {},
   "outputs": [],
   "source": [
    "def get_articles(query,language,startdatetime,enddatetime):\n",
    "    urls = get_urls_from_api(query,language,startdatetime,enddatetime)\n",
    "    articles = []\n",
    "    print(f\"Find {len(urls)} urls for query [{query}] in {language}.\")\n",
    "    for url in tqdm(urls):\n",
    "        article = download_article(url)\n",
    "        if article:\n",
    "            article[\"language\"] = language\n",
    "            articles.append(article)\n",
    "    return articles"
   ]
  },
  {
   "cell_type": "code",
   "execution_count": 11,
   "metadata": {},
   "outputs": [
    {
     "data": {
      "application/vnd.jupyter.widget-view+json": {
       "model_id": "d73694c766bc4c30bf34aa148b4fe87e",
       "version_major": 2,
       "version_minor": 0
      },
      "text/plain": [
       "HBox(children=(FloatProgress(value=0.0, max=9.0), HTML(value='')))"
      ]
     },
     "metadata": {},
     "output_type": "display_data"
    },
    {
     "name": "stdout",
     "output_type": "stream",
     "text": [
      "Find 250 urls for query [coronavirus] in ENGLISH.\n"
     ]
    },
    {
     "data": {
      "application/vnd.jupyter.widget-view+json": {
       "model_id": "008597a5a4924fb68f9fc4f3f6be14fe",
       "version_major": 2,
       "version_minor": 0
      },
      "text/plain": [
       "HBox(children=(FloatProgress(value=0.0, max=250.0), HTML(value='')))"
      ]
     },
     "metadata": {},
     "output_type": "display_data"
    },
    {
     "name": "stdout",
     "output_type": "stream",
     "text": [
      "https://www.11alive.com/article/news/health/coronavirus/coronavirus-covid-19-maryland-dc-virginia-vaccine-reopening/65-b1bcce21-f1e6-4e01-a928-8501af45d657 cannot be downloaded or parsed.\n",
      "https://www.wltx.com/article/news/health/coronavirus/coronavirus-covid-19-maryland-dc-virginia-vaccine-reopening/65-b1bcce21-f1e6-4e01-a928-8501af45d657 cannot be downloaded or parsed.\n",
      "https://www.wwltv.com/article/news/health/coronavirus/coronavirus-covid-19-maryland-dc-virginia-vaccine-reopening/65-b1bcce21-f1e6-4e01-a928-8501af45d657 cannot be downloaded or parsed.\n",
      "https://patch.com/michigan/troy/covid-19/2020-10-13 cannot be downloaded or parsed.\n",
      "https://patch.com/rhode-island/cranston/covid-19/2020-10-02 cannot be downloaded or parsed.\n",
      "https://www.wthr.com/article/news/health/coronavirus/latest-indiana-coronavirus-updates-saturday-october-3-2020/531-c85c80ef-5fb6-469e-9463-a2ef5f6cb381 cannot be downloaded or parsed.\n",
      "https://www.wcvb.com/article/pfizer-to-start-testing-its-covid-19-vaccine-in-children-as-young-as-12-1/34369717 cannot be downloaded or parsed.\n",
      "https://cambridge.wickedlocal.com/news/20201002/crane-tips-over-injuring-two-workers-on-somerville-cambridge-line cannot be downloaded or parsed.\n",
      "https://somerville.wickedlocal.com/news/20201002/crane-tips-over-injuring-two-workers-on-somerville-cambridge-line cannot be downloaded or parsed.\n",
      "https://www.statesman.com/news/20201001/williamson-county-reports-no-new-coronavirus-deaths-nine-more-cases cannot be downloaded or parsed.\n",
      "https://www.wusa9.com/article/news/health/coronavirus/coronavirus-updates-coronavirus-cases-in-dc-coronavirus-in-maryland-coronavirus-in-virginia/65-40b6eeb2-4113-4a3d-9f04-fcd5ac9b977c cannot be downloaded or parsed.\n",
      "https://www.wfmynews2.com/article/news/health/coronavirus/north-carolina-coronavirus-updates/83-0e80e024-c2a8-404e-a03f-92abcb8c14d3 cannot be downloaded or parsed.\n",
      "https://www.wusa9.com/article/news/health/coronavirus/coronavirus-covid-19-maryland-dc-virginia-vaccine-reopening/65-b1bcce21-f1e6-4e01-a928-8501af45d657 cannot be downloaded or parsed.\n",
      "https://www.stltoday.com/news/national/govt-and-politics/the-latest-uks-johnson-wishes-trump-speedy-recovery/article_ef248a0f-4d8f-523c-8014-77854123081d.html cannot be downloaded or parsed.\n",
      "https://www.wyff4.com/article/pfizer-to-start-testing-its-covid-19-vaccine-in-children-as-young-as-12-1/34369717 cannot be downloaded or parsed.\n",
      "\n",
      "Find 0 urls for query [coronavirus] in chinese.\n"
     ]
    },
    {
     "data": {
      "application/vnd.jupyter.widget-view+json": {
       "model_id": "c5ee5cbf09334c6780cdc20cb8b63910",
       "version_major": 2,
       "version_minor": 0
      },
      "text/plain": [
       "HBox(children=(FloatProgress(value=1.0, bar_style='info', max=1.0), HTML(value='')))"
      ]
     },
     "metadata": {},
     "output_type": "display_data"
    },
    {
     "name": "stdout",
     "output_type": "stream",
     "text": [
      "\n",
      "Find 250 urls for query [coronavirus] in SPANISH.\n"
     ]
    },
    {
     "data": {
      "application/vnd.jupyter.widget-view+json": {
       "model_id": "66e744bdcc7e44448874e2fa7d52e494",
       "version_major": 2,
       "version_minor": 0
      },
      "text/plain": [
       "HBox(children=(FloatProgress(value=0.0, max=250.0), HTML(value='')))"
      ]
     },
     "metadata": {},
     "output_type": "display_data"
    },
    {
     "name": "stdout",
     "output_type": "stream",
     "text": [
      "https://www.elcomercio.es/asturias/coronavirus-asturias-hospital-cabuenes-cruz-roja-pacientes-20201010211514-nt.html cannot be downloaded or parsed.\n",
      "https://www.lasprovincias.es/comunitat/nueve-brotes-nuevos-20201013190117-nt.html cannot be downloaded or parsed.\n",
      "https://www.telecinco.es/informativos/internacional/trump-minimizado-coronavirus-antes-contagiarse_18_3021120061.html cannot be downloaded or parsed.\n",
      "https://www.ideal.es/sociedad/lavarse-dientes-puede-evitar-coronavirus-20201014134304-nt.html cannot be downloaded or parsed.\n",
      "https://www.elcomercio.es/asturias/coronavirus-asturias-positivo-colegio-montevil-gijon-20201013005142-nt.html cannot be downloaded or parsed.\n",
      "https://www.elcorreo.com/alava/araba/alava-cierra-semana-casos-coronavirus-20201012124249-nt.html cannot be downloaded or parsed.\n",
      "https://www.ideal.es/granada/cierran-iglesia-granada-positivo-coronavirus-fraile-20201007131747-nt.html cannot be downloaded or parsed.\n",
      "https://www.ideal.es/sociedad/llega-sindemia-covid19-pandemia-20201011154205-nt.html cannot be downloaded or parsed.\n",
      "https://www.teleamazonas.com/2020/10/determinan-cuanto-tiempo-dura-el-coronavirus-en-la-piel/ cannot be downloaded or parsed.\n",
      "https://www.lasprovincias.es/valencia/valencia-celebra-doctubre-marcado-coronavirus-20201009133214-ga.html cannot be downloaded or parsed.\n",
      "https://www.europapress.es/internacional/noticia-vicepresidente-eeuu-da-negativo-prueba-diaria-coronavirus-20201002140937.html cannot be downloaded or parsed.\n",
      "https://www.elnortedecastilla.es/castillayleon/trece-zonas-castilla-20201011162535-nt.html cannot be downloaded or parsed.\n",
      "https://www.diariosur.es/unicaja/positivo-coronavirus-unicaja-20201013125056-nt.html cannot be downloaded or parsed.\n",
      "https://www.ideal.es/sociedad/razon-doctor-pedro-20201009132414-nt.html cannot be downloaded or parsed.\n",
      "https://www.notimerica.com/politica/noticia-coronavirus-italia-prohibe-fiestas-privadas-restringe-horarios-bares-frenar-segunda-ola-coronavirus-20201013093817.html cannot be downloaded or parsed.\n",
      "https://www.ideal.es/sociedad/coronavirus-posible-contagio-superficies-20201010140144-nt.html cannot be downloaded or parsed.\n",
      "https://www.notimerica.com/sociedad/noticia-coronavirus-colombia-pasa-900000-casos-coronavirus-suma-165-nuevos-fallecidos-20201011004936.html cannot be downloaded or parsed.\n",
      "https://www.notimerica.com/sociedad/noticia-coronavirus-brasil-supera-150000-muertes-coronavirus-registrar-mas-500-fallecimientos-20201011032435.html cannot be downloaded or parsed.\n",
      "https://www.elcorreo.com/alava/araba/residencias-forales-alava-libres-coronavirus-20201002154924-nt.html cannot be downloaded or parsed.\n",
      "https://www.europapress.es/internacional/noticia-italia-prohibe-fiestas-privadas-restringe-horarios-bares-frenar-segunda-ola-coronavirus-20201013093802.html cannot be downloaded or parsed.\n",
      "https://www.elcomercio.es/sociedad/covid-coronavirus-estudio-cuestiona-fiebre-tos-principales-sintomas-20201002113455-nt.html cannot be downloaded or parsed.\n",
      "https://www.ideal.es/sociedad/anticuerpos-coronavirus-estudio-revela-dura-covid-20201004132013-nt.html cannot be downloaded or parsed.\n",
      "https://www.notimerica.com/politica/noticia-coronavirus-francia-dispara-contagios-27000-solo-dia-nuevo-record-historico-20201010211002.html cannot be downloaded or parsed.\n",
      "https://www.elcomercio.es/asturias/coronavirus-asturias-contagios-pcr-20201003141029-nt.html cannot be downloaded or parsed.\n",
      "https://www.ideal.es/nacional/estudio-desmiente-dato-oms-coronavirus-20201006114000-nt.html cannot be downloaded or parsed.\n",
      "https://www.elcomercio.es/gijon/coronavirus-asturias-alcaldesa-gijon-restricciones-movilidad-contagios-20201011130718-nt.html cannot be downloaded or parsed.\n",
      "http://www.hispantv.com/showepisode/el-toque/poeta-persa-mascarilla-coronavirus-maquina-escribir/59314 cannot be downloaded or parsed.\n",
      "https://www.elcomercio.es/gente-estilo/moda/mejores-looks-street-style-vistos-semanas-moda-20201001094658-ga.html cannot be downloaded or parsed.\n",
      "https://www.elcomercio.es/asturias/coronavirus-asturias-brotes-activos-20201008105031-nt.html cannot be downloaded or parsed.\n",
      "https://www.notimerica.com/politica/noticia-coronavirus-libano-cierra-bares-discotecas-confina-169-localidades-coronavirus-20201011183258.html cannot be downloaded or parsed.\n",
      "https://www.europapress.es/internacional/noticia-brasil-supera-150000-muertes-coronavirus-registrar-mas-500-fallecimientos-20201011032434.html cannot be downloaded or parsed.\n",
      "https://www.notimerica.com/politica/noticia-coronavirus-nuevas-protestas-contra-restricciones-coronavirus-constanza-alemania-20201004134936.html cannot be downloaded or parsed.\n",
      "\n",
      "Find 9 urls for query [coronavirus] in ARABIC.\n"
     ]
    },
    {
     "data": {
      "application/vnd.jupyter.widget-view+json": {
       "model_id": "c38506a6224d47db81c42a0eb0197d6b",
       "version_major": 2,
       "version_minor": 0
      },
      "text/plain": [
       "HBox(children=(FloatProgress(value=0.0, max=9.0), HTML(value='')))"
      ]
     },
     "metadata": {},
     "output_type": "display_data"
    },
    {
     "name": "stdout",
     "output_type": "stream",
     "text": [
      "https://www.almasryalyoum.com/news/details/2059529 cannot be downloaded or parsed.\n",
      "\n",
      "Find 250 urls for query [coronavirus] in FRENCH.\n"
     ]
    },
    {
     "data": {
      "application/vnd.jupyter.widget-view+json": {
       "model_id": "2d0d8e56d825484e9f52d018cf98420b",
       "version_major": 2,
       "version_minor": 0
      },
      "text/plain": [
       "HBox(children=(FloatProgress(value=0.0, max=250.0), HTML(value='')))"
      ]
     },
     "metadata": {},
     "output_type": "display_data"
    },
    {
     "name": "stdout",
     "output_type": "stream",
     "text": [
      "https://www.ouest-france.fr/monde/coree-du-nord/kim-jong-un/coronavirus-le-dirigeant-nord-coreen-kim-jong-un-affirme-qu-il-n-y-a-aucun-cas-dans-son-pays-7009177 cannot be downloaded or parsed.\n",
      "https://www.challenges.fr/monde/coronavirus-seize-cas-supplementaires-en-chine-continentale_730817 cannot be downloaded or parsed.\n",
      "https://www.challenges.fr/monde/coronavirus-madrid-sur-le-point-de-se-reconfiner_730629 cannot be downloaded or parsed.\n",
      "https://fr.allafrica.com/stories/202010141105.html cannot be downloaded or parsed.\n",
      "\n",
      "Find 250 urls for query [coronavirus] in PORTUGUESE.\n"
     ]
    },
    {
     "data": {
      "application/vnd.jupyter.widget-view+json": {
       "model_id": "0c26734ee8374abd9bde452e110b7ab9",
       "version_major": 2,
       "version_minor": 0
      },
      "text/plain": [
       "HBox(children=(FloatProgress(value=0.0, max=250.0), HTML(value='')))"
      ]
     },
     "metadata": {},
     "output_type": "display_data"
    },
    {
     "name": "stdout",
     "output_type": "stream",
     "text": [
      "\n",
      "Find 250 urls for query [coronavirus] in RUSSIAN.\n"
     ]
    },
    {
     "data": {
      "application/vnd.jupyter.widget-view+json": {
       "model_id": "46a5fb3c24b54113825f2a6b305240f1",
       "version_major": 2,
       "version_minor": 0
      },
      "text/plain": [
       "HBox(children=(FloatProgress(value=0.0, max=250.0), HTML(value='')))"
      ]
     },
     "metadata": {},
     "output_type": "display_data"
    },
    {
     "name": "stdout",
     "output_type": "stream",
     "text": [
      "http://news.bigmir.net/world/2034822-Y-vice-prezidenta-SShA-soobshili-itog-testa-na-COVID-19- cannot be downloaded or parsed.\n",
      "https://www.dw.com/ru/jekonomika-frg-iz-za-koronavirusa-obvalitsja-silnee-chem-ozhidalos/a-55272193 cannot be downloaded or parsed.\n",
      "http://ivona.bigmir.net/showbiz/news/491326-Donal-d-i-Melanija-Tramp-zarazilis--COVID-19 cannot be downloaded or parsed.\n",
      "\n",
      "Find 0 urls for query [coronavirus] in INDONESIAN.\n"
     ]
    },
    {
     "data": {
      "application/vnd.jupyter.widget-view+json": {
       "model_id": "57d3341c89e44957bbbaab684006710c",
       "version_major": 2,
       "version_minor": 0
      },
      "text/plain": [
       "HBox(children=(FloatProgress(value=1.0, bar_style='info', max=1.0), HTML(value='')))"
      ]
     },
     "metadata": {},
     "output_type": "display_data"
    },
    {
     "name": "stdout",
     "output_type": "stream",
     "text": [
      "\n",
      "Find 4 urls for query [coronavirus] in PERSIAN.\n"
     ]
    },
    {
     "data": {
      "application/vnd.jupyter.widget-view+json": {
       "model_id": "83107f6deb5d4f80adab4210d195f264",
       "version_major": 2,
       "version_minor": 0
      },
      "text/plain": [
       "HBox(children=(FloatProgress(value=0.0, max=4.0), HTML(value='')))"
      ]
     },
     "metadata": {},
     "output_type": "display_data"
    },
    {
     "name": "stdout",
     "output_type": "stream",
     "text": [
      "\n",
      "\n"
     ]
    }
   ],
   "source": [
    "import pandas as pd\n",
    "from tqdm.auto import tqdm\n",
    "\n",
    "languages = ['ENGLISH', 'chinese', 'SPANISH', 'ARABIC', 'FRENCH', 'PORTUGUESE', 'RUSSIAN','INDONESIAN', 'PERSIAN']\n",
    "query = \"coronavirus\"\n",
    "startdatetime = \"20201001000000\"\n",
    "enddatetime = \"20201014000000\"\n",
    "# 'SWAHILI' is not supported\n",
    "articles = []\n",
    "for language in tqdm(languages):\n",
    "    articles += get_articles(query,language,startdatetime,enddatetime)\n",
    "articles_df = pd.DataFrame(articles)\n",
    "articles_df.to_csv(f\"query_{query}_{startdatetime}_{enddatetime}.csv\")"
   ]
  },
  {
   "cell_type": "code",
   "execution_count": null,
   "metadata": {},
   "outputs": [],
   "source": []
  }
 ],
 "metadata": {
  "kernelspec": {
   "display_name": "doc_cls",
   "language": "python",
   "name": "doc_cls"
  },
  "language_info": {
   "codemirror_mode": {
    "name": "ipython",
    "version": 3
   },
   "file_extension": ".py",
   "mimetype": "text/x-python",
   "name": "python",
   "nbconvert_exporter": "python",
   "pygments_lexer": "ipython3",
   "version": "3.8.3"
  }
 },
 "nbformat": 4,
 "nbformat_minor": 4
}
