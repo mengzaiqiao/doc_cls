{
 "cells": [
  {
   "cell_type": "code",
   "execution_count": null,
   "metadata": {},
   "outputs": [],
   "source": [
    "url = 'https://www.gpb.org/news/2020/08/03/fulton-countys-distribution-of-covid-19-relief-funds-unconscionable-local-mayor'\n",
    "\n",
    "def download_article(url):\n",
    "    \"\"\" download article from a url\n",
    "    \"\"\"\n",
    "    from newspaper import Article\n",
    "    article = Article(url)\n",
    "    try:\n",
    "        article.download()\n",
    "        article.parse()\n",
    "    except:\n",
    "        print(f\"{url} cannot be downloaded or parsed.\")\n",
    "        return None\n",
    "    title = article.title\n",
    "    text = article.text\n",
    "    top_image = article.top_image\n",
    "    movies = article.movies\n",
    "    print(f\"Downloaded an article with title: {title}..\")\n",
    "    result ={\n",
    "        \"title\":title,\n",
    "        \"text\":text,\n",
    "        \"top_image\":top_image,\n",
    "        \"url\":url,\n",
    "#         \"movies\":movies,\n",
    "    } \n",
    "    return result"
   ]
  },
  {
   "cell_type": "code",
   "execution_count": null,
   "metadata": {},
   "outputs": [],
   "source": [
    "result = download_article(url)"
   ]
  },
  {
   "cell_type": "code",
   "execution_count": null,
   "metadata": {},
   "outputs": [],
   "source": [
    "def get_urls_from_api(query,language,startdatetime,enddatetime,maxrecords=250):\n",
    "    \"\"\"get the urls based on the query keywords and time range\n",
    "    \"\"\"\n",
    "    import urllib, json\n",
    "    url = f\"https://api.gdeltproject.org/api/v2/doc/doc?query={query}%20sourcelang:{language}&mode=artlist&STARTDATETIME={startdatetime}&ENDDATETIME={enddatetime}&MAXRECORDS={maxrecords}&format=json\"\n",
    "    data = urllib.request.urlopen(url).read().decode()\n",
    "    data = json.loads(data)\n",
    "    if not data:\n",
    "        return []\n",
    "    urls = []\n",
    "    url_dic = {}\n",
    "    for article in data['articles']:\n",
    "        if article['url'] not in url_dic:\n",
    "            urls.append(article['url'])\n",
    "            url_dic[article['url']]=1\n",
    "    return urls"
   ]
  },
  {
   "cell_type": "code",
   "execution_count": null,
   "metadata": {},
   "outputs": [],
   "source": [
    "query = \"BOTULISM\"\n",
    "language = \"SWAHILI\"\n",
    "startdatetime = \"20170101000000\"\n",
    "enddatetime = \"20171231235959\"\n",
    "urls = get_urls_from_api(query,language,startdatetime,enddatetime)[:3]\n",
    "urls"
   ]
  },
  {
   "cell_type": "code",
   "execution_count": null,
   "metadata": {},
   "outputs": [],
   "source": [
    "def get_articles(query,language,startdatetime,enddatetime):\n",
    "    urls = get_urls_from_api(query,language,startdatetime,enddatetime)\n",
    "    articles = []\n",
    "    for url in urls:\n",
    "        article = download_article(url)\n",
    "        if article:\n",
    "            article[\"language\"] = language\n",
    "            articles.append(article)\n",
    "    return articles"
   ]
  },
  {
   "cell_type": "code",
   "execution_count": null,
   "metadata": {},
   "outputs": [],
   "source": [
    "import pandas as pd\n",
    "languages = ['ENGLISH', 'chinese', 'SPANISH', 'ARABIC', 'FRENCH', 'PORTUGUESE', 'RUSSIAN','INDONESIAN', 'PERSIAN']\n",
    "query = \"BOTULISM\"\n",
    "startdatetime = \"20170101000000\"\n",
    "enddatetime = \"20171231235959\"\n",
    "# 'SWAHILI' is not supported\n",
    "articles = []\n",
    "for language in languages:\n",
    "    articles += get_articles(query,language,startdatetime,enddatetime)\n",
    "articles_df = pd.DataFrame(articles)\n",
    "articles_df.to_csv(f\"query_{query}_{startdatetime}_{enddatetime}.csv\")"
   ]
  }
 ],
 "metadata": {
  "kernelspec": {
   "display_name": "doc_cls",
   "language": "python",
   "name": "doc_cls"
  },
  "language_info": {
   "codemirror_mode": {
    "name": "ipython",
    "version": 3
   },
   "file_extension": ".py",
   "mimetype": "text/x-python",
   "name": "python",
   "nbconvert_exporter": "python",
   "pygments_lexer": "ipython3",
   "version": "3.8.3"
  }
 },
 "nbformat": 4,
 "nbformat_minor": 4
}
